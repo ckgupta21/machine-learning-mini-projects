{
  "nbformat": 4,
  "nbformat_minor": 0,
  "metadata": {
    "colab": {
      "name": "Project Final English To Assamese.ipynb",
      "provenance": [],
      "collapsed_sections": [],
      "include_colab_link": true
    },
    "kernelspec": {
      "name": "python3",
      "display_name": "Python 3"
    },
    "language_info": {
      "name": "python"
    }
  },
  "cells": [
    {
      "cell_type": "markdown",
      "metadata": {
        "id": "view-in-github",
        "colab_type": "text"
      },
      "source": [
        "<a href=\"https://colab.research.google.com/github/ckgupta21/machine-learning-mini-projects/blob/main/Project_Final_English_To_Assamese.ipynb\" target=\"_parent\"><img src=\"https://colab.research.google.com/assets/colab-badge.svg\" alt=\"Open In Colab\"/></a>"
      ]
    },
    {
      "cell_type": "code",
      "execution_count": null,
      "metadata": {
        "colab": {
          "resources": {
            "http://localhost:8080/nbextensions/google.colab/files.js": {
              "data": "Ly8gQ29weXJpZ2h0IDIwMTcgR29vZ2xlIExMQwovLwovLyBMaWNlbnNlZCB1bmRlciB0aGUgQXBhY2hlIExpY2Vuc2UsIFZlcnNpb24gMi4wICh0aGUgIkxpY2Vuc2UiKTsKLy8geW91IG1heSBub3QgdXNlIHRoaXMgZmlsZSBleGNlcHQgaW4gY29tcGxpYW5jZSB3aXRoIHRoZSBMaWNlbnNlLgovLyBZb3UgbWF5IG9idGFpbiBhIGNvcHkgb2YgdGhlIExpY2Vuc2UgYXQKLy8KLy8gICAgICBodHRwOi8vd3d3LmFwYWNoZS5vcmcvbGljZW5zZXMvTElDRU5TRS0yLjAKLy8KLy8gVW5sZXNzIHJlcXVpcmVkIGJ5IGFwcGxpY2FibGUgbGF3IG9yIGFncmVlZCB0byBpbiB3cml0aW5nLCBzb2Z0d2FyZQovLyBkaXN0cmlidXRlZCB1bmRlciB0aGUgTGljZW5zZSBpcyBkaXN0cmlidXRlZCBvbiBhbiAiQVMgSVMiIEJBU0lTLAovLyBXSVRIT1VUIFdBUlJBTlRJRVMgT1IgQ09ORElUSU9OUyBPRiBBTlkgS0lORCwgZWl0aGVyIGV4cHJlc3Mgb3IgaW1wbGllZC4KLy8gU2VlIHRoZSBMaWNlbnNlIGZvciB0aGUgc3BlY2lmaWMgbGFuZ3VhZ2UgZ292ZXJuaW5nIHBlcm1pc3Npb25zIGFuZAovLyBsaW1pdGF0aW9ucyB1bmRlciB0aGUgTGljZW5zZS4KCi8qKgogKiBAZmlsZW92ZXJ2aWV3IEhlbHBlcnMgZm9yIGdvb2dsZS5jb2xhYiBQeXRob24gbW9kdWxlLgogKi8KKGZ1bmN0aW9uKHNjb3BlKSB7CmZ1bmN0aW9uIHNwYW4odGV4dCwgc3R5bGVBdHRyaWJ1dGVzID0ge30pIHsKICBjb25zdCBlbGVtZW50ID0gZG9jdW1lbnQuY3JlYXRlRWxlbWVudCgnc3BhbicpOwogIGVsZW1lbnQudGV4dENvbnRlbnQgPSB0ZXh0OwogIGZvciAoY29uc3Qga2V5IG9mIE9iamVjdC5rZXlzKHN0eWxlQXR0cmlidXRlcykpIHsKICAgIGVsZW1lbnQuc3R5bGVba2V5XSA9IHN0eWxlQXR0cmlidXRlc1trZXldOwogIH0KICByZXR1cm4gZWxlbWVudDsKfQoKLy8gTWF4IG51bWJlciBvZiBieXRlcyB3aGljaCB3aWxsIGJlIHVwbG9hZGVkIGF0IGEgdGltZS4KY29uc3QgTUFYX1BBWUxPQURfU0laRSA9IDEwMCAqIDEwMjQ7CgpmdW5jdGlvbiBfdXBsb2FkRmlsZXMoaW5wdXRJZCwgb3V0cHV0SWQpIHsKICBjb25zdCBzdGVwcyA9IHVwbG9hZEZpbGVzU3RlcChpbnB1dElkLCBvdXRwdXRJZCk7CiAgY29uc3Qgb3V0cHV0RWxlbWVudCA9IGRvY3VtZW50LmdldEVsZW1lbnRCeUlkKG91dHB1dElkKTsKICAvLyBDYWNoZSBzdGVwcyBvbiB0aGUgb3V0cHV0RWxlbWVudCB0byBtYWtlIGl0IGF2YWlsYWJsZSBmb3IgdGhlIG5leHQgY2FsbAogIC8vIHRvIHVwbG9hZEZpbGVzQ29udGludWUgZnJvbSBQeXRob24uCiAgb3V0cHV0RWxlbWVudC5zdGVwcyA9IHN0ZXBzOwoKICByZXR1cm4gX3VwbG9hZEZpbGVzQ29udGludWUob3V0cHV0SWQpOwp9CgovLyBUaGlzIGlzIHJvdWdobHkgYW4gYXN5bmMgZ2VuZXJhdG9yIChub3Qgc3VwcG9ydGVkIGluIHRoZSBicm93c2VyIHlldCksCi8vIHdoZXJlIHRoZXJlIGFyZSBtdWx0aXBsZSBhc3luY2hyb25vdXMgc3RlcHMgYW5kIHRoZSBQeXRob24gc2lkZSBpcyBnb2luZwovLyB0byBwb2xsIGZvciBjb21wbGV0aW9uIG9mIGVhY2ggc3RlcC4KLy8gVGhpcyB1c2VzIGEgUHJvbWlzZSB0byBibG9jayB0aGUgcHl0aG9uIHNpZGUgb24gY29tcGxldGlvbiBvZiBlYWNoIHN0ZXAsCi8vIHRoZW4gcGFzc2VzIHRoZSByZXN1bHQgb2YgdGhlIHByZXZpb3VzIHN0ZXAgYXMgdGhlIGlucHV0IHRvIHRoZSBuZXh0IHN0ZXAuCmZ1bmN0aW9uIF91cGxvYWRGaWxlc0NvbnRpbnVlKG91dHB1dElkKSB7CiAgY29uc3Qgb3V0cHV0RWxlbWVudCA9IGRvY3VtZW50LmdldEVsZW1lbnRCeUlkKG91dHB1dElkKTsKICBjb25zdCBzdGVwcyA9IG91dHB1dEVsZW1lbnQuc3RlcHM7CgogIGNvbnN0IG5leHQgPSBzdGVwcy5uZXh0KG91dHB1dEVsZW1lbnQubGFzdFByb21pc2VWYWx1ZSk7CiAgcmV0dXJuIFByb21pc2UucmVzb2x2ZShuZXh0LnZhbHVlLnByb21pc2UpLnRoZW4oKHZhbHVlKSA9PiB7CiAgICAvLyBDYWNoZSB0aGUgbGFzdCBwcm9taXNlIHZhbHVlIHRvIG1ha2UgaXQgYXZhaWxhYmxlIHRvIHRoZSBuZXh0CiAgICAvLyBzdGVwIG9mIHRoZSBnZW5lcmF0b3IuCiAgICBvdXRwdXRFbGVtZW50Lmxhc3RQcm9taXNlVmFsdWUgPSB2YWx1ZTsKICAgIHJldHVybiBuZXh0LnZhbHVlLnJlc3BvbnNlOwogIH0pOwp9CgovKioKICogR2VuZXJhdG9yIGZ1bmN0aW9uIHdoaWNoIGlzIGNhbGxlZCBiZXR3ZWVuIGVhY2ggYXN5bmMgc3RlcCBvZiB0aGUgdXBsb2FkCiAqIHByb2Nlc3MuCiAqIEBwYXJhbSB7c3RyaW5nfSBpbnB1dElkIEVsZW1lbnQgSUQgb2YgdGhlIGlucHV0IGZpbGUgcGlja2VyIGVsZW1lbnQuCiAqIEBwYXJhbSB7c3RyaW5nfSBvdXRwdXRJZCBFbGVtZW50IElEIG9mIHRoZSBvdXRwdXQgZGlzcGxheS4KICogQHJldHVybiB7IUl0ZXJhYmxlPCFPYmplY3Q+fSBJdGVyYWJsZSBvZiBuZXh0IHN0ZXBzLgogKi8KZnVuY3Rpb24qIHVwbG9hZEZpbGVzU3RlcChpbnB1dElkLCBvdXRwdXRJZCkgewogIGNvbnN0IGlucHV0RWxlbWVudCA9IGRvY3VtZW50LmdldEVsZW1lbnRCeUlkKGlucHV0SWQpOwogIGlucHV0RWxlbWVudC5kaXNhYmxlZCA9IGZhbHNlOwoKICBjb25zdCBvdXRwdXRFbGVtZW50ID0gZG9jdW1lbnQuZ2V0RWxlbWVudEJ5SWQob3V0cHV0SWQpOwogIG91dHB1dEVsZW1lbnQuaW5uZXJIVE1MID0gJyc7CgogIGNvbnN0IHBpY2tlZFByb21pc2UgPSBuZXcgUHJvbWlzZSgocmVzb2x2ZSkgPT4gewogICAgaW5wdXRFbGVtZW50LmFkZEV2ZW50TGlzdGVuZXIoJ2NoYW5nZScsIChlKSA9PiB7CiAgICAgIHJlc29sdmUoZS50YXJnZXQuZmlsZXMpOwogICAgfSk7CiAgfSk7CgogIGNvbnN0IGNhbmNlbCA9IGRvY3VtZW50LmNyZWF0ZUVsZW1lbnQoJ2J1dHRvbicpOwogIGlucHV0RWxlbWVudC5wYXJlbnRFbGVtZW50LmFwcGVuZENoaWxkKGNhbmNlbCk7CiAgY2FuY2VsLnRleHRDb250ZW50ID0gJ0NhbmNlbCB1cGxvYWQnOwogIGNvbnN0IGNhbmNlbFByb21pc2UgPSBuZXcgUHJvbWlzZSgocmVzb2x2ZSkgPT4gewogICAgY2FuY2VsLm9uY2xpY2sgPSAoKSA9PiB7CiAgICAgIHJlc29sdmUobnVsbCk7CiAgICB9OwogIH0pOwoKICAvLyBXYWl0IGZvciB0aGUgdXNlciB0byBwaWNrIHRoZSBmaWxlcy4KICBjb25zdCBmaWxlcyA9IHlpZWxkIHsKICAgIHByb21pc2U6IFByb21pc2UucmFjZShbcGlja2VkUHJvbWlzZSwgY2FuY2VsUHJvbWlzZV0pLAogICAgcmVzcG9uc2U6IHsKICAgICAgYWN0aW9uOiAnc3RhcnRpbmcnLAogICAgfQogIH07CgogIGNhbmNlbC5yZW1vdmUoKTsKCiAgLy8gRGlzYWJsZSB0aGUgaW5wdXQgZWxlbWVudCBzaW5jZSBmdXJ0aGVyIHBpY2tzIGFyZSBub3QgYWxsb3dlZC4KICBpbnB1dEVsZW1lbnQuZGlzYWJsZWQgPSB0cnVlOwoKICBpZiAoIWZpbGVzKSB7CiAgICByZXR1cm4gewogICAgICByZXNwb25zZTogewogICAgICAgIGFjdGlvbjogJ2NvbXBsZXRlJywKICAgICAgfQogICAgfTsKICB9CgogIGZvciAoY29uc3QgZmlsZSBvZiBmaWxlcykgewogICAgY29uc3QgbGkgPSBkb2N1bWVudC5jcmVhdGVFbGVtZW50KCdsaScpOwogICAgbGkuYXBwZW5kKHNwYW4oZmlsZS5uYW1lLCB7Zm9udFdlaWdodDogJ2JvbGQnfSkpOwogICAgbGkuYXBwZW5kKHNwYW4oCiAgICAgICAgYCgke2ZpbGUudHlwZSB8fCAnbi9hJ30pIC0gJHtmaWxlLnNpemV9IGJ5dGVzLCBgICsKICAgICAgICBgbGFzdCBtb2RpZmllZDogJHsKICAgICAgICAgICAgZmlsZS5sYXN0TW9kaWZpZWREYXRlID8gZmlsZS5sYXN0TW9kaWZpZWREYXRlLnRvTG9jYWxlRGF0ZVN0cmluZygpIDoKICAgICAgICAgICAgICAgICAgICAgICAgICAgICAgICAgICAgJ24vYSd9IC0gYCkpOwogICAgY29uc3QgcGVyY2VudCA9IHNwYW4oJzAlIGRvbmUnKTsKICAgIGxpLmFwcGVuZENoaWxkKHBlcmNlbnQpOwoKICAgIG91dHB1dEVsZW1lbnQuYXBwZW5kQ2hpbGQobGkpOwoKICAgIGNvbnN0IGZpbGVEYXRhUHJvbWlzZSA9IG5ldyBQcm9taXNlKChyZXNvbHZlKSA9PiB7CiAgICAgIGNvbnN0IHJlYWRlciA9IG5ldyBGaWxlUmVhZGVyKCk7CiAgICAgIHJlYWRlci5vbmxvYWQgPSAoZSkgPT4gewogICAgICAgIHJlc29sdmUoZS50YXJnZXQucmVzdWx0KTsKICAgICAgfTsKICAgICAgcmVhZGVyLnJlYWRBc0FycmF5QnVmZmVyKGZpbGUpOwogICAgfSk7CiAgICAvLyBXYWl0IGZvciB0aGUgZGF0YSB0byBiZSByZWFkeS4KICAgIGxldCBmaWxlRGF0YSA9IHlpZWxkIHsKICAgICAgcHJvbWlzZTogZmlsZURhdGFQcm9taXNlLAogICAgICByZXNwb25zZTogewogICAgICAgIGFjdGlvbjogJ2NvbnRpbnVlJywKICAgICAgfQogICAgfTsKCiAgICAvLyBVc2UgYSBjaHVua2VkIHNlbmRpbmcgdG8gYXZvaWQgbWVzc2FnZSBzaXplIGxpbWl0cy4gU2VlIGIvNjIxMTU2NjAuCiAgICBsZXQgcG9zaXRpb24gPSAwOwogICAgZG8gewogICAgICBjb25zdCBsZW5ndGggPSBNYXRoLm1pbihmaWxlRGF0YS5ieXRlTGVuZ3RoIC0gcG9zaXRpb24sIE1BWF9QQVlMT0FEX1NJWkUpOwogICAgICBjb25zdCBjaHVuayA9IG5ldyBVaW50OEFycmF5KGZpbGVEYXRhLCBwb3NpdGlvbiwgbGVuZ3RoKTsKICAgICAgcG9zaXRpb24gKz0gbGVuZ3RoOwoKICAgICAgY29uc3QgYmFzZTY0ID0gYnRvYShTdHJpbmcuZnJvbUNoYXJDb2RlLmFwcGx5KG51bGwsIGNodW5rKSk7CiAgICAgIHlpZWxkIHsKICAgICAgICByZXNwb25zZTogewogICAgICAgICAgYWN0aW9uOiAnYXBwZW5kJywKICAgICAgICAgIGZpbGU6IGZpbGUubmFtZSwKICAgICAgICAgIGRhdGE6IGJhc2U2NCwKICAgICAgICB9LAogICAgICB9OwoKICAgICAgbGV0IHBlcmNlbnREb25lID0gZmlsZURhdGEuYnl0ZUxlbmd0aCA9PT0gMCA/CiAgICAgICAgICAxMDAgOgogICAgICAgICAgTWF0aC5yb3VuZCgocG9zaXRpb24gLyBmaWxlRGF0YS5ieXRlTGVuZ3RoKSAqIDEwMCk7CiAgICAgIHBlcmNlbnQudGV4dENvbnRlbnQgPSBgJHtwZXJjZW50RG9uZX0lIGRvbmVgOwoKICAgIH0gd2hpbGUgKHBvc2l0aW9uIDwgZmlsZURhdGEuYnl0ZUxlbmd0aCk7CiAgfQoKICAvLyBBbGwgZG9uZS4KICB5aWVsZCB7CiAgICByZXNwb25zZTogewogICAgICBhY3Rpb246ICdjb21wbGV0ZScsCiAgICB9CiAgfTsKfQoKc2NvcGUuZ29vZ2xlID0gc2NvcGUuZ29vZ2xlIHx8IHt9OwpzY29wZS5nb29nbGUuY29sYWIgPSBzY29wZS5nb29nbGUuY29sYWIgfHwge307CnNjb3BlLmdvb2dsZS5jb2xhYi5fZmlsZXMgPSB7CiAgX3VwbG9hZEZpbGVzLAogIF91cGxvYWRGaWxlc0NvbnRpbnVlLAp9Owp9KShzZWxmKTsK",
              "ok": true,
              "headers": [
                [
                  "content-type",
                  "application/javascript"
                ]
              ],
              "status": 200,
              "status_text": ""
            }
          },
          "base_uri": "https://localhost:8080/",
          "height": 74
        },
        "id": "jXEaEsK_qZb9",
        "outputId": "218b3d3d-77bb-420d-901f-2f99b5bd5087"
      },
      "outputs": [
        {
          "output_type": "display_data",
          "data": {
            "text/plain": [
              "<IPython.core.display.HTML object>"
            ],
            "text/html": [
              "\n",
              "     <input type=\"file\" id=\"files-53fe0d2c-2b9a-4795-a7b1-80ed783b489b\" name=\"files[]\" multiple disabled\n",
              "        style=\"border:none\" />\n",
              "     <output id=\"result-53fe0d2c-2b9a-4795-a7b1-80ed783b489b\">\n",
              "      Upload widget is only available when the cell has been executed in the\n",
              "      current browser session. Please rerun this cell to enable.\n",
              "      </output>\n",
              "      <script src=\"/nbextensions/google.colab/files.js\"></script> "
            ]
          },
          "metadata": {}
        },
        {
          "output_type": "stream",
          "name": "stdout",
          "text": [
            "Saving english_to_assamese.txt to english_to_assamese.txt\n"
          ]
        }
      ],
      "source": [
        "from google.colab import files\n",
        "uploaded = files.upload()"
      ]
    },
    {
      "cell_type": "code",
      "source": [
        "import pandas as pd\n",
        "import numpy as np\n",
        "import string\n",
        "from string import digits\n",
        "import matplotlib.pyplot as plt\n",
        "%matplotlib inline\n",
        "import re\n",
        "from sklearn.utils import shuffle\n",
        "from sklearn.model_selection import train_test_split\n",
        "from keras.layers import Input, LSTM, Embedding, Dense\n",
        "from keras.models import Model\n",
        "import pickle as pkl"
      ],
      "metadata": {
        "id": "P7l8vWz_qbgT"
      },
      "execution_count": null,
      "outputs": []
    },
    {
      "cell_type": "code",
      "source": [
        "import pandas as pd\n",
        "lines = pd.read_table('english_to_assamese.txt', names=['eng','ass','extra'], quotechar='\"', error_bad_lines=False)"
      ],
      "metadata": {
        "colab": {
          "base_uri": "https://localhost:8080/"
        },
        "id": "BjfehP4NqkLi",
        "outputId": "619819e2-2193-4f73-e088-655cdc788e7d"
      },
      "execution_count": null,
      "outputs": [
        {
          "output_type": "stream",
          "name": "stderr",
          "text": [
            "/usr/local/lib/python3.7/dist-packages/IPython/core/interactiveshell.py:2882: FutureWarning: The error_bad_lines argument has been deprecated and will be removed in a future version.\n",
            "\n",
            "\n",
            "  exec(code_obj, self.user_global_ns, self.user_ns)\n"
          ]
        }
      ]
    },
    {
      "cell_type": "code",
      "source": [
        "lines.info()"
      ],
      "metadata": {
        "colab": {
          "base_uri": "https://localhost:8080/"
        },
        "id": "Kfr8TQXSqo6i",
        "outputId": "2dc8d214-7e2b-492c-affd-f131187cdd53"
      },
      "execution_count": null,
      "outputs": [
        {
          "output_type": "stream",
          "name": "stdout",
          "text": [
            "<class 'pandas.core.frame.DataFrame'>\n",
            "RangeIndex: 4156 entries, 0 to 4155\n",
            "Data columns (total 3 columns):\n",
            " #   Column  Non-Null Count  Dtype \n",
            "---  ------  --------------  ----- \n",
            " 0   eng     4156 non-null   object\n",
            " 1   ass     4154 non-null   object\n",
            " 2   extra   4108 non-null   object\n",
            "dtypes: object(3)\n",
            "memory usage: 97.5+ KB\n"
          ]
        }
      ]
    },
    {
      "cell_type": "code",
      "source": [
        "lines"
      ],
      "metadata": {
        "colab": {
          "base_uri": "https://localhost:8080/",
          "height": 423
        },
        "id": "1fMDIaRyqqZE",
        "outputId": "345b3ab1-859a-4bd2-84eb-34c4863c5d41"
      },
      "execution_count": null,
      "outputs": [
        {
          "output_type": "execute_result",
          "data": {
            "text/plain": [
              "                      eng                 ass  \\\n",
              "0                     Hi.            নমস্কাৰ।   \n",
              "1                     Hi.                হাই।   \n",
              "2                    Run!                দৌৰ!   \n",
              "3                    Run!              দৌৰাঁ!   \n",
              "4                    Run!               দৌৰক!   \n",
              "...                   ...                 ...   \n",
              "4151   He has short hair.    তেওঁৰ চুলি চুটি।   \n",
              "4152  She has small feet.   তাইৰ সৰু ভৰি আছে।   \n",
              "4153  She has small feet.   তাইৰ সৰু ভৰি আছে।   \n",
              "4154   he has small feet.  তেওঁৰ সৰু ভৰি আছে।   \n",
              "4155   he has small feet.  তেওঁৰ সৰু ভৰি আছে।   \n",
              "\n",
              "                                                  extra  \n",
              "0     CC-BY 2.0 (France) Attribution: tatoeba.org #5...  \n",
              "1     CC-BY 2.0 (France) Attribution: tatoeba.org #5...  \n",
              "2     CC-BY 2.0 (France) Attribution: tatoeba.org #9...  \n",
              "3     CC-BY 2.0 (France) Attribution: tatoeba.org #9...  \n",
              "4     CC-BY 2.0 (France) Attribution: tatoeba.org #9...  \n",
              "...                                                 ...  \n",
              "4151  CC-BY 2.0 (France) Attribution: tatoeba.org #3...  \n",
              "4152  CC-BY 2.0 (France) Attribution: tatoeba.org #3...  \n",
              "4153  CC-BY 2.0 (France) Attribution: tatoeba.org #3...  \n",
              "4154  CC-BY 2.0 (France) Attribution: tatoeba.org #3...  \n",
              "4155  CC-BY 2.0 (France) Attribution: tatoeba.org #3...  \n",
              "\n",
              "[4156 rows x 3 columns]"
            ],
            "text/html": [
              "\n",
              "  <div id=\"df-affa52c1-ee88-4fc8-8c29-e382953a88c9\">\n",
              "    <div class=\"colab-df-container\">\n",
              "      <div>\n",
              "<style scoped>\n",
              "    .dataframe tbody tr th:only-of-type {\n",
              "        vertical-align: middle;\n",
              "    }\n",
              "\n",
              "    .dataframe tbody tr th {\n",
              "        vertical-align: top;\n",
              "    }\n",
              "\n",
              "    .dataframe thead th {\n",
              "        text-align: right;\n",
              "    }\n",
              "</style>\n",
              "<table border=\"1\" class=\"dataframe\">\n",
              "  <thead>\n",
              "    <tr style=\"text-align: right;\">\n",
              "      <th></th>\n",
              "      <th>eng</th>\n",
              "      <th>ass</th>\n",
              "      <th>extra</th>\n",
              "    </tr>\n",
              "  </thead>\n",
              "  <tbody>\n",
              "    <tr>\n",
              "      <th>0</th>\n",
              "      <td>Hi.</td>\n",
              "      <td>নমস্কাৰ।</td>\n",
              "      <td>CC-BY 2.0 (France) Attribution: tatoeba.org #5...</td>\n",
              "    </tr>\n",
              "    <tr>\n",
              "      <th>1</th>\n",
              "      <td>Hi.</td>\n",
              "      <td>হাই।</td>\n",
              "      <td>CC-BY 2.0 (France) Attribution: tatoeba.org #5...</td>\n",
              "    </tr>\n",
              "    <tr>\n",
              "      <th>2</th>\n",
              "      <td>Run!</td>\n",
              "      <td>দৌৰ!</td>\n",
              "      <td>CC-BY 2.0 (France) Attribution: tatoeba.org #9...</td>\n",
              "    </tr>\n",
              "    <tr>\n",
              "      <th>3</th>\n",
              "      <td>Run!</td>\n",
              "      <td>দৌৰাঁ!</td>\n",
              "      <td>CC-BY 2.0 (France) Attribution: tatoeba.org #9...</td>\n",
              "    </tr>\n",
              "    <tr>\n",
              "      <th>4</th>\n",
              "      <td>Run!</td>\n",
              "      <td>দৌৰক!</td>\n",
              "      <td>CC-BY 2.0 (France) Attribution: tatoeba.org #9...</td>\n",
              "    </tr>\n",
              "    <tr>\n",
              "      <th>...</th>\n",
              "      <td>...</td>\n",
              "      <td>...</td>\n",
              "      <td>...</td>\n",
              "    </tr>\n",
              "    <tr>\n",
              "      <th>4151</th>\n",
              "      <td>He has short hair.</td>\n",
              "      <td>তেওঁৰ চুলি চুটি।</td>\n",
              "      <td>CC-BY 2.0 (France) Attribution: tatoeba.org #3...</td>\n",
              "    </tr>\n",
              "    <tr>\n",
              "      <th>4152</th>\n",
              "      <td>She has small feet.</td>\n",
              "      <td>তাইৰ সৰু ভৰি আছে।</td>\n",
              "      <td>CC-BY 2.0 (France) Attribution: tatoeba.org #3...</td>\n",
              "    </tr>\n",
              "    <tr>\n",
              "      <th>4153</th>\n",
              "      <td>She has small feet.</td>\n",
              "      <td>তাইৰ সৰু ভৰি আছে।</td>\n",
              "      <td>CC-BY 2.0 (France) Attribution: tatoeba.org #3...</td>\n",
              "    </tr>\n",
              "    <tr>\n",
              "      <th>4154</th>\n",
              "      <td>he has small feet.</td>\n",
              "      <td>তেওঁৰ সৰু ভৰি আছে।</td>\n",
              "      <td>CC-BY 2.0 (France) Attribution: tatoeba.org #3...</td>\n",
              "    </tr>\n",
              "    <tr>\n",
              "      <th>4155</th>\n",
              "      <td>he has small feet.</td>\n",
              "      <td>তেওঁৰ সৰু ভৰি আছে।</td>\n",
              "      <td>CC-BY 2.0 (France) Attribution: tatoeba.org #3...</td>\n",
              "    </tr>\n",
              "  </tbody>\n",
              "</table>\n",
              "<p>4156 rows × 3 columns</p>\n",
              "</div>\n",
              "      <button class=\"colab-df-convert\" onclick=\"convertToInteractive('df-affa52c1-ee88-4fc8-8c29-e382953a88c9')\"\n",
              "              title=\"Convert this dataframe to an interactive table.\"\n",
              "              style=\"display:none;\">\n",
              "        \n",
              "  <svg xmlns=\"http://www.w3.org/2000/svg\" height=\"24px\"viewBox=\"0 0 24 24\"\n",
              "       width=\"24px\">\n",
              "    <path d=\"M0 0h24v24H0V0z\" fill=\"none\"/>\n",
              "    <path d=\"M18.56 5.44l.94 2.06.94-2.06 2.06-.94-2.06-.94-.94-2.06-.94 2.06-2.06.94zm-11 1L8.5 8.5l.94-2.06 2.06-.94-2.06-.94L8.5 2.5l-.94 2.06-2.06.94zm10 10l.94 2.06.94-2.06 2.06-.94-2.06-.94-.94-2.06-.94 2.06-2.06.94z\"/><path d=\"M17.41 7.96l-1.37-1.37c-.4-.4-.92-.59-1.43-.59-.52 0-1.04.2-1.43.59L10.3 9.45l-7.72 7.72c-.78.78-.78 2.05 0 2.83L4 21.41c.39.39.9.59 1.41.59.51 0 1.02-.2 1.41-.59l7.78-7.78 2.81-2.81c.8-.78.8-2.07 0-2.86zM5.41 20L4 18.59l7.72-7.72 1.47 1.35L5.41 20z\"/>\n",
              "  </svg>\n",
              "      </button>\n",
              "      \n",
              "  <style>\n",
              "    .colab-df-container {\n",
              "      display:flex;\n",
              "      flex-wrap:wrap;\n",
              "      gap: 12px;\n",
              "    }\n",
              "\n",
              "    .colab-df-convert {\n",
              "      background-color: #E8F0FE;\n",
              "      border: none;\n",
              "      border-radius: 50%;\n",
              "      cursor: pointer;\n",
              "      display: none;\n",
              "      fill: #1967D2;\n",
              "      height: 32px;\n",
              "      padding: 0 0 0 0;\n",
              "      width: 32px;\n",
              "    }\n",
              "\n",
              "    .colab-df-convert:hover {\n",
              "      background-color: #E2EBFA;\n",
              "      box-shadow: 0px 1px 2px rgba(60, 64, 67, 0.3), 0px 1px 3px 1px rgba(60, 64, 67, 0.15);\n",
              "      fill: #174EA6;\n",
              "    }\n",
              "\n",
              "    [theme=dark] .colab-df-convert {\n",
              "      background-color: #3B4455;\n",
              "      fill: #D2E3FC;\n",
              "    }\n",
              "\n",
              "    [theme=dark] .colab-df-convert:hover {\n",
              "      background-color: #434B5C;\n",
              "      box-shadow: 0px 1px 3px 1px rgba(0, 0, 0, 0.15);\n",
              "      filter: drop-shadow(0px 1px 2px rgba(0, 0, 0, 0.3));\n",
              "      fill: #FFFFFF;\n",
              "    }\n",
              "  </style>\n",
              "\n",
              "      <script>\n",
              "        const buttonEl =\n",
              "          document.querySelector('#df-affa52c1-ee88-4fc8-8c29-e382953a88c9 button.colab-df-convert');\n",
              "        buttonEl.style.display =\n",
              "          google.colab.kernel.accessAllowed ? 'block' : 'none';\n",
              "\n",
              "        async function convertToInteractive(key) {\n",
              "          const element = document.querySelector('#df-affa52c1-ee88-4fc8-8c29-e382953a88c9');\n",
              "          const dataTable =\n",
              "            await google.colab.kernel.invokeFunction('convertToInteractive',\n",
              "                                                     [key], {});\n",
              "          if (!dataTable) return;\n",
              "\n",
              "          const docLinkHtml = 'Like what you see? Visit the ' +\n",
              "            '<a target=\"_blank\" href=https://colab.research.google.com/notebooks/data_table.ipynb>data table notebook</a>'\n",
              "            + ' to learn more about interactive tables.';\n",
              "          element.innerHTML = '';\n",
              "          dataTable['output_type'] = 'display_data';\n",
              "          await google.colab.output.renderOutput(dataTable, element);\n",
              "          const docLink = document.createElement('div');\n",
              "          docLink.innerHTML = docLinkHtml;\n",
              "          element.appendChild(docLink);\n",
              "        }\n",
              "      </script>\n",
              "    </div>\n",
              "  </div>\n",
              "  "
            ]
          },
          "metadata": {},
          "execution_count": 5
        }
      ]
    },
    {
      "cell_type": "code",
      "source": [
        "lines.shape"
      ],
      "metadata": {
        "colab": {
          "base_uri": "https://localhost:8080/"
        },
        "id": "4U7aj0PhqsMm",
        "outputId": "7445b1d2-3e11-4d47-da50-b872c5851567"
      },
      "execution_count": null,
      "outputs": [
        {
          "output_type": "execute_result",
          "data": {
            "text/plain": [
              "(4156, 3)"
            ]
          },
          "metadata": {},
          "execution_count": 6
        }
      ]
    },
    {
      "cell_type": "code",
      "source": [
        "lines.drop(\"extra\", 1, inplace=True)"
      ],
      "metadata": {
        "colab": {
          "base_uri": "https://localhost:8080/"
        },
        "id": "pWjt-Mblqtqc",
        "outputId": "eb900498-2ad4-481a-84ff-9c553131dcc7"
      },
      "execution_count": null,
      "outputs": [
        {
          "output_type": "stream",
          "name": "stderr",
          "text": [
            "/usr/local/lib/python3.7/dist-packages/ipykernel_launcher.py:1: FutureWarning: In a future version of pandas all arguments of DataFrame.drop except for the argument 'labels' will be keyword-only\n",
            "  \"\"\"Entry point for launching an IPython kernel.\n"
          ]
        }
      ]
    },
    {
      "cell_type": "code",
      "source": [
        "lines['ass']=lines['ass'].apply(str)"
      ],
      "metadata": {
        "id": "hhPFxYSVqvHz"
      },
      "execution_count": null,
      "outputs": []
    },
    {
      "cell_type": "code",
      "source": [
        "lines"
      ],
      "metadata": {
        "colab": {
          "base_uri": "https://localhost:8080/",
          "height": 423
        },
        "id": "6urzfssVqwhE",
        "outputId": "60885c7e-1f2b-4235-cca4-b325e40440f2"
      },
      "execution_count": null,
      "outputs": [
        {
          "output_type": "execute_result",
          "data": {
            "text/plain": [
              "                      eng                 ass\n",
              "0                     Hi.            নমস্কাৰ।\n",
              "1                     Hi.                হাই।\n",
              "2                    Run!                দৌৰ!\n",
              "3                    Run!              দৌৰাঁ!\n",
              "4                    Run!               দৌৰক!\n",
              "...                   ...                 ...\n",
              "4151   He has short hair.    তেওঁৰ চুলি চুটি।\n",
              "4152  She has small feet.   তাইৰ সৰু ভৰি আছে।\n",
              "4153  She has small feet.   তাইৰ সৰু ভৰি আছে।\n",
              "4154   he has small feet.  তেওঁৰ সৰু ভৰি আছে।\n",
              "4155   he has small feet.  তেওঁৰ সৰু ভৰি আছে।\n",
              "\n",
              "[4156 rows x 2 columns]"
            ],
            "text/html": [
              "\n",
              "  <div id=\"df-796b7570-74b1-40c6-b1c9-8b7046549f27\">\n",
              "    <div class=\"colab-df-container\">\n",
              "      <div>\n",
              "<style scoped>\n",
              "    .dataframe tbody tr th:only-of-type {\n",
              "        vertical-align: middle;\n",
              "    }\n",
              "\n",
              "    .dataframe tbody tr th {\n",
              "        vertical-align: top;\n",
              "    }\n",
              "\n",
              "    .dataframe thead th {\n",
              "        text-align: right;\n",
              "    }\n",
              "</style>\n",
              "<table border=\"1\" class=\"dataframe\">\n",
              "  <thead>\n",
              "    <tr style=\"text-align: right;\">\n",
              "      <th></th>\n",
              "      <th>eng</th>\n",
              "      <th>ass</th>\n",
              "    </tr>\n",
              "  </thead>\n",
              "  <tbody>\n",
              "    <tr>\n",
              "      <th>0</th>\n",
              "      <td>Hi.</td>\n",
              "      <td>নমস্কাৰ।</td>\n",
              "    </tr>\n",
              "    <tr>\n",
              "      <th>1</th>\n",
              "      <td>Hi.</td>\n",
              "      <td>হাই।</td>\n",
              "    </tr>\n",
              "    <tr>\n",
              "      <th>2</th>\n",
              "      <td>Run!</td>\n",
              "      <td>দৌৰ!</td>\n",
              "    </tr>\n",
              "    <tr>\n",
              "      <th>3</th>\n",
              "      <td>Run!</td>\n",
              "      <td>দৌৰাঁ!</td>\n",
              "    </tr>\n",
              "    <tr>\n",
              "      <th>4</th>\n",
              "      <td>Run!</td>\n",
              "      <td>দৌৰক!</td>\n",
              "    </tr>\n",
              "    <tr>\n",
              "      <th>...</th>\n",
              "      <td>...</td>\n",
              "      <td>...</td>\n",
              "    </tr>\n",
              "    <tr>\n",
              "      <th>4151</th>\n",
              "      <td>He has short hair.</td>\n",
              "      <td>তেওঁৰ চুলি চুটি।</td>\n",
              "    </tr>\n",
              "    <tr>\n",
              "      <th>4152</th>\n",
              "      <td>She has small feet.</td>\n",
              "      <td>তাইৰ সৰু ভৰি আছে।</td>\n",
              "    </tr>\n",
              "    <tr>\n",
              "      <th>4153</th>\n",
              "      <td>She has small feet.</td>\n",
              "      <td>তাইৰ সৰু ভৰি আছে।</td>\n",
              "    </tr>\n",
              "    <tr>\n",
              "      <th>4154</th>\n",
              "      <td>he has small feet.</td>\n",
              "      <td>তেওঁৰ সৰু ভৰি আছে।</td>\n",
              "    </tr>\n",
              "    <tr>\n",
              "      <th>4155</th>\n",
              "      <td>he has small feet.</td>\n",
              "      <td>তেওঁৰ সৰু ভৰি আছে।</td>\n",
              "    </tr>\n",
              "  </tbody>\n",
              "</table>\n",
              "<p>4156 rows × 2 columns</p>\n",
              "</div>\n",
              "      <button class=\"colab-df-convert\" onclick=\"convertToInteractive('df-796b7570-74b1-40c6-b1c9-8b7046549f27')\"\n",
              "              title=\"Convert this dataframe to an interactive table.\"\n",
              "              style=\"display:none;\">\n",
              "        \n",
              "  <svg xmlns=\"http://www.w3.org/2000/svg\" height=\"24px\"viewBox=\"0 0 24 24\"\n",
              "       width=\"24px\">\n",
              "    <path d=\"M0 0h24v24H0V0z\" fill=\"none\"/>\n",
              "    <path d=\"M18.56 5.44l.94 2.06.94-2.06 2.06-.94-2.06-.94-.94-2.06-.94 2.06-2.06.94zm-11 1L8.5 8.5l.94-2.06 2.06-.94-2.06-.94L8.5 2.5l-.94 2.06-2.06.94zm10 10l.94 2.06.94-2.06 2.06-.94-2.06-.94-.94-2.06-.94 2.06-2.06.94z\"/><path d=\"M17.41 7.96l-1.37-1.37c-.4-.4-.92-.59-1.43-.59-.52 0-1.04.2-1.43.59L10.3 9.45l-7.72 7.72c-.78.78-.78 2.05 0 2.83L4 21.41c.39.39.9.59 1.41.59.51 0 1.02-.2 1.41-.59l7.78-7.78 2.81-2.81c.8-.78.8-2.07 0-2.86zM5.41 20L4 18.59l7.72-7.72 1.47 1.35L5.41 20z\"/>\n",
              "  </svg>\n",
              "      </button>\n",
              "      \n",
              "  <style>\n",
              "    .colab-df-container {\n",
              "      display:flex;\n",
              "      flex-wrap:wrap;\n",
              "      gap: 12px;\n",
              "    }\n",
              "\n",
              "    .colab-df-convert {\n",
              "      background-color: #E8F0FE;\n",
              "      border: none;\n",
              "      border-radius: 50%;\n",
              "      cursor: pointer;\n",
              "      display: none;\n",
              "      fill: #1967D2;\n",
              "      height: 32px;\n",
              "      padding: 0 0 0 0;\n",
              "      width: 32px;\n",
              "    }\n",
              "\n",
              "    .colab-df-convert:hover {\n",
              "      background-color: #E2EBFA;\n",
              "      box-shadow: 0px 1px 2px rgba(60, 64, 67, 0.3), 0px 1px 3px 1px rgba(60, 64, 67, 0.15);\n",
              "      fill: #174EA6;\n",
              "    }\n",
              "\n",
              "    [theme=dark] .colab-df-convert {\n",
              "      background-color: #3B4455;\n",
              "      fill: #D2E3FC;\n",
              "    }\n",
              "\n",
              "    [theme=dark] .colab-df-convert:hover {\n",
              "      background-color: #434B5C;\n",
              "      box-shadow: 0px 1px 3px 1px rgba(0, 0, 0, 0.15);\n",
              "      filter: drop-shadow(0px 1px 2px rgba(0, 0, 0, 0.3));\n",
              "      fill: #FFFFFF;\n",
              "    }\n",
              "  </style>\n",
              "\n",
              "      <script>\n",
              "        const buttonEl =\n",
              "          document.querySelector('#df-796b7570-74b1-40c6-b1c9-8b7046549f27 button.colab-df-convert');\n",
              "        buttonEl.style.display =\n",
              "          google.colab.kernel.accessAllowed ? 'block' : 'none';\n",
              "\n",
              "        async function convertToInteractive(key) {\n",
              "          const element = document.querySelector('#df-796b7570-74b1-40c6-b1c9-8b7046549f27');\n",
              "          const dataTable =\n",
              "            await google.colab.kernel.invokeFunction('convertToInteractive',\n",
              "                                                     [key], {});\n",
              "          if (!dataTable) return;\n",
              "\n",
              "          const docLinkHtml = 'Like what you see? Visit the ' +\n",
              "            '<a target=\"_blank\" href=https://colab.research.google.com/notebooks/data_table.ipynb>data table notebook</a>'\n",
              "            + ' to learn more about interactive tables.';\n",
              "          element.innerHTML = '';\n",
              "          dataTable['output_type'] = 'display_data';\n",
              "          await google.colab.output.renderOutput(dataTable, element);\n",
              "          const docLink = document.createElement('div');\n",
              "          docLink.innerHTML = docLinkHtml;\n",
              "          element.appendChild(docLink);\n",
              "        }\n",
              "      </script>\n",
              "    </div>\n",
              "  </div>\n",
              "  "
            ]
          },
          "metadata": {},
          "execution_count": 9
        }
      ]
    },
    {
      "cell_type": "code",
      "source": [
        "# Lowercase all characters\n",
        "lines.eng=lines.eng.apply(lambda x: x.lower())\n",
        "lines.ass=lines.ass.apply(lambda x: x.lower())\n",
        "\n",
        "# Remove quotes\n",
        "lines.eng=lines.eng.apply(lambda x: re.sub(\"'\", '', x))\n",
        "lines.ass=lines.ass.apply(lambda x: re.sub(\"'\", '', x))\n",
        "exclude = set(string.punctuation) # Set of all special characters\n",
        "\n",
        "# Remove all the special characters\n",
        "lines.eng=lines.eng.apply(lambda x: ''.join(ch for ch in x if ch not in exclude))\n",
        "lines.ass=lines.ass.apply(lambda x: ''.join(ch for ch in x if ch not in exclude))\n",
        "\n",
        "# Remove all numbers from text\n",
        "remove_digits = str.maketrans('', '', digits)\n",
        "lines.eng=lines.eng.apply(lambda x: x.translate(remove_digits))\n",
        "lines.ass=lines.ass.apply(lambda x: x.translate(remove_digits))\n",
        "lines.ass = lines.ass.apply(lambda x: re.sub(\"[(२३०८१५७९४६)]\", \"\", x))\n",
        "\n",
        "# Remove extra spaces\n",
        "lines.eng=lines.eng.apply(lambda x: x.strip())\n",
        "lines.ass=lines.ass.apply(lambda x: x.strip())\n",
        "lines.eng=lines.eng.apply(lambda x: re.sub(\" +\", \" \", x))\n",
        "lines.ass=lines.ass.apply(lambda x: re.sub(\" +\", \" \", x))\n",
        "\n",
        "# Add start and end tokens to target sequences\n",
        "lines.ass = lines.ass.apply(lambda x : 'START_ '+ x + ' _END')"
      ],
      "metadata": {
        "id": "J3naWIn9qx2G"
      },
      "execution_count": null,
      "outputs": []
    },
    {
      "cell_type": "code",
      "source": [
        "lines.sample(10)"
      ],
      "metadata": {
        "colab": {
          "base_uri": "https://localhost:8080/",
          "height": 363
        },
        "id": "V88BPAwyq0bO",
        "outputId": "320a0a90-e104-49f9-8ec1-dc4b65b3c4c5"
      },
      "execution_count": null,
      "outputs": [
        {
          "output_type": "execute_result",
          "data": {
            "text/plain": [
              "                                               eng  \\\n",
              "1788         theres something i forgot to tell you   \n",
              "1435                     youre impatient arent you   \n",
              "1594               we expect that tom will help us   \n",
              "1888  you never know when this might come in handy   \n",
              "575                           how can we kill time   \n",
              "3994                            tom is an engineer   \n",
              "3413                                  dont tell me   \n",
              "4107                            put it in the file   \n",
              "803                          he doesnt like coffee   \n",
              "1329                    dont you think thats weird   \n",
              "\n",
              "                                                   ass  \n",
              "1788        START_ মই তোক কিবা এটা কবলৈ পাহৰিলোঁ। _END  \n",
              "1435              START_ আপুনি অধৈৰ্য্য নহয় জানো _END  \n",
              "1594  START_ আমি আশা কৰোঁ যে টমে আমাক সহায় কৰিব। _END  \n",
              "1888    START_ এইটো কেতিয়া কামত দিয়ে কব নোৱাৰি। _END  \n",
              "575              START_ আমি কিদৰে সময় কটাব পাৰোঁ _END  \n",
              "3994                      START_ টম এজন অভিযন্তা। _END  \n",
              "3413                             START_ মোক নকবা। _END  \n",
              "4107                     START_ ইয়াক ফাইলত ৰাখক। _END  \n",
              "803                   START_ তেওঁ কফি ভাল নাপায়। _END  \n",
              "1329      START_ আপুনি সেয়া আচৰিত বুলি ভাবে নেকি _END  "
            ],
            "text/html": [
              "\n",
              "  <div id=\"df-22e67708-1ab6-43b3-8dbb-6215cd2168c7\">\n",
              "    <div class=\"colab-df-container\">\n",
              "      <div>\n",
              "<style scoped>\n",
              "    .dataframe tbody tr th:only-of-type {\n",
              "        vertical-align: middle;\n",
              "    }\n",
              "\n",
              "    .dataframe tbody tr th {\n",
              "        vertical-align: top;\n",
              "    }\n",
              "\n",
              "    .dataframe thead th {\n",
              "        text-align: right;\n",
              "    }\n",
              "</style>\n",
              "<table border=\"1\" class=\"dataframe\">\n",
              "  <thead>\n",
              "    <tr style=\"text-align: right;\">\n",
              "      <th></th>\n",
              "      <th>eng</th>\n",
              "      <th>ass</th>\n",
              "    </tr>\n",
              "  </thead>\n",
              "  <tbody>\n",
              "    <tr>\n",
              "      <th>1788</th>\n",
              "      <td>theres something i forgot to tell you</td>\n",
              "      <td>START_ মই তোক কিবা এটা কবলৈ পাহৰিলোঁ। _END</td>\n",
              "    </tr>\n",
              "    <tr>\n",
              "      <th>1435</th>\n",
              "      <td>youre impatient arent you</td>\n",
              "      <td>START_ আপুনি অধৈৰ্য্য নহয় জানো _END</td>\n",
              "    </tr>\n",
              "    <tr>\n",
              "      <th>1594</th>\n",
              "      <td>we expect that tom will help us</td>\n",
              "      <td>START_ আমি আশা কৰোঁ যে টমে আমাক সহায় কৰিব। _END</td>\n",
              "    </tr>\n",
              "    <tr>\n",
              "      <th>1888</th>\n",
              "      <td>you never know when this might come in handy</td>\n",
              "      <td>START_ এইটো কেতিয়া কামত দিয়ে কব নোৱাৰি। _END</td>\n",
              "    </tr>\n",
              "    <tr>\n",
              "      <th>575</th>\n",
              "      <td>how can we kill time</td>\n",
              "      <td>START_ আমি কিদৰে সময় কটাব পাৰোঁ _END</td>\n",
              "    </tr>\n",
              "    <tr>\n",
              "      <th>3994</th>\n",
              "      <td>tom is an engineer</td>\n",
              "      <td>START_ টম এজন অভিযন্তা। _END</td>\n",
              "    </tr>\n",
              "    <tr>\n",
              "      <th>3413</th>\n",
              "      <td>dont tell me</td>\n",
              "      <td>START_ মোক নকবা। _END</td>\n",
              "    </tr>\n",
              "    <tr>\n",
              "      <th>4107</th>\n",
              "      <td>put it in the file</td>\n",
              "      <td>START_ ইয়াক ফাইলত ৰাখক। _END</td>\n",
              "    </tr>\n",
              "    <tr>\n",
              "      <th>803</th>\n",
              "      <td>he doesnt like coffee</td>\n",
              "      <td>START_ তেওঁ কফি ভাল নাপায়। _END</td>\n",
              "    </tr>\n",
              "    <tr>\n",
              "      <th>1329</th>\n",
              "      <td>dont you think thats weird</td>\n",
              "      <td>START_ আপুনি সেয়া আচৰিত বুলি ভাবে নেকি _END</td>\n",
              "    </tr>\n",
              "  </tbody>\n",
              "</table>\n",
              "</div>\n",
              "      <button class=\"colab-df-convert\" onclick=\"convertToInteractive('df-22e67708-1ab6-43b3-8dbb-6215cd2168c7')\"\n",
              "              title=\"Convert this dataframe to an interactive table.\"\n",
              "              style=\"display:none;\">\n",
              "        \n",
              "  <svg xmlns=\"http://www.w3.org/2000/svg\" height=\"24px\"viewBox=\"0 0 24 24\"\n",
              "       width=\"24px\">\n",
              "    <path d=\"M0 0h24v24H0V0z\" fill=\"none\"/>\n",
              "    <path d=\"M18.56 5.44l.94 2.06.94-2.06 2.06-.94-2.06-.94-.94-2.06-.94 2.06-2.06.94zm-11 1L8.5 8.5l.94-2.06 2.06-.94-2.06-.94L8.5 2.5l-.94 2.06-2.06.94zm10 10l.94 2.06.94-2.06 2.06-.94-2.06-.94-.94-2.06-.94 2.06-2.06.94z\"/><path d=\"M17.41 7.96l-1.37-1.37c-.4-.4-.92-.59-1.43-.59-.52 0-1.04.2-1.43.59L10.3 9.45l-7.72 7.72c-.78.78-.78 2.05 0 2.83L4 21.41c.39.39.9.59 1.41.59.51 0 1.02-.2 1.41-.59l7.78-7.78 2.81-2.81c.8-.78.8-2.07 0-2.86zM5.41 20L4 18.59l7.72-7.72 1.47 1.35L5.41 20z\"/>\n",
              "  </svg>\n",
              "      </button>\n",
              "      \n",
              "  <style>\n",
              "    .colab-df-container {\n",
              "      display:flex;\n",
              "      flex-wrap:wrap;\n",
              "      gap: 12px;\n",
              "    }\n",
              "\n",
              "    .colab-df-convert {\n",
              "      background-color: #E8F0FE;\n",
              "      border: none;\n",
              "      border-radius: 50%;\n",
              "      cursor: pointer;\n",
              "      display: none;\n",
              "      fill: #1967D2;\n",
              "      height: 32px;\n",
              "      padding: 0 0 0 0;\n",
              "      width: 32px;\n",
              "    }\n",
              "\n",
              "    .colab-df-convert:hover {\n",
              "      background-color: #E2EBFA;\n",
              "      box-shadow: 0px 1px 2px rgba(60, 64, 67, 0.3), 0px 1px 3px 1px rgba(60, 64, 67, 0.15);\n",
              "      fill: #174EA6;\n",
              "    }\n",
              "\n",
              "    [theme=dark] .colab-df-convert {\n",
              "      background-color: #3B4455;\n",
              "      fill: #D2E3FC;\n",
              "    }\n",
              "\n",
              "    [theme=dark] .colab-df-convert:hover {\n",
              "      background-color: #434B5C;\n",
              "      box-shadow: 0px 1px 3px 1px rgba(0, 0, 0, 0.15);\n",
              "      filter: drop-shadow(0px 1px 2px rgba(0, 0, 0, 0.3));\n",
              "      fill: #FFFFFF;\n",
              "    }\n",
              "  </style>\n",
              "\n",
              "      <script>\n",
              "        const buttonEl =\n",
              "          document.querySelector('#df-22e67708-1ab6-43b3-8dbb-6215cd2168c7 button.colab-df-convert');\n",
              "        buttonEl.style.display =\n",
              "          google.colab.kernel.accessAllowed ? 'block' : 'none';\n",
              "\n",
              "        async function convertToInteractive(key) {\n",
              "          const element = document.querySelector('#df-22e67708-1ab6-43b3-8dbb-6215cd2168c7');\n",
              "          const dataTable =\n",
              "            await google.colab.kernel.invokeFunction('convertToInteractive',\n",
              "                                                     [key], {});\n",
              "          if (!dataTable) return;\n",
              "\n",
              "          const docLinkHtml = 'Like what you see? Visit the ' +\n",
              "            '<a target=\"_blank\" href=https://colab.research.google.com/notebooks/data_table.ipynb>data table notebook</a>'\n",
              "            + ' to learn more about interactive tables.';\n",
              "          element.innerHTML = '';\n",
              "          dataTable['output_type'] = 'display_data';\n",
              "          await google.colab.output.renderOutput(dataTable, element);\n",
              "          const docLink = document.createElement('div');\n",
              "          docLink.innerHTML = docLinkHtml;\n",
              "          element.appendChild(docLink);\n",
              "        }\n",
              "      </script>\n",
              "    </div>\n",
              "  </div>\n",
              "  "
            ]
          },
          "metadata": {},
          "execution_count": 11
        }
      ]
    },
    {
      "cell_type": "code",
      "source": [
        "# Vocabulary of English\n",
        "all_eng_words=set()\n",
        "for e in lines.eng:\n",
        "    for word in e.split():\n",
        "        if word not in all_eng_words:\n",
        "            all_eng_words.add(word)\n",
        "\n",
        "# Vocabulary of Assamese \n",
        "all_ass_words=set()\n",
        "for a in lines.ass:\n",
        "    for word in a.split():\n",
        "        if word not in all_ass_words:\n",
        "            all_ass_words.add(word)"
      ],
      "metadata": {
        "id": "h-aYdzfAq3SU"
      },
      "execution_count": null,
      "outputs": []
    },
    {
      "cell_type": "code",
      "source": [
        "# Max Length of source sequence\n",
        "lenght_list=[]\n",
        "for l in lines.eng:\n",
        "    lenght_list.append(len(l.split(' ')))\n",
        "max_length_src = np.max(lenght_list)\n",
        "\n",
        "# Max Length of target sequence\n",
        "lenght_list=[]\n",
        "for l in lines.ass:\n",
        "    lenght_list.append(len(l.split(' ')))\n",
        "max_length_tar = np.max(lenght_list)"
      ],
      "metadata": {
        "id": "sEqpwVZAq5Ho"
      },
      "execution_count": null,
      "outputs": []
    },
    {
      "cell_type": "code",
      "source": [
        "max_length_src"
      ],
      "metadata": {
        "colab": {
          "base_uri": "https://localhost:8080/"
        },
        "id": "aAr4X2Enq6si",
        "outputId": "7af50632-b005-41d6-bc00-430735b0f1d2"
      },
      "execution_count": null,
      "outputs": [
        {
          "output_type": "execute_result",
          "data": {
            "text/plain": [
              "15"
            ]
          },
          "metadata": {},
          "execution_count": 14
        }
      ]
    },
    {
      "cell_type": "code",
      "source": [
        "max_length_tar"
      ],
      "metadata": {
        "colab": {
          "base_uri": "https://localhost:8080/"
        },
        "id": "44233sqvq8d9",
        "outputId": "5f492b94-f3ac-489b-835c-c5db9d7be210"
      },
      "execution_count": null,
      "outputs": [
        {
          "output_type": "execute_result",
          "data": {
            "text/plain": [
              "16"
            ]
          },
          "metadata": {},
          "execution_count": 15
        }
      ]
    },
    {
      "cell_type": "code",
      "source": [
        "input_words = sorted(list(all_eng_words))\n",
        "target_words = sorted(list(all_ass_words))\n",
        "\n",
        "# Calculate Vocab size for both source and target\n",
        "num_encoder_tokens = len(all_eng_words)+1\n",
        "num_decoder_tokens = len(all_ass_words)\n",
        "num_encoder_tokens, num_decoder_tokens"
      ],
      "metadata": {
        "colab": {
          "base_uri": "https://localhost:8080/"
        },
        "id": "L2ZAaGEsq9uO",
        "outputId": "8047a360-4920-4db2-89a9-305e539fa298"
      },
      "execution_count": null,
      "outputs": [
        {
          "output_type": "execute_result",
          "data": {
            "text/plain": [
              "(1729, 3142)"
            ]
          },
          "metadata": {},
          "execution_count": 16
        }
      ]
    },
    {
      "cell_type": "code",
      "source": [
        "num_decoder_tokens += 1 # For zero padding\n",
        "num_decoder_tokens"
      ],
      "metadata": {
        "colab": {
          "base_uri": "https://localhost:8080/"
        },
        "id": "FBZQ4pwQq_K0",
        "outputId": "0d0774a2-15a4-4d28-a367-609bfd638edf"
      },
      "execution_count": null,
      "outputs": [
        {
          "output_type": "execute_result",
          "data": {
            "text/plain": [
              "3143"
            ]
          },
          "metadata": {},
          "execution_count": 17
        }
      ]
    },
    {
      "cell_type": "code",
      "source": [
        "# Create word to token dictionary for both source and target\n",
        "input_token_index = dict([(word, i+1) for i, word in enumerate(input_words)])\n",
        "target_token_index = dict([(word, i+1) for i, word in enumerate(target_words)])\n",
        "\n",
        "# Create token to word dictionary for both source and target\n",
        "reverse_input_char_index = dict((i, word) for word, i in input_token_index.items())\n",
        "reverse_target_char_index = dict((i, word) for word, i in target_token_index.items())"
      ],
      "metadata": {
        "id": "fOVQb2uErBA7"
      },
      "execution_count": null,
      "outputs": []
    },
    {
      "cell_type": "code",
      "source": [
        "input_token_index"
      ],
      "metadata": {
        "colab": {
          "base_uri": "https://localhost:8080/"
        },
        "id": "IXLowwe8rE2U",
        "outputId": "e71d52f5-dac5-48f1-d726-58ee20bd9876"
      },
      "execution_count": null,
      "outputs": [
        {
          "output_type": "execute_result",
          "data": {
            "text/plain": [
              "{'a': 1,\n",
              " 'aah': 2,\n",
              " 'able': 3,\n",
              " 'aboard': 4,\n",
              " 'about': 5,\n",
              " 'above': 6,\n",
              " 'abroad': 7,\n",
              " 'absent': 8,\n",
              " 'accept': 9,\n",
              " 'accepted': 10,\n",
              " 'accident': 11,\n",
              " 'account': 12,\n",
              " 'accustomed': 13,\n",
              " 'aces': 14,\n",
              " 'act': 15,\n",
              " 'acting': 16,\n",
              " 'active': 17,\n",
              " 'actually': 18,\n",
              " 'add': 19,\n",
              " 'address': 20,\n",
              " 'adjust': 21,\n",
              " 'admissions': 22,\n",
              " 'admit': 23,\n",
              " 'admitted': 24,\n",
              " 'advice': 25,\n",
              " 'afford': 26,\n",
              " 'afraid': 27,\n",
              " 'africa': 28,\n",
              " 'after': 29,\n",
              " 'afternoon': 30,\n",
              " 'again': 31,\n",
              " 'against': 32,\n",
              " 'age': 33,\n",
              " 'ages': 34,\n",
              " 'ago': 35,\n",
              " 'ahead': 36,\n",
              " 'air': 37,\n",
              " 'airmail': 38,\n",
              " 'alarm': 39,\n",
              " 'alive': 40,\n",
              " 'all': 41,\n",
              " 'allergic': 42,\n",
              " 'allowed': 43,\n",
              " 'almost': 44,\n",
              " 'alone': 45,\n",
              " 'already': 46,\n",
              " 'alright': 47,\n",
              " 'also': 48,\n",
              " 'altogether': 49,\n",
              " 'always': 50,\n",
              " 'am': 51,\n",
              " 'american': 52,\n",
              " 'among': 53,\n",
              " 'amused': 54,\n",
              " 'an': 55,\n",
              " 'and': 56,\n",
              " 'angry': 57,\n",
              " 'annoyed': 58,\n",
              " 'another': 59,\n",
              " 'answer': 60,\n",
              " 'answered': 61,\n",
              " 'any': 62,\n",
              " 'anybody': 63,\n",
              " 'anymore': 64,\n",
              " 'anyone': 65,\n",
              " 'anything': 66,\n",
              " 'apparent': 67,\n",
              " 'applauded': 68,\n",
              " 'apple': 69,\n",
              " 'apples': 70,\n",
              " 'apron': 71,\n",
              " 'arabs': 72,\n",
              " 'are': 73,\n",
              " 'arent': 74,\n",
              " 'argue': 75,\n",
              " 'arm': 76,\n",
              " 'around': 77,\n",
              " 'arrested': 78,\n",
              " 'arrival': 79,\n",
              " 'arrive': 80,\n",
              " 'arrived': 81,\n",
              " 'arrives': 82,\n",
              " 'art': 83,\n",
              " 'artist': 84,\n",
              " 'artistic': 85,\n",
              " 'as': 86,\n",
              " 'asia': 87,\n",
              " 'asianamerican': 88,\n",
              " 'ask': 89,\n",
              " 'asked': 90,\n",
              " 'asking': 91,\n",
              " 'asleep': 92,\n",
              " 'at': 93,\n",
              " 'ate': 94,\n",
              " 'attached': 95,\n",
              " 'attack': 96,\n",
              " 'attention': 97,\n",
              " 'aunt': 98,\n",
              " 'australia': 99,\n",
              " 'austrian': 100,\n",
              " 'autistic': 101,\n",
              " 'avenue': 102,\n",
              " 'avoid': 103,\n",
              " 'avoidable': 104,\n",
              " 'avoided': 105,\n",
              " 'avoiding': 106,\n",
              " 'avoids': 107,\n",
              " 'awake': 108,\n",
              " 'away': 109,\n",
              " 'awfully': 110,\n",
              " 'babysitter': 111,\n",
              " 'back': 112,\n",
              " 'background': 113,\n",
              " 'bacon': 114,\n",
              " 'bad': 115,\n",
              " 'bag': 116,\n",
              " 'baked': 117,\n",
              " 'baking': 118,\n",
              " 'bald': 119,\n",
              " 'bandage': 120,\n",
              " 'banished': 121,\n",
              " 'bank': 122,\n",
              " 'bark': 123,\n",
              " 'baseball': 124,\n",
              " 'bath': 125,\n",
              " 'bathroom': 126,\n",
              " 'battery': 127,\n",
              " 'battle': 128,\n",
              " 'be': 129,\n",
              " 'bear': 130,\n",
              " 'beat': 131,\n",
              " 'beats': 132,\n",
              " 'beautiful': 133,\n",
              " 'became': 134,\n",
              " 'because': 135,\n",
              " 'become': 136,\n",
              " 'becoming': 137,\n",
              " 'bed': 138,\n",
              " 'beef': 139,\n",
              " 'been': 140,\n",
              " 'beer': 141,\n",
              " 'before': 142,\n",
              " 'began': 143,\n",
              " 'begin': 144,\n",
              " 'begins': 145,\n",
              " 'begun': 146,\n",
              " 'behind': 147,\n",
              " 'believe': 148,\n",
              " 'bell': 149,\n",
              " 'belongs': 150,\n",
              " 'below': 151,\n",
              " 'best': 152,\n",
              " 'bet': 153,\n",
              " 'betray': 154,\n",
              " 'better': 155,\n",
              " 'between': 156,\n",
              " 'beyond': 157,\n",
              " 'bicycle': 158,\n",
              " 'bicycles': 159,\n",
              " 'big': 160,\n",
              " 'bike': 161,\n",
              " 'bill': 162,\n",
              " 'birds': 163,\n",
              " 'birthday': 164,\n",
              " 'bit': 165,\n",
              " 'bite': 166,\n",
              " 'black': 167,\n",
              " 'blamed': 168,\n",
              " 'bled': 169,\n",
              " 'blind': 170,\n",
              " 'blinds': 171,\n",
              " 'blocks': 172,\n",
              " 'blog': 173,\n",
              " 'blood': 174,\n",
              " 'bloom': 175,\n",
              " 'blouse': 176,\n",
              " 'blow': 177,\n",
              " 'blowing': 178,\n",
              " 'blue': 179,\n",
              " 'bomb': 180,\n",
              " 'book': 181,\n",
              " 'books': 182,\n",
              " 'boots': 183,\n",
              " 'bored': 184,\n",
              " 'bores': 185,\n",
              " 'boring': 186,\n",
              " 'born': 187,\n",
              " 'boss': 188,\n",
              " 'boston': 189,\n",
              " 'both': 190,\n",
              " 'bought': 191,\n",
              " 'bowl': 192,\n",
              " 'box': 193,\n",
              " 'boy': 194,\n",
              " 'boyfriend': 195,\n",
              " 'boyfriends': 196,\n",
              " 'boys': 197,\n",
              " 'brave': 198,\n",
              " 'bread': 199,\n",
              " 'break': 200,\n",
              " 'breathe': 201,\n",
              " 'bring': 202,\n",
              " 'british': 203,\n",
              " 'broke': 204,\n",
              " 'broken': 205,\n",
              " 'brother': 206,\n",
              " 'brought': 207,\n",
              " 'brown': 208,\n",
              " 'bucket': 209,\n",
              " 'budding': 210,\n",
              " 'building': 211,\n",
              " 'built': 212,\n",
              " 'burned': 213,\n",
              " 'burns': 214,\n",
              " 'burp': 215,\n",
              " 'burped': 216,\n",
              " 'bus': 217,\n",
              " 'business': 218,\n",
              " 'businessman': 219,\n",
              " 'busy': 220,\n",
              " 'but': 221,\n",
              " 'button': 222,\n",
              " 'buy': 223,\n",
              " 'by': 224,\n",
              " 'cake': 225,\n",
              " 'call': 226,\n",
              " 'called': 227,\n",
              " 'calling': 228,\n",
              " 'calm': 229,\n",
              " 'came': 230,\n",
              " 'camera': 231,\n",
              " 'cameraman': 232,\n",
              " 'can': 233,\n",
              " 'canadian': 234,\n",
              " 'cancel': 235,\n",
              " 'canceled': 236,\n",
              " 'cancer': 237,\n",
              " 'candlelight': 238,\n",
              " 'cannot': 239,\n",
              " 'cant': 240,\n",
              " 'captain': 241,\n",
              " 'captured': 242,\n",
              " 'car': 243,\n",
              " 'care': 244,\n",
              " 'careful': 245,\n",
              " 'careless': 246,\n",
              " 'cares': 247,\n",
              " 'carpet': 248,\n",
              " 'carrots': 249,\n",
              " 'cars': 250,\n",
              " 'cat': 251,\n",
              " 'catch': 252,\n",
              " 'cats': 253,\n",
              " 'caught': 254,\n",
              " 'cautious': 255,\n",
              " 'cave': 256,\n",
              " 'caviar': 257,\n",
              " 'cds': 258,\n",
              " 'ceo': 259,\n",
              " 'chair': 260,\n",
              " 'champagne': 261,\n",
              " 'change': 262,\n",
              " 'changed': 263,\n",
              " 'changes': 264,\n",
              " 'changing': 265,\n",
              " 'chartered': 266,\n",
              " 'chauffeur': 267,\n",
              " 'cheap': 268,\n",
              " 'cheated': 269,\n",
              " 'check': 270,\n",
              " 'cheeks': 271,\n",
              " 'cheese': 272,\n",
              " 'chemistry': 273,\n",
              " 'chicken': 274,\n",
              " 'childish': 275,\n",
              " 'children': 276,\n",
              " 'chinese': 277,\n",
              " 'chocolate': 278,\n",
              " 'choice': 279,\n",
              " 'christian': 280,\n",
              " 'christians': 281,\n",
              " 'cities': 282,\n",
              " 'clapped': 283,\n",
              " 'classes': 284,\n",
              " 'clean': 285,\n",
              " 'cleans': 286,\n",
              " 'clear': 287,\n",
              " 'clerk': 288,\n",
              " 'clinic': 289,\n",
              " 'clock': 290,\n",
              " 'clocks': 291,\n",
              " 'close': 292,\n",
              " 'closer': 293,\n",
              " 'clothes': 294,\n",
              " 'cloud': 295,\n",
              " 'cloudy': 296,\n",
              " 'cnn': 297,\n",
              " 'coat': 298,\n",
              " 'coffee': 299,\n",
              " 'coffees': 300,\n",
              " 'cold': 301,\n",
              " 'college': 302,\n",
              " 'come': 303,\n",
              " 'comedies': 304,\n",
              " 'comfort': 305,\n",
              " 'comfortable': 306,\n",
              " 'coming': 307,\n",
              " 'committee': 308,\n",
              " 'common': 309,\n",
              " 'communist': 310,\n",
              " 'compared': 311,\n",
              " 'complicated': 312,\n",
              " 'computer': 313,\n",
              " 'congratulations': 314,\n",
              " 'consists': 315,\n",
              " 'contacted': 316,\n",
              " 'contents': 317,\n",
              " 'contest': 318,\n",
              " 'context': 319,\n",
              " 'continent': 320,\n",
              " 'continue': 321,\n",
              " 'cook': 322,\n",
              " 'cookies': 323,\n",
              " 'cooking': 324,\n",
              " 'cooks': 325,\n",
              " 'cool': 326,\n",
              " 'copies': 327,\n",
              " 'cops': 328,\n",
              " 'copy': 329,\n",
              " 'corn': 330,\n",
              " 'corner': 331,\n",
              " 'correct': 332,\n",
              " 'cost': 333,\n",
              " 'cotton': 334,\n",
              " 'cough': 335,\n",
              " 'coughing': 336,\n",
              " 'could': 337,\n",
              " 'couldnt': 338,\n",
              " 'count': 339,\n",
              " 'countries': 340,\n",
              " 'country': 341,\n",
              " 'counts': 342,\n",
              " 'couple': 343,\n",
              " 'cow': 344,\n",
              " 'cows': 345,\n",
              " 'crazy': 346,\n",
              " 'creationism': 347,\n",
              " 'cried': 348,\n",
              " 'crowd': 349,\n",
              " 'crowded': 350,\n",
              " 'cruel': 351,\n",
              " 'cry': 352,\n",
              " 'crying': 353,\n",
              " 'cultured': 354,\n",
              " 'cup': 355,\n",
              " 'curious': 356,\n",
              " 'curry': 357,\n",
              " 'curse': 358,\n",
              " 'cursing': 359,\n",
              " 'cute': 360,\n",
              " 'cycling': 361,\n",
              " 'damp': 362,\n",
              " 'dance': 363,\n",
              " 'danced': 364,\n",
              " 'dancing': 365,\n",
              " 'dark': 366,\n",
              " 'darker': 367,\n",
              " 'date': 368,\n",
              " 'dating': 369,\n",
              " 'daughter': 370,\n",
              " 'daughters': 371,\n",
              " 'dawn': 372,\n",
              " 'day': 373,\n",
              " 'days': 374,\n",
              " 'dead': 375,\n",
              " 'deal': 376,\n",
              " 'death': 377,\n",
              " 'debt': 378,\n",
              " 'debts': 379,\n",
              " 'decide': 380,\n",
              " 'decided': 381,\n",
              " 'decision': 382,\n",
              " 'deep': 383,\n",
              " 'definitely': 384,\n",
              " 'definitions': 385,\n",
              " 'degree': 386,\n",
              " 'delayed': 387,\n",
              " 'denied': 388,\n",
              " 'depend': 389,\n",
              " 'depends': 390,\n",
              " 'describe': 391,\n",
              " 'description': 392,\n",
              " 'desk': 393,\n",
              " 'desperate': 394,\n",
              " 'developed': 395,\n",
              " 'did': 396,\n",
              " 'didnt': 397,\n",
              " 'die': 398,\n",
              " 'died': 399,\n",
              " 'dies': 400,\n",
              " 'diet': 401,\n",
              " 'dieting': 402,\n",
              " 'difference': 403,\n",
              " 'different': 404,\n",
              " 'difficult': 405,\n",
              " 'digging': 406,\n",
              " 'dinner': 407,\n",
              " 'disabled': 408,\n",
              " 'disco': 409,\n",
              " 'discussion': 410,\n",
              " 'disease': 411,\n",
              " 'divide': 412,\n",
              " 'divorced': 413,\n",
              " 'dj': 414,\n",
              " 'do': 415,\n",
              " 'doctor': 416,\n",
              " 'does': 417,\n",
              " 'doesnt': 418,\n",
              " 'dog': 419,\n",
              " 'dogs': 420,\n",
              " 'doing': 421,\n",
              " 'doll': 422,\n",
              " 'dollar': 423,\n",
              " 'dollars': 424,\n",
              " 'done': 425,\n",
              " 'dont': 426,\n",
              " 'door': 427,\n",
              " 'doubts': 428,\n",
              " 'down': 429,\n",
              " 'downtown': 430,\n",
              " 'drank': 431,\n",
              " 'dream': 432,\n",
              " 'dreaming': 433,\n",
              " 'dreamt': 434,\n",
              " 'dressed': 435,\n",
              " 'drew': 436,\n",
              " 'drink': 437,\n",
              " 'drinks': 438,\n",
              " 'drive': 439,\n",
              " 'driver': 440,\n",
              " 'driving': 441,\n",
              " 'drone': 442,\n",
              " 'drop': 443,\n",
              " 'dropped': 444,\n",
              " 'drops': 445,\n",
              " 'drowned': 446,\n",
              " 'drowning': 447,\n",
              " 'drunk': 448,\n",
              " 'duck': 449,\n",
              " 'dye': 450,\n",
              " 'dying': 451,\n",
              " 'each': 452,\n",
              " 'eager': 453,\n",
              " 'early': 454,\n",
              " 'earn': 455,\n",
              " 'ears': 456,\n",
              " 'easier': 457,\n",
              " 'easily': 458,\n",
              " 'easter': 459,\n",
              " 'easy': 460,\n",
              " 'eat': 461,\n",
              " 'eaten': 462,\n",
              " 'eating': 463,\n",
              " 'eats': 464,\n",
              " 'education': 465,\n",
              " 'egg': 466,\n",
              " 'eggs': 467,\n",
              " 'ego': 468,\n",
              " 'eight': 469,\n",
              " 'either': 470,\n",
              " 'elaborate': 471,\n",
              " 'elk': 472,\n",
              " 'else': 473,\n",
              " 'embraced': 474,\n",
              " 'empty': 475,\n",
              " 'end': 476,\n",
              " 'enemy': 477,\n",
              " 'engine': 478,\n",
              " 'engineer': 479,\n",
              " 'english': 480,\n",
              " 'enjoy': 481,\n",
              " 'enjoyed': 482,\n",
              " 'enough': 483,\n",
              " 'enter': 484,\n",
              " 'entered': 485,\n",
              " 'escaped': 486,\n",
              " 'especially': 487,\n",
              " 'espresso': 488,\n",
              " 'europe': 489,\n",
              " 'even': 490,\n",
              " 'evening': 491,\n",
              " 'ever': 492,\n",
              " 'every': 493,\n",
              " 'everybody': 494,\n",
              " 'everyone': 495,\n",
              " 'everything': 496,\n",
              " 'everywhere': 497,\n",
              " 'evidence': 498,\n",
              " 'evil': 499,\n",
              " 'exactly': 500,\n",
              " 'exam': 501,\n",
              " 'example': 502,\n",
              " 'excited': 503,\n",
              " 'exercise': 504,\n",
              " 'exercised': 505,\n",
              " 'exhaled': 506,\n",
              " 'exist': 507,\n",
              " 'expect': 508,\n",
              " 'expensive': 509,\n",
              " 'experience': 510,\n",
              " 'explain': 511,\n",
              " 'explanation': 512,\n",
              " 'express': 513,\n",
              " 'eye': 514,\n",
              " 'eyes': 515,\n",
              " 'face': 516,\n",
              " 'facebook': 517,\n",
              " 'fact': 518,\n",
              " 'facts': 519,\n",
              " 'failed': 520,\n",
              " 'faint': 521,\n",
              " 'fainted': 522,\n",
              " 'fall': 523,\n",
              " 'falling': 524,\n",
              " 'family': 525,\n",
              " 'famous': 526,\n",
              " 'fantastic': 527,\n",
              " 'far': 528,\n",
              " 'fast': 529,\n",
              " 'faster': 530,\n",
              " 'fat': 531,\n",
              " 'father': 532,\n",
              " 'fathers': 533,\n",
              " 'fault': 534,\n",
              " 'favorite': 535,\n",
              " 'fear': 536,\n",
              " 'feel': 537,\n",
              " 'feeling': 538,\n",
              " 'feels': 539,\n",
              " 'feet': 540,\n",
              " 'fell': 541,\n",
              " 'felt': 542,\n",
              " 'fetch': 543,\n",
              " 'fever': 544,\n",
              " 'few': 545,\n",
              " 'fierce': 546,\n",
              " 'fifteen': 547,\n",
              " 'fifth': 548,\n",
              " 'fight': 549,\n",
              " 'fighting': 550,\n",
              " 'file': 551,\n",
              " 'fill': 552,\n",
              " 'filled': 553,\n",
              " 'find': 554,\n",
              " 'fine': 555,\n",
              " 'finish': 556,\n",
              " 'finished': 557,\n",
              " 'fire': 558,\n",
              " 'first': 559,\n",
              " 'fish': 560,\n",
              " 'fishing': 561,\n",
              " 'fit': 562,\n",
              " 'five': 563,\n",
              " 'fix': 564,\n",
              " 'flat': 565,\n",
              " 'flight': 566,\n",
              " 'floats': 567,\n",
              " 'flower': 568,\n",
              " 'flowers': 569,\n",
              " 'fly': 570,\n",
              " 'focus': 571,\n",
              " 'follow': 572,\n",
              " 'following': 573,\n",
              " 'font': 574,\n",
              " 'food': 575,\n",
              " 'fool': 576,\n",
              " 'foolish': 577,\n",
              " 'foot': 578,\n",
              " 'for': 579,\n",
              " 'foreigners': 580,\n",
              " 'forest': 581,\n",
              " 'forever': 582,\n",
              " 'forgave': 583,\n",
              " 'forgery': 584,\n",
              " 'forget': 585,\n",
              " 'forgive': 586,\n",
              " 'forgot': 587,\n",
              " 'fortunate': 588,\n",
              " 'forty': 589,\n",
              " 'forward': 590,\n",
              " 'fought': 591,\n",
              " 'found': 592,\n",
              " 'frank': 593,\n",
              " 'freaks': 594,\n",
              " 'free': 595,\n",
              " 'freedom': 596,\n",
              " 'french': 597,\n",
              " 'fresh': 598,\n",
              " 'friend': 599,\n",
              " 'friends': 600,\n",
              " 'from': 601,\n",
              " 'front': 602,\n",
              " 'frozen': 603,\n",
              " 'fruit': 604,\n",
              " 'full': 605,\n",
              " 'fun': 606,\n",
              " 'funny': 607,\n",
              " 'gained': 608,\n",
              " 'gamble': 609,\n",
              " 'game': 610,\n",
              " 'games': 611,\n",
              " 'garlic': 612,\n",
              " 'gas': 613,\n",
              " 'gate': 614,\n",
              " 'gave': 615,\n",
              " 'generation': 616,\n",
              " 'genuine': 617,\n",
              " 'german': 618,\n",
              " 'get': 619,\n",
              " 'gets': 620,\n",
              " 'getting': 621,\n",
              " 'ghosts': 622,\n",
              " 'gift': 623,\n",
              " 'girl': 624,\n",
              " 'girlfriend': 625,\n",
              " 'girlfriends': 626,\n",
              " 'give': 627,\n",
              " 'glad': 628,\n",
              " 'glass': 629,\n",
              " 'go': 630,\n",
              " 'god': 631,\n",
              " 'goes': 632,\n",
              " 'going': 633,\n",
              " 'gold': 634,\n",
              " 'golf': 635,\n",
              " 'gone': 636,\n",
              " 'good': 637,\n",
              " 'goodbye': 638,\n",
              " 'got': 639,\n",
              " 'gotten': 640,\n",
              " 'grab': 641,\n",
              " 'grade': 642,\n",
              " 'grapes': 643,\n",
              " 'gray': 644,\n",
              " 'great': 645,\n",
              " 'greece': 646,\n",
              " 'greedy': 647,\n",
              " 'greenland': 648,\n",
              " 'grew': 649,\n",
              " 'grinned': 650,\n",
              " 'groaned': 651,\n",
              " 'ground': 652,\n",
              " 'grow': 653,\n",
              " 'grows': 654,\n",
              " 'grumbled': 655,\n",
              " 'guess': 656,\n",
              " 'guilty': 657,\n",
              " 'guitar': 658,\n",
              " 'gun': 659,\n",
              " 'hacked': 660,\n",
              " 'had': 661,\n",
              " 'hadnt': 662,\n",
              " 'hair': 663,\n",
              " 'half': 664,\n",
              " 'halfasleep': 665,\n",
              " 'hand': 666,\n",
              " 'hands': 667,\n",
              " 'handy': 668,\n",
              " 'hanging': 669,\n",
              " 'happen': 670,\n",
              " 'happened': 671,\n",
              " 'happening': 672,\n",
              " 'happens': 673,\n",
              " 'happy': 674,\n",
              " 'hard': 675,\n",
              " 'hardly': 676,\n",
              " 'hardworking': 677,\n",
              " 'has': 678,\n",
              " 'hasnt': 679,\n",
              " 'hat': 680,\n",
              " 'hate': 681,\n",
              " 'have': 682,\n",
              " 'he': 683,\n",
              " 'headache': 684,\n",
              " 'health': 685,\n",
              " 'healthy': 686,\n",
              " 'hear': 687,\n",
              " 'heard': 688,\n",
              " 'heart': 689,\n",
              " 'heat': 690,\n",
              " 'heater': 691,\n",
              " 'heavier': 692,\n",
              " 'heavy': 693,\n",
              " 'hed': 694,\n",
              " 'heels': 695,\n",
              " 'held': 696,\n",
              " 'hello': 697,\n",
              " 'helmet': 698,\n",
              " 'help': 699,\n",
              " 'helped': 700,\n",
              " 'helps': 701,\n",
              " 'her': 702,\n",
              " 'here': 703,\n",
              " 'heres': 704,\n",
              " 'heroin': 705,\n",
              " 'hers': 706,\n",
              " 'hes': 707,\n",
              " 'hey': 708,\n",
              " 'hi': 709,\n",
              " 'hiding': 710,\n",
              " 'high': 711,\n",
              " 'hillbilly': 712,\n",
              " 'him': 713,\n",
              " 'himself': 714,\n",
              " 'hinted': 715,\n",
              " 'his': 716,\n",
              " 'hit': 717,\n",
              " 'hold': 718,\n",
              " 'holes': 719,\n",
              " 'holiday': 720,\n",
              " 'holidays': 721,\n",
              " 'home': 722,\n",
              " 'homeless': 723,\n",
              " 'homemade': 724,\n",
              " 'homesick': 725,\n",
              " 'homework': 726,\n",
              " 'honesty': 727,\n",
              " 'honk': 728,\n",
              " 'hood': 729,\n",
              " 'hope': 730,\n",
              " 'hopeless': 731,\n",
              " 'horn': 732,\n",
              " 'horrible': 733,\n",
              " 'horse': 734,\n",
              " 'hospital': 735,\n",
              " 'hot': 736,\n",
              " 'hotel': 737,\n",
              " 'hour': 738,\n",
              " 'hours': 739,\n",
              " 'house': 740,\n",
              " 'houses': 741,\n",
              " 'how': 742,\n",
              " 'hows': 743,\n",
              " 'huge': 744,\n",
              " 'hugged': 745,\n",
              " 'humid': 746,\n",
              " 'hungry': 747,\n",
              " 'hurry': 748,\n",
              " 'hurt': 749,\n",
              " 'hurts': 750,\n",
              " 'i': 751,\n",
              " 'ice': 752,\n",
              " 'icy': 753,\n",
              " 'id': 754,\n",
              " 'idea': 755,\n",
              " 'if': 756,\n",
              " 'ill': 757,\n",
              " 'illegal': 758,\n",
              " 'illness': 759,\n",
              " 'im': 760,\n",
              " 'immediately': 761,\n",
              " 'impatient': 762,\n",
              " 'important': 763,\n",
              " 'impossible': 764,\n",
              " 'impressed': 765,\n",
              " 'improved': 766,\n",
              " 'improving': 767,\n",
              " 'in': 768,\n",
              " 'incheon': 769,\n",
              " 'incredible': 770,\n",
              " 'india': 771,\n",
              " 'indicates': 772,\n",
              " 'inhaled': 773,\n",
              " 'injured': 774,\n",
              " 'innocent': 775,\n",
              " 'inside': 776,\n",
              " 'insisted': 777,\n",
              " 'instantly': 778,\n",
              " 'insulted': 779,\n",
              " 'intend': 780,\n",
              " 'intention': 781,\n",
              " 'interested': 782,\n",
              " 'interesting': 783,\n",
              " 'into': 784,\n",
              " 'intriguing': 785,\n",
              " 'invent': 786,\n",
              " 'irritated': 787,\n",
              " 'is': 788,\n",
              " 'isnt': 789,\n",
              " 'it': 790,\n",
              " 'italian': 791,\n",
              " 'italy': 792,\n",
              " 'itll': 793,\n",
              " 'its': 794,\n",
              " 'ive': 795,\n",
              " 'jacket': 796,\n",
              " 'jackson': 797,\n",
              " 'jacksons': 798,\n",
              " 'jail': 799,\n",
              " 'jam': 800,\n",
              " 'japan': 801,\n",
              " 'japanese': 802,\n",
              " 'jealous': 803,\n",
              " 'jeans': 804,\n",
              " 'job': 805,\n",
              " 'jobs': 806,\n",
              " 'john': 807,\n",
              " 'joke': 808,\n",
              " 'journalist': 809,\n",
              " 'journey': 810,\n",
              " 'judge': 811,\n",
              " 'judging': 812,\n",
              " 'juice': 813,\n",
              " 'jump': 814,\n",
              " 'jumped': 815,\n",
              " 'just': 816,\n",
              " 'justly': 817,\n",
              " 'keep': 818,\n",
              " 'kept': 819,\n",
              " 'key': 820,\n",
              " 'kicked': 821,\n",
              " 'kid': 822,\n",
              " 'kidding': 823,\n",
              " 'kill': 824,\n",
              " 'killed': 825,\n",
              " 'kind': 826,\n",
              " 'king': 827,\n",
              " 'kingdom': 828,\n",
              " 'kiss': 829,\n",
              " 'kissed': 830,\n",
              " 'kneeling': 831,\n",
              " 'knew': 832,\n",
              " 'know': 833,\n",
              " 'knows': 834,\n",
              " 'kyoto': 835,\n",
              " 'lady': 836,\n",
              " 'language': 837,\n",
              " 'laptop': 838,\n",
              " 'large': 839,\n",
              " 'lasagna': 840,\n",
              " 'last': 841,\n",
              " 'late': 842,\n",
              " 'later': 843,\n",
              " 'laugh': 844,\n",
              " 'laughed': 845,\n",
              " 'laughing': 846,\n",
              " 'law': 847,\n",
              " 'lawn': 848,\n",
              " 'lawyer': 849,\n",
              " 'lazy': 850,\n",
              " 'learn': 851,\n",
              " 'learned': 852,\n",
              " 'learning': 853,\n",
              " 'leather': 854,\n",
              " 'leave': 855,\n",
              " 'leaves': 856,\n",
              " 'left': 857,\n",
              " 'leg': 858,\n",
              " 'legs': 859,\n",
              " 'lend': 860,\n",
              " 'lent': 861,\n",
              " 'less': 862,\n",
              " 'lesson': 863,\n",
              " 'let': 864,\n",
              " 'lets': 865,\n",
              " 'letter': 866,\n",
              " 'liable': 867,\n",
              " 'lie': 868,\n",
              " 'lied': 869,\n",
              " 'lies': 870,\n",
              " 'life': 871,\n",
              " 'lift': 872,\n",
              " 'lights': 873,\n",
              " 'like': 874,\n",
              " 'liked': 875,\n",
              " 'likely': 876,\n",
              " 'likes': 877,\n",
              " 'limit': 878,\n",
              " 'lion': 879,\n",
              " 'list': 880,\n",
              " 'listen': 881,\n",
              " 'listened': 882,\n",
              " 'listens': 883,\n",
              " 'little': 884,\n",
              " 'live': 885,\n",
              " 'lived': 886,\n",
              " 'lives': 887,\n",
              " 'living': 888,\n",
              " 'loan': 889,\n",
              " 'located': 890,\n",
              " 'logic': 891,\n",
              " 'logical': 892,\n",
              " 'lonely': 893,\n",
              " 'long': 894,\n",
              " 'longer': 895,\n",
              " 'look': 896,\n",
              " 'looked': 897,\n",
              " 'looking': 898,\n",
              " 'looks': 899,\n",
              " 'loose': 900,\n",
              " 'lose': 901,\n",
              " 'losing': 902,\n",
              " 'lost': 903,\n",
              " 'lot': 904,\n",
              " 'lots': 905,\n",
              " 'louder': 906,\n",
              " 'loudly': 907,\n",
              " 'love': 908,\n",
              " 'loved': 909,\n",
              " 'lovely': 910,\n",
              " 'loves': 911,\n",
              " 'luck': 912,\n",
              " 'lucky': 913,\n",
              " 'luggage': 914,\n",
              " 'lunch': 915,\n",
              " 'lying': 916,\n",
              " 'machinery': 917,\n",
              " 'mad': 918,\n",
              " 'made': 919,\n",
              " 'magic': 920,\n",
              " 'make': 921,\n",
              " 'makes': 922,\n",
              " 'man': 923,\n",
              " 'manages': 924,\n",
              " 'mango': 925,\n",
              " 'manners': 926,\n",
              " 'many': 927,\n",
              " 'map': 928,\n",
              " 'march': 929,\n",
              " 'married': 930,\n",
              " 'marry': 931,\n",
              " 'mars': 932,\n",
              " 'mary': 933,\n",
              " 'marys': 934,\n",
              " 'masters': 935,\n",
              " 'math': 936,\n",
              " 'matter': 937,\n",
              " 'matters': 938,\n",
              " 'may': 939,\n",
              " 'maybe': 940,\n",
              " 'me': 941,\n",
              " 'mean': 942,\n",
              " 'means': 943,\n",
              " 'meat': 944,\n",
              " 'medicine': 945,\n",
              " 'meet': 946,\n",
              " 'meeting': 947,\n",
              " 'memorize': 948,\n",
              " 'men': 949,\n",
              " 'mentioned': 950,\n",
              " 'menu': 951,\n",
              " 'message': 952,\n",
              " 'met': 953,\n",
              " 'microscopes': 954,\n",
              " 'might': 955,\n",
              " 'mild': 956,\n",
              " 'milk': 957,\n",
              " 'milkman': 958,\n",
              " 'mince': 959,\n",
              " 'mind': 960,\n",
              " 'mine': 961,\n",
              " 'minute': 962,\n",
              " 'minutes': 963,\n",
              " 'miss': 964,\n",
              " 'mistake': 965,\n",
              " 'mistakes': 966,\n",
              " 'mix': 967,\n",
              " 'mom': 968,\n",
              " 'moment': 969,\n",
              " 'monday': 970,\n",
              " 'mondays': 971,\n",
              " 'money': 972,\n",
              " 'month': 973,\n",
              " 'months': 974,\n",
              " 'mood': 975,\n",
              " 'moons': 976,\n",
              " 'more': 977,\n",
              " 'morning': 978,\n",
              " 'most': 979,\n",
              " 'mother': 980,\n",
              " 'motivated': 981,\n",
              " 'mouse': 982,\n",
              " 'mouth': 983,\n",
              " 'move': 984,\n",
              " 'moved': 985,\n",
              " 'movie': 986,\n",
              " 'moving': 987,\n",
              " 'mowing': 988,\n",
              " 'mozart': 989,\n",
              " 'much': 990,\n",
              " 'muddy': 991,\n",
              " 'multiply': 992,\n",
              " 'murdered': 993,\n",
              " 'music': 994,\n",
              " 'muslim': 995,\n",
              " 'must': 996,\n",
              " 'mustve': 997,\n",
              " 'my': 998,\n",
              " 'naked': 999,\n",
              " 'name': 1000,\n",
              " ...}"
            ]
          },
          "metadata": {},
          "execution_count": 19
        }
      ]
    },
    {
      "cell_type": "code",
      "source": [
        "target_token_index"
      ],
      "metadata": {
        "colab": {
          "base_uri": "https://localhost:8080/"
        },
        "id": "TjgJXT5LrHBc",
        "outputId": "23bc4fc2-7e17-4a0b-a91b-6f050ada1231"
      },
      "execution_count": null,
      "outputs": [
        {
          "output_type": "execute_result",
          "data": {
            "text/plain": [
              "{'START_': 1,\n",
              " '_END': 2,\n",
              " 'adjusting': 3,\n",
              " 'attribution': 4,\n",
              " 'aৰ': 5,\n",
              " 'ccby': 6,\n",
              " 'ck': 7,\n",
              " 'cm': 8,\n",
              " 'dejo': 9,\n",
              " 'france': 10,\n",
              " 'marshmallowcat': 11,\n",
              " 'nan': 12,\n",
              " 'oবোৰ': 13,\n",
              " 'sabretou': 14,\n",
              " 'sacredceltic': 15,\n",
              " 'tatoebaorg': 16,\n",
              " '।': 17,\n",
              " 'অংক': 18,\n",
              " 'অংশগ্ৰহণ': 19,\n",
              " 'অকণো': 20,\n",
              " 'অকল': 21,\n",
              " 'অকলশৰীয়া': 22,\n",
              " 'অকলে': 23,\n",
              " 'অক্টোবৰ': 24,\n",
              " 'অক্ষম।': 25,\n",
              " 'অক্ষৰ': 26,\n",
              " 'অচেতন': 27,\n",
              " 'অটিষ্টিক।': 28,\n",
              " 'অট্টালিকাখন': 29,\n",
              " 'অণুবীক্ষণ': 30,\n",
              " 'অতি': 31,\n",
              " 'অদ্ভুত': 32,\n",
              " 'অদ্ভুত।': 33,\n",
              " 'অধিক': 34,\n",
              " 'অধিনায়ক।': 35,\n",
              " 'অধৈৰ্য্য': 36,\n",
              " 'অধ্যয়ন': 37,\n",
              " 'অন': 38,\n",
              " 'অনিচ্ছুক': 39,\n",
              " 'অনুগ্ৰহ': 40,\n",
              " 'অনুপস্থিত': 41,\n",
              " 'অনুপ্ৰাণিত': 42,\n",
              " 'অনুবাদ': 43,\n",
              " 'অনুভৱ': 44,\n",
              " 'অনুভৱৰ': 45,\n",
              " 'অনুমতি': 46,\n",
              " 'অনুসন্ধান': 47,\n",
              " 'অনুসৰণ': 48,\n",
              " 'অন্তিম': 49,\n",
              " 'অন্তিমজন': 50,\n",
              " 'অন্ধ': 51,\n",
              " 'অন্ধ।': 52,\n",
              " 'অপবিজ্ঞান।': 53,\n",
              " 'অপমান': 54,\n",
              " 'অপেক্ষা': 55,\n",
              " 'অপ্ৰয়োজনীয়।': 56,\n",
              " 'অফাৰটো': 57,\n",
              " 'অফিচ': 58,\n",
              " 'অবিশ্বাস্য': 59,\n",
              " 'অবিশ্বাস্য।': 60,\n",
              " 'অবিহনে': 61,\n",
              " 'অবৈধ': 62,\n",
              " 'অভদ্ৰ।': 63,\n",
              " 'অভিকেন্দ্ৰ': 64,\n",
              " 'অভিজ্ঞতা': 65,\n",
              " 'অভিনন্দন': 66,\n",
              " 'অভিনয়': 67,\n",
              " 'অভিপ্ৰায়': 68,\n",
              " 'অভিযন্তা।': 69,\n",
              " 'অভিশাপ।': 70,\n",
              " 'অভ্যাস': 71,\n",
              " 'অযোগ্য।': 72,\n",
              " 'অলপ': 73,\n",
              " 'অলপচলপ': 74,\n",
              " 'অলপো': 75,\n",
              " 'অলস।': 76,\n",
              " 'অলায়ক।': 77,\n",
              " 'অষ্ট্ৰিয়ান।': 78,\n",
              " 'অষ্ট্ৰেলিয়াত': 79,\n",
              " 'অষ্ট্ৰেলিয়াৰ': 80,\n",
              " 'অসম্ভৱ।': 81,\n",
              " 'অসাৱধান': 82,\n",
              " 'অসুখী': 83,\n",
              " 'অসুস্থ': 84,\n",
              " 'অসুস্থ।': 85,\n",
              " 'অস্বীকাৰ': 86,\n",
              " 'অহংকাৰ': 87,\n",
              " 'অহা': 88,\n",
              " 'অহাৰ': 89,\n",
              " 'অৰ্ডাৰ': 90,\n",
              " 'অৰ্থত': 91,\n",
              " 'অৱশেষত': 92,\n",
              " 'অৱস্থাত': 93,\n",
              " 'অৱসৰ': 94,\n",
              " 'আ': 95,\n",
              " 'আঁকিছিল': 96,\n",
              " 'আঁঠু': 97,\n",
              " 'আঁতৰাই': 98,\n",
              " 'আঁতৰাওক': 99,\n",
              " 'আঁতৰাওক।': 100,\n",
              " 'আঁতৰি': 101,\n",
              " 'আইন।': 102,\n",
              " 'আকাশ': 103,\n",
              " 'আকাশখন': 104,\n",
              " 'আকাশত': 105,\n",
              " 'আকাশে': 106,\n",
              " 'আকাশৰ': 107,\n",
              " 'আকাৰৰ': 108,\n",
              " 'আকৌ': 109,\n",
              " 'আক্ৰমণ': 110,\n",
              " 'আকৰ্ষণীয়': 111,\n",
              " 'আগচোতালৰ': 112,\n",
              " 'আগত': 113,\n",
              " 'আগতকৈ': 114,\n",
              " 'আগতেই': 115,\n",
              " 'আগবাঢ়কচোন।': 116,\n",
              " 'আগবাঢ়াচোন': 117,\n",
              " 'আগবাঢ়ি': 118,\n",
              " 'আগে': 119,\n",
              " 'আগেআগে': 120,\n",
              " 'আগ্ৰহ': 121,\n",
              " 'আঘাত': 122,\n",
              " 'আঘাতপ্ৰাপ্ত': 123,\n",
              " 'আঙুঠি': 124,\n",
              " 'আঙুৰ': 125,\n",
              " 'আচল': 126,\n",
              " 'আচলতে': 127,\n",
              " 'আচাৰ।': 128,\n",
              " 'আচৰিত': 129,\n",
              " 'আচৰিত।': 130,\n",
              " 'আচৰ্য্যকৰ': 131,\n",
              " 'আছ': 132,\n",
              " 'আছা': 133,\n",
              " 'আছা।': 134,\n",
              " 'আছানে': 135,\n",
              " 'আছা৷': 136,\n",
              " 'আছিল': 137,\n",
              " 'আছিল।': 138,\n",
              " 'আছিলনে': 139,\n",
              " 'আছিলা': 140,\n",
              " 'আছিলা।': 141,\n",
              " 'আছিলে।': 142,\n",
              " 'আছিলো': 143,\n",
              " 'আছিলো।': 144,\n",
              " 'আছিলোঁ।': 145,\n",
              " 'আছিলো৷': 146,\n",
              " 'আছিল৷': 147,\n",
              " 'আছে': 148,\n",
              " 'আছে।': 149,\n",
              " 'আছেনে': 150,\n",
              " 'আছেনেকি': 151,\n",
              " 'আছে৷': 152,\n",
              " 'আছো।': 153,\n",
              " 'আছোঁ।': 154,\n",
              " 'আজি': 155,\n",
              " 'আঞ্জা': 156,\n",
              " 'আটাইকেইগৰাকী': 157,\n",
              " 'আটাইকেইগৰাকীয়ে': 158,\n",
              " 'আটাইকেইজন': 159,\n",
              " 'আটাইকেইটা': 160,\n",
              " 'আটাইতকৈ': 161,\n",
              " 'আঠ': 162,\n",
              " 'আদায়': 163,\n",
              " 'আদৰণি': 164,\n",
              " 'আদৰিছোঁ।': 165,\n",
              " 'আধা': 166,\n",
              " 'আধাঘণ্টা': 167,\n",
              " 'আধাতে': 168,\n",
              " 'আন': 169,\n",
              " 'আনজনক': 170,\n",
              " 'আনন্দ': 171,\n",
              " 'আনন্দদায়ক': 172,\n",
              " 'আনন্দদায়ক।': 173,\n",
              " 'আনন্দিত': 174,\n",
              " 'আনি': 175,\n",
              " 'আনিছে': 176,\n",
              " 'আনিছে।': 177,\n",
              " 'আনিব।': 178,\n",
              " 'আনিবা।': 179,\n",
              " 'আনিম৷': 180,\n",
              " 'আন্ধাৰ': 181,\n",
              " 'আন্ধাৰ।': 182,\n",
              " 'আপচু': 183,\n",
              " 'আপচু।': 184,\n",
              " 'আপত্তি': 185,\n",
              " 'আপুনি': 186,\n",
              " 'আপেল': 187,\n",
              " 'আপেলকেইটা': 188,\n",
              " 'আপেলটো': 189,\n",
              " 'আপোনাক': 190,\n",
              " 'আপোনালোক': 191,\n",
              " 'আপোনাৰ': 192,\n",
              " 'আপোনাৰ।': 193,\n",
              " 'আপোনাৰো': 194,\n",
              " 'আফ্ৰিকা': 195,\n",
              " 'আবদ্ধ': 196,\n",
              " 'আমটো': 197,\n",
              " 'আমনি': 198,\n",
              " 'আমনিদায়ক': 199,\n",
              " 'আমাক': 200,\n",
              " 'আমাৰ': 201,\n",
              " 'আমাৰ।': 202,\n",
              " 'আমি': 203,\n",
              " 'আমিও': 204,\n",
              " 'আমেৰিকান': 205,\n",
              " 'আমেৰিকান।': 206,\n",
              " 'আমোদজনক': 207,\n",
              " 'আয়া': 208,\n",
              " 'আলিংগন': 209,\n",
              " 'আলু': 210,\n",
              " 'আলোচনাৰ': 211,\n",
              " 'আশা': 212,\n",
              " 'আসন': 213,\n",
              " 'আহ': 214,\n",
              " 'আহ।': 215,\n",
              " 'আহক': 216,\n",
              " 'আহক।': 217,\n",
              " 'আহকচোন।': 218,\n",
              " 'আহত': 219,\n",
              " 'আহা।': 220,\n",
              " 'আহাচোন।': 221,\n",
              " 'আহানাহা': 222,\n",
              " 'আহাৰ': 223,\n",
              " 'আহি': 224,\n",
              " 'আহিআছে': 225,\n",
              " 'আহিছা': 226,\n",
              " 'আহিছিল': 227,\n",
              " 'আহিছিল।': 228,\n",
              " 'আহিছে': 229,\n",
              " 'আহিছে।': 230,\n",
              " 'আহিছে৷': 231,\n",
              " 'আহিছোঁ।': 232,\n",
              " 'আহিব': 233,\n",
              " 'আহিব।': 234,\n",
              " 'আহিবই': 235,\n",
              " 'আহিবনে': 236,\n",
              " 'আহিবলৈ': 237,\n",
              " 'আহিবা': 238,\n",
              " 'আহিম': 239,\n",
              " 'আহিম।': 240,\n",
              " 'আহিম৷': 241,\n",
              " 'আহিল': 242,\n",
              " 'আহিল।': 243,\n",
              " 'আহিলো।': 244,\n",
              " 'আহিলোঁ।': 245,\n",
              " 'আহিল৷': 246,\n",
              " 'আহে।': 247,\n",
              " 'আহেনাহে': 248,\n",
              " 'আহোঁতে': 249,\n",
              " 'আৰক্ষী।': 250,\n",
              " 'আৰক্ষীৰ': 251,\n",
              " 'আৰম্ভ': 252,\n",
              " 'আৰাম': 253,\n",
              " 'আৰামত': 254,\n",
              " 'আৰু': 255,\n",
              " 'আৰ্দ্ৰ': 256,\n",
              " 'আৰৱ।': 257,\n",
              " 'আৱিষ্কাৰ': 258,\n",
              " 'ই': 259,\n",
              " 'ইংগিত': 260,\n",
              " 'ইংৰাজী': 261,\n",
              " 'ইংৰাজীত': 262,\n",
              " 'ইংৰাজীৰ': 263,\n",
              " 'ইউৰোপত': 264,\n",
              " 'ইচ্ছা': 265,\n",
              " 'ইচ্ছাৰ': 266,\n",
              " 'ইচ্ছুক': 267,\n",
              " 'ইজনে': 268,\n",
              " 'ইঞ্চিয়নৰ': 269,\n",
              " 'ইঞ্জিনটো': 270,\n",
              " 'ইটালী': 271,\n",
              " 'ইটালীয়ানত': 272,\n",
              " 'ইতিমধ্যে': 273,\n",
              " 'ইনষ্টল': 274,\n",
              " 'ইমান': 275,\n",
              " 'ইমানেই': 276,\n",
              " 'ইমানো': 277,\n",
              " 'ইয়াক': 278,\n",
              " 'ইয়াত': 279,\n",
              " 'ইয়াতকৈয়ো': 280,\n",
              " 'ইয়ালৈ': 281,\n",
              " 'ইয়াৰ': 282,\n",
              " 'ইষ্টাৰ': 283,\n",
              " 'ইয়াত': 284,\n",
              " 'ইয়াত।': 285,\n",
              " 'ইয়ালে': 286,\n",
              " 'ঈশ্বৰে': 287,\n",
              " 'ঈৰ্ষান্বিত': 288,\n",
              " 'উইণ্ডজ': 289,\n",
              " 'উকীল।': 290,\n",
              " 'উচিত': 291,\n",
              " 'উচিত।': 292,\n",
              " 'উচিত৷': 293,\n",
              " 'উজু': 294,\n",
              " 'উঠক।': 295,\n",
              " 'উঠা': 296,\n",
              " 'উঠাই': 297,\n",
              " 'উঠিছিল।': 298,\n",
              " 'উঠিছিলোৱেই৷': 299,\n",
              " 'উঠিছিল৷': 300,\n",
              " 'উঠিছে।': 301,\n",
              " 'উঠিল।': 302,\n",
              " 'উঠে।': 303,\n",
              " 'উত্তম': 304,\n",
              " 'উত্তম।': 305,\n",
              " 'উত্তৰ': 306,\n",
              " 'উত্তৰৰ': 307,\n",
              " 'উদাহৰণ': 308,\n",
              " 'উদীয়মান': 309,\n",
              " 'উদ্দেশ্য': 310,\n",
              " 'উদ্ভিদ': 311,\n",
              " 'উদ্যানখন': 312,\n",
              " 'উন্মুক্ত।': 313,\n",
              " 'উপদেশ': 314,\n",
              " 'উপন্যাসখনে': 315,\n",
              " 'উপভোগ': 316,\n",
              " 'উপযুক্ত': 317,\n",
              " 'উপস্থিত': 318,\n",
              " 'উপহাৰ।': 319,\n",
              " 'উপায়': 320,\n",
              " 'উপাৰ্জন': 321,\n",
              " 'উভতাই': 322,\n",
              " 'উভতি': 323,\n",
              " 'উভতিব।': 324,\n",
              " 'উলংগ': 325,\n",
              " 'উলাইছিল': 326,\n",
              " 'উলিয়াই': 327,\n",
              " 'উলিয়াওঁক।': 328,\n",
              " 'উল্লেখ': 329,\n",
              " 'উশাহ': 330,\n",
              " 'উৎসাহিত': 331,\n",
              " 'উৰি': 332,\n",
              " 'উৰিব': 333,\n",
              " 'ঋণ': 334,\n",
              " 'ঋণৰ': 335,\n",
              " 'এই': 336,\n",
              " 'এইকেইদিন': 337,\n",
              " 'এইখন': 338,\n",
              " 'এইখিনি': 339,\n",
              " 'এইজন': 340,\n",
              " 'এইজনী': 341,\n",
              " 'এইটো': 342,\n",
              " 'এইটোও': 343,\n",
              " 'এইটোৱে': 344,\n",
              " 'এইটোৱেই': 345,\n",
              " 'এইতো': 346,\n",
              " 'এইফালে': 347,\n",
              " 'এইমাত্ৰ': 348,\n",
              " 'এইয়া': 349,\n",
              " 'এইযোৰ': 350,\n",
              " 'এক': 351,\n",
              " 'একজন': 352,\n",
              " 'একমাত্ৰ': 353,\n",
              " 'একাপ': 354,\n",
              " 'একে': 355,\n",
              " 'একেই': 356,\n",
              " 'একেই।': 357,\n",
              " 'একেবাৰতে': 358,\n",
              " 'একেবাৰে': 359,\n",
              " 'একেবাৰেই': 360,\n",
              " 'একেলগে': 361,\n",
              " 'একো': 362,\n",
              " 'একোৱেই': 363,\n",
              " 'এক্সপ্ৰেছ': 364,\n",
              " 'এখন': 365,\n",
              " 'এগৰাকী': 366,\n",
              " 'এগৰাকীক': 367,\n",
              " 'এগৰাকীয়ে': 368,\n",
              " 'এঘণ্টাত': 369,\n",
              " 'এচপ্ৰেচ': 370,\n",
              " 'এছিয়ান': 371,\n",
              " 'এছিয়াৰ': 372,\n",
              " 'এজন': 373,\n",
              " 'এজনক': 374,\n",
              " 'এজনী': 375,\n",
              " 'এজনে': 376,\n",
              " 'এটা': 377,\n",
              " 'এটাও': 378,\n",
              " 'এটাক': 379,\n",
              " 'এটাকৈ': 380,\n",
              " 'এটাত': 381,\n",
              " 'এটাৰ': 382,\n",
              " 'এতিয়া': 383,\n",
              " 'এতিয়াই': 384,\n",
              " 'এতিয়াও': 385,\n",
              " 'এতিয়ালৈ': 386,\n",
              " 'এতিয়ালৈকে': 387,\n",
              " 'এদাল': 388,\n",
              " 'এদিনত': 389,\n",
              " 'এদোখৰ': 390,\n",
              " 'এনে': 391,\n",
              " 'এনেকুৱা': 392,\n",
              " 'এনেকৈ': 393,\n",
              " 'এপ্রন': 394,\n",
              " 'এপ্ৰন': 395,\n",
              " 'এবাৰ': 396,\n",
              " 'এবাৰতে': 397,\n",
              " 'এবাৰতেই': 398,\n",
              " 'এভিন্যুত': 399,\n",
              " 'এয়া': 400,\n",
              " 'এযোৰ': 401,\n",
              " 'এলক': 402,\n",
              " 'এলাৰ্জি': 403,\n",
              " 'এলাৰ্মটো': 404,\n",
              " 'এসপ্তাহৰ': 405,\n",
              " 'এৰক।': 406,\n",
              " 'এৰকচোন।': 407,\n",
              " 'এৰা।': 408,\n",
              " 'এৰাই': 409,\n",
              " 'এৰাচোন।': 410,\n",
              " 'এৰি': 411,\n",
              " 'এৰিছানে': 412,\n",
              " 'এৰিছে।': 413,\n",
              " 'এৰিছেনে': 414,\n",
              " 'এৰিব': 415,\n",
              " 'এৰিবলৈ': 416,\n",
              " 'এৰিলে।': 417,\n",
              " 'ও': 418,\n",
              " 'ওখ': 419,\n",
              " 'ওখ।': 420,\n",
              " 'ওচৰত': 421,\n",
              " 'ওচৰলৈ': 422,\n",
              " 'ওচৰৰ': 423,\n",
              " 'ওজন': 424,\n",
              " 'ওপৰত': 425,\n",
              " 'ওপৰলৈ': 426,\n",
              " 'ওলা': 427,\n",
              " 'ওলাই': 428,\n",
              " 'ওলালগৈ।': 429,\n",
              " 'ওলোৱা।': 430,\n",
              " 'ওলোৱাঁ': 431,\n",
              " 'ওহ': 432,\n",
              " 'ওৰণি': 433,\n",
              " 'ওৰে': 434,\n",
              " 'ওৰেটো': 435,\n",
              " 'ঔষধ': 436,\n",
              " 'ঔষধৰ': 437,\n",
              " 'কওঁক': 438,\n",
              " 'কওঁক।': 439,\n",
              " 'কওঁকচোন।': 440,\n",
              " 'কওক': 441,\n",
              " 'কওক।': 442,\n",
              " 'কওকগৈ।': 443,\n",
              " 'কওকচোন।': 444,\n",
              " 'ককাই।': 445,\n",
              " 'কটনৰ': 446,\n",
              " 'কটাইছে।': 447,\n",
              " 'কটাব': 448,\n",
              " 'কঠিন': 449,\n",
              " 'কঠোৰ': 450,\n",
              " 'কঢ়িয়াই': 451,\n",
              " 'কণমানি': 452,\n",
              " 'কণী': 453,\n",
              " 'কণী।': 454,\n",
              " 'কত': 455,\n",
              " 'কথা': 456,\n",
              " 'কথা।': 457,\n",
              " 'কথাই': 458,\n",
              " 'কথাছবিখন': 459,\n",
              " 'কথাটো': 460,\n",
              " 'কন্যা': 461,\n",
              " 'কন্যাৰ': 462,\n",
              " 'কপাল': 463,\n",
              " 'কফি': 464,\n",
              " 'কফিৰ': 465,\n",
              " 'কব': 466,\n",
              " 'কবলগীয়া': 467,\n",
              " 'কবলৈ': 468,\n",
              " 'কবি।': 469,\n",
              " 'কবিতা': 470,\n",
              " 'কম': 471,\n",
              " 'কমি': 472,\n",
              " 'কমিউনিষ্ট।': 473,\n",
              " 'কমেই': 474,\n",
              " 'কম্পিউটাৰ': 475,\n",
              " 'কম৷': 476,\n",
              " 'কয়': 477,\n",
              " 'কয়।': 478,\n",
              " 'কল': 479,\n",
              " 'কলটো': 480,\n",
              " 'কলম': 481,\n",
              " 'কলমটো': 482,\n",
              " 'কলা': 483,\n",
              " 'কলা।': 484,\n",
              " 'কলাহেঁতেন।': 485,\n",
              " 'কলীয়া': 486,\n",
              " 'কলে': 487,\n",
              " 'কলে।': 488,\n",
              " 'কলেজলৈ': 489,\n",
              " 'কলৈ': 490,\n",
              " 'কষ্ট': 491,\n",
              " 'কাইলৈ': 492,\n",
              " 'কাকো': 493,\n",
              " 'কাগজ': 494,\n",
              " 'কাগজখন': 495,\n",
              " 'কাজিয়া': 496,\n",
              " 'কাজিয়াটো': 497,\n",
              " 'কাটি': 498,\n",
              " 'কাঠ': 499,\n",
              " 'কাঠেৰে': 500,\n",
              " 'কাঢ়ক।': 501,\n",
              " 'কাঢ়ি': 502,\n",
              " 'কাঢ়িব': 503,\n",
              " 'কাঢ়িব।': 504,\n",
              " 'কাঢ়িবলৈ': 505,\n",
              " 'কাঢ়িম।': 506,\n",
              " 'কাঢ়ে।': 507,\n",
              " 'কাঢ়ো।': 508,\n",
              " 'কাঢ়োঁতে': 509,\n",
              " 'কাণ': 510,\n",
              " 'কাণ্ড।': 511,\n",
              " 'কানাডিয়ান': 512,\n",
              " 'কানাডিয়ান।': 513,\n",
              " 'কান্দি': 514,\n",
              " 'কান্দিছিল।': 515,\n",
              " 'কান্দিছিলো।': 516,\n",
              " 'কান্দিছে': 517,\n",
              " 'কান্দিব।': 518,\n",
              " 'কাপোৰ': 519,\n",
              " 'কাপোৰবোৰ': 520,\n",
              " 'কাম': 521,\n",
              " 'কাম।': 522,\n",
              " 'কামকাজ': 523,\n",
              " 'কামটো': 524,\n",
              " 'কামত': 525,\n",
              " 'কামুৰিব': 526,\n",
              " 'কামুৰিলে।': 527,\n",
              " 'কামেই': 528,\n",
              " 'কামোৰা': 529,\n",
              " 'কালি': 530,\n",
              " 'কাষত': 531,\n",
              " 'কাষলৈ': 532,\n",
              " 'কাহ': 533,\n",
              " 'কাহিনী': 534,\n",
              " 'কাহিনীটো': 535,\n",
              " 'কাহিব': 536,\n",
              " 'কাঢ়ি': 537,\n",
              " 'কাৰ': 538,\n",
              " 'কাৰণ': 539,\n",
              " 'কাৰণে': 540,\n",
              " 'কাৰণেই': 541,\n",
              " 'কাৰাগাৰত': 542,\n",
              " 'কাৰো': 543,\n",
              " 'কাৰোবাক': 544,\n",
              " 'কাৰোবাৰ': 545,\n",
              " 'কাৰোৰে': 546,\n",
              " 'কাৰো৷': 547,\n",
              " 'কাৰ্যালয়': 548,\n",
              " 'কাৰ্য্যত': 549,\n",
              " 'কাৰ্য্যালয়খন': 550,\n",
              " 'কি': 551,\n",
              " 'কিছু': 552,\n",
              " 'কিছুমান': 553,\n",
              " 'কিতাপ': 554,\n",
              " 'কিতাপ।': 555,\n",
              " 'কিতাপখন': 556,\n",
              " 'কিদৰে': 557,\n",
              " 'কিনা': 558,\n",
              " 'কিনি': 559,\n",
              " 'কিনিছিল।': 560,\n",
              " 'কিনিছে': 561,\n",
              " 'কিনিছোঁ।': 562,\n",
              " 'কিনিব': 563,\n",
              " 'কিনিম।': 564,\n",
              " 'কিনিলে।': 565,\n",
              " 'কিনিলোঁ।': 566,\n",
              " 'কিনিলোঁহেঁতেন।': 567,\n",
              " 'কিন্তু': 568,\n",
              " 'কিবা': 569,\n",
              " 'কিবাকৈ': 570,\n",
              " 'কিমান': 571,\n",
              " 'কিমানখিনি': 572,\n",
              " 'কিমানজনৰ': 573,\n",
              " 'কিয়': 574,\n",
              " 'কিয়।': 575,\n",
              " 'কিয়টত': 576,\n",
              " 'কিহে': 577,\n",
              " 'কিহৰ': 578,\n",
              " 'কিয়': 579,\n",
              " 'কুকিজ': 580,\n",
              " 'কুকুৰ': 581,\n",
              " 'কুকুৰ।': 582,\n",
              " 'কুকুৰটো': 583,\n",
              " 'কুকুৰবোৰে': 584,\n",
              " 'কুকুৰে': 585,\n",
              " 'কুকুৰৰ': 586,\n",
              " 'কুকুৰৰে': 587,\n",
              " 'কুৎসিত।': 588,\n",
              " 'কৃপা': 589,\n",
              " 'কেইখনমান': 590,\n",
              " 'কেইটা': 591,\n",
              " 'কেইটামান': 592,\n",
              " 'কেইদিনমানৰ': 593,\n",
              " 'কেইবাখনো': 594,\n",
              " 'কেইবাবাৰো': 595,\n",
              " 'কেক': 596,\n",
              " 'কেকটো': 597,\n",
              " 'কেণ্ডেললাইট': 598,\n",
              " 'কেতিয়া': 599,\n",
              " 'কেতিয়াও': 600,\n",
              " 'কেতিয়াবা': 601,\n",
              " 'কেতিয়াবাহে': 602,\n",
              " 'কেতিয়াৰ': 603,\n",
              " 'কেনটোত': 604,\n",
              " 'কেনে': 605,\n",
              " 'কেনেআছে': 606,\n",
              " 'কেনেকুৱা': 607,\n",
              " 'কেনেকৈ': 608,\n",
              " 'কেনেকোৱা': 609,\n",
              " 'কেভিয়াৰ': 610,\n",
              " 'কেমিষ্ট্ৰী': 611,\n",
              " 'কেমেৰা।': 612,\n",
              " 'কেমেৰামেন।': 613,\n",
              " 'কেৰাণী।': 614,\n",
              " 'কেৰেপ': 615,\n",
              " 'কেৱল': 616,\n",
              " 'কৈ': 617,\n",
              " 'কৈছা': 618,\n",
              " 'কৈছা।': 619,\n",
              " 'কৈছিল': 620,\n",
              " 'কৈছিল।': 621,\n",
              " 'কৈছিলো।': 622,\n",
              " 'কৈছিলোঁ।': 623,\n",
              " 'কৈছে': 624,\n",
              " 'কৈছে।': 625,\n",
              " 'কৈছো।': 626,\n",
              " 'কৈছোঁ।': 627,\n",
              " 'কোচাই': 628,\n",
              " 'কোট': 629,\n",
              " 'কোটটো': 630,\n",
              " 'কোঠা': 631,\n",
              " 'কোঠাটোত': 632,\n",
              " 'কোঠাত': 633,\n",
              " 'কোঠালীটো': 634,\n",
              " 'কোণত': 635,\n",
              " 'কোন': 636,\n",
              " 'কোন।': 637,\n",
              " 'কোনটো': 638,\n",
              " 'কোনবোৰ': 639,\n",
              " 'কোনে': 640,\n",
              " 'কোনেও': 641,\n",
              " 'কোনো': 642,\n",
              " 'কোনোজনী': 643,\n",
              " 'কোনোবা': 644,\n",
              " 'কোনোবাই': 645,\n",
              " 'কোমল।': 646,\n",
              " 'কোৱা': 647,\n",
              " 'কোৱা।': 648,\n",
              " 'কোৱাঁ।': 649,\n",
              " 'কোৱাগৈ।': 650,\n",
              " 'কোৱাচোন।': 651,\n",
              " 'কোৱামতে': 652,\n",
              " 'কৌতুক': 653,\n",
              " 'কৌতূহলী।': 654,\n",
              " 'ক্লাছ': 655,\n",
              " 'ক্লিনিকলৈ': 656,\n",
              " 'ক্ষণত': 657,\n",
              " 'ক্ষমা': 658,\n",
              " 'ক্ষীণ': 659,\n",
              " 'ক্ষীণ।': 660,\n",
              " 'ক্ৰিয়াপদ': 661,\n",
              " 'কৰ': 662,\n",
              " 'কৰ।': 663,\n",
              " 'কৰক': 664,\n",
              " 'কৰক।': 665,\n",
              " 'কৰক।ccby': 666,\n",
              " 'কৰকচোন': 667,\n",
              " 'কৰকচোন।': 668,\n",
              " 'কৰক৷': 669,\n",
              " 'কৰবালৈ': 670,\n",
              " 'কৰা': 671,\n",
              " 'কৰা।': 672,\n",
              " 'কৰাঁ': 673,\n",
              " 'কৰাঁ।': 674,\n",
              " 'কৰাই': 675,\n",
              " 'কৰাচোন': 676,\n",
              " 'কৰাচোন।': 677,\n",
              " 'কৰাটো': 678,\n",
              " 'কৰাত': 679,\n",
              " 'কৰাতো': 680,\n",
              " 'কৰানে': 681,\n",
              " 'কৰাব': 682,\n",
              " 'কৰালৈ': 683,\n",
              " 'কৰাৰ': 684,\n",
              " 'কৰি': 685,\n",
              " 'কৰিছা': 686,\n",
              " 'কৰিছা।': 687,\n",
              " 'কৰিছানে': 688,\n",
              " 'কৰিছিল': 689,\n",
              " 'কৰিছিল।': 690,\n",
              " 'কৰিছিলোccby': 691,\n",
              " 'কৰিছিলো।': 692,\n",
              " 'কৰিছিলোঁ': 693,\n",
              " 'কৰিছিল৷': 694,\n",
              " 'কৰিছে': 695,\n",
              " 'কৰিছে।': 696,\n",
              " 'কৰিছেনে': 697,\n",
              " 'কৰিছো।': 698,\n",
              " 'কৰিছোঁ।': 699,\n",
              " 'কৰিছো৷': 700,\n",
              " 'কৰিব': 701,\n",
              " 'কৰিব।': 702,\n",
              " 'কৰিবই': 703,\n",
              " 'কৰিবনে': 704,\n",
              " 'কৰিবলগীয়া': 705,\n",
              " 'কৰিবলৈ': 706,\n",
              " 'কৰিম': 707,\n",
              " 'কৰিম।': 708,\n",
              " 'কৰিম৷': 709,\n",
              " 'কৰিলা': 710,\n",
              " 'কৰিলে': 711,\n",
              " 'কৰিলে।': 712,\n",
              " 'কৰিলেনে': 713,\n",
              " 'কৰিলোঁ': 714,\n",
              " 'কৰিলোঁ।': 715,\n",
              " 'কৰিলো৷': 716,\n",
              " 'কৰে': 717,\n",
              " 'কৰে।': 718,\n",
              " 'কৰেনে': 719,\n",
              " 'কৰো।': 720,\n",
              " 'কৰোঁ': 721,\n",
              " 'কৰোঁ।': 722,\n",
              " 'কৰোঁতে': 723,\n",
              " 'কৰোতেই': 724,\n",
              " 'কৰোৱাব': 725,\n",
              " 'কৰোৱাৰ': 726,\n",
              " 'কৰ্কট': 727,\n",
              " 'কৰ্মী': 728,\n",
              " 'কৰ্মীৰ': 729,\n",
              " 'ক’ত': 730,\n",
              " 'খং': 731,\n",
              " 'খন': 732,\n",
              " 'খনন': 733,\n",
              " 'খবৰ': 734,\n",
              " 'খবৰতো': 735,\n",
              " 'খবৰেই': 736,\n",
              " 'খহটা।': 737,\n",
              " 'খাঁও৷': 738,\n",
              " 'খাই': 739,\n",
              " 'খাইছিলccby': 740,\n",
              " 'খাইছিল।': 741,\n",
              " 'খাইছিলো।': 742,\n",
              " 'খাইছো।': 743,\n",
              " 'খাইছোঁ': 744,\n",
              " 'খাইছোঁ।': 745,\n",
              " 'খাওঁ': 746,\n",
              " 'খাওঁ।': 747,\n",
              " 'খাওক।': 748,\n",
              " 'খাদ্য': 749,\n",
              " 'খাদ্য।': 750,\n",
              " 'খাপ': 751,\n",
              " 'খাব': 752,\n",
              " 'খাব।': 753,\n",
              " 'খাবলৈ': 754,\n",
              " 'খাবা': 755,\n",
              " 'খাম।': 756,\n",
              " 'খায়': 757,\n",
              " 'খায়।': 758,\n",
              " 'খায়নে': 759,\n",
              " 'খালী': 760,\n",
              " 'খালে': 761,\n",
              " 'খালে।': 762,\n",
              " 'খালোঁ।': 763,\n",
              " 'খাৱ': 764,\n",
              " 'খিৰিকীখন': 765,\n",
              " 'খুজিছা।': 766,\n",
              " 'খুজিছিলো৷': 767,\n",
              " 'খুজিছে।': 768,\n",
              " 'খুড়ায়েকক': 769,\n",
              " 'খুড়ায়েকৰ': 770,\n",
              " 'খুড়ীয়ে': 771,\n",
              " 'খুব': 772,\n",
              " 'খুবেই': 773,\n",
              " 'খুলি': 774,\n",
              " 'খুলিব': 775,\n",
              " 'খেদি': 776,\n",
              " 'খেল': 777,\n",
              " 'খেল।': 778,\n",
              " 'খেলআৰম্ভ': 779,\n",
              " 'খেলখন': 780,\n",
              " 'খেলনাটো': 781,\n",
              " 'খেলি': 782,\n",
              " 'খেলিছিল।': 783,\n",
              " 'খেলিছে': 784,\n",
              " 'খেলিছে।': 785,\n",
              " 'খেলিব': 786,\n",
              " 'খেলে।': 787,\n",
              " 'খেলোঁ।': 788,\n",
              " 'খোজ': 789,\n",
              " 'খোজকাঢ়ি': 790,\n",
              " 'খোজা': 791,\n",
              " 'খোজানে': 792,\n",
              " 'খোজে': 793,\n",
              " 'খোজেনে': 794,\n",
              " 'খোজোঁ': 795,\n",
              " 'খোজোঁ।': 796,\n",
              " 'খোলা': 797,\n",
              " 'খোলা।': 798,\n",
              " 'খোলাত': 799,\n",
              " 'খোৱা': 800,\n",
              " 'খোৱাচোন।': 801,\n",
              " 'খোৱাটো': 802,\n",
              " 'খ্ৰীষ্টান': 803,\n",
              " 'খ্ৰীষ্টান।': 804,\n",
              " 'খৰধৰ': 805,\n",
              " 'খৰধৰকৈ': 806,\n",
              " 'গতিকে': 807,\n",
              " 'গতিবেগৰ': 808,\n",
              " 'গধুৰ': 809,\n",
              " 'গধুৰ।': 810,\n",
              " 'গধূলি': 811,\n",
              " 'গন্তি': 812,\n",
              " 'গভীৰ।': 813,\n",
              " 'গম': 814,\n",
              " 'গম্ভীৰ': 815,\n",
              " 'গল': 816,\n",
              " 'গল।': 817,\n",
              " 'গলা': 818,\n",
              " 'গলো।': 819,\n",
              " 'গলোঁ।': 820,\n",
              " 'গল্প': 821,\n",
              " 'গল্ফ': 822,\n",
              " 'গা': 823,\n",
              " 'গাই': 824,\n",
              " 'গাওঁকচোন।': 825,\n",
              " 'গাখীৰ': 826,\n",
              " 'গাখীৰখিনি': 827,\n",
              " 'গাখীৰখিনিৰ': 828,\n",
              " 'গাখীৰৰ': 829,\n",
              " 'গাজৰৰ': 830,\n",
              " 'গাড়ী': 831,\n",
              " 'গাড়ী।': 832,\n",
              " 'গাড়ীখন': 833,\n",
              " 'গাড়ীখনৰ': 834,\n",
              " 'গাড়ীত': 835,\n",
              " 'গাড়ীৰ': 836,\n",
              " 'গাড়ী৷': 837,\n",
              " 'গান': 838,\n",
              " 'গান।': 839,\n",
              " 'গাব': 840,\n",
              " 'গাবলৈ': 841,\n",
              " 'গাভৰু': 842,\n",
              " 'গাম।': 843,\n",
              " 'গায়': 844,\n",
              " 'গায়ক': 845,\n",
              " 'গায়ক।': 846,\n",
              " 'গালত': 847,\n",
              " 'গালি': 848,\n",
              " 'গাহৰি': 849,\n",
              " 'গাহৰি।': 850,\n",
              " 'গাড়ীখন': 851,\n",
              " 'গাৰ্লফ্ৰেণ্ড': 852,\n",
              " 'গাৰ্লফ্ৰেণ্ডৰ': 853,\n",
              " 'গিলাচ': 854,\n",
              " 'গীটাৰ': 855,\n",
              " 'গুচি': 856,\n",
              " 'গুপ্তচৰ।': 857,\n",
              " 'গুলপীয়া': 858,\n",
              " 'গুলি': 859,\n",
              " 'গুলী': 860,\n",
              " 'গুলীয়াই': 861,\n",
              " 'গুলীয়াইছিল': 862,\n",
              " 'গুলীয়াইছিল।': 863,\n",
              " 'গুহাটোত': 864,\n",
              " 'গুৰুত্ত': 865,\n",
              " 'গুৰুত্বপূৰ্ণ': 866,\n",
              " 'গুৰুত্বপূৰ্ণ।': 867,\n",
              " 'গৃহহীন।': 868,\n",
              " 'গেছ': 869,\n",
              " 'গেছৰ': 870,\n",
              " 'গেটখন': 871,\n",
              " 'গেটলৈ': 872,\n",
              " 'গেম': 873,\n",
              " 'গেলাপচা': 874,\n",
              " 'গেৰোৱাত': 875,\n",
              " 'গৈ': 876,\n",
              " 'গৈছিল': 877,\n",
              " 'গৈছিল।': 878,\n",
              " 'গৈছিলা': 879,\n",
              " 'গৈছিলে': 880,\n",
              " 'গৈছিলো': 881,\n",
              " 'গৈছিলো।': 882,\n",
              " 'গৈছিলোঁ।': 883,\n",
              " 'গৈছিলো৷': 884,\n",
              " 'গৈছে': 885,\n",
              " 'গৈছে।': 886,\n",
              " 'গৈছোঁ।': 887,\n",
              " 'গোচলখানা': 888,\n",
              " 'গোটেই': 889,\n",
              " 'গোটেইখিনি': 890,\n",
              " 'গোন্ধ': 891,\n",
              " 'গোন্ধাইছে।': 892,\n",
              " 'গোন্ধায়।': 893,\n",
              " 'গোপন': 894,\n",
              " 'গোপনীয়তা': 895,\n",
              " 'গোৱা': 896,\n",
              " 'গোৱাচোন।': 897,\n",
              " 'গৌৰৱ': 898,\n",
              " 'গ্ৰহ।': 899,\n",
              " 'গ্ৰহণ': 900,\n",
              " 'গ্ৰহত': 901,\n",
              " 'গ্ৰীচ': 902,\n",
              " 'গ্ৰীনলেণ্ড': 903,\n",
              " 'গ্ৰীষ্মকাল': 904,\n",
              " 'গ্ৰুপ': 905,\n",
              " 'গ্ৰেপ্তাৰ': 906,\n",
              " 'গৰম': 907,\n",
              " 'গৰম।': 908,\n",
              " 'গৰমকালি': 909,\n",
              " 'গৰমৰ': 910,\n",
              " 'গৰু': 911,\n",
              " 'গৰুৰ': 912,\n",
              " 'ঘটনাটো': 913,\n",
              " 'ঘটা': 914,\n",
              " 'ঘটিছে।': 915,\n",
              " 'ঘটিব।': 916,\n",
              " 'ঘড়ী': 917,\n",
              " 'ঘড়ীটো': 918,\n",
              " 'ঘণ্টাই': 919,\n",
              " 'ঘণ্টাৰ': 920,\n",
              " 'ঘন': 921,\n",
              " 'ঘনাই': 922,\n",
              " 'ঘাঁহ': 923,\n",
              " 'ঘুৰি': 924,\n",
              " 'ঘূৰকচোন।': 925,\n",
              " 'ঘূৰাই': 926,\n",
              " 'ঘূৰাইপকাই': 927,\n",
              " 'ঘূৰি': 928,\n",
              " 'ঘৈণীয়েক': 929,\n",
              " 'ঘোঁৰাটো': 930,\n",
              " 'ঘৰ': 931,\n",
              " 'ঘৰএৰি': 932,\n",
              " 'ঘৰকেইখন': 933,\n",
              " 'ঘৰখন': 934,\n",
              " 'ঘৰগোনা।': 935,\n",
              " 'ঘৰটো': 936,\n",
              " 'ঘৰত': 937,\n",
              " 'ঘৰতে': 938,\n",
              " 'ঘৰলৈ': 939,\n",
              " 'ঘৰৰ': 940,\n",
              " 'চকলেট': 941,\n",
              " 'চকীখন': 942,\n",
              " 'চকু': 943,\n",
              " 'চকু।': 944,\n",
              " 'চকুত': 945,\n",
              " 'চকুদুটা': 946,\n",
              " 'চকুপানী': 947,\n",
              " 'চকুলো': 948,\n",
              " 'চনত': 949,\n",
              " 'চন্দ্ৰ': 950,\n",
              " 'চলা': 951,\n",
              " 'চলাই': 952,\n",
              " 'চলাইছিল।': 953,\n",
              " 'চলাব': 954,\n",
              " 'চলাবলৈ': 955,\n",
              " 'চলি': 956,\n",
              " 'চলিছিলো।': 957,\n",
              " 'চলিছে।': 958,\n",
              " 'চলিছো।': 959,\n",
              " 'চলিছোঁ।': 960,\n",
              " 'চলিব।': 961,\n",
              " 'চলে।': 962,\n",
              " 'চল্লিশগৰাকী': 963,\n",
              " 'চহৰ': 964,\n",
              " 'চাই': 965,\n",
              " 'চাইকেল': 966,\n",
              " 'চাইকেল।': 967,\n",
              " 'চাইছানে': 968,\n",
              " 'চাইছিল': 969,\n",
              " 'চাইছে।': 970,\n",
              " 'চাইছেনে': 971,\n",
              " 'চাইছোঁ।': 972,\n",
              " 'চাউলখিনি': 973,\n",
              " 'চাওঁ': 974,\n",
              " 'চাওঁ।': 975,\n",
              " 'চাওঁকচোন।': 976,\n",
              " 'চাওক': 977,\n",
              " 'চাওক।': 978,\n",
              " 'চাওকচোন।': 979,\n",
              " 'চাকৰি': 980,\n",
              " 'চাকৰিটো': 981,\n",
              " 'চাগে': 982,\n",
              " 'চাগে৷': 983,\n",
              " 'চাগৈ': 984,\n",
              " 'চাফা': 985,\n",
              " 'চাব': 986,\n",
              " 'চাবচোন।': 987,\n",
              " 'চাবলৈ': 988,\n",
              " 'চাবি': 989,\n",
              " 'চামুচ': 990,\n",
              " 'চামৰা।': 991,\n",
              " 'চালক।': 992,\n",
              " 'চালে।': 993,\n",
              " 'চালোঁ': 994,\n",
              " 'চালোঁ।': 995,\n",
              " 'চাহ': 996,\n",
              " 'চাহত': 997,\n",
              " 'চাৰিওফালে': 998,\n",
              " 'চাৰ্টকেইটা': 999,\n",
              " 'চাৰ্টৰ': 1000,\n",
              " ...}"
            ]
          },
          "metadata": {},
          "execution_count": 20
        }
      ]
    },
    {
      "cell_type": "code",
      "source": [
        "reverse_input_char_index"
      ],
      "metadata": {
        "colab": {
          "base_uri": "https://localhost:8080/"
        },
        "id": "XHP22mPTrJgP",
        "outputId": "4483aefd-1bcd-4a74-967b-602517556b1b"
      },
      "execution_count": null,
      "outputs": [
        {
          "output_type": "execute_result",
          "data": {
            "text/plain": [
              "{1: 'a',\n",
              " 2: 'aah',\n",
              " 3: 'able',\n",
              " 4: 'aboard',\n",
              " 5: 'about',\n",
              " 6: 'above',\n",
              " 7: 'abroad',\n",
              " 8: 'absent',\n",
              " 9: 'accept',\n",
              " 10: 'accepted',\n",
              " 11: 'accident',\n",
              " 12: 'account',\n",
              " 13: 'accustomed',\n",
              " 14: 'aces',\n",
              " 15: 'act',\n",
              " 16: 'acting',\n",
              " 17: 'active',\n",
              " 18: 'actually',\n",
              " 19: 'add',\n",
              " 20: 'address',\n",
              " 21: 'adjust',\n",
              " 22: 'admissions',\n",
              " 23: 'admit',\n",
              " 24: 'admitted',\n",
              " 25: 'advice',\n",
              " 26: 'afford',\n",
              " 27: 'afraid',\n",
              " 28: 'africa',\n",
              " 29: 'after',\n",
              " 30: 'afternoon',\n",
              " 31: 'again',\n",
              " 32: 'against',\n",
              " 33: 'age',\n",
              " 34: 'ages',\n",
              " 35: 'ago',\n",
              " 36: 'ahead',\n",
              " 37: 'air',\n",
              " 38: 'airmail',\n",
              " 39: 'alarm',\n",
              " 40: 'alive',\n",
              " 41: 'all',\n",
              " 42: 'allergic',\n",
              " 43: 'allowed',\n",
              " 44: 'almost',\n",
              " 45: 'alone',\n",
              " 46: 'already',\n",
              " 47: 'alright',\n",
              " 48: 'also',\n",
              " 49: 'altogether',\n",
              " 50: 'always',\n",
              " 51: 'am',\n",
              " 52: 'american',\n",
              " 53: 'among',\n",
              " 54: 'amused',\n",
              " 55: 'an',\n",
              " 56: 'and',\n",
              " 57: 'angry',\n",
              " 58: 'annoyed',\n",
              " 59: 'another',\n",
              " 60: 'answer',\n",
              " 61: 'answered',\n",
              " 62: 'any',\n",
              " 63: 'anybody',\n",
              " 64: 'anymore',\n",
              " 65: 'anyone',\n",
              " 66: 'anything',\n",
              " 67: 'apparent',\n",
              " 68: 'applauded',\n",
              " 69: 'apple',\n",
              " 70: 'apples',\n",
              " 71: 'apron',\n",
              " 72: 'arabs',\n",
              " 73: 'are',\n",
              " 74: 'arent',\n",
              " 75: 'argue',\n",
              " 76: 'arm',\n",
              " 77: 'around',\n",
              " 78: 'arrested',\n",
              " 79: 'arrival',\n",
              " 80: 'arrive',\n",
              " 81: 'arrived',\n",
              " 82: 'arrives',\n",
              " 83: 'art',\n",
              " 84: 'artist',\n",
              " 85: 'artistic',\n",
              " 86: 'as',\n",
              " 87: 'asia',\n",
              " 88: 'asianamerican',\n",
              " 89: 'ask',\n",
              " 90: 'asked',\n",
              " 91: 'asking',\n",
              " 92: 'asleep',\n",
              " 93: 'at',\n",
              " 94: 'ate',\n",
              " 95: 'attached',\n",
              " 96: 'attack',\n",
              " 97: 'attention',\n",
              " 98: 'aunt',\n",
              " 99: 'australia',\n",
              " 100: 'austrian',\n",
              " 101: 'autistic',\n",
              " 102: 'avenue',\n",
              " 103: 'avoid',\n",
              " 104: 'avoidable',\n",
              " 105: 'avoided',\n",
              " 106: 'avoiding',\n",
              " 107: 'avoids',\n",
              " 108: 'awake',\n",
              " 109: 'away',\n",
              " 110: 'awfully',\n",
              " 111: 'babysitter',\n",
              " 112: 'back',\n",
              " 113: 'background',\n",
              " 114: 'bacon',\n",
              " 115: 'bad',\n",
              " 116: 'bag',\n",
              " 117: 'baked',\n",
              " 118: 'baking',\n",
              " 119: 'bald',\n",
              " 120: 'bandage',\n",
              " 121: 'banished',\n",
              " 122: 'bank',\n",
              " 123: 'bark',\n",
              " 124: 'baseball',\n",
              " 125: 'bath',\n",
              " 126: 'bathroom',\n",
              " 127: 'battery',\n",
              " 128: 'battle',\n",
              " 129: 'be',\n",
              " 130: 'bear',\n",
              " 131: 'beat',\n",
              " 132: 'beats',\n",
              " 133: 'beautiful',\n",
              " 134: 'became',\n",
              " 135: 'because',\n",
              " 136: 'become',\n",
              " 137: 'becoming',\n",
              " 138: 'bed',\n",
              " 139: 'beef',\n",
              " 140: 'been',\n",
              " 141: 'beer',\n",
              " 142: 'before',\n",
              " 143: 'began',\n",
              " 144: 'begin',\n",
              " 145: 'begins',\n",
              " 146: 'begun',\n",
              " 147: 'behind',\n",
              " 148: 'believe',\n",
              " 149: 'bell',\n",
              " 150: 'belongs',\n",
              " 151: 'below',\n",
              " 152: 'best',\n",
              " 153: 'bet',\n",
              " 154: 'betray',\n",
              " 155: 'better',\n",
              " 156: 'between',\n",
              " 157: 'beyond',\n",
              " 158: 'bicycle',\n",
              " 159: 'bicycles',\n",
              " 160: 'big',\n",
              " 161: 'bike',\n",
              " 162: 'bill',\n",
              " 163: 'birds',\n",
              " 164: 'birthday',\n",
              " 165: 'bit',\n",
              " 166: 'bite',\n",
              " 167: 'black',\n",
              " 168: 'blamed',\n",
              " 169: 'bled',\n",
              " 170: 'blind',\n",
              " 171: 'blinds',\n",
              " 172: 'blocks',\n",
              " 173: 'blog',\n",
              " 174: 'blood',\n",
              " 175: 'bloom',\n",
              " 176: 'blouse',\n",
              " 177: 'blow',\n",
              " 178: 'blowing',\n",
              " 179: 'blue',\n",
              " 180: 'bomb',\n",
              " 181: 'book',\n",
              " 182: 'books',\n",
              " 183: 'boots',\n",
              " 184: 'bored',\n",
              " 185: 'bores',\n",
              " 186: 'boring',\n",
              " 187: 'born',\n",
              " 188: 'boss',\n",
              " 189: 'boston',\n",
              " 190: 'both',\n",
              " 191: 'bought',\n",
              " 192: 'bowl',\n",
              " 193: 'box',\n",
              " 194: 'boy',\n",
              " 195: 'boyfriend',\n",
              " 196: 'boyfriends',\n",
              " 197: 'boys',\n",
              " 198: 'brave',\n",
              " 199: 'bread',\n",
              " 200: 'break',\n",
              " 201: 'breathe',\n",
              " 202: 'bring',\n",
              " 203: 'british',\n",
              " 204: 'broke',\n",
              " 205: 'broken',\n",
              " 206: 'brother',\n",
              " 207: 'brought',\n",
              " 208: 'brown',\n",
              " 209: 'bucket',\n",
              " 210: 'budding',\n",
              " 211: 'building',\n",
              " 212: 'built',\n",
              " 213: 'burned',\n",
              " 214: 'burns',\n",
              " 215: 'burp',\n",
              " 216: 'burped',\n",
              " 217: 'bus',\n",
              " 218: 'business',\n",
              " 219: 'businessman',\n",
              " 220: 'busy',\n",
              " 221: 'but',\n",
              " 222: 'button',\n",
              " 223: 'buy',\n",
              " 224: 'by',\n",
              " 225: 'cake',\n",
              " 226: 'call',\n",
              " 227: 'called',\n",
              " 228: 'calling',\n",
              " 229: 'calm',\n",
              " 230: 'came',\n",
              " 231: 'camera',\n",
              " 232: 'cameraman',\n",
              " 233: 'can',\n",
              " 234: 'canadian',\n",
              " 235: 'cancel',\n",
              " 236: 'canceled',\n",
              " 237: 'cancer',\n",
              " 238: 'candlelight',\n",
              " 239: 'cannot',\n",
              " 240: 'cant',\n",
              " 241: 'captain',\n",
              " 242: 'captured',\n",
              " 243: 'car',\n",
              " 244: 'care',\n",
              " 245: 'careful',\n",
              " 246: 'careless',\n",
              " 247: 'cares',\n",
              " 248: 'carpet',\n",
              " 249: 'carrots',\n",
              " 250: 'cars',\n",
              " 251: 'cat',\n",
              " 252: 'catch',\n",
              " 253: 'cats',\n",
              " 254: 'caught',\n",
              " 255: 'cautious',\n",
              " 256: 'cave',\n",
              " 257: 'caviar',\n",
              " 258: 'cds',\n",
              " 259: 'ceo',\n",
              " 260: 'chair',\n",
              " 261: 'champagne',\n",
              " 262: 'change',\n",
              " 263: 'changed',\n",
              " 264: 'changes',\n",
              " 265: 'changing',\n",
              " 266: 'chartered',\n",
              " 267: 'chauffeur',\n",
              " 268: 'cheap',\n",
              " 269: 'cheated',\n",
              " 270: 'check',\n",
              " 271: 'cheeks',\n",
              " 272: 'cheese',\n",
              " 273: 'chemistry',\n",
              " 274: 'chicken',\n",
              " 275: 'childish',\n",
              " 276: 'children',\n",
              " 277: 'chinese',\n",
              " 278: 'chocolate',\n",
              " 279: 'choice',\n",
              " 280: 'christian',\n",
              " 281: 'christians',\n",
              " 282: 'cities',\n",
              " 283: 'clapped',\n",
              " 284: 'classes',\n",
              " 285: 'clean',\n",
              " 286: 'cleans',\n",
              " 287: 'clear',\n",
              " 288: 'clerk',\n",
              " 289: 'clinic',\n",
              " 290: 'clock',\n",
              " 291: 'clocks',\n",
              " 292: 'close',\n",
              " 293: 'closer',\n",
              " 294: 'clothes',\n",
              " 295: 'cloud',\n",
              " 296: 'cloudy',\n",
              " 297: 'cnn',\n",
              " 298: 'coat',\n",
              " 299: 'coffee',\n",
              " 300: 'coffees',\n",
              " 301: 'cold',\n",
              " 302: 'college',\n",
              " 303: 'come',\n",
              " 304: 'comedies',\n",
              " 305: 'comfort',\n",
              " 306: 'comfortable',\n",
              " 307: 'coming',\n",
              " 308: 'committee',\n",
              " 309: 'common',\n",
              " 310: 'communist',\n",
              " 311: 'compared',\n",
              " 312: 'complicated',\n",
              " 313: 'computer',\n",
              " 314: 'congratulations',\n",
              " 315: 'consists',\n",
              " 316: 'contacted',\n",
              " 317: 'contents',\n",
              " 318: 'contest',\n",
              " 319: 'context',\n",
              " 320: 'continent',\n",
              " 321: 'continue',\n",
              " 322: 'cook',\n",
              " 323: 'cookies',\n",
              " 324: 'cooking',\n",
              " 325: 'cooks',\n",
              " 326: 'cool',\n",
              " 327: 'copies',\n",
              " 328: 'cops',\n",
              " 329: 'copy',\n",
              " 330: 'corn',\n",
              " 331: 'corner',\n",
              " 332: 'correct',\n",
              " 333: 'cost',\n",
              " 334: 'cotton',\n",
              " 335: 'cough',\n",
              " 336: 'coughing',\n",
              " 337: 'could',\n",
              " 338: 'couldnt',\n",
              " 339: 'count',\n",
              " 340: 'countries',\n",
              " 341: 'country',\n",
              " 342: 'counts',\n",
              " 343: 'couple',\n",
              " 344: 'cow',\n",
              " 345: 'cows',\n",
              " 346: 'crazy',\n",
              " 347: 'creationism',\n",
              " 348: 'cried',\n",
              " 349: 'crowd',\n",
              " 350: 'crowded',\n",
              " 351: 'cruel',\n",
              " 352: 'cry',\n",
              " 353: 'crying',\n",
              " 354: 'cultured',\n",
              " 355: 'cup',\n",
              " 356: 'curious',\n",
              " 357: 'curry',\n",
              " 358: 'curse',\n",
              " 359: 'cursing',\n",
              " 360: 'cute',\n",
              " 361: 'cycling',\n",
              " 362: 'damp',\n",
              " 363: 'dance',\n",
              " 364: 'danced',\n",
              " 365: 'dancing',\n",
              " 366: 'dark',\n",
              " 367: 'darker',\n",
              " 368: 'date',\n",
              " 369: 'dating',\n",
              " 370: 'daughter',\n",
              " 371: 'daughters',\n",
              " 372: 'dawn',\n",
              " 373: 'day',\n",
              " 374: 'days',\n",
              " 375: 'dead',\n",
              " 376: 'deal',\n",
              " 377: 'death',\n",
              " 378: 'debt',\n",
              " 379: 'debts',\n",
              " 380: 'decide',\n",
              " 381: 'decided',\n",
              " 382: 'decision',\n",
              " 383: 'deep',\n",
              " 384: 'definitely',\n",
              " 385: 'definitions',\n",
              " 386: 'degree',\n",
              " 387: 'delayed',\n",
              " 388: 'denied',\n",
              " 389: 'depend',\n",
              " 390: 'depends',\n",
              " 391: 'describe',\n",
              " 392: 'description',\n",
              " 393: 'desk',\n",
              " 394: 'desperate',\n",
              " 395: 'developed',\n",
              " 396: 'did',\n",
              " 397: 'didnt',\n",
              " 398: 'die',\n",
              " 399: 'died',\n",
              " 400: 'dies',\n",
              " 401: 'diet',\n",
              " 402: 'dieting',\n",
              " 403: 'difference',\n",
              " 404: 'different',\n",
              " 405: 'difficult',\n",
              " 406: 'digging',\n",
              " 407: 'dinner',\n",
              " 408: 'disabled',\n",
              " 409: 'disco',\n",
              " 410: 'discussion',\n",
              " 411: 'disease',\n",
              " 412: 'divide',\n",
              " 413: 'divorced',\n",
              " 414: 'dj',\n",
              " 415: 'do',\n",
              " 416: 'doctor',\n",
              " 417: 'does',\n",
              " 418: 'doesnt',\n",
              " 419: 'dog',\n",
              " 420: 'dogs',\n",
              " 421: 'doing',\n",
              " 422: 'doll',\n",
              " 423: 'dollar',\n",
              " 424: 'dollars',\n",
              " 425: 'done',\n",
              " 426: 'dont',\n",
              " 427: 'door',\n",
              " 428: 'doubts',\n",
              " 429: 'down',\n",
              " 430: 'downtown',\n",
              " 431: 'drank',\n",
              " 432: 'dream',\n",
              " 433: 'dreaming',\n",
              " 434: 'dreamt',\n",
              " 435: 'dressed',\n",
              " 436: 'drew',\n",
              " 437: 'drink',\n",
              " 438: 'drinks',\n",
              " 439: 'drive',\n",
              " 440: 'driver',\n",
              " 441: 'driving',\n",
              " 442: 'drone',\n",
              " 443: 'drop',\n",
              " 444: 'dropped',\n",
              " 445: 'drops',\n",
              " 446: 'drowned',\n",
              " 447: 'drowning',\n",
              " 448: 'drunk',\n",
              " 449: 'duck',\n",
              " 450: 'dye',\n",
              " 451: 'dying',\n",
              " 452: 'each',\n",
              " 453: 'eager',\n",
              " 454: 'early',\n",
              " 455: 'earn',\n",
              " 456: 'ears',\n",
              " 457: 'easier',\n",
              " 458: 'easily',\n",
              " 459: 'easter',\n",
              " 460: 'easy',\n",
              " 461: 'eat',\n",
              " 462: 'eaten',\n",
              " 463: 'eating',\n",
              " 464: 'eats',\n",
              " 465: 'education',\n",
              " 466: 'egg',\n",
              " 467: 'eggs',\n",
              " 468: 'ego',\n",
              " 469: 'eight',\n",
              " 470: 'either',\n",
              " 471: 'elaborate',\n",
              " 472: 'elk',\n",
              " 473: 'else',\n",
              " 474: 'embraced',\n",
              " 475: 'empty',\n",
              " 476: 'end',\n",
              " 477: 'enemy',\n",
              " 478: 'engine',\n",
              " 479: 'engineer',\n",
              " 480: 'english',\n",
              " 481: 'enjoy',\n",
              " 482: 'enjoyed',\n",
              " 483: 'enough',\n",
              " 484: 'enter',\n",
              " 485: 'entered',\n",
              " 486: 'escaped',\n",
              " 487: 'especially',\n",
              " 488: 'espresso',\n",
              " 489: 'europe',\n",
              " 490: 'even',\n",
              " 491: 'evening',\n",
              " 492: 'ever',\n",
              " 493: 'every',\n",
              " 494: 'everybody',\n",
              " 495: 'everyone',\n",
              " 496: 'everything',\n",
              " 497: 'everywhere',\n",
              " 498: 'evidence',\n",
              " 499: 'evil',\n",
              " 500: 'exactly',\n",
              " 501: 'exam',\n",
              " 502: 'example',\n",
              " 503: 'excited',\n",
              " 504: 'exercise',\n",
              " 505: 'exercised',\n",
              " 506: 'exhaled',\n",
              " 507: 'exist',\n",
              " 508: 'expect',\n",
              " 509: 'expensive',\n",
              " 510: 'experience',\n",
              " 511: 'explain',\n",
              " 512: 'explanation',\n",
              " 513: 'express',\n",
              " 514: 'eye',\n",
              " 515: 'eyes',\n",
              " 516: 'face',\n",
              " 517: 'facebook',\n",
              " 518: 'fact',\n",
              " 519: 'facts',\n",
              " 520: 'failed',\n",
              " 521: 'faint',\n",
              " 522: 'fainted',\n",
              " 523: 'fall',\n",
              " 524: 'falling',\n",
              " 525: 'family',\n",
              " 526: 'famous',\n",
              " 527: 'fantastic',\n",
              " 528: 'far',\n",
              " 529: 'fast',\n",
              " 530: 'faster',\n",
              " 531: 'fat',\n",
              " 532: 'father',\n",
              " 533: 'fathers',\n",
              " 534: 'fault',\n",
              " 535: 'favorite',\n",
              " 536: 'fear',\n",
              " 537: 'feel',\n",
              " 538: 'feeling',\n",
              " 539: 'feels',\n",
              " 540: 'feet',\n",
              " 541: 'fell',\n",
              " 542: 'felt',\n",
              " 543: 'fetch',\n",
              " 544: 'fever',\n",
              " 545: 'few',\n",
              " 546: 'fierce',\n",
              " 547: 'fifteen',\n",
              " 548: 'fifth',\n",
              " 549: 'fight',\n",
              " 550: 'fighting',\n",
              " 551: 'file',\n",
              " 552: 'fill',\n",
              " 553: 'filled',\n",
              " 554: 'find',\n",
              " 555: 'fine',\n",
              " 556: 'finish',\n",
              " 557: 'finished',\n",
              " 558: 'fire',\n",
              " 559: 'first',\n",
              " 560: 'fish',\n",
              " 561: 'fishing',\n",
              " 562: 'fit',\n",
              " 563: 'five',\n",
              " 564: 'fix',\n",
              " 565: 'flat',\n",
              " 566: 'flight',\n",
              " 567: 'floats',\n",
              " 568: 'flower',\n",
              " 569: 'flowers',\n",
              " 570: 'fly',\n",
              " 571: 'focus',\n",
              " 572: 'follow',\n",
              " 573: 'following',\n",
              " 574: 'font',\n",
              " 575: 'food',\n",
              " 576: 'fool',\n",
              " 577: 'foolish',\n",
              " 578: 'foot',\n",
              " 579: 'for',\n",
              " 580: 'foreigners',\n",
              " 581: 'forest',\n",
              " 582: 'forever',\n",
              " 583: 'forgave',\n",
              " 584: 'forgery',\n",
              " 585: 'forget',\n",
              " 586: 'forgive',\n",
              " 587: 'forgot',\n",
              " 588: 'fortunate',\n",
              " 589: 'forty',\n",
              " 590: 'forward',\n",
              " 591: 'fought',\n",
              " 592: 'found',\n",
              " 593: 'frank',\n",
              " 594: 'freaks',\n",
              " 595: 'free',\n",
              " 596: 'freedom',\n",
              " 597: 'french',\n",
              " 598: 'fresh',\n",
              " 599: 'friend',\n",
              " 600: 'friends',\n",
              " 601: 'from',\n",
              " 602: 'front',\n",
              " 603: 'frozen',\n",
              " 604: 'fruit',\n",
              " 605: 'full',\n",
              " 606: 'fun',\n",
              " 607: 'funny',\n",
              " 608: 'gained',\n",
              " 609: 'gamble',\n",
              " 610: 'game',\n",
              " 611: 'games',\n",
              " 612: 'garlic',\n",
              " 613: 'gas',\n",
              " 614: 'gate',\n",
              " 615: 'gave',\n",
              " 616: 'generation',\n",
              " 617: 'genuine',\n",
              " 618: 'german',\n",
              " 619: 'get',\n",
              " 620: 'gets',\n",
              " 621: 'getting',\n",
              " 622: 'ghosts',\n",
              " 623: 'gift',\n",
              " 624: 'girl',\n",
              " 625: 'girlfriend',\n",
              " 626: 'girlfriends',\n",
              " 627: 'give',\n",
              " 628: 'glad',\n",
              " 629: 'glass',\n",
              " 630: 'go',\n",
              " 631: 'god',\n",
              " 632: 'goes',\n",
              " 633: 'going',\n",
              " 634: 'gold',\n",
              " 635: 'golf',\n",
              " 636: 'gone',\n",
              " 637: 'good',\n",
              " 638: 'goodbye',\n",
              " 639: 'got',\n",
              " 640: 'gotten',\n",
              " 641: 'grab',\n",
              " 642: 'grade',\n",
              " 643: 'grapes',\n",
              " 644: 'gray',\n",
              " 645: 'great',\n",
              " 646: 'greece',\n",
              " 647: 'greedy',\n",
              " 648: 'greenland',\n",
              " 649: 'grew',\n",
              " 650: 'grinned',\n",
              " 651: 'groaned',\n",
              " 652: 'ground',\n",
              " 653: 'grow',\n",
              " 654: 'grows',\n",
              " 655: 'grumbled',\n",
              " 656: 'guess',\n",
              " 657: 'guilty',\n",
              " 658: 'guitar',\n",
              " 659: 'gun',\n",
              " 660: 'hacked',\n",
              " 661: 'had',\n",
              " 662: 'hadnt',\n",
              " 663: 'hair',\n",
              " 664: 'half',\n",
              " 665: 'halfasleep',\n",
              " 666: 'hand',\n",
              " 667: 'hands',\n",
              " 668: 'handy',\n",
              " 669: 'hanging',\n",
              " 670: 'happen',\n",
              " 671: 'happened',\n",
              " 672: 'happening',\n",
              " 673: 'happens',\n",
              " 674: 'happy',\n",
              " 675: 'hard',\n",
              " 676: 'hardly',\n",
              " 677: 'hardworking',\n",
              " 678: 'has',\n",
              " 679: 'hasnt',\n",
              " 680: 'hat',\n",
              " 681: 'hate',\n",
              " 682: 'have',\n",
              " 683: 'he',\n",
              " 684: 'headache',\n",
              " 685: 'health',\n",
              " 686: 'healthy',\n",
              " 687: 'hear',\n",
              " 688: 'heard',\n",
              " 689: 'heart',\n",
              " 690: 'heat',\n",
              " 691: 'heater',\n",
              " 692: 'heavier',\n",
              " 693: 'heavy',\n",
              " 694: 'hed',\n",
              " 695: 'heels',\n",
              " 696: 'held',\n",
              " 697: 'hello',\n",
              " 698: 'helmet',\n",
              " 699: 'help',\n",
              " 700: 'helped',\n",
              " 701: 'helps',\n",
              " 702: 'her',\n",
              " 703: 'here',\n",
              " 704: 'heres',\n",
              " 705: 'heroin',\n",
              " 706: 'hers',\n",
              " 707: 'hes',\n",
              " 708: 'hey',\n",
              " 709: 'hi',\n",
              " 710: 'hiding',\n",
              " 711: 'high',\n",
              " 712: 'hillbilly',\n",
              " 713: 'him',\n",
              " 714: 'himself',\n",
              " 715: 'hinted',\n",
              " 716: 'his',\n",
              " 717: 'hit',\n",
              " 718: 'hold',\n",
              " 719: 'holes',\n",
              " 720: 'holiday',\n",
              " 721: 'holidays',\n",
              " 722: 'home',\n",
              " 723: 'homeless',\n",
              " 724: 'homemade',\n",
              " 725: 'homesick',\n",
              " 726: 'homework',\n",
              " 727: 'honesty',\n",
              " 728: 'honk',\n",
              " 729: 'hood',\n",
              " 730: 'hope',\n",
              " 731: 'hopeless',\n",
              " 732: 'horn',\n",
              " 733: 'horrible',\n",
              " 734: 'horse',\n",
              " 735: 'hospital',\n",
              " 736: 'hot',\n",
              " 737: 'hotel',\n",
              " 738: 'hour',\n",
              " 739: 'hours',\n",
              " 740: 'house',\n",
              " 741: 'houses',\n",
              " 742: 'how',\n",
              " 743: 'hows',\n",
              " 744: 'huge',\n",
              " 745: 'hugged',\n",
              " 746: 'humid',\n",
              " 747: 'hungry',\n",
              " 748: 'hurry',\n",
              " 749: 'hurt',\n",
              " 750: 'hurts',\n",
              " 751: 'i',\n",
              " 752: 'ice',\n",
              " 753: 'icy',\n",
              " 754: 'id',\n",
              " 755: 'idea',\n",
              " 756: 'if',\n",
              " 757: 'ill',\n",
              " 758: 'illegal',\n",
              " 759: 'illness',\n",
              " 760: 'im',\n",
              " 761: 'immediately',\n",
              " 762: 'impatient',\n",
              " 763: 'important',\n",
              " 764: 'impossible',\n",
              " 765: 'impressed',\n",
              " 766: 'improved',\n",
              " 767: 'improving',\n",
              " 768: 'in',\n",
              " 769: 'incheon',\n",
              " 770: 'incredible',\n",
              " 771: 'india',\n",
              " 772: 'indicates',\n",
              " 773: 'inhaled',\n",
              " 774: 'injured',\n",
              " 775: 'innocent',\n",
              " 776: 'inside',\n",
              " 777: 'insisted',\n",
              " 778: 'instantly',\n",
              " 779: 'insulted',\n",
              " 780: 'intend',\n",
              " 781: 'intention',\n",
              " 782: 'interested',\n",
              " 783: 'interesting',\n",
              " 784: 'into',\n",
              " 785: 'intriguing',\n",
              " 786: 'invent',\n",
              " 787: 'irritated',\n",
              " 788: 'is',\n",
              " 789: 'isnt',\n",
              " 790: 'it',\n",
              " 791: 'italian',\n",
              " 792: 'italy',\n",
              " 793: 'itll',\n",
              " 794: 'its',\n",
              " 795: 'ive',\n",
              " 796: 'jacket',\n",
              " 797: 'jackson',\n",
              " 798: 'jacksons',\n",
              " 799: 'jail',\n",
              " 800: 'jam',\n",
              " 801: 'japan',\n",
              " 802: 'japanese',\n",
              " 803: 'jealous',\n",
              " 804: 'jeans',\n",
              " 805: 'job',\n",
              " 806: 'jobs',\n",
              " 807: 'john',\n",
              " 808: 'joke',\n",
              " 809: 'journalist',\n",
              " 810: 'journey',\n",
              " 811: 'judge',\n",
              " 812: 'judging',\n",
              " 813: 'juice',\n",
              " 814: 'jump',\n",
              " 815: 'jumped',\n",
              " 816: 'just',\n",
              " 817: 'justly',\n",
              " 818: 'keep',\n",
              " 819: 'kept',\n",
              " 820: 'key',\n",
              " 821: 'kicked',\n",
              " 822: 'kid',\n",
              " 823: 'kidding',\n",
              " 824: 'kill',\n",
              " 825: 'killed',\n",
              " 826: 'kind',\n",
              " 827: 'king',\n",
              " 828: 'kingdom',\n",
              " 829: 'kiss',\n",
              " 830: 'kissed',\n",
              " 831: 'kneeling',\n",
              " 832: 'knew',\n",
              " 833: 'know',\n",
              " 834: 'knows',\n",
              " 835: 'kyoto',\n",
              " 836: 'lady',\n",
              " 837: 'language',\n",
              " 838: 'laptop',\n",
              " 839: 'large',\n",
              " 840: 'lasagna',\n",
              " 841: 'last',\n",
              " 842: 'late',\n",
              " 843: 'later',\n",
              " 844: 'laugh',\n",
              " 845: 'laughed',\n",
              " 846: 'laughing',\n",
              " 847: 'law',\n",
              " 848: 'lawn',\n",
              " 849: 'lawyer',\n",
              " 850: 'lazy',\n",
              " 851: 'learn',\n",
              " 852: 'learned',\n",
              " 853: 'learning',\n",
              " 854: 'leather',\n",
              " 855: 'leave',\n",
              " 856: 'leaves',\n",
              " 857: 'left',\n",
              " 858: 'leg',\n",
              " 859: 'legs',\n",
              " 860: 'lend',\n",
              " 861: 'lent',\n",
              " 862: 'less',\n",
              " 863: 'lesson',\n",
              " 864: 'let',\n",
              " 865: 'lets',\n",
              " 866: 'letter',\n",
              " 867: 'liable',\n",
              " 868: 'lie',\n",
              " 869: 'lied',\n",
              " 870: 'lies',\n",
              " 871: 'life',\n",
              " 872: 'lift',\n",
              " 873: 'lights',\n",
              " 874: 'like',\n",
              " 875: 'liked',\n",
              " 876: 'likely',\n",
              " 877: 'likes',\n",
              " 878: 'limit',\n",
              " 879: 'lion',\n",
              " 880: 'list',\n",
              " 881: 'listen',\n",
              " 882: 'listened',\n",
              " 883: 'listens',\n",
              " 884: 'little',\n",
              " 885: 'live',\n",
              " 886: 'lived',\n",
              " 887: 'lives',\n",
              " 888: 'living',\n",
              " 889: 'loan',\n",
              " 890: 'located',\n",
              " 891: 'logic',\n",
              " 892: 'logical',\n",
              " 893: 'lonely',\n",
              " 894: 'long',\n",
              " 895: 'longer',\n",
              " 896: 'look',\n",
              " 897: 'looked',\n",
              " 898: 'looking',\n",
              " 899: 'looks',\n",
              " 900: 'loose',\n",
              " 901: 'lose',\n",
              " 902: 'losing',\n",
              " 903: 'lost',\n",
              " 904: 'lot',\n",
              " 905: 'lots',\n",
              " 906: 'louder',\n",
              " 907: 'loudly',\n",
              " 908: 'love',\n",
              " 909: 'loved',\n",
              " 910: 'lovely',\n",
              " 911: 'loves',\n",
              " 912: 'luck',\n",
              " 913: 'lucky',\n",
              " 914: 'luggage',\n",
              " 915: 'lunch',\n",
              " 916: 'lying',\n",
              " 917: 'machinery',\n",
              " 918: 'mad',\n",
              " 919: 'made',\n",
              " 920: 'magic',\n",
              " 921: 'make',\n",
              " 922: 'makes',\n",
              " 923: 'man',\n",
              " 924: 'manages',\n",
              " 925: 'mango',\n",
              " 926: 'manners',\n",
              " 927: 'many',\n",
              " 928: 'map',\n",
              " 929: 'march',\n",
              " 930: 'married',\n",
              " 931: 'marry',\n",
              " 932: 'mars',\n",
              " 933: 'mary',\n",
              " 934: 'marys',\n",
              " 935: 'masters',\n",
              " 936: 'math',\n",
              " 937: 'matter',\n",
              " 938: 'matters',\n",
              " 939: 'may',\n",
              " 940: 'maybe',\n",
              " 941: 'me',\n",
              " 942: 'mean',\n",
              " 943: 'means',\n",
              " 944: 'meat',\n",
              " 945: 'medicine',\n",
              " 946: 'meet',\n",
              " 947: 'meeting',\n",
              " 948: 'memorize',\n",
              " 949: 'men',\n",
              " 950: 'mentioned',\n",
              " 951: 'menu',\n",
              " 952: 'message',\n",
              " 953: 'met',\n",
              " 954: 'microscopes',\n",
              " 955: 'might',\n",
              " 956: 'mild',\n",
              " 957: 'milk',\n",
              " 958: 'milkman',\n",
              " 959: 'mince',\n",
              " 960: 'mind',\n",
              " 961: 'mine',\n",
              " 962: 'minute',\n",
              " 963: 'minutes',\n",
              " 964: 'miss',\n",
              " 965: 'mistake',\n",
              " 966: 'mistakes',\n",
              " 967: 'mix',\n",
              " 968: 'mom',\n",
              " 969: 'moment',\n",
              " 970: 'monday',\n",
              " 971: 'mondays',\n",
              " 972: 'money',\n",
              " 973: 'month',\n",
              " 974: 'months',\n",
              " 975: 'mood',\n",
              " 976: 'moons',\n",
              " 977: 'more',\n",
              " 978: 'morning',\n",
              " 979: 'most',\n",
              " 980: 'mother',\n",
              " 981: 'motivated',\n",
              " 982: 'mouse',\n",
              " 983: 'mouth',\n",
              " 984: 'move',\n",
              " 985: 'moved',\n",
              " 986: 'movie',\n",
              " 987: 'moving',\n",
              " 988: 'mowing',\n",
              " 989: 'mozart',\n",
              " 990: 'much',\n",
              " 991: 'muddy',\n",
              " 992: 'multiply',\n",
              " 993: 'murdered',\n",
              " 994: 'music',\n",
              " 995: 'muslim',\n",
              " 996: 'must',\n",
              " 997: 'mustve',\n",
              " 998: 'my',\n",
              " 999: 'naked',\n",
              " 1000: 'name',\n",
              " ...}"
            ]
          },
          "metadata": {},
          "execution_count": 21
        }
      ]
    },
    {
      "cell_type": "code",
      "source": [
        "reverse_target_char_index"
      ],
      "metadata": {
        "colab": {
          "base_uri": "https://localhost:8080/"
        },
        "id": "XcrACtWirMOI",
        "outputId": "6de277cb-27b2-42e5-c52f-42d54588f09a"
      },
      "execution_count": null,
      "outputs": [
        {
          "output_type": "execute_result",
          "data": {
            "text/plain": [
              "{1: 'START_',\n",
              " 2: '_END',\n",
              " 3: 'adjusting',\n",
              " 4: 'attribution',\n",
              " 5: 'aৰ',\n",
              " 6: 'ccby',\n",
              " 7: 'ck',\n",
              " 8: 'cm',\n",
              " 9: 'dejo',\n",
              " 10: 'france',\n",
              " 11: 'marshmallowcat',\n",
              " 12: 'nan',\n",
              " 13: 'oবোৰ',\n",
              " 14: 'sabretou',\n",
              " 15: 'sacredceltic',\n",
              " 16: 'tatoebaorg',\n",
              " 17: '।',\n",
              " 18: 'অংক',\n",
              " 19: 'অংশগ্ৰহণ',\n",
              " 20: 'অকণো',\n",
              " 21: 'অকল',\n",
              " 22: 'অকলশৰীয়া',\n",
              " 23: 'অকলে',\n",
              " 24: 'অক্টোবৰ',\n",
              " 25: 'অক্ষম।',\n",
              " 26: 'অক্ষৰ',\n",
              " 27: 'অচেতন',\n",
              " 28: 'অটিষ্টিক।',\n",
              " 29: 'অট্টালিকাখন',\n",
              " 30: 'অণুবীক্ষণ',\n",
              " 31: 'অতি',\n",
              " 32: 'অদ্ভুত',\n",
              " 33: 'অদ্ভুত।',\n",
              " 34: 'অধিক',\n",
              " 35: 'অধিনায়ক।',\n",
              " 36: 'অধৈৰ্য্য',\n",
              " 37: 'অধ্যয়ন',\n",
              " 38: 'অন',\n",
              " 39: 'অনিচ্ছুক',\n",
              " 40: 'অনুগ্ৰহ',\n",
              " 41: 'অনুপস্থিত',\n",
              " 42: 'অনুপ্ৰাণিত',\n",
              " 43: 'অনুবাদ',\n",
              " 44: 'অনুভৱ',\n",
              " 45: 'অনুভৱৰ',\n",
              " 46: 'অনুমতি',\n",
              " 47: 'অনুসন্ধান',\n",
              " 48: 'অনুসৰণ',\n",
              " 49: 'অন্তিম',\n",
              " 50: 'অন্তিমজন',\n",
              " 51: 'অন্ধ',\n",
              " 52: 'অন্ধ।',\n",
              " 53: 'অপবিজ্ঞান।',\n",
              " 54: 'অপমান',\n",
              " 55: 'অপেক্ষা',\n",
              " 56: 'অপ্ৰয়োজনীয়।',\n",
              " 57: 'অফাৰটো',\n",
              " 58: 'অফিচ',\n",
              " 59: 'অবিশ্বাস্য',\n",
              " 60: 'অবিশ্বাস্য।',\n",
              " 61: 'অবিহনে',\n",
              " 62: 'অবৈধ',\n",
              " 63: 'অভদ্ৰ।',\n",
              " 64: 'অভিকেন্দ্ৰ',\n",
              " 65: 'অভিজ্ঞতা',\n",
              " 66: 'অভিনন্দন',\n",
              " 67: 'অভিনয়',\n",
              " 68: 'অভিপ্ৰায়',\n",
              " 69: 'অভিযন্তা।',\n",
              " 70: 'অভিশাপ।',\n",
              " 71: 'অভ্যাস',\n",
              " 72: 'অযোগ্য।',\n",
              " 73: 'অলপ',\n",
              " 74: 'অলপচলপ',\n",
              " 75: 'অলপো',\n",
              " 76: 'অলস।',\n",
              " 77: 'অলায়ক।',\n",
              " 78: 'অষ্ট্ৰিয়ান।',\n",
              " 79: 'অষ্ট্ৰেলিয়াত',\n",
              " 80: 'অষ্ট্ৰেলিয়াৰ',\n",
              " 81: 'অসম্ভৱ।',\n",
              " 82: 'অসাৱধান',\n",
              " 83: 'অসুখী',\n",
              " 84: 'অসুস্থ',\n",
              " 85: 'অসুস্থ।',\n",
              " 86: 'অস্বীকাৰ',\n",
              " 87: 'অহংকাৰ',\n",
              " 88: 'অহা',\n",
              " 89: 'অহাৰ',\n",
              " 90: 'অৰ্ডাৰ',\n",
              " 91: 'অৰ্থত',\n",
              " 92: 'অৱশেষত',\n",
              " 93: 'অৱস্থাত',\n",
              " 94: 'অৱসৰ',\n",
              " 95: 'আ',\n",
              " 96: 'আঁকিছিল',\n",
              " 97: 'আঁঠু',\n",
              " 98: 'আঁতৰাই',\n",
              " 99: 'আঁতৰাওক',\n",
              " 100: 'আঁতৰাওক।',\n",
              " 101: 'আঁতৰি',\n",
              " 102: 'আইন।',\n",
              " 103: 'আকাশ',\n",
              " 104: 'আকাশখন',\n",
              " 105: 'আকাশত',\n",
              " 106: 'আকাশে',\n",
              " 107: 'আকাশৰ',\n",
              " 108: 'আকাৰৰ',\n",
              " 109: 'আকৌ',\n",
              " 110: 'আক্ৰমণ',\n",
              " 111: 'আকৰ্ষণীয়',\n",
              " 112: 'আগচোতালৰ',\n",
              " 113: 'আগত',\n",
              " 114: 'আগতকৈ',\n",
              " 115: 'আগতেই',\n",
              " 116: 'আগবাঢ়কচোন।',\n",
              " 117: 'আগবাঢ়াচোন',\n",
              " 118: 'আগবাঢ়ি',\n",
              " 119: 'আগে',\n",
              " 120: 'আগেআগে',\n",
              " 121: 'আগ্ৰহ',\n",
              " 122: 'আঘাত',\n",
              " 123: 'আঘাতপ্ৰাপ্ত',\n",
              " 124: 'আঙুঠি',\n",
              " 125: 'আঙুৰ',\n",
              " 126: 'আচল',\n",
              " 127: 'আচলতে',\n",
              " 128: 'আচাৰ।',\n",
              " 129: 'আচৰিত',\n",
              " 130: 'আচৰিত।',\n",
              " 131: 'আচৰ্য্যকৰ',\n",
              " 132: 'আছ',\n",
              " 133: 'আছা',\n",
              " 134: 'আছা।',\n",
              " 135: 'আছানে',\n",
              " 136: 'আছা৷',\n",
              " 137: 'আছিল',\n",
              " 138: 'আছিল।',\n",
              " 139: 'আছিলনে',\n",
              " 140: 'আছিলা',\n",
              " 141: 'আছিলা।',\n",
              " 142: 'আছিলে।',\n",
              " 143: 'আছিলো',\n",
              " 144: 'আছিলো।',\n",
              " 145: 'আছিলোঁ।',\n",
              " 146: 'আছিলো৷',\n",
              " 147: 'আছিল৷',\n",
              " 148: 'আছে',\n",
              " 149: 'আছে।',\n",
              " 150: 'আছেনে',\n",
              " 151: 'আছেনেকি',\n",
              " 152: 'আছে৷',\n",
              " 153: 'আছো।',\n",
              " 154: 'আছোঁ।',\n",
              " 155: 'আজি',\n",
              " 156: 'আঞ্জা',\n",
              " 157: 'আটাইকেইগৰাকী',\n",
              " 158: 'আটাইকেইগৰাকীয়ে',\n",
              " 159: 'আটাইকেইজন',\n",
              " 160: 'আটাইকেইটা',\n",
              " 161: 'আটাইতকৈ',\n",
              " 162: 'আঠ',\n",
              " 163: 'আদায়',\n",
              " 164: 'আদৰণি',\n",
              " 165: 'আদৰিছোঁ।',\n",
              " 166: 'আধা',\n",
              " 167: 'আধাঘণ্টা',\n",
              " 168: 'আধাতে',\n",
              " 169: 'আন',\n",
              " 170: 'আনজনক',\n",
              " 171: 'আনন্দ',\n",
              " 172: 'আনন্দদায়ক',\n",
              " 173: 'আনন্দদায়ক।',\n",
              " 174: 'আনন্দিত',\n",
              " 175: 'আনি',\n",
              " 176: 'আনিছে',\n",
              " 177: 'আনিছে।',\n",
              " 178: 'আনিব।',\n",
              " 179: 'আনিবা।',\n",
              " 180: 'আনিম৷',\n",
              " 181: 'আন্ধাৰ',\n",
              " 182: 'আন্ধাৰ।',\n",
              " 183: 'আপচু',\n",
              " 184: 'আপচু।',\n",
              " 185: 'আপত্তি',\n",
              " 186: 'আপুনি',\n",
              " 187: 'আপেল',\n",
              " 188: 'আপেলকেইটা',\n",
              " 189: 'আপেলটো',\n",
              " 190: 'আপোনাক',\n",
              " 191: 'আপোনালোক',\n",
              " 192: 'আপোনাৰ',\n",
              " 193: 'আপোনাৰ।',\n",
              " 194: 'আপোনাৰো',\n",
              " 195: 'আফ্ৰিকা',\n",
              " 196: 'আবদ্ধ',\n",
              " 197: 'আমটো',\n",
              " 198: 'আমনি',\n",
              " 199: 'আমনিদায়ক',\n",
              " 200: 'আমাক',\n",
              " 201: 'আমাৰ',\n",
              " 202: 'আমাৰ।',\n",
              " 203: 'আমি',\n",
              " 204: 'আমিও',\n",
              " 205: 'আমেৰিকান',\n",
              " 206: 'আমেৰিকান।',\n",
              " 207: 'আমোদজনক',\n",
              " 208: 'আয়া',\n",
              " 209: 'আলিংগন',\n",
              " 210: 'আলু',\n",
              " 211: 'আলোচনাৰ',\n",
              " 212: 'আশা',\n",
              " 213: 'আসন',\n",
              " 214: 'আহ',\n",
              " 215: 'আহ।',\n",
              " 216: 'আহক',\n",
              " 217: 'আহক।',\n",
              " 218: 'আহকচোন।',\n",
              " 219: 'আহত',\n",
              " 220: 'আহা।',\n",
              " 221: 'আহাচোন।',\n",
              " 222: 'আহানাহা',\n",
              " 223: 'আহাৰ',\n",
              " 224: 'আহি',\n",
              " 225: 'আহিআছে',\n",
              " 226: 'আহিছা',\n",
              " 227: 'আহিছিল',\n",
              " 228: 'আহিছিল।',\n",
              " 229: 'আহিছে',\n",
              " 230: 'আহিছে।',\n",
              " 231: 'আহিছে৷',\n",
              " 232: 'আহিছোঁ।',\n",
              " 233: 'আহিব',\n",
              " 234: 'আহিব।',\n",
              " 235: 'আহিবই',\n",
              " 236: 'আহিবনে',\n",
              " 237: 'আহিবলৈ',\n",
              " 238: 'আহিবা',\n",
              " 239: 'আহিম',\n",
              " 240: 'আহিম।',\n",
              " 241: 'আহিম৷',\n",
              " 242: 'আহিল',\n",
              " 243: 'আহিল।',\n",
              " 244: 'আহিলো।',\n",
              " 245: 'আহিলোঁ।',\n",
              " 246: 'আহিল৷',\n",
              " 247: 'আহে।',\n",
              " 248: 'আহেনাহে',\n",
              " 249: 'আহোঁতে',\n",
              " 250: 'আৰক্ষী।',\n",
              " 251: 'আৰক্ষীৰ',\n",
              " 252: 'আৰম্ভ',\n",
              " 253: 'আৰাম',\n",
              " 254: 'আৰামত',\n",
              " 255: 'আৰু',\n",
              " 256: 'আৰ্দ্ৰ',\n",
              " 257: 'আৰৱ।',\n",
              " 258: 'আৱিষ্কাৰ',\n",
              " 259: 'ই',\n",
              " 260: 'ইংগিত',\n",
              " 261: 'ইংৰাজী',\n",
              " 262: 'ইংৰাজীত',\n",
              " 263: 'ইংৰাজীৰ',\n",
              " 264: 'ইউৰোপত',\n",
              " 265: 'ইচ্ছা',\n",
              " 266: 'ইচ্ছাৰ',\n",
              " 267: 'ইচ্ছুক',\n",
              " 268: 'ইজনে',\n",
              " 269: 'ইঞ্চিয়নৰ',\n",
              " 270: 'ইঞ্জিনটো',\n",
              " 271: 'ইটালী',\n",
              " 272: 'ইটালীয়ানত',\n",
              " 273: 'ইতিমধ্যে',\n",
              " 274: 'ইনষ্টল',\n",
              " 275: 'ইমান',\n",
              " 276: 'ইমানেই',\n",
              " 277: 'ইমানো',\n",
              " 278: 'ইয়াক',\n",
              " 279: 'ইয়াত',\n",
              " 280: 'ইয়াতকৈয়ো',\n",
              " 281: 'ইয়ালৈ',\n",
              " 282: 'ইয়াৰ',\n",
              " 283: 'ইষ্টাৰ',\n",
              " 284: 'ইয়াত',\n",
              " 285: 'ইয়াত।',\n",
              " 286: 'ইয়ালে',\n",
              " 287: 'ঈশ্বৰে',\n",
              " 288: 'ঈৰ্ষান্বিত',\n",
              " 289: 'উইণ্ডজ',\n",
              " 290: 'উকীল।',\n",
              " 291: 'উচিত',\n",
              " 292: 'উচিত।',\n",
              " 293: 'উচিত৷',\n",
              " 294: 'উজু',\n",
              " 295: 'উঠক।',\n",
              " 296: 'উঠা',\n",
              " 297: 'উঠাই',\n",
              " 298: 'উঠিছিল।',\n",
              " 299: 'উঠিছিলোৱেই৷',\n",
              " 300: 'উঠিছিল৷',\n",
              " 301: 'উঠিছে।',\n",
              " 302: 'উঠিল।',\n",
              " 303: 'উঠে।',\n",
              " 304: 'উত্তম',\n",
              " 305: 'উত্তম।',\n",
              " 306: 'উত্তৰ',\n",
              " 307: 'উত্তৰৰ',\n",
              " 308: 'উদাহৰণ',\n",
              " 309: 'উদীয়মান',\n",
              " 310: 'উদ্দেশ্য',\n",
              " 311: 'উদ্ভিদ',\n",
              " 312: 'উদ্যানখন',\n",
              " 313: 'উন্মুক্ত।',\n",
              " 314: 'উপদেশ',\n",
              " 315: 'উপন্যাসখনে',\n",
              " 316: 'উপভোগ',\n",
              " 317: 'উপযুক্ত',\n",
              " 318: 'উপস্থিত',\n",
              " 319: 'উপহাৰ।',\n",
              " 320: 'উপায়',\n",
              " 321: 'উপাৰ্জন',\n",
              " 322: 'উভতাই',\n",
              " 323: 'উভতি',\n",
              " 324: 'উভতিব।',\n",
              " 325: 'উলংগ',\n",
              " 326: 'উলাইছিল',\n",
              " 327: 'উলিয়াই',\n",
              " 328: 'উলিয়াওঁক।',\n",
              " 329: 'উল্লেখ',\n",
              " 330: 'উশাহ',\n",
              " 331: 'উৎসাহিত',\n",
              " 332: 'উৰি',\n",
              " 333: 'উৰিব',\n",
              " 334: 'ঋণ',\n",
              " 335: 'ঋণৰ',\n",
              " 336: 'এই',\n",
              " 337: 'এইকেইদিন',\n",
              " 338: 'এইখন',\n",
              " 339: 'এইখিনি',\n",
              " 340: 'এইজন',\n",
              " 341: 'এইজনী',\n",
              " 342: 'এইটো',\n",
              " 343: 'এইটোও',\n",
              " 344: 'এইটোৱে',\n",
              " 345: 'এইটোৱেই',\n",
              " 346: 'এইতো',\n",
              " 347: 'এইফালে',\n",
              " 348: 'এইমাত্ৰ',\n",
              " 349: 'এইয়া',\n",
              " 350: 'এইযোৰ',\n",
              " 351: 'এক',\n",
              " 352: 'একজন',\n",
              " 353: 'একমাত্ৰ',\n",
              " 354: 'একাপ',\n",
              " 355: 'একে',\n",
              " 356: 'একেই',\n",
              " 357: 'একেই।',\n",
              " 358: 'একেবাৰতে',\n",
              " 359: 'একেবাৰে',\n",
              " 360: 'একেবাৰেই',\n",
              " 361: 'একেলগে',\n",
              " 362: 'একো',\n",
              " 363: 'একোৱেই',\n",
              " 364: 'এক্সপ্ৰেছ',\n",
              " 365: 'এখন',\n",
              " 366: 'এগৰাকী',\n",
              " 367: 'এগৰাকীক',\n",
              " 368: 'এগৰাকীয়ে',\n",
              " 369: 'এঘণ্টাত',\n",
              " 370: 'এচপ্ৰেচ',\n",
              " 371: 'এছিয়ান',\n",
              " 372: 'এছিয়াৰ',\n",
              " 373: 'এজন',\n",
              " 374: 'এজনক',\n",
              " 375: 'এজনী',\n",
              " 376: 'এজনে',\n",
              " 377: 'এটা',\n",
              " 378: 'এটাও',\n",
              " 379: 'এটাক',\n",
              " 380: 'এটাকৈ',\n",
              " 381: 'এটাত',\n",
              " 382: 'এটাৰ',\n",
              " 383: 'এতিয়া',\n",
              " 384: 'এতিয়াই',\n",
              " 385: 'এতিয়াও',\n",
              " 386: 'এতিয়ালৈ',\n",
              " 387: 'এতিয়ালৈকে',\n",
              " 388: 'এদাল',\n",
              " 389: 'এদিনত',\n",
              " 390: 'এদোখৰ',\n",
              " 391: 'এনে',\n",
              " 392: 'এনেকুৱা',\n",
              " 393: 'এনেকৈ',\n",
              " 394: 'এপ্রন',\n",
              " 395: 'এপ্ৰন',\n",
              " 396: 'এবাৰ',\n",
              " 397: 'এবাৰতে',\n",
              " 398: 'এবাৰতেই',\n",
              " 399: 'এভিন্যুত',\n",
              " 400: 'এয়া',\n",
              " 401: 'এযোৰ',\n",
              " 402: 'এলক',\n",
              " 403: 'এলাৰ্জি',\n",
              " 404: 'এলাৰ্মটো',\n",
              " 405: 'এসপ্তাহৰ',\n",
              " 406: 'এৰক।',\n",
              " 407: 'এৰকচোন।',\n",
              " 408: 'এৰা।',\n",
              " 409: 'এৰাই',\n",
              " 410: 'এৰাচোন।',\n",
              " 411: 'এৰি',\n",
              " 412: 'এৰিছানে',\n",
              " 413: 'এৰিছে।',\n",
              " 414: 'এৰিছেনে',\n",
              " 415: 'এৰিব',\n",
              " 416: 'এৰিবলৈ',\n",
              " 417: 'এৰিলে।',\n",
              " 418: 'ও',\n",
              " 419: 'ওখ',\n",
              " 420: 'ওখ।',\n",
              " 421: 'ওচৰত',\n",
              " 422: 'ওচৰলৈ',\n",
              " 423: 'ওচৰৰ',\n",
              " 424: 'ওজন',\n",
              " 425: 'ওপৰত',\n",
              " 426: 'ওপৰলৈ',\n",
              " 427: 'ওলা',\n",
              " 428: 'ওলাই',\n",
              " 429: 'ওলালগৈ।',\n",
              " 430: 'ওলোৱা।',\n",
              " 431: 'ওলোৱাঁ',\n",
              " 432: 'ওহ',\n",
              " 433: 'ওৰণি',\n",
              " 434: 'ওৰে',\n",
              " 435: 'ওৰেটো',\n",
              " 436: 'ঔষধ',\n",
              " 437: 'ঔষধৰ',\n",
              " 438: 'কওঁক',\n",
              " 439: 'কওঁক।',\n",
              " 440: 'কওঁকচোন।',\n",
              " 441: 'কওক',\n",
              " 442: 'কওক।',\n",
              " 443: 'কওকগৈ।',\n",
              " 444: 'কওকচোন।',\n",
              " 445: 'ককাই।',\n",
              " 446: 'কটনৰ',\n",
              " 447: 'কটাইছে।',\n",
              " 448: 'কটাব',\n",
              " 449: 'কঠিন',\n",
              " 450: 'কঠোৰ',\n",
              " 451: 'কঢ়িয়াই',\n",
              " 452: 'কণমানি',\n",
              " 453: 'কণী',\n",
              " 454: 'কণী।',\n",
              " 455: 'কত',\n",
              " 456: 'কথা',\n",
              " 457: 'কথা।',\n",
              " 458: 'কথাই',\n",
              " 459: 'কথাছবিখন',\n",
              " 460: 'কথাটো',\n",
              " 461: 'কন্যা',\n",
              " 462: 'কন্যাৰ',\n",
              " 463: 'কপাল',\n",
              " 464: 'কফি',\n",
              " 465: 'কফিৰ',\n",
              " 466: 'কব',\n",
              " 467: 'কবলগীয়া',\n",
              " 468: 'কবলৈ',\n",
              " 469: 'কবি।',\n",
              " 470: 'কবিতা',\n",
              " 471: 'কম',\n",
              " 472: 'কমি',\n",
              " 473: 'কমিউনিষ্ট।',\n",
              " 474: 'কমেই',\n",
              " 475: 'কম্পিউটাৰ',\n",
              " 476: 'কম৷',\n",
              " 477: 'কয়',\n",
              " 478: 'কয়।',\n",
              " 479: 'কল',\n",
              " 480: 'কলটো',\n",
              " 481: 'কলম',\n",
              " 482: 'কলমটো',\n",
              " 483: 'কলা',\n",
              " 484: 'কলা।',\n",
              " 485: 'কলাহেঁতেন।',\n",
              " 486: 'কলীয়া',\n",
              " 487: 'কলে',\n",
              " 488: 'কলে।',\n",
              " 489: 'কলেজলৈ',\n",
              " 490: 'কলৈ',\n",
              " 491: 'কষ্ট',\n",
              " 492: 'কাইলৈ',\n",
              " 493: 'কাকো',\n",
              " 494: 'কাগজ',\n",
              " 495: 'কাগজখন',\n",
              " 496: 'কাজিয়া',\n",
              " 497: 'কাজিয়াটো',\n",
              " 498: 'কাটি',\n",
              " 499: 'কাঠ',\n",
              " 500: 'কাঠেৰে',\n",
              " 501: 'কাঢ়ক।',\n",
              " 502: 'কাঢ়ি',\n",
              " 503: 'কাঢ়িব',\n",
              " 504: 'কাঢ়িব।',\n",
              " 505: 'কাঢ়িবলৈ',\n",
              " 506: 'কাঢ়িম।',\n",
              " 507: 'কাঢ়ে।',\n",
              " 508: 'কাঢ়ো।',\n",
              " 509: 'কাঢ়োঁতে',\n",
              " 510: 'কাণ',\n",
              " 511: 'কাণ্ড।',\n",
              " 512: 'কানাডিয়ান',\n",
              " 513: 'কানাডিয়ান।',\n",
              " 514: 'কান্দি',\n",
              " 515: 'কান্দিছিল।',\n",
              " 516: 'কান্দিছিলো।',\n",
              " 517: 'কান্দিছে',\n",
              " 518: 'কান্দিব।',\n",
              " 519: 'কাপোৰ',\n",
              " 520: 'কাপোৰবোৰ',\n",
              " 521: 'কাম',\n",
              " 522: 'কাম।',\n",
              " 523: 'কামকাজ',\n",
              " 524: 'কামটো',\n",
              " 525: 'কামত',\n",
              " 526: 'কামুৰিব',\n",
              " 527: 'কামুৰিলে।',\n",
              " 528: 'কামেই',\n",
              " 529: 'কামোৰা',\n",
              " 530: 'কালি',\n",
              " 531: 'কাষত',\n",
              " 532: 'কাষলৈ',\n",
              " 533: 'কাহ',\n",
              " 534: 'কাহিনী',\n",
              " 535: 'কাহিনীটো',\n",
              " 536: 'কাহিব',\n",
              " 537: 'কাঢ়ি',\n",
              " 538: 'কাৰ',\n",
              " 539: 'কাৰণ',\n",
              " 540: 'কাৰণে',\n",
              " 541: 'কাৰণেই',\n",
              " 542: 'কাৰাগাৰত',\n",
              " 543: 'কাৰো',\n",
              " 544: 'কাৰোবাক',\n",
              " 545: 'কাৰোবাৰ',\n",
              " 546: 'কাৰোৰে',\n",
              " 547: 'কাৰো৷',\n",
              " 548: 'কাৰ্যালয়',\n",
              " 549: 'কাৰ্য্যত',\n",
              " 550: 'কাৰ্য্যালয়খন',\n",
              " 551: 'কি',\n",
              " 552: 'কিছু',\n",
              " 553: 'কিছুমান',\n",
              " 554: 'কিতাপ',\n",
              " 555: 'কিতাপ।',\n",
              " 556: 'কিতাপখন',\n",
              " 557: 'কিদৰে',\n",
              " 558: 'কিনা',\n",
              " 559: 'কিনি',\n",
              " 560: 'কিনিছিল।',\n",
              " 561: 'কিনিছে',\n",
              " 562: 'কিনিছোঁ।',\n",
              " 563: 'কিনিব',\n",
              " 564: 'কিনিম।',\n",
              " 565: 'কিনিলে।',\n",
              " 566: 'কিনিলোঁ।',\n",
              " 567: 'কিনিলোঁহেঁতেন।',\n",
              " 568: 'কিন্তু',\n",
              " 569: 'কিবা',\n",
              " 570: 'কিবাকৈ',\n",
              " 571: 'কিমান',\n",
              " 572: 'কিমানখিনি',\n",
              " 573: 'কিমানজনৰ',\n",
              " 574: 'কিয়',\n",
              " 575: 'কিয়।',\n",
              " 576: 'কিয়টত',\n",
              " 577: 'কিহে',\n",
              " 578: 'কিহৰ',\n",
              " 579: 'কিয়',\n",
              " 580: 'কুকিজ',\n",
              " 581: 'কুকুৰ',\n",
              " 582: 'কুকুৰ।',\n",
              " 583: 'কুকুৰটো',\n",
              " 584: 'কুকুৰবোৰে',\n",
              " 585: 'কুকুৰে',\n",
              " 586: 'কুকুৰৰ',\n",
              " 587: 'কুকুৰৰে',\n",
              " 588: 'কুৎসিত।',\n",
              " 589: 'কৃপা',\n",
              " 590: 'কেইখনমান',\n",
              " 591: 'কেইটা',\n",
              " 592: 'কেইটামান',\n",
              " 593: 'কেইদিনমানৰ',\n",
              " 594: 'কেইবাখনো',\n",
              " 595: 'কেইবাবাৰো',\n",
              " 596: 'কেক',\n",
              " 597: 'কেকটো',\n",
              " 598: 'কেণ্ডেললাইট',\n",
              " 599: 'কেতিয়া',\n",
              " 600: 'কেতিয়াও',\n",
              " 601: 'কেতিয়াবা',\n",
              " 602: 'কেতিয়াবাহে',\n",
              " 603: 'কেতিয়াৰ',\n",
              " 604: 'কেনটোত',\n",
              " 605: 'কেনে',\n",
              " 606: 'কেনেআছে',\n",
              " 607: 'কেনেকুৱা',\n",
              " 608: 'কেনেকৈ',\n",
              " 609: 'কেনেকোৱা',\n",
              " 610: 'কেভিয়াৰ',\n",
              " 611: 'কেমিষ্ট্ৰী',\n",
              " 612: 'কেমেৰা।',\n",
              " 613: 'কেমেৰামেন।',\n",
              " 614: 'কেৰাণী।',\n",
              " 615: 'কেৰেপ',\n",
              " 616: 'কেৱল',\n",
              " 617: 'কৈ',\n",
              " 618: 'কৈছা',\n",
              " 619: 'কৈছা।',\n",
              " 620: 'কৈছিল',\n",
              " 621: 'কৈছিল।',\n",
              " 622: 'কৈছিলো।',\n",
              " 623: 'কৈছিলোঁ।',\n",
              " 624: 'কৈছে',\n",
              " 625: 'কৈছে।',\n",
              " 626: 'কৈছো।',\n",
              " 627: 'কৈছোঁ।',\n",
              " 628: 'কোচাই',\n",
              " 629: 'কোট',\n",
              " 630: 'কোটটো',\n",
              " 631: 'কোঠা',\n",
              " 632: 'কোঠাটোত',\n",
              " 633: 'কোঠাত',\n",
              " 634: 'কোঠালীটো',\n",
              " 635: 'কোণত',\n",
              " 636: 'কোন',\n",
              " 637: 'কোন।',\n",
              " 638: 'কোনটো',\n",
              " 639: 'কোনবোৰ',\n",
              " 640: 'কোনে',\n",
              " 641: 'কোনেও',\n",
              " 642: 'কোনো',\n",
              " 643: 'কোনোজনী',\n",
              " 644: 'কোনোবা',\n",
              " 645: 'কোনোবাই',\n",
              " 646: 'কোমল।',\n",
              " 647: 'কোৱা',\n",
              " 648: 'কোৱা।',\n",
              " 649: 'কোৱাঁ।',\n",
              " 650: 'কোৱাগৈ।',\n",
              " 651: 'কোৱাচোন।',\n",
              " 652: 'কোৱামতে',\n",
              " 653: 'কৌতুক',\n",
              " 654: 'কৌতূহলী।',\n",
              " 655: 'ক্লাছ',\n",
              " 656: 'ক্লিনিকলৈ',\n",
              " 657: 'ক্ষণত',\n",
              " 658: 'ক্ষমা',\n",
              " 659: 'ক্ষীণ',\n",
              " 660: 'ক্ষীণ।',\n",
              " 661: 'ক্ৰিয়াপদ',\n",
              " 662: 'কৰ',\n",
              " 663: 'কৰ।',\n",
              " 664: 'কৰক',\n",
              " 665: 'কৰক।',\n",
              " 666: 'কৰক।ccby',\n",
              " 667: 'কৰকচোন',\n",
              " 668: 'কৰকচোন।',\n",
              " 669: 'কৰক৷',\n",
              " 670: 'কৰবালৈ',\n",
              " 671: 'কৰা',\n",
              " 672: 'কৰা।',\n",
              " 673: 'কৰাঁ',\n",
              " 674: 'কৰাঁ।',\n",
              " 675: 'কৰাই',\n",
              " 676: 'কৰাচোন',\n",
              " 677: 'কৰাচোন।',\n",
              " 678: 'কৰাটো',\n",
              " 679: 'কৰাত',\n",
              " 680: 'কৰাতো',\n",
              " 681: 'কৰানে',\n",
              " 682: 'কৰাব',\n",
              " 683: 'কৰালৈ',\n",
              " 684: 'কৰাৰ',\n",
              " 685: 'কৰি',\n",
              " 686: 'কৰিছা',\n",
              " 687: 'কৰিছা।',\n",
              " 688: 'কৰিছানে',\n",
              " 689: 'কৰিছিল',\n",
              " 690: 'কৰিছিল।',\n",
              " 691: 'কৰিছিলোccby',\n",
              " 692: 'কৰিছিলো।',\n",
              " 693: 'কৰিছিলোঁ',\n",
              " 694: 'কৰিছিল৷',\n",
              " 695: 'কৰিছে',\n",
              " 696: 'কৰিছে।',\n",
              " 697: 'কৰিছেনে',\n",
              " 698: 'কৰিছো।',\n",
              " 699: 'কৰিছোঁ।',\n",
              " 700: 'কৰিছো৷',\n",
              " 701: 'কৰিব',\n",
              " 702: 'কৰিব।',\n",
              " 703: 'কৰিবই',\n",
              " 704: 'কৰিবনে',\n",
              " 705: 'কৰিবলগীয়া',\n",
              " 706: 'কৰিবলৈ',\n",
              " 707: 'কৰিম',\n",
              " 708: 'কৰিম।',\n",
              " 709: 'কৰিম৷',\n",
              " 710: 'কৰিলা',\n",
              " 711: 'কৰিলে',\n",
              " 712: 'কৰিলে।',\n",
              " 713: 'কৰিলেনে',\n",
              " 714: 'কৰিলোঁ',\n",
              " 715: 'কৰিলোঁ।',\n",
              " 716: 'কৰিলো৷',\n",
              " 717: 'কৰে',\n",
              " 718: 'কৰে।',\n",
              " 719: 'কৰেনে',\n",
              " 720: 'কৰো।',\n",
              " 721: 'কৰোঁ',\n",
              " 722: 'কৰোঁ।',\n",
              " 723: 'কৰোঁতে',\n",
              " 724: 'কৰোতেই',\n",
              " 725: 'কৰোৱাব',\n",
              " 726: 'কৰোৱাৰ',\n",
              " 727: 'কৰ্কট',\n",
              " 728: 'কৰ্মী',\n",
              " 729: 'কৰ্মীৰ',\n",
              " 730: 'ক’ত',\n",
              " 731: 'খং',\n",
              " 732: 'খন',\n",
              " 733: 'খনন',\n",
              " 734: 'খবৰ',\n",
              " 735: 'খবৰতো',\n",
              " 736: 'খবৰেই',\n",
              " 737: 'খহটা।',\n",
              " 738: 'খাঁও৷',\n",
              " 739: 'খাই',\n",
              " 740: 'খাইছিলccby',\n",
              " 741: 'খাইছিল।',\n",
              " 742: 'খাইছিলো।',\n",
              " 743: 'খাইছো।',\n",
              " 744: 'খাইছোঁ',\n",
              " 745: 'খাইছোঁ।',\n",
              " 746: 'খাওঁ',\n",
              " 747: 'খাওঁ।',\n",
              " 748: 'খাওক।',\n",
              " 749: 'খাদ্য',\n",
              " 750: 'খাদ্য।',\n",
              " 751: 'খাপ',\n",
              " 752: 'খাব',\n",
              " 753: 'খাব।',\n",
              " 754: 'খাবলৈ',\n",
              " 755: 'খাবা',\n",
              " 756: 'খাম।',\n",
              " 757: 'খায়',\n",
              " 758: 'খায়।',\n",
              " 759: 'খায়নে',\n",
              " 760: 'খালী',\n",
              " 761: 'খালে',\n",
              " 762: 'খালে।',\n",
              " 763: 'খালোঁ।',\n",
              " 764: 'খাৱ',\n",
              " 765: 'খিৰিকীখন',\n",
              " 766: 'খুজিছা।',\n",
              " 767: 'খুজিছিলো৷',\n",
              " 768: 'খুজিছে।',\n",
              " 769: 'খুড়ায়েকক',\n",
              " 770: 'খুড়ায়েকৰ',\n",
              " 771: 'খুড়ীয়ে',\n",
              " 772: 'খুব',\n",
              " 773: 'খুবেই',\n",
              " 774: 'খুলি',\n",
              " 775: 'খুলিব',\n",
              " 776: 'খেদি',\n",
              " 777: 'খেল',\n",
              " 778: 'খেল।',\n",
              " 779: 'খেলআৰম্ভ',\n",
              " 780: 'খেলখন',\n",
              " 781: 'খেলনাটো',\n",
              " 782: 'খেলি',\n",
              " 783: 'খেলিছিল।',\n",
              " 784: 'খেলিছে',\n",
              " 785: 'খেলিছে।',\n",
              " 786: 'খেলিব',\n",
              " 787: 'খেলে।',\n",
              " 788: 'খেলোঁ।',\n",
              " 789: 'খোজ',\n",
              " 790: 'খোজকাঢ়ি',\n",
              " 791: 'খোজা',\n",
              " 792: 'খোজানে',\n",
              " 793: 'খোজে',\n",
              " 794: 'খোজেনে',\n",
              " 795: 'খোজোঁ',\n",
              " 796: 'খোজোঁ।',\n",
              " 797: 'খোলা',\n",
              " 798: 'খোলা।',\n",
              " 799: 'খোলাত',\n",
              " 800: 'খোৱা',\n",
              " 801: 'খোৱাচোন।',\n",
              " 802: 'খোৱাটো',\n",
              " 803: 'খ্ৰীষ্টান',\n",
              " 804: 'খ্ৰীষ্টান।',\n",
              " 805: 'খৰধৰ',\n",
              " 806: 'খৰধৰকৈ',\n",
              " 807: 'গতিকে',\n",
              " 808: 'গতিবেগৰ',\n",
              " 809: 'গধুৰ',\n",
              " 810: 'গধুৰ।',\n",
              " 811: 'গধূলি',\n",
              " 812: 'গন্তি',\n",
              " 813: 'গভীৰ।',\n",
              " 814: 'গম',\n",
              " 815: 'গম্ভীৰ',\n",
              " 816: 'গল',\n",
              " 817: 'গল।',\n",
              " 818: 'গলা',\n",
              " 819: 'গলো।',\n",
              " 820: 'গলোঁ।',\n",
              " 821: 'গল্প',\n",
              " 822: 'গল্ফ',\n",
              " 823: 'গা',\n",
              " 824: 'গাই',\n",
              " 825: 'গাওঁকচোন।',\n",
              " 826: 'গাখীৰ',\n",
              " 827: 'গাখীৰখিনি',\n",
              " 828: 'গাখীৰখিনিৰ',\n",
              " 829: 'গাখীৰৰ',\n",
              " 830: 'গাজৰৰ',\n",
              " 831: 'গাড়ী',\n",
              " 832: 'গাড়ী।',\n",
              " 833: 'গাড়ীখন',\n",
              " 834: 'গাড়ীখনৰ',\n",
              " 835: 'গাড়ীত',\n",
              " 836: 'গাড়ীৰ',\n",
              " 837: 'গাড়ী৷',\n",
              " 838: 'গান',\n",
              " 839: 'গান।',\n",
              " 840: 'গাব',\n",
              " 841: 'গাবলৈ',\n",
              " 842: 'গাভৰু',\n",
              " 843: 'গাম।',\n",
              " 844: 'গায়',\n",
              " 845: 'গায়ক',\n",
              " 846: 'গায়ক।',\n",
              " 847: 'গালত',\n",
              " 848: 'গালি',\n",
              " 849: 'গাহৰি',\n",
              " 850: 'গাহৰি।',\n",
              " 851: 'গাড়ীখন',\n",
              " 852: 'গাৰ্লফ্ৰেণ্ড',\n",
              " 853: 'গাৰ্লফ্ৰেণ্ডৰ',\n",
              " 854: 'গিলাচ',\n",
              " 855: 'গীটাৰ',\n",
              " 856: 'গুচি',\n",
              " 857: 'গুপ্তচৰ।',\n",
              " 858: 'গুলপীয়া',\n",
              " 859: 'গুলি',\n",
              " 860: 'গুলী',\n",
              " 861: 'গুলীয়াই',\n",
              " 862: 'গুলীয়াইছিল',\n",
              " 863: 'গুলীয়াইছিল।',\n",
              " 864: 'গুহাটোত',\n",
              " 865: 'গুৰুত্ত',\n",
              " 866: 'গুৰুত্বপূৰ্ণ',\n",
              " 867: 'গুৰুত্বপূৰ্ণ।',\n",
              " 868: 'গৃহহীন।',\n",
              " 869: 'গেছ',\n",
              " 870: 'গেছৰ',\n",
              " 871: 'গেটখন',\n",
              " 872: 'গেটলৈ',\n",
              " 873: 'গেম',\n",
              " 874: 'গেলাপচা',\n",
              " 875: 'গেৰোৱাত',\n",
              " 876: 'গৈ',\n",
              " 877: 'গৈছিল',\n",
              " 878: 'গৈছিল।',\n",
              " 879: 'গৈছিলা',\n",
              " 880: 'গৈছিলে',\n",
              " 881: 'গৈছিলো',\n",
              " 882: 'গৈছিলো।',\n",
              " 883: 'গৈছিলোঁ।',\n",
              " 884: 'গৈছিলো৷',\n",
              " 885: 'গৈছে',\n",
              " 886: 'গৈছে।',\n",
              " 887: 'গৈছোঁ।',\n",
              " 888: 'গোচলখানা',\n",
              " 889: 'গোটেই',\n",
              " 890: 'গোটেইখিনি',\n",
              " 891: 'গোন্ধ',\n",
              " 892: 'গোন্ধাইছে।',\n",
              " 893: 'গোন্ধায়।',\n",
              " 894: 'গোপন',\n",
              " 895: 'গোপনীয়তা',\n",
              " 896: 'গোৱা',\n",
              " 897: 'গোৱাচোন।',\n",
              " 898: 'গৌৰৱ',\n",
              " 899: 'গ্ৰহ।',\n",
              " 900: 'গ্ৰহণ',\n",
              " 901: 'গ্ৰহত',\n",
              " 902: 'গ্ৰীচ',\n",
              " 903: 'গ্ৰীনলেণ্ড',\n",
              " 904: 'গ্ৰীষ্মকাল',\n",
              " 905: 'গ্ৰুপ',\n",
              " 906: 'গ্ৰেপ্তাৰ',\n",
              " 907: 'গৰম',\n",
              " 908: 'গৰম।',\n",
              " 909: 'গৰমকালি',\n",
              " 910: 'গৰমৰ',\n",
              " 911: 'গৰু',\n",
              " 912: 'গৰুৰ',\n",
              " 913: 'ঘটনাটো',\n",
              " 914: 'ঘটা',\n",
              " 915: 'ঘটিছে।',\n",
              " 916: 'ঘটিব।',\n",
              " 917: 'ঘড়ী',\n",
              " 918: 'ঘড়ীটো',\n",
              " 919: 'ঘণ্টাই',\n",
              " 920: 'ঘণ্টাৰ',\n",
              " 921: 'ঘন',\n",
              " 922: 'ঘনাই',\n",
              " 923: 'ঘাঁহ',\n",
              " 924: 'ঘুৰি',\n",
              " 925: 'ঘূৰকচোন।',\n",
              " 926: 'ঘূৰাই',\n",
              " 927: 'ঘূৰাইপকাই',\n",
              " 928: 'ঘূৰি',\n",
              " 929: 'ঘৈণীয়েক',\n",
              " 930: 'ঘোঁৰাটো',\n",
              " 931: 'ঘৰ',\n",
              " 932: 'ঘৰএৰি',\n",
              " 933: 'ঘৰকেইখন',\n",
              " 934: 'ঘৰখন',\n",
              " 935: 'ঘৰগোনা।',\n",
              " 936: 'ঘৰটো',\n",
              " 937: 'ঘৰত',\n",
              " 938: 'ঘৰতে',\n",
              " 939: 'ঘৰলৈ',\n",
              " 940: 'ঘৰৰ',\n",
              " 941: 'চকলেট',\n",
              " 942: 'চকীখন',\n",
              " 943: 'চকু',\n",
              " 944: 'চকু।',\n",
              " 945: 'চকুত',\n",
              " 946: 'চকুদুটা',\n",
              " 947: 'চকুপানী',\n",
              " 948: 'চকুলো',\n",
              " 949: 'চনত',\n",
              " 950: 'চন্দ্ৰ',\n",
              " 951: 'চলা',\n",
              " 952: 'চলাই',\n",
              " 953: 'চলাইছিল।',\n",
              " 954: 'চলাব',\n",
              " 955: 'চলাবলৈ',\n",
              " 956: 'চলি',\n",
              " 957: 'চলিছিলো।',\n",
              " 958: 'চলিছে।',\n",
              " 959: 'চলিছো।',\n",
              " 960: 'চলিছোঁ।',\n",
              " 961: 'চলিব।',\n",
              " 962: 'চলে।',\n",
              " 963: 'চল্লিশগৰাকী',\n",
              " 964: 'চহৰ',\n",
              " 965: 'চাই',\n",
              " 966: 'চাইকেল',\n",
              " 967: 'চাইকেল।',\n",
              " 968: 'চাইছানে',\n",
              " 969: 'চাইছিল',\n",
              " 970: 'চাইছে।',\n",
              " 971: 'চাইছেনে',\n",
              " 972: 'চাইছোঁ।',\n",
              " 973: 'চাউলখিনি',\n",
              " 974: 'চাওঁ',\n",
              " 975: 'চাওঁ।',\n",
              " 976: 'চাওঁকচোন।',\n",
              " 977: 'চাওক',\n",
              " 978: 'চাওক।',\n",
              " 979: 'চাওকচোন।',\n",
              " 980: 'চাকৰি',\n",
              " 981: 'চাকৰিটো',\n",
              " 982: 'চাগে',\n",
              " 983: 'চাগে৷',\n",
              " 984: 'চাগৈ',\n",
              " 985: 'চাফা',\n",
              " 986: 'চাব',\n",
              " 987: 'চাবচোন।',\n",
              " 988: 'চাবলৈ',\n",
              " 989: 'চাবি',\n",
              " 990: 'চামুচ',\n",
              " 991: 'চামৰা।',\n",
              " 992: 'চালক।',\n",
              " 993: 'চালে।',\n",
              " 994: 'চালোঁ',\n",
              " 995: 'চালোঁ।',\n",
              " 996: 'চাহ',\n",
              " 997: 'চাহত',\n",
              " 998: 'চাৰিওফালে',\n",
              " 999: 'চাৰ্টকেইটা',\n",
              " 1000: 'চাৰ্টৰ',\n",
              " ...}"
            ]
          },
          "metadata": {},
          "execution_count": 22
        }
      ]
    },
    {
      "cell_type": "code",
      "source": [
        "lines = shuffle(lines)\n",
        "lines.head(10)"
      ],
      "metadata": {
        "colab": {
          "base_uri": "https://localhost:8080/",
          "height": 363
        },
        "id": "dtJLCygtrPpQ",
        "outputId": "601949cf-3251-4f67-b154-2d7772676bf9"
      },
      "execution_count": null,
      "outputs": [
        {
          "output_type": "execute_result",
          "data": {
            "text/plain": [
              "                                  eng  \\\n",
              "2494                      memorize it   \n",
              "2845                     i can fix it   \n",
              "2715                      you keep it   \n",
              "1582  tom seemed to be in good health   \n",
              "346                i dreamt about you   \n",
              "3088                     take me home   \n",
              "3217                     we got ready   \n",
              "827             lets see what happens   \n",
              "2522                      she hit him   \n",
              "1429      you know thats not possible   \n",
              "\n",
              "                                                ass  \n",
              "2494                   START_ ইয়াক মনত ৰাখিব। _END  \n",
              "2845            START_ মই ইয়াক ঠিক কৰিব পাৰো। _END  \n",
              "2715                  START_ আপুনি ইয়াক ৰাখক। _END  \n",
              "1582  START_ টমক সুস্বাস্থ্যত থকা যেন লাগিছিল৷ _END  \n",
              "346               START_ মই তোমাৰ সপোন চাইছোঁ। _END  \n",
              "3088                  START_ মোক ঘৰলৈ লৈ যাওক। _END  \n",
              "3217                      START_ আমি সাজু হলো। _END  \n",
              "827                        START_ চাওঁ কি হয়। _END  \n",
              "2522                    START_ তাই তাক মাৰিলে। _END  \n",
              "1429   START_ তুমি জানানে যে সেয়া সম্ভৱ নহয়। _END  "
            ],
            "text/html": [
              "\n",
              "  <div id=\"df-278a4a14-4514-4d45-b430-c6980eb7494a\">\n",
              "    <div class=\"colab-df-container\">\n",
              "      <div>\n",
              "<style scoped>\n",
              "    .dataframe tbody tr th:only-of-type {\n",
              "        vertical-align: middle;\n",
              "    }\n",
              "\n",
              "    .dataframe tbody tr th {\n",
              "        vertical-align: top;\n",
              "    }\n",
              "\n",
              "    .dataframe thead th {\n",
              "        text-align: right;\n",
              "    }\n",
              "</style>\n",
              "<table border=\"1\" class=\"dataframe\">\n",
              "  <thead>\n",
              "    <tr style=\"text-align: right;\">\n",
              "      <th></th>\n",
              "      <th>eng</th>\n",
              "      <th>ass</th>\n",
              "    </tr>\n",
              "  </thead>\n",
              "  <tbody>\n",
              "    <tr>\n",
              "      <th>2494</th>\n",
              "      <td>memorize it</td>\n",
              "      <td>START_ ইয়াক মনত ৰাখিব। _END</td>\n",
              "    </tr>\n",
              "    <tr>\n",
              "      <th>2845</th>\n",
              "      <td>i can fix it</td>\n",
              "      <td>START_ মই ইয়াক ঠিক কৰিব পাৰো। _END</td>\n",
              "    </tr>\n",
              "    <tr>\n",
              "      <th>2715</th>\n",
              "      <td>you keep it</td>\n",
              "      <td>START_ আপুনি ইয়াক ৰাখক। _END</td>\n",
              "    </tr>\n",
              "    <tr>\n",
              "      <th>1582</th>\n",
              "      <td>tom seemed to be in good health</td>\n",
              "      <td>START_ টমক সুস্বাস্থ্যত থকা যেন লাগিছিল৷ _END</td>\n",
              "    </tr>\n",
              "    <tr>\n",
              "      <th>346</th>\n",
              "      <td>i dreamt about you</td>\n",
              "      <td>START_ মই তোমাৰ সপোন চাইছোঁ। _END</td>\n",
              "    </tr>\n",
              "    <tr>\n",
              "      <th>3088</th>\n",
              "      <td>take me home</td>\n",
              "      <td>START_ মোক ঘৰলৈ লৈ যাওক। _END</td>\n",
              "    </tr>\n",
              "    <tr>\n",
              "      <th>3217</th>\n",
              "      <td>we got ready</td>\n",
              "      <td>START_ আমি সাজু হলো। _END</td>\n",
              "    </tr>\n",
              "    <tr>\n",
              "      <th>827</th>\n",
              "      <td>lets see what happens</td>\n",
              "      <td>START_ চাওঁ কি হয়। _END</td>\n",
              "    </tr>\n",
              "    <tr>\n",
              "      <th>2522</th>\n",
              "      <td>she hit him</td>\n",
              "      <td>START_ তাই তাক মাৰিলে। _END</td>\n",
              "    </tr>\n",
              "    <tr>\n",
              "      <th>1429</th>\n",
              "      <td>you know thats not possible</td>\n",
              "      <td>START_ তুমি জানানে যে সেয়া সম্ভৱ নহয়। _END</td>\n",
              "    </tr>\n",
              "  </tbody>\n",
              "</table>\n",
              "</div>\n",
              "      <button class=\"colab-df-convert\" onclick=\"convertToInteractive('df-278a4a14-4514-4d45-b430-c6980eb7494a')\"\n",
              "              title=\"Convert this dataframe to an interactive table.\"\n",
              "              style=\"display:none;\">\n",
              "        \n",
              "  <svg xmlns=\"http://www.w3.org/2000/svg\" height=\"24px\"viewBox=\"0 0 24 24\"\n",
              "       width=\"24px\">\n",
              "    <path d=\"M0 0h24v24H0V0z\" fill=\"none\"/>\n",
              "    <path d=\"M18.56 5.44l.94 2.06.94-2.06 2.06-.94-2.06-.94-.94-2.06-.94 2.06-2.06.94zm-11 1L8.5 8.5l.94-2.06 2.06-.94-2.06-.94L8.5 2.5l-.94 2.06-2.06.94zm10 10l.94 2.06.94-2.06 2.06-.94-2.06-.94-.94-2.06-.94 2.06-2.06.94z\"/><path d=\"M17.41 7.96l-1.37-1.37c-.4-.4-.92-.59-1.43-.59-.52 0-1.04.2-1.43.59L10.3 9.45l-7.72 7.72c-.78.78-.78 2.05 0 2.83L4 21.41c.39.39.9.59 1.41.59.51 0 1.02-.2 1.41-.59l7.78-7.78 2.81-2.81c.8-.78.8-2.07 0-2.86zM5.41 20L4 18.59l7.72-7.72 1.47 1.35L5.41 20z\"/>\n",
              "  </svg>\n",
              "      </button>\n",
              "      \n",
              "  <style>\n",
              "    .colab-df-container {\n",
              "      display:flex;\n",
              "      flex-wrap:wrap;\n",
              "      gap: 12px;\n",
              "    }\n",
              "\n",
              "    .colab-df-convert {\n",
              "      background-color: #E8F0FE;\n",
              "      border: none;\n",
              "      border-radius: 50%;\n",
              "      cursor: pointer;\n",
              "      display: none;\n",
              "      fill: #1967D2;\n",
              "      height: 32px;\n",
              "      padding: 0 0 0 0;\n",
              "      width: 32px;\n",
              "    }\n",
              "\n",
              "    .colab-df-convert:hover {\n",
              "      background-color: #E2EBFA;\n",
              "      box-shadow: 0px 1px 2px rgba(60, 64, 67, 0.3), 0px 1px 3px 1px rgba(60, 64, 67, 0.15);\n",
              "      fill: #174EA6;\n",
              "    }\n",
              "\n",
              "    [theme=dark] .colab-df-convert {\n",
              "      background-color: #3B4455;\n",
              "      fill: #D2E3FC;\n",
              "    }\n",
              "\n",
              "    [theme=dark] .colab-df-convert:hover {\n",
              "      background-color: #434B5C;\n",
              "      box-shadow: 0px 1px 3px 1px rgba(0, 0, 0, 0.15);\n",
              "      filter: drop-shadow(0px 1px 2px rgba(0, 0, 0, 0.3));\n",
              "      fill: #FFFFFF;\n",
              "    }\n",
              "  </style>\n",
              "\n",
              "      <script>\n",
              "        const buttonEl =\n",
              "          document.querySelector('#df-278a4a14-4514-4d45-b430-c6980eb7494a button.colab-df-convert');\n",
              "        buttonEl.style.display =\n",
              "          google.colab.kernel.accessAllowed ? 'block' : 'none';\n",
              "\n",
              "        async function convertToInteractive(key) {\n",
              "          const element = document.querySelector('#df-278a4a14-4514-4d45-b430-c6980eb7494a');\n",
              "          const dataTable =\n",
              "            await google.colab.kernel.invokeFunction('convertToInteractive',\n",
              "                                                     [key], {});\n",
              "          if (!dataTable) return;\n",
              "\n",
              "          const docLinkHtml = 'Like what you see? Visit the ' +\n",
              "            '<a target=\"_blank\" href=https://colab.research.google.com/notebooks/data_table.ipynb>data table notebook</a>'\n",
              "            + ' to learn more about interactive tables.';\n",
              "          element.innerHTML = '';\n",
              "          dataTable['output_type'] = 'display_data';\n",
              "          await google.colab.output.renderOutput(dataTable, element);\n",
              "          const docLink = document.createElement('div');\n",
              "          docLink.innerHTML = docLinkHtml;\n",
              "          element.appendChild(docLink);\n",
              "        }\n",
              "      </script>\n",
              "    </div>\n",
              "  </div>\n",
              "  "
            ]
          },
          "metadata": {},
          "execution_count": 23
        }
      ]
    },
    {
      "cell_type": "code",
      "source": [
        "# Train - Test Split\n",
        "X, y = lines.eng, lines.ass\n",
        "X_train, X_test, y_train, y_test = train_test_split(X, y, test_size = 0.2)\n",
        "X_train.shape, X_test.shape"
      ],
      "metadata": {
        "colab": {
          "base_uri": "https://localhost:8080/"
        },
        "id": "jJNXP2jOrSgP",
        "outputId": "2f5570f4-5e37-4237-fb53-beb6d8460098"
      },
      "execution_count": null,
      "outputs": [
        {
          "output_type": "execute_result",
          "data": {
            "text/plain": [
              "((3324,), (832,))"
            ]
          },
          "metadata": {},
          "execution_count": 24
        }
      ]
    },
    {
      "cell_type": "code",
      "source": [
        "X_train"
      ],
      "metadata": {
        "colab": {
          "base_uri": "https://localhost:8080/"
        },
        "id": "wRISXw2DrUmY",
        "outputId": "588217fa-cad8-4914-86eb-21cbace08e00"
      },
      "execution_count": null,
      "outputs": [
        {
          "output_type": "execute_result",
          "data": {
            "text/plain": [
              "1291    tom wont do the same thing\n",
              "2162                     i can run\n",
              "2531                   take a bath\n",
              "3330                  you look fat\n",
              "2253                     she walks\n",
              "                   ...            \n",
              "2424                   is tom here\n",
              "3200                  wait for tom\n",
              "3987            tom is a socialist\n",
              "4069                  my wife died\n",
              "540            you may go home now\n",
              "Name: eng, Length: 3324, dtype: object"
            ]
          },
          "metadata": {},
          "execution_count": 25
        }
      ]
    },
    {
      "cell_type": "code",
      "source": [
        "y_train"
      ],
      "metadata": {
        "colab": {
          "base_uri": "https://localhost:8080/"
        },
        "id": "sC1KI-D0rXEj",
        "outputId": "caf97b5f-7c75-488e-901c-118a7c511fd2"
      },
      "execution_count": null,
      "outputs": [
        {
          "output_type": "execute_result",
          "data": {
            "text/plain": [
              "1291              START_ টমে একে কাম নকৰে। _END\n",
              "2162                 START_ মই দৌৰিব পাৰো। _END\n",
              "2531                        START_ গা ধুব। _END\n",
              "3330            START_ আপোনাক শকত দেখাইছে। _END\n",
              "2253                 START_ তাই খোজ কাঢ়ে। _END\n",
              "                         ...                   \n",
              "2424                 START_ টম ইয়াত আছেনে _END\n",
              "3200          START_ টমৰ বাবে অপেক্ষা কৰক। _END\n",
              "3987          START_ টম এজন সমাজতান্ত্ৰিক। _END\n",
              "4069                            START_ nan _END\n",
              "540     START_ আপুনি এতিয়া ঘৰলৈ যাব পাৰে। _END\n",
              "Name: ass, Length: 3324, dtype: object"
            ]
          },
          "metadata": {},
          "execution_count": 26
        }
      ]
    },
    {
      "cell_type": "code",
      "source": [
        "X_test"
      ],
      "metadata": {
        "colab": {
          "base_uri": "https://localhost:8080/"
        },
        "id": "GVuGy8RPrZ4B",
        "outputId": "2b9e3266-3a41-4088-c873-6cf23dd69824"
      },
      "execution_count": null,
      "outputs": [
        {
          "output_type": "execute_result",
          "data": {
            "text/plain": [
              "1444         adjust the microscopes focus\n",
              "3595                    im ready to start\n",
              "1343         i just spoke with the police\n",
              "3                                     run\n",
              "2138                            grab that\n",
              "                      ...                \n",
              "2612                           toms tired\n",
              "3197                         unbelievable\n",
              "427                    why are you in bed\n",
              "2148                             hes mine\n",
              "1756    can you wait until this afternoon\n",
              "Name: eng, Length: 832, dtype: object"
            ]
          },
          "metadata": {},
          "execution_count": 27
        }
      ]
    },
    {
      "cell_type": "code",
      "source": [
        "y_test"
      ],
      "metadata": {
        "colab": {
          "base_uri": "https://localhost:8080/"
        },
        "id": "_A7R7QwkrbSx",
        "outputId": "c7f2bda0-224c-4aea-a16c-ec94a568bc00"
      },
      "execution_count": null,
      "outputs": [
        {
          "output_type": "execute_result",
          "data": {
            "text/plain": [
              "1444                START_ মাইক্ৰস্কপৰ ফকাছ মিলাওঁক। _END\n",
              "3595                    START_ মই আৰম্ভ কৰিবলৈ সাজু। _END\n",
              "1343       START_ মই এইমাত্ৰ পুলিচৰ লগত কথা পাতিলোঁ। _END\n",
              "3                                       START_ দৌৰাঁ _END\n",
              "2138                               START_ সেইটো ধৰক। _END\n",
              "                              ...                        \n",
              "2612                          START_ টম ভাগৰি পৰিছে। _END\n",
              "3197                               START_ অবিশ্বাস্য _END\n",
              "427                          START_ তুমি বিছনাত কিয় _END\n",
              "2148                                  START_ সি মোৰ। _END\n",
              "1756    START_ আপুনি আজি দুপৰীয়া লৈকে অপেক্ষা কৰিবনে ...\n",
              "Name: ass, Length: 832, dtype: object"
            ]
          },
          "metadata": {},
          "execution_count": 28
        }
      ]
    },
    {
      "cell_type": "code",
      "source": [
        "with open('Weights_Mar_X_train', 'wb') as file_pi:\n",
        "  pkl.dump(X_train.to_pickle, file_pi)\n",
        "with open('Weights_Mar_X_test', 'wb') as file_pi:\n",
        "  pkl.dump(X_test.to_pickle, file_pi)"
      ],
      "metadata": {
        "id": "qKoVyB2Prcth"
      },
      "execution_count": null,
      "outputs": []
    },
    {
      "cell_type": "code",
      "source": [
        "def generate_batch(X = X_train, y = y_train, batch_size = 128):\n",
        "    ''' Generate a batch of data '''\n",
        "    while True:\n",
        "        for j in range(0, len(X), batch_size):\n",
        "            encoder_input_data = np.zeros((batch_size, max_length_src),dtype='float32')\n",
        "            decoder_input_data = np.zeros((batch_size, max_length_tar),dtype='float32')\n",
        "            decoder_target_data = np.zeros((batch_size, max_length_tar, num_decoder_tokens),dtype='float32')\n",
        "            for i, (input_text, target_text) in enumerate(zip(X[j:j+batch_size], y[j:j+batch_size])):\n",
        "                for t, word in enumerate(input_text.split()):\n",
        "                    encoder_input_data[i, t] = input_token_index[word] # encoder input seq\n",
        "                for t, word in enumerate(target_text.split()):\n",
        "                    if t<len(target_text.split())-1:\n",
        "                        decoder_input_data[i, t] = target_token_index[word] # decoder input seq\n",
        "                    if t>0:\n",
        "                        # decoder target sequence (one hot encoded)\n",
        "                        # does not include the START_ token\n",
        "                        # Offset by one timestep\n",
        "                        decoder_target_data[i, t - 1, target_token_index[word]] = 1.\n",
        "            yield([encoder_input_data, decoder_input_data], decoder_target_data)"
      ],
      "metadata": {
        "id": "9UmmgON0rffH"
      },
      "execution_count": null,
      "outputs": []
    },
    {
      "cell_type": "code",
      "source": [
        "latent_dim = 256"
      ],
      "metadata": {
        "id": "embK_e8Urh2a"
      },
      "execution_count": null,
      "outputs": []
    },
    {
      "cell_type": "code",
      "source": [
        "# Encoder\n",
        "encoder_inputs = Input(shape=(None,))\n",
        "enc_emb =  Embedding(num_encoder_tokens, latent_dim, mask_zero = True)(encoder_inputs)\n",
        "encoder_lstm = LSTM(latent_dim, return_state=True)\n",
        "encoder_outputs, state_h, state_c = encoder_lstm(enc_emb)\n",
        "\n",
        "# We discard `encoder_outputs` and only keep the states.\n",
        "encoder_states = [state_h, state_c]"
      ],
      "metadata": {
        "id": "Peg6aZ-krjlw"
      },
      "execution_count": null,
      "outputs": []
    },
    {
      "cell_type": "code",
      "source": [
        "# Set up the decoder, using `encoder_states` as initial state.\n",
        "decoder_inputs = Input(shape=(None,))\n",
        "dec_emb_layer = Embedding(num_decoder_tokens, latent_dim, mask_zero = True)\n",
        "dec_emb = dec_emb_layer(decoder_inputs)\n",
        "\n",
        "# We set up our decoder to return full output sequences,\n",
        "# and to return internal states as well. We don't use the\n",
        "# return states in the training model, but we will use them in inference.\n",
        "decoder_lstm = LSTM(latent_dim, return_sequences=True, return_state=True)\n",
        "decoder_outputs, _, _ = decoder_lstm(dec_emb, initial_state=encoder_states)\n",
        "\n",
        "# Use a softmax to generate a probability distribution over the target vocabulary for each time step\n",
        "decoder_dense = Dense(num_decoder_tokens, activation='softmax')\n",
        "decoder_outputs = decoder_dense(decoder_outputs)\n",
        "\n",
        "# Define the model that will turn\n",
        "# `encoder_input_data` & `decoder_input_data` into `decoder_target_data`\n",
        "model = Model([encoder_inputs, decoder_inputs], decoder_outputs)"
      ],
      "metadata": {
        "id": "bWQ_3d6trldN"
      },
      "execution_count": null,
      "outputs": []
    },
    {
      "cell_type": "code",
      "source": [
        "# Compile the model\n",
        "model.compile(optimizer='rmsprop', loss='categorical_crossentropy', metrics=['accuracy'])"
      ],
      "metadata": {
        "id": "N89WwYS5rovs"
      },
      "execution_count": null,
      "outputs": []
    },
    {
      "cell_type": "code",
      "source": [
        "len(X_test)"
      ],
      "metadata": {
        "colab": {
          "base_uri": "https://localhost:8080/"
        },
        "id": "3uvet-yWrrQK",
        "outputId": "fc50d0cf-c6a3-44d7-ace9-b7496abbc886"
      },
      "execution_count": null,
      "outputs": [
        {
          "output_type": "execute_result",
          "data": {
            "text/plain": [
              "832"
            ]
          },
          "metadata": {},
          "execution_count": 35
        }
      ]
    },
    {
      "cell_type": "code",
      "source": [
        "train_samples = len(X_train)\n",
        "val_samples = len(X_test)\n",
        "batch_size = 128\n",
        "epochs = 70"
      ],
      "metadata": {
        "id": "zKNvsGKRrswP"
      },
      "execution_count": null,
      "outputs": []
    },
    {
      "cell_type": "code",
      "source": [
        "from keras.callbacks import ModelCheckpoint\n",
        "filename = 'model.NLP'\n",
        "checkpoint = ModelCheckpoint(filename, monitor='loss', verbose=1, mode='min')"
      ],
      "metadata": {
        "id": "_uh1CyM6rve5"
      },
      "execution_count": null,
      "outputs": []
    },
    {
      "cell_type": "code",
      "source": [
        "history=model.fit_generator(generator = generate_batch(X_train, y_train, batch_size = batch_size),\n",
        "                    steps_per_epoch = train_samples//batch_size,\n",
        "                    epochs=epochs,\n",
        "                    validation_data = generate_batch(X_test, y_test, batch_size = batch_size),\n",
        "                    callbacks=[checkpoint],\n",
        "                    validation_steps = val_samples//batch_size)"
      ],
      "metadata": {
        "colab": {
          "base_uri": "https://localhost:8080/"
        },
        "id": "Id42c_67rxMF",
        "outputId": "8b4843bc-00e4-41ad-b73b-62fc9192118c"
      },
      "execution_count": null,
      "outputs": [
        {
          "metadata": {
            "tags": null
          },
          "name": "stderr",
          "output_type": "stream",
          "text": [
            "/usr/local/lib/python3.7/dist-packages/ipykernel_launcher.py:6: UserWarning: `Model.fit_generator` is deprecated and will be removed in a future version. Please use `Model.fit`, which supports generators.\n",
            "  \n"
          ]
        },
        {
          "metadata": {
            "tags": null
          },
          "name": "stdout",
          "output_type": "stream",
          "text": [
            "Epoch 1/70\n",
            "25/25 [==============================] - ETA: 0s - loss: 1.9500 - accuracy: 0.2042\n",
            "Epoch 1: saving model to model.NLP\n"
          ]
        },
        {
          "metadata": {
            "tags": null
          },
          "name": "stderr",
          "output_type": "stream",
          "text": [
            "WARNING:absl:Found untraced functions such as lstm_cell_layer_call_fn, lstm_cell_layer_call_and_return_conditional_losses, lstm_cell_1_layer_call_fn, lstm_cell_1_layer_call_and_return_conditional_losses while saving (showing 4 of 4). These functions will not be directly callable after loading.\n"
          ]
        },
        {
          "metadata": {
            "tags": null
          },
          "name": "stdout",
          "output_type": "stream",
          "text": [
            "INFO:tensorflow:Assets written to: model.NLP/assets\n"
          ]
        },
        {
          "metadata": {
            "tags": null
          },
          "name": "stderr",
          "output_type": "stream",
          "text": [
            "INFO:tensorflow:Assets written to: model.NLP/assets\n",
            "WARNING:absl:<keras.layers.recurrent.LSTMCell object at 0x7f3255e16ad0> has the same name 'LSTMCell' as a built-in Keras object. Consider renaming <class 'keras.layers.recurrent.LSTMCell'> to avoid naming conflicts when loading with `tf.keras.models.load_model`. If renaming is not possible, pass the object in the `custom_objects` parameter of the load function.\n",
            "WARNING:absl:<keras.layers.recurrent.LSTMCell object at 0x7f32521c3190> has the same name 'LSTMCell' as a built-in Keras object. Consider renaming <class 'keras.layers.recurrent.LSTMCell'> to avoid naming conflicts when loading with `tf.keras.models.load_model`. If renaming is not possible, pass the object in the `custom_objects` parameter of the load function.\n"
          ]
        },
        {
          "metadata": {
            "tags": null
          },
          "name": "stdout",
          "output_type": "stream",
          "text": [
            "25/25 [==============================] - 66s 2s/step - loss: 1.9500 - accuracy: 0.2042 - val_loss: 1.7777 - val_accuracy: 0.2335\n",
            "Epoch 2/70\n",
            "25/25 [==============================] - ETA: 0s - loss: 1.6523 - accuracy: 0.2365\n",
            "Epoch 2: saving model to model.NLP\n"
          ]
        },
        {
          "metadata": {
            "tags": null
          },
          "name": "stderr",
          "output_type": "stream",
          "text": [
            "WARNING:absl:Found untraced functions such as lstm_cell_layer_call_fn, lstm_cell_layer_call_and_return_conditional_losses, lstm_cell_1_layer_call_fn, lstm_cell_1_layer_call_and_return_conditional_losses while saving (showing 4 of 4). These functions will not be directly callable after loading.\n"
          ]
        },
        {
          "metadata": {
            "tags": null
          },
          "name": "stdout",
          "output_type": "stream",
          "text": [
            "INFO:tensorflow:Assets written to: model.NLP/assets\n"
          ]
        },
        {
          "metadata": {
            "tags": null
          },
          "name": "stderr",
          "output_type": "stream",
          "text": [
            "INFO:tensorflow:Assets written to: model.NLP/assets\n",
            "WARNING:absl:<keras.layers.recurrent.LSTMCell object at 0x7f3255e16ad0> has the same name 'LSTMCell' as a built-in Keras object. Consider renaming <class 'keras.layers.recurrent.LSTMCell'> to avoid naming conflicts when loading with `tf.keras.models.load_model`. If renaming is not possible, pass the object in the `custom_objects` parameter of the load function.\n",
            "WARNING:absl:<keras.layers.recurrent.LSTMCell object at 0x7f32521c3190> has the same name 'LSTMCell' as a built-in Keras object. Consider renaming <class 'keras.layers.recurrent.LSTMCell'> to avoid naming conflicts when loading with `tf.keras.models.load_model`. If renaming is not possible, pass the object in the `custom_objects` parameter of the load function.\n"
          ]
        },
        {
          "metadata": {
            "tags": null
          },
          "name": "stdout",
          "output_type": "stream",
          "text": [
            "25/25 [==============================] - 50s 2s/step - loss: 1.6523 - accuracy: 0.2365 - val_loss: 1.7184 - val_accuracy: 0.2393\n",
            "Epoch 3/70\n",
            "25/25 [==============================] - ETA: 0s - loss: 1.5883 - accuracy: 0.2393\n",
            "Epoch 3: saving model to model.NLP\n"
          ]
        },
        {
          "metadata": {
            "tags": null
          },
          "name": "stderr",
          "output_type": "stream",
          "text": [
            "WARNING:absl:Found untraced functions such as lstm_cell_layer_call_fn, lstm_cell_layer_call_and_return_conditional_losses, lstm_cell_1_layer_call_fn, lstm_cell_1_layer_call_and_return_conditional_losses while saving (showing 4 of 4). These functions will not be directly callable after loading.\n"
          ]
        },
        {
          "metadata": {
            "tags": null
          },
          "name": "stdout",
          "output_type": "stream",
          "text": [
            "INFO:tensorflow:Assets written to: model.NLP/assets\n"
          ]
        },
        {
          "metadata": {
            "tags": null
          },
          "name": "stderr",
          "output_type": "stream",
          "text": [
            "INFO:tensorflow:Assets written to: model.NLP/assets\n",
            "WARNING:absl:<keras.layers.recurrent.LSTMCell object at 0x7f3255e16ad0> has the same name 'LSTMCell' as a built-in Keras object. Consider renaming <class 'keras.layers.recurrent.LSTMCell'> to avoid naming conflicts when loading with `tf.keras.models.load_model`. If renaming is not possible, pass the object in the `custom_objects` parameter of the load function.\n",
            "WARNING:absl:<keras.layers.recurrent.LSTMCell object at 0x7f32521c3190> has the same name 'LSTMCell' as a built-in Keras object. Consider renaming <class 'keras.layers.recurrent.LSTMCell'> to avoid naming conflicts when loading with `tf.keras.models.load_model`. If renaming is not possible, pass the object in the `custom_objects` parameter of the load function.\n"
          ]
        },
        {
          "metadata": {
            "tags": null
          },
          "name": "stdout",
          "output_type": "stream",
          "text": [
            "25/25 [==============================] - 50s 2s/step - loss: 1.5883 - accuracy: 0.2393 - val_loss: 1.6900 - val_accuracy: 0.2411\n",
            "Epoch 4/70\n",
            "25/25 [==============================] - ETA: 0s - loss: 1.5306 - accuracy: 0.2417\n",
            "Epoch 4: saving model to model.NLP\n"
          ]
        },
        {
          "metadata": {
            "tags": null
          },
          "name": "stderr",
          "output_type": "stream",
          "text": [
            "WARNING:absl:Found untraced functions such as lstm_cell_layer_call_fn, lstm_cell_layer_call_and_return_conditional_losses, lstm_cell_1_layer_call_fn, lstm_cell_1_layer_call_and_return_conditional_losses while saving (showing 4 of 4). These functions will not be directly callable after loading.\n"
          ]
        },
        {
          "metadata": {
            "tags": null
          },
          "name": "stdout",
          "output_type": "stream",
          "text": [
            "INFO:tensorflow:Assets written to: model.NLP/assets\n"
          ]
        },
        {
          "metadata": {
            "tags": null
          },
          "name": "stderr",
          "output_type": "stream",
          "text": [
            "INFO:tensorflow:Assets written to: model.NLP/assets\n",
            "WARNING:absl:<keras.layers.recurrent.LSTMCell object at 0x7f3255e16ad0> has the same name 'LSTMCell' as a built-in Keras object. Consider renaming <class 'keras.layers.recurrent.LSTMCell'> to avoid naming conflicts when loading with `tf.keras.models.load_model`. If renaming is not possible, pass the object in the `custom_objects` parameter of the load function.\n",
            "WARNING:absl:<keras.layers.recurrent.LSTMCell object at 0x7f32521c3190> has the same name 'LSTMCell' as a built-in Keras object. Consider renaming <class 'keras.layers.recurrent.LSTMCell'> to avoid naming conflicts when loading with `tf.keras.models.load_model`. If renaming is not possible, pass the object in the `custom_objects` parameter of the load function.\n"
          ]
        },
        {
          "metadata": {
            "tags": null
          },
          "name": "stdout",
          "output_type": "stream",
          "text": [
            "25/25 [==============================] - 50s 2s/step - loss: 1.5306 - accuracy: 0.2417 - val_loss: 1.6647 - val_accuracy: 0.2440\n",
            "Epoch 5/70\n",
            "25/25 [==============================] - ETA: 0s - loss: 1.4721 - accuracy: 0.2520\n",
            "Epoch 5: saving model to model.NLP\n"
          ]
        },
        {
          "metadata": {
            "tags": null
          },
          "name": "stderr",
          "output_type": "stream",
          "text": [
            "WARNING:absl:Found untraced functions such as lstm_cell_layer_call_fn, lstm_cell_layer_call_and_return_conditional_losses, lstm_cell_1_layer_call_fn, lstm_cell_1_layer_call_and_return_conditional_losses while saving (showing 4 of 4). These functions will not be directly callable after loading.\n"
          ]
        },
        {
          "metadata": {
            "tags": null
          },
          "name": "stdout",
          "output_type": "stream",
          "text": [
            "INFO:tensorflow:Assets written to: model.NLP/assets\n"
          ]
        },
        {
          "metadata": {
            "tags": null
          },
          "name": "stderr",
          "output_type": "stream",
          "text": [
            "INFO:tensorflow:Assets written to: model.NLP/assets\n",
            "WARNING:absl:<keras.layers.recurrent.LSTMCell object at 0x7f3255e16ad0> has the same name 'LSTMCell' as a built-in Keras object. Consider renaming <class 'keras.layers.recurrent.LSTMCell'> to avoid naming conflicts when loading with `tf.keras.models.load_model`. If renaming is not possible, pass the object in the `custom_objects` parameter of the load function.\n",
            "WARNING:absl:<keras.layers.recurrent.LSTMCell object at 0x7f32521c3190> has the same name 'LSTMCell' as a built-in Keras object. Consider renaming <class 'keras.layers.recurrent.LSTMCell'> to avoid naming conflicts when loading with `tf.keras.models.load_model`. If renaming is not possible, pass the object in the `custom_objects` parameter of the load function.\n"
          ]
        },
        {
          "metadata": {
            "tags": null
          },
          "name": "stdout",
          "output_type": "stream",
          "text": [
            "25/25 [==============================] - 50s 2s/step - loss: 1.4721 - accuracy: 0.2520 - val_loss: 1.6378 - val_accuracy: 0.2547\n",
            "Epoch 6/70\n",
            "25/25 [==============================] - ETA: 0s - loss: 1.4173 - accuracy: 0.2632\n",
            "Epoch 6: saving model to model.NLP\n"
          ]
        },
        {
          "metadata": {
            "tags": null
          },
          "name": "stderr",
          "output_type": "stream",
          "text": [
            "WARNING:absl:Found untraced functions such as lstm_cell_layer_call_fn, lstm_cell_layer_call_and_return_conditional_losses, lstm_cell_1_layer_call_fn, lstm_cell_1_layer_call_and_return_conditional_losses while saving (showing 4 of 4). These functions will not be directly callable after loading.\n"
          ]
        },
        {
          "metadata": {
            "tags": null
          },
          "name": "stdout",
          "output_type": "stream",
          "text": [
            "INFO:tensorflow:Assets written to: model.NLP/assets\n"
          ]
        },
        {
          "metadata": {
            "tags": null
          },
          "name": "stderr",
          "output_type": "stream",
          "text": [
            "INFO:tensorflow:Assets written to: model.NLP/assets\n",
            "WARNING:absl:<keras.layers.recurrent.LSTMCell object at 0x7f3255e16ad0> has the same name 'LSTMCell' as a built-in Keras object. Consider renaming <class 'keras.layers.recurrent.LSTMCell'> to avoid naming conflicts when loading with `tf.keras.models.load_model`. If renaming is not possible, pass the object in the `custom_objects` parameter of the load function.\n",
            "WARNING:absl:<keras.layers.recurrent.LSTMCell object at 0x7f32521c3190> has the same name 'LSTMCell' as a built-in Keras object. Consider renaming <class 'keras.layers.recurrent.LSTMCell'> to avoid naming conflicts when loading with `tf.keras.models.load_model`. If renaming is not possible, pass the object in the `custom_objects` parameter of the load function.\n"
          ]
        },
        {
          "metadata": {
            "tags": null
          },
          "name": "stdout",
          "output_type": "stream",
          "text": [
            "25/25 [==============================] - 51s 2s/step - loss: 1.4173 - accuracy: 0.2632 - val_loss: 1.6219 - val_accuracy: 0.2586\n",
            "Epoch 7/70\n",
            "25/25 [==============================] - ETA: 0s - loss: 1.3594 - accuracy: 0.2771\n",
            "Epoch 7: saving model to model.NLP\n"
          ]
        },
        {
          "metadata": {
            "tags": null
          },
          "name": "stderr",
          "output_type": "stream",
          "text": [
            "WARNING:absl:Found untraced functions such as lstm_cell_layer_call_fn, lstm_cell_layer_call_and_return_conditional_losses, lstm_cell_1_layer_call_fn, lstm_cell_1_layer_call_and_return_conditional_losses while saving (showing 4 of 4). These functions will not be directly callable after loading.\n"
          ]
        },
        {
          "metadata": {
            "tags": null
          },
          "name": "stdout",
          "output_type": "stream",
          "text": [
            "INFO:tensorflow:Assets written to: model.NLP/assets\n"
          ]
        },
        {
          "metadata": {
            "tags": null
          },
          "name": "stderr",
          "output_type": "stream",
          "text": [
            "INFO:tensorflow:Assets written to: model.NLP/assets\n",
            "WARNING:absl:<keras.layers.recurrent.LSTMCell object at 0x7f3255e16ad0> has the same name 'LSTMCell' as a built-in Keras object. Consider renaming <class 'keras.layers.recurrent.LSTMCell'> to avoid naming conflicts when loading with `tf.keras.models.load_model`. If renaming is not possible, pass the object in the `custom_objects` parameter of the load function.\n",
            "WARNING:absl:<keras.layers.recurrent.LSTMCell object at 0x7f32521c3190> has the same name 'LSTMCell' as a built-in Keras object. Consider renaming <class 'keras.layers.recurrent.LSTMCell'> to avoid naming conflicts when loading with `tf.keras.models.load_model`. If renaming is not possible, pass the object in the `custom_objects` parameter of the load function.\n"
          ]
        },
        {
          "metadata": {
            "tags": null
          },
          "name": "stdout",
          "output_type": "stream",
          "text": [
            "25/25 [==============================] - 51s 2s/step - loss: 1.3594 - accuracy: 0.2771 - val_loss: 1.5982 - val_accuracy: 0.2801\n",
            "Epoch 8/70\n",
            "25/25 [==============================] - ETA: 0s - loss: 1.3158 - accuracy: 0.2897\n",
            "Epoch 8: saving model to model.NLP\n"
          ]
        },
        {
          "metadata": {
            "tags": null
          },
          "name": "stderr",
          "output_type": "stream",
          "text": [
            "WARNING:absl:Found untraced functions such as lstm_cell_layer_call_fn, lstm_cell_layer_call_and_return_conditional_losses, lstm_cell_1_layer_call_fn, lstm_cell_1_layer_call_and_return_conditional_losses while saving (showing 4 of 4). These functions will not be directly callable after loading.\n"
          ]
        },
        {
          "metadata": {
            "tags": null
          },
          "name": "stdout",
          "output_type": "stream",
          "text": [
            "INFO:tensorflow:Assets written to: model.NLP/assets\n"
          ]
        },
        {
          "metadata": {
            "tags": null
          },
          "name": "stderr",
          "output_type": "stream",
          "text": [
            "INFO:tensorflow:Assets written to: model.NLP/assets\n",
            "WARNING:absl:<keras.layers.recurrent.LSTMCell object at 0x7f3255e16ad0> has the same name 'LSTMCell' as a built-in Keras object. Consider renaming <class 'keras.layers.recurrent.LSTMCell'> to avoid naming conflicts when loading with `tf.keras.models.load_model`. If renaming is not possible, pass the object in the `custom_objects` parameter of the load function.\n",
            "WARNING:absl:<keras.layers.recurrent.LSTMCell object at 0x7f32521c3190> has the same name 'LSTMCell' as a built-in Keras object. Consider renaming <class 'keras.layers.recurrent.LSTMCell'> to avoid naming conflicts when loading with `tf.keras.models.load_model`. If renaming is not possible, pass the object in the `custom_objects` parameter of the load function.\n"
          ]
        },
        {
          "metadata": {
            "tags": null
          },
          "name": "stdout",
          "output_type": "stream",
          "text": [
            "25/25 [==============================] - 50s 2s/step - loss: 1.3158 - accuracy: 0.2897 - val_loss: 1.5810 - val_accuracy: 0.2843\n",
            "Epoch 9/70\n",
            "25/25 [==============================] - ETA: 0s - loss: 1.2773 - accuracy: 0.3027\n",
            "Epoch 9: saving model to model.NLP\n"
          ]
        },
        {
          "metadata": {
            "tags": null
          },
          "name": "stderr",
          "output_type": "stream",
          "text": [
            "WARNING:absl:Found untraced functions such as lstm_cell_layer_call_fn, lstm_cell_layer_call_and_return_conditional_losses, lstm_cell_1_layer_call_fn, lstm_cell_1_layer_call_and_return_conditional_losses while saving (showing 4 of 4). These functions will not be directly callable after loading.\n"
          ]
        },
        {
          "metadata": {
            "tags": null
          },
          "name": "stdout",
          "output_type": "stream",
          "text": [
            "INFO:tensorflow:Assets written to: model.NLP/assets\n"
          ]
        },
        {
          "metadata": {
            "tags": null
          },
          "name": "stderr",
          "output_type": "stream",
          "text": [
            "INFO:tensorflow:Assets written to: model.NLP/assets\n",
            "WARNING:absl:<keras.layers.recurrent.LSTMCell object at 0x7f3255e16ad0> has the same name 'LSTMCell' as a built-in Keras object. Consider renaming <class 'keras.layers.recurrent.LSTMCell'> to avoid naming conflicts when loading with `tf.keras.models.load_model`. If renaming is not possible, pass the object in the `custom_objects` parameter of the load function.\n",
            "WARNING:absl:<keras.layers.recurrent.LSTMCell object at 0x7f32521c3190> has the same name 'LSTMCell' as a built-in Keras object. Consider renaming <class 'keras.layers.recurrent.LSTMCell'> to avoid naming conflicts when loading with `tf.keras.models.load_model`. If renaming is not possible, pass the object in the `custom_objects` parameter of the load function.\n"
          ]
        },
        {
          "metadata": {
            "tags": null
          },
          "name": "stdout",
          "output_type": "stream",
          "text": [
            "25/25 [==============================] - 51s 2s/step - loss: 1.2773 - accuracy: 0.3027 - val_loss: 1.5652 - val_accuracy: 0.2963\n",
            "Epoch 10/70\n",
            "25/25 [==============================] - ETA: 0s - loss: 1.2273 - accuracy: 0.3183\n",
            "Epoch 10: saving model to model.NLP\n"
          ]
        },
        {
          "metadata": {
            "tags": null
          },
          "name": "stderr",
          "output_type": "stream",
          "text": [
            "WARNING:absl:Found untraced functions such as lstm_cell_layer_call_fn, lstm_cell_layer_call_and_return_conditional_losses, lstm_cell_1_layer_call_fn, lstm_cell_1_layer_call_and_return_conditional_losses while saving (showing 4 of 4). These functions will not be directly callable after loading.\n"
          ]
        },
        {
          "metadata": {
            "tags": null
          },
          "name": "stdout",
          "output_type": "stream",
          "text": [
            "INFO:tensorflow:Assets written to: model.NLP/assets\n"
          ]
        },
        {
          "metadata": {
            "tags": null
          },
          "name": "stderr",
          "output_type": "stream",
          "text": [
            "INFO:tensorflow:Assets written to: model.NLP/assets\n",
            "WARNING:absl:<keras.layers.recurrent.LSTMCell object at 0x7f3255e16ad0> has the same name 'LSTMCell' as a built-in Keras object. Consider renaming <class 'keras.layers.recurrent.LSTMCell'> to avoid naming conflicts when loading with `tf.keras.models.load_model`. If renaming is not possible, pass the object in the `custom_objects` parameter of the load function.\n",
            "WARNING:absl:<keras.layers.recurrent.LSTMCell object at 0x7f32521c3190> has the same name 'LSTMCell' as a built-in Keras object. Consider renaming <class 'keras.layers.recurrent.LSTMCell'> to avoid naming conflicts when loading with `tf.keras.models.load_model`. If renaming is not possible, pass the object in the `custom_objects` parameter of the load function.\n"
          ]
        },
        {
          "metadata": {
            "tags": null
          },
          "name": "stdout",
          "output_type": "stream",
          "text": [
            "25/25 [==============================] - 51s 2s/step - loss: 1.2273 - accuracy: 0.3183 - val_loss: 1.5569 - val_accuracy: 0.3044\n",
            "Epoch 11/70\n",
            "25/25 [==============================] - ETA: 0s - loss: 1.1830 - accuracy: 0.3329\n",
            "Epoch 11: saving model to model.NLP\n"
          ]
        },
        {
          "metadata": {
            "tags": null
          },
          "name": "stderr",
          "output_type": "stream",
          "text": [
            "WARNING:absl:Found untraced functions such as lstm_cell_layer_call_fn, lstm_cell_layer_call_and_return_conditional_losses, lstm_cell_1_layer_call_fn, lstm_cell_1_layer_call_and_return_conditional_losses while saving (showing 4 of 4). These functions will not be directly callable after loading.\n"
          ]
        },
        {
          "metadata": {
            "tags": null
          },
          "name": "stdout",
          "output_type": "stream",
          "text": [
            "INFO:tensorflow:Assets written to: model.NLP/assets\n"
          ]
        },
        {
          "metadata": {
            "tags": null
          },
          "name": "stderr",
          "output_type": "stream",
          "text": [
            "INFO:tensorflow:Assets written to: model.NLP/assets\n",
            "WARNING:absl:<keras.layers.recurrent.LSTMCell object at 0x7f3255e16ad0> has the same name 'LSTMCell' as a built-in Keras object. Consider renaming <class 'keras.layers.recurrent.LSTMCell'> to avoid naming conflicts when loading with `tf.keras.models.load_model`. If renaming is not possible, pass the object in the `custom_objects` parameter of the load function.\n",
            "WARNING:absl:<keras.layers.recurrent.LSTMCell object at 0x7f32521c3190> has the same name 'LSTMCell' as a built-in Keras object. Consider renaming <class 'keras.layers.recurrent.LSTMCell'> to avoid naming conflicts when loading with `tf.keras.models.load_model`. If renaming is not possible, pass the object in the `custom_objects` parameter of the load function.\n"
          ]
        },
        {
          "metadata": {
            "tags": null
          },
          "name": "stdout",
          "output_type": "stream",
          "text": [
            "25/25 [==============================] - 51s 2s/step - loss: 1.1830 - accuracy: 0.3329 - val_loss: 1.5379 - val_accuracy: 0.3117\n",
            "Epoch 12/70\n",
            "25/25 [==============================] - ETA: 0s - loss: 1.1427 - accuracy: 0.3466\n",
            "Epoch 12: saving model to model.NLP\n"
          ]
        },
        {
          "metadata": {
            "tags": null
          },
          "name": "stderr",
          "output_type": "stream",
          "text": [
            "WARNING:absl:Found untraced functions such as lstm_cell_layer_call_fn, lstm_cell_layer_call_and_return_conditional_losses, lstm_cell_1_layer_call_fn, lstm_cell_1_layer_call_and_return_conditional_losses while saving (showing 4 of 4). These functions will not be directly callable after loading.\n"
          ]
        },
        {
          "metadata": {
            "tags": null
          },
          "name": "stdout",
          "output_type": "stream",
          "text": [
            "INFO:tensorflow:Assets written to: model.NLP/assets\n"
          ]
        },
        {
          "metadata": {
            "tags": null
          },
          "name": "stderr",
          "output_type": "stream",
          "text": [
            "INFO:tensorflow:Assets written to: model.NLP/assets\n",
            "WARNING:absl:<keras.layers.recurrent.LSTMCell object at 0x7f3255e16ad0> has the same name 'LSTMCell' as a built-in Keras object. Consider renaming <class 'keras.layers.recurrent.LSTMCell'> to avoid naming conflicts when loading with `tf.keras.models.load_model`. If renaming is not possible, pass the object in the `custom_objects` parameter of the load function.\n",
            "WARNING:absl:<keras.layers.recurrent.LSTMCell object at 0x7f32521c3190> has the same name 'LSTMCell' as a built-in Keras object. Consider renaming <class 'keras.layers.recurrent.LSTMCell'> to avoid naming conflicts when loading with `tf.keras.models.load_model`. If renaming is not possible, pass the object in the `custom_objects` parameter of the load function.\n"
          ]
        },
        {
          "metadata": {
            "tags": null
          },
          "name": "stdout",
          "output_type": "stream",
          "text": [
            "25/25 [==============================] - 52s 2s/step - loss: 1.1427 - accuracy: 0.3466 - val_loss: 1.5183 - val_accuracy: 0.3211\n",
            "Epoch 13/70\n",
            "25/25 [==============================] - ETA: 0s - loss: 1.1014 - accuracy: 0.3599\n",
            "Epoch 13: saving model to model.NLP\n"
          ]
        },
        {
          "metadata": {
            "tags": null
          },
          "name": "stderr",
          "output_type": "stream",
          "text": [
            "WARNING:absl:Found untraced functions such as lstm_cell_layer_call_fn, lstm_cell_layer_call_and_return_conditional_losses, lstm_cell_1_layer_call_fn, lstm_cell_1_layer_call_and_return_conditional_losses while saving (showing 4 of 4). These functions will not be directly callable after loading.\n"
          ]
        },
        {
          "metadata": {
            "tags": null
          },
          "name": "stdout",
          "output_type": "stream",
          "text": [
            "INFO:tensorflow:Assets written to: model.NLP/assets\n"
          ]
        },
        {
          "metadata": {
            "tags": null
          },
          "name": "stderr",
          "output_type": "stream",
          "text": [
            "INFO:tensorflow:Assets written to: model.NLP/assets\n",
            "WARNING:absl:<keras.layers.recurrent.LSTMCell object at 0x7f3255e16ad0> has the same name 'LSTMCell' as a built-in Keras object. Consider renaming <class 'keras.layers.recurrent.LSTMCell'> to avoid naming conflicts when loading with `tf.keras.models.load_model`. If renaming is not possible, pass the object in the `custom_objects` parameter of the load function.\n",
            "WARNING:absl:<keras.layers.recurrent.LSTMCell object at 0x7f32521c3190> has the same name 'LSTMCell' as a built-in Keras object. Consider renaming <class 'keras.layers.recurrent.LSTMCell'> to avoid naming conflicts when loading with `tf.keras.models.load_model`. If renaming is not possible, pass the object in the `custom_objects` parameter of the load function.\n"
          ]
        },
        {
          "metadata": {
            "tags": null
          },
          "name": "stdout",
          "output_type": "stream",
          "text": [
            "25/25 [==============================] - 52s 2s/step - loss: 1.1014 - accuracy: 0.3599 - val_loss: 1.5116 - val_accuracy: 0.3269\n",
            "Epoch 14/70\n",
            "25/25 [==============================] - ETA: 0s - loss: 1.0592 - accuracy: 0.3731\n",
            "Epoch 14: saving model to model.NLP\n"
          ]
        },
        {
          "metadata": {
            "tags": null
          },
          "name": "stderr",
          "output_type": "stream",
          "text": [
            "WARNING:absl:Found untraced functions such as lstm_cell_layer_call_fn, lstm_cell_layer_call_and_return_conditional_losses, lstm_cell_1_layer_call_fn, lstm_cell_1_layer_call_and_return_conditional_losses while saving (showing 4 of 4). These functions will not be directly callable after loading.\n"
          ]
        },
        {
          "metadata": {
            "tags": null
          },
          "name": "stdout",
          "output_type": "stream",
          "text": [
            "INFO:tensorflow:Assets written to: model.NLP/assets\n"
          ]
        },
        {
          "metadata": {
            "tags": null
          },
          "name": "stderr",
          "output_type": "stream",
          "text": [
            "INFO:tensorflow:Assets written to: model.NLP/assets\n",
            "WARNING:absl:<keras.layers.recurrent.LSTMCell object at 0x7f3255e16ad0> has the same name 'LSTMCell' as a built-in Keras object. Consider renaming <class 'keras.layers.recurrent.LSTMCell'> to avoid naming conflicts when loading with `tf.keras.models.load_model`. If renaming is not possible, pass the object in the `custom_objects` parameter of the load function.\n",
            "WARNING:absl:<keras.layers.recurrent.LSTMCell object at 0x7f32521c3190> has the same name 'LSTMCell' as a built-in Keras object. Consider renaming <class 'keras.layers.recurrent.LSTMCell'> to avoid naming conflicts when loading with `tf.keras.models.load_model`. If renaming is not possible, pass the object in the `custom_objects` parameter of the load function.\n"
          ]
        },
        {
          "metadata": {
            "tags": null
          },
          "name": "stdout",
          "output_type": "stream",
          "text": [
            "25/25 [==============================] - 51s 2s/step - loss: 1.0592 - accuracy: 0.3731 - val_loss: 1.4884 - val_accuracy: 0.3337\n",
            "Epoch 15/70\n",
            "25/25 [==============================] - ETA: 0s - loss: 1.0173 - accuracy: 0.3872\n",
            "Epoch 15: saving model to model.NLP\n"
          ]
        },
        {
          "metadata": {
            "tags": null
          },
          "name": "stderr",
          "output_type": "stream",
          "text": [
            "WARNING:absl:Found untraced functions such as lstm_cell_layer_call_fn, lstm_cell_layer_call_and_return_conditional_losses, lstm_cell_1_layer_call_fn, lstm_cell_1_layer_call_and_return_conditional_losses while saving (showing 4 of 4). These functions will not be directly callable after loading.\n"
          ]
        },
        {
          "metadata": {
            "tags": null
          },
          "name": "stdout",
          "output_type": "stream",
          "text": [
            "INFO:tensorflow:Assets written to: model.NLP/assets\n"
          ]
        },
        {
          "metadata": {
            "tags": null
          },
          "name": "stderr",
          "output_type": "stream",
          "text": [
            "INFO:tensorflow:Assets written to: model.NLP/assets\n",
            "WARNING:absl:<keras.layers.recurrent.LSTMCell object at 0x7f3255e16ad0> has the same name 'LSTMCell' as a built-in Keras object. Consider renaming <class 'keras.layers.recurrent.LSTMCell'> to avoid naming conflicts when loading with `tf.keras.models.load_model`. If renaming is not possible, pass the object in the `custom_objects` parameter of the load function.\n",
            "WARNING:absl:<keras.layers.recurrent.LSTMCell object at 0x7f32521c3190> has the same name 'LSTMCell' as a built-in Keras object. Consider renaming <class 'keras.layers.recurrent.LSTMCell'> to avoid naming conflicts when loading with `tf.keras.models.load_model`. If renaming is not possible, pass the object in the `custom_objects` parameter of the load function.\n"
          ]
        },
        {
          "metadata": {
            "tags": null
          },
          "name": "stdout",
          "output_type": "stream",
          "text": [
            "25/25 [==============================] - 51s 2s/step - loss: 1.0173 - accuracy: 0.3872 - val_loss: 1.4655 - val_accuracy: 0.3454\n",
            "Epoch 16/70\n",
            "25/25 [==============================] - ETA: 0s - loss: 0.9826 - accuracy: 0.4018\n",
            "Epoch 16: saving model to model.NLP\n"
          ]
        },
        {
          "metadata": {
            "tags": null
          },
          "name": "stderr",
          "output_type": "stream",
          "text": [
            "WARNING:absl:Found untraced functions such as lstm_cell_layer_call_fn, lstm_cell_layer_call_and_return_conditional_losses, lstm_cell_1_layer_call_fn, lstm_cell_1_layer_call_and_return_conditional_losses while saving (showing 4 of 4). These functions will not be directly callable after loading.\n"
          ]
        },
        {
          "metadata": {
            "tags": null
          },
          "name": "stdout",
          "output_type": "stream",
          "text": [
            "INFO:tensorflow:Assets written to: model.NLP/assets\n"
          ]
        },
        {
          "metadata": {
            "tags": null
          },
          "name": "stderr",
          "output_type": "stream",
          "text": [
            "INFO:tensorflow:Assets written to: model.NLP/assets\n",
            "WARNING:absl:<keras.layers.recurrent.LSTMCell object at 0x7f3255e16ad0> has the same name 'LSTMCell' as a built-in Keras object. Consider renaming <class 'keras.layers.recurrent.LSTMCell'> to avoid naming conflicts when loading with `tf.keras.models.load_model`. If renaming is not possible, pass the object in the `custom_objects` parameter of the load function.\n",
            "WARNING:absl:<keras.layers.recurrent.LSTMCell object at 0x7f32521c3190> has the same name 'LSTMCell' as a built-in Keras object. Consider renaming <class 'keras.layers.recurrent.LSTMCell'> to avoid naming conflicts when loading with `tf.keras.models.load_model`. If renaming is not possible, pass the object in the `custom_objects` parameter of the load function.\n"
          ]
        },
        {
          "metadata": {
            "tags": null
          },
          "name": "stdout",
          "output_type": "stream",
          "text": [
            "25/25 [==============================] - 51s 2s/step - loss: 0.9826 - accuracy: 0.4018 - val_loss: 1.4536 - val_accuracy: 0.3494\n",
            "Epoch 17/70\n",
            "25/25 [==============================] - ETA: 0s - loss: 0.9454 - accuracy: 0.4133\n",
            "Epoch 17: saving model to model.NLP\n"
          ]
        },
        {
          "metadata": {
            "tags": null
          },
          "name": "stderr",
          "output_type": "stream",
          "text": [
            "WARNING:absl:Found untraced functions such as lstm_cell_layer_call_fn, lstm_cell_layer_call_and_return_conditional_losses, lstm_cell_1_layer_call_fn, lstm_cell_1_layer_call_and_return_conditional_losses while saving (showing 4 of 4). These functions will not be directly callable after loading.\n"
          ]
        },
        {
          "metadata": {
            "tags": null
          },
          "name": "stdout",
          "output_type": "stream",
          "text": [
            "INFO:tensorflow:Assets written to: model.NLP/assets\n"
          ]
        },
        {
          "metadata": {
            "tags": null
          },
          "name": "stderr",
          "output_type": "stream",
          "text": [
            "INFO:tensorflow:Assets written to: model.NLP/assets\n",
            "WARNING:absl:<keras.layers.recurrent.LSTMCell object at 0x7f3255e16ad0> has the same name 'LSTMCell' as a built-in Keras object. Consider renaming <class 'keras.layers.recurrent.LSTMCell'> to avoid naming conflicts when loading with `tf.keras.models.load_model`. If renaming is not possible, pass the object in the `custom_objects` parameter of the load function.\n",
            "WARNING:absl:<keras.layers.recurrent.LSTMCell object at 0x7f32521c3190> has the same name 'LSTMCell' as a built-in Keras object. Consider renaming <class 'keras.layers.recurrent.LSTMCell'> to avoid naming conflicts when loading with `tf.keras.models.load_model`. If renaming is not possible, pass the object in the `custom_objects` parameter of the load function.\n"
          ]
        },
        {
          "metadata": {
            "tags": null
          },
          "name": "stdout",
          "output_type": "stream",
          "text": [
            "25/25 [==============================] - 52s 2s/step - loss: 0.9454 - accuracy: 0.4133 - val_loss: 1.4444 - val_accuracy: 0.3520\n",
            "Epoch 18/70\n",
            "25/25 [==============================] - ETA: 0s - loss: 0.9115 - accuracy: 0.4286\n",
            "Epoch 18: saving model to model.NLP\n"
          ]
        },
        {
          "metadata": {
            "tags": null
          },
          "name": "stderr",
          "output_type": "stream",
          "text": [
            "WARNING:absl:Found untraced functions such as lstm_cell_layer_call_fn, lstm_cell_layer_call_and_return_conditional_losses, lstm_cell_1_layer_call_fn, lstm_cell_1_layer_call_and_return_conditional_losses while saving (showing 4 of 4). These functions will not be directly callable after loading.\n"
          ]
        },
        {
          "metadata": {
            "tags": null
          },
          "name": "stdout",
          "output_type": "stream",
          "text": [
            "INFO:tensorflow:Assets written to: model.NLP/assets\n"
          ]
        },
        {
          "metadata": {
            "tags": null
          },
          "name": "stderr",
          "output_type": "stream",
          "text": [
            "INFO:tensorflow:Assets written to: model.NLP/assets\n",
            "WARNING:absl:<keras.layers.recurrent.LSTMCell object at 0x7f3255e16ad0> has the same name 'LSTMCell' as a built-in Keras object. Consider renaming <class 'keras.layers.recurrent.LSTMCell'> to avoid naming conflicts when loading with `tf.keras.models.load_model`. If renaming is not possible, pass the object in the `custom_objects` parameter of the load function.\n",
            "WARNING:absl:<keras.layers.recurrent.LSTMCell object at 0x7f32521c3190> has the same name 'LSTMCell' as a built-in Keras object. Consider renaming <class 'keras.layers.recurrent.LSTMCell'> to avoid naming conflicts when loading with `tf.keras.models.load_model`. If renaming is not possible, pass the object in the `custom_objects` parameter of the load function.\n"
          ]
        },
        {
          "metadata": {
            "tags": null
          },
          "name": "stdout",
          "output_type": "stream",
          "text": [
            "25/25 [==============================] - 53s 2s/step - loss: 0.9115 - accuracy: 0.4286 - val_loss: 1.4223 - val_accuracy: 0.3640\n",
            "Epoch 19/70\n",
            "25/25 [==============================] - ETA: 0s - loss: 0.8734 - accuracy: 0.4446\n",
            "Epoch 19: saving model to model.NLP\n"
          ]
        },
        {
          "metadata": {
            "tags": null
          },
          "name": "stderr",
          "output_type": "stream",
          "text": [
            "WARNING:absl:Found untraced functions such as lstm_cell_layer_call_fn, lstm_cell_layer_call_and_return_conditional_losses, lstm_cell_1_layer_call_fn, lstm_cell_1_layer_call_and_return_conditional_losses while saving (showing 4 of 4). These functions will not be directly callable after loading.\n"
          ]
        },
        {
          "metadata": {
            "tags": null
          },
          "name": "stdout",
          "output_type": "stream",
          "text": [
            "INFO:tensorflow:Assets written to: model.NLP/assets\n"
          ]
        },
        {
          "metadata": {
            "tags": null
          },
          "name": "stderr",
          "output_type": "stream",
          "text": [
            "INFO:tensorflow:Assets written to: model.NLP/assets\n",
            "WARNING:absl:<keras.layers.recurrent.LSTMCell object at 0x7f3255e16ad0> has the same name 'LSTMCell' as a built-in Keras object. Consider renaming <class 'keras.layers.recurrent.LSTMCell'> to avoid naming conflicts when loading with `tf.keras.models.load_model`. If renaming is not possible, pass the object in the `custom_objects` parameter of the load function.\n",
            "WARNING:absl:<keras.layers.recurrent.LSTMCell object at 0x7f32521c3190> has the same name 'LSTMCell' as a built-in Keras object. Consider renaming <class 'keras.layers.recurrent.LSTMCell'> to avoid naming conflicts when loading with `tf.keras.models.load_model`. If renaming is not possible, pass the object in the `custom_objects` parameter of the load function.\n"
          ]
        },
        {
          "metadata": {
            "tags": null
          },
          "name": "stdout",
          "output_type": "stream",
          "text": [
            "25/25 [==============================] - 52s 2s/step - loss: 0.8734 - accuracy: 0.4446 - val_loss: 1.4115 - val_accuracy: 0.3695\n",
            "Epoch 20/70\n",
            "25/25 [==============================] - ETA: 0s - loss: 0.8389 - accuracy: 0.4619\n",
            "Epoch 20: saving model to model.NLP\n"
          ]
        },
        {
          "metadata": {
            "tags": null
          },
          "name": "stderr",
          "output_type": "stream",
          "text": [
            "WARNING:absl:Found untraced functions such as lstm_cell_layer_call_fn, lstm_cell_layer_call_and_return_conditional_losses, lstm_cell_1_layer_call_fn, lstm_cell_1_layer_call_and_return_conditional_losses while saving (showing 4 of 4). These functions will not be directly callable after loading.\n"
          ]
        },
        {
          "metadata": {
            "tags": null
          },
          "name": "stdout",
          "output_type": "stream",
          "text": [
            "INFO:tensorflow:Assets written to: model.NLP/assets\n"
          ]
        },
        {
          "metadata": {
            "tags": null
          },
          "name": "stderr",
          "output_type": "stream",
          "text": [
            "INFO:tensorflow:Assets written to: model.NLP/assets\n",
            "WARNING:absl:<keras.layers.recurrent.LSTMCell object at 0x7f3255e16ad0> has the same name 'LSTMCell' as a built-in Keras object. Consider renaming <class 'keras.layers.recurrent.LSTMCell'> to avoid naming conflicts when loading with `tf.keras.models.load_model`. If renaming is not possible, pass the object in the `custom_objects` parameter of the load function.\n",
            "WARNING:absl:<keras.layers.recurrent.LSTMCell object at 0x7f32521c3190> has the same name 'LSTMCell' as a built-in Keras object. Consider renaming <class 'keras.layers.recurrent.LSTMCell'> to avoid naming conflicts when loading with `tf.keras.models.load_model`. If renaming is not possible, pass the object in the `custom_objects` parameter of the load function.\n"
          ]
        },
        {
          "metadata": {
            "tags": null
          },
          "name": "stdout",
          "output_type": "stream",
          "text": [
            "25/25 [==============================] - 50s 2s/step - loss: 0.8389 - accuracy: 0.4619 - val_loss: 1.3966 - val_accuracy: 0.3792\n",
            "Epoch 21/70\n",
            "25/25 [==============================] - ETA: 0s - loss: 0.8056 - accuracy: 0.4788\n",
            "Epoch 21: saving model to model.NLP\n"
          ]
        },
        {
          "metadata": {
            "tags": null
          },
          "name": "stderr",
          "output_type": "stream",
          "text": [
            "WARNING:absl:Found untraced functions such as lstm_cell_layer_call_fn, lstm_cell_layer_call_and_return_conditional_losses, lstm_cell_1_layer_call_fn, lstm_cell_1_layer_call_and_return_conditional_losses while saving (showing 4 of 4). These functions will not be directly callable after loading.\n"
          ]
        },
        {
          "metadata": {
            "tags": null
          },
          "name": "stdout",
          "output_type": "stream",
          "text": [
            "INFO:tensorflow:Assets written to: model.NLP/assets\n"
          ]
        },
        {
          "metadata": {
            "tags": null
          },
          "name": "stderr",
          "output_type": "stream",
          "text": [
            "INFO:tensorflow:Assets written to: model.NLP/assets\n",
            "WARNING:absl:<keras.layers.recurrent.LSTMCell object at 0x7f3255e16ad0> has the same name 'LSTMCell' as a built-in Keras object. Consider renaming <class 'keras.layers.recurrent.LSTMCell'> to avoid naming conflicts when loading with `tf.keras.models.load_model`. If renaming is not possible, pass the object in the `custom_objects` parameter of the load function.\n",
            "WARNING:absl:<keras.layers.recurrent.LSTMCell object at 0x7f32521c3190> has the same name 'LSTMCell' as a built-in Keras object. Consider renaming <class 'keras.layers.recurrent.LSTMCell'> to avoid naming conflicts when loading with `tf.keras.models.load_model`. If renaming is not possible, pass the object in the `custom_objects` parameter of the load function.\n"
          ]
        },
        {
          "metadata": {
            "tags": null
          },
          "name": "stdout",
          "output_type": "stream",
          "text": [
            "25/25 [==============================] - 50s 2s/step - loss: 0.8056 - accuracy: 0.4788 - val_loss: 1.3884 - val_accuracy: 0.3855\n",
            "Epoch 22/70\n",
            "25/25 [==============================] - ETA: 0s - loss: 0.7741 - accuracy: 0.4934\n",
            "Epoch 22: saving model to model.NLP\n"
          ]
        },
        {
          "metadata": {
            "tags": null
          },
          "name": "stderr",
          "output_type": "stream",
          "text": [
            "WARNING:absl:Found untraced functions such as lstm_cell_layer_call_fn, lstm_cell_layer_call_and_return_conditional_losses, lstm_cell_1_layer_call_fn, lstm_cell_1_layer_call_and_return_conditional_losses while saving (showing 4 of 4). These functions will not be directly callable after loading.\n"
          ]
        },
        {
          "metadata": {
            "tags": null
          },
          "name": "stdout",
          "output_type": "stream",
          "text": [
            "INFO:tensorflow:Assets written to: model.NLP/assets\n"
          ]
        },
        {
          "metadata": {
            "tags": null
          },
          "name": "stderr",
          "output_type": "stream",
          "text": [
            "INFO:tensorflow:Assets written to: model.NLP/assets\n",
            "WARNING:absl:<keras.layers.recurrent.LSTMCell object at 0x7f3255e16ad0> has the same name 'LSTMCell' as a built-in Keras object. Consider renaming <class 'keras.layers.recurrent.LSTMCell'> to avoid naming conflicts when loading with `tf.keras.models.load_model`. If renaming is not possible, pass the object in the `custom_objects` parameter of the load function.\n",
            "WARNING:absl:<keras.layers.recurrent.LSTMCell object at 0x7f32521c3190> has the same name 'LSTMCell' as a built-in Keras object. Consider renaming <class 'keras.layers.recurrent.LSTMCell'> to avoid naming conflicts when loading with `tf.keras.models.load_model`. If renaming is not possible, pass the object in the `custom_objects` parameter of the load function.\n"
          ]
        },
        {
          "metadata": {
            "tags": null
          },
          "name": "stdout",
          "output_type": "stream",
          "text": [
            "25/25 [==============================] - 51s 2s/step - loss: 0.7741 - accuracy: 0.4934 - val_loss: 1.3832 - val_accuracy: 0.3857\n",
            "Epoch 23/70\n",
            "25/25 [==============================] - ETA: 0s - loss: 0.7448 - accuracy: 0.5120\n",
            "Epoch 23: saving model to model.NLP\n"
          ]
        },
        {
          "metadata": {
            "tags": null
          },
          "name": "stderr",
          "output_type": "stream",
          "text": [
            "WARNING:absl:Found untraced functions such as lstm_cell_layer_call_fn, lstm_cell_layer_call_and_return_conditional_losses, lstm_cell_1_layer_call_fn, lstm_cell_1_layer_call_and_return_conditional_losses while saving (showing 4 of 4). These functions will not be directly callable after loading.\n"
          ]
        },
        {
          "metadata": {
            "tags": null
          },
          "name": "stdout",
          "output_type": "stream",
          "text": [
            "INFO:tensorflow:Assets written to: model.NLP/assets\n"
          ]
        },
        {
          "metadata": {
            "tags": null
          },
          "name": "stderr",
          "output_type": "stream",
          "text": [
            "INFO:tensorflow:Assets written to: model.NLP/assets\n",
            "WARNING:absl:<keras.layers.recurrent.LSTMCell object at 0x7f3255e16ad0> has the same name 'LSTMCell' as a built-in Keras object. Consider renaming <class 'keras.layers.recurrent.LSTMCell'> to avoid naming conflicts when loading with `tf.keras.models.load_model`. If renaming is not possible, pass the object in the `custom_objects` parameter of the load function.\n",
            "WARNING:absl:<keras.layers.recurrent.LSTMCell object at 0x7f32521c3190> has the same name 'LSTMCell' as a built-in Keras object. Consider renaming <class 'keras.layers.recurrent.LSTMCell'> to avoid naming conflicts when loading with `tf.keras.models.load_model`. If renaming is not possible, pass the object in the `custom_objects` parameter of the load function.\n"
          ]
        },
        {
          "metadata": {
            "tags": null
          },
          "name": "stdout",
          "output_type": "stream",
          "text": [
            "25/25 [==============================] - 49s 2s/step - loss: 0.7448 - accuracy: 0.5120 - val_loss: 1.3749 - val_accuracy: 0.3959\n",
            "Epoch 24/70\n",
            "25/25 [==============================] - ETA: 0s - loss: 0.7139 - accuracy: 0.5290\n",
            "Epoch 24: saving model to model.NLP\n"
          ]
        },
        {
          "metadata": {
            "tags": null
          },
          "name": "stderr",
          "output_type": "stream",
          "text": [
            "WARNING:absl:Found untraced functions such as lstm_cell_layer_call_fn, lstm_cell_layer_call_and_return_conditional_losses, lstm_cell_1_layer_call_fn, lstm_cell_1_layer_call_and_return_conditional_losses while saving (showing 4 of 4). These functions will not be directly callable after loading.\n"
          ]
        },
        {
          "metadata": {
            "tags": null
          },
          "name": "stdout",
          "output_type": "stream",
          "text": [
            "INFO:tensorflow:Assets written to: model.NLP/assets\n"
          ]
        },
        {
          "metadata": {
            "tags": null
          },
          "name": "stderr",
          "output_type": "stream",
          "text": [
            "INFO:tensorflow:Assets written to: model.NLP/assets\n",
            "WARNING:absl:<keras.layers.recurrent.LSTMCell object at 0x7f3255e16ad0> has the same name 'LSTMCell' as a built-in Keras object. Consider renaming <class 'keras.layers.recurrent.LSTMCell'> to avoid naming conflicts when loading with `tf.keras.models.load_model`. If renaming is not possible, pass the object in the `custom_objects` parameter of the load function.\n",
            "WARNING:absl:<keras.layers.recurrent.LSTMCell object at 0x7f32521c3190> has the same name 'LSTMCell' as a built-in Keras object. Consider renaming <class 'keras.layers.recurrent.LSTMCell'> to avoid naming conflicts when loading with `tf.keras.models.load_model`. If renaming is not possible, pass the object in the `custom_objects` parameter of the load function.\n"
          ]
        },
        {
          "metadata": {
            "tags": null
          },
          "name": "stdout",
          "output_type": "stream",
          "text": [
            "25/25 [==============================] - 51s 2s/step - loss: 0.7139 - accuracy: 0.5290 - val_loss: 1.3662 - val_accuracy: 0.4059\n",
            "Epoch 25/70\n",
            "25/25 [==============================] - ETA: 0s - loss: 0.6796 - accuracy: 0.5501\n",
            "Epoch 25: saving model to model.NLP\n"
          ]
        },
        {
          "metadata": {
            "tags": null
          },
          "name": "stderr",
          "output_type": "stream",
          "text": [
            "WARNING:absl:Found untraced functions such as lstm_cell_layer_call_fn, lstm_cell_layer_call_and_return_conditional_losses, lstm_cell_1_layer_call_fn, lstm_cell_1_layer_call_and_return_conditional_losses while saving (showing 4 of 4). These functions will not be directly callable after loading.\n"
          ]
        },
        {
          "metadata": {
            "tags": null
          },
          "name": "stdout",
          "output_type": "stream",
          "text": [
            "INFO:tensorflow:Assets written to: model.NLP/assets\n"
          ]
        },
        {
          "metadata": {
            "tags": null
          },
          "name": "stderr",
          "output_type": "stream",
          "text": [
            "INFO:tensorflow:Assets written to: model.NLP/assets\n",
            "WARNING:absl:<keras.layers.recurrent.LSTMCell object at 0x7f3255e16ad0> has the same name 'LSTMCell' as a built-in Keras object. Consider renaming <class 'keras.layers.recurrent.LSTMCell'> to avoid naming conflicts when loading with `tf.keras.models.load_model`. If renaming is not possible, pass the object in the `custom_objects` parameter of the load function.\n",
            "WARNING:absl:<keras.layers.recurrent.LSTMCell object at 0x7f32521c3190> has the same name 'LSTMCell' as a built-in Keras object. Consider renaming <class 'keras.layers.recurrent.LSTMCell'> to avoid naming conflicts when loading with `tf.keras.models.load_model`. If renaming is not possible, pass the object in the `custom_objects` parameter of the load function.\n"
          ]
        },
        {
          "metadata": {
            "tags": null
          },
          "name": "stdout",
          "output_type": "stream",
          "text": [
            "25/25 [==============================] - 50s 2s/step - loss: 0.6796 - accuracy: 0.5501 - val_loss: 1.3571 - val_accuracy: 0.4134\n",
            "Epoch 26/70\n",
            "25/25 [==============================] - ETA: 0s - loss: 0.6517 - accuracy: 0.5672\n",
            "Epoch 26: saving model to model.NLP\n"
          ]
        },
        {
          "metadata": {
            "tags": null
          },
          "name": "stderr",
          "output_type": "stream",
          "text": [
            "WARNING:absl:Found untraced functions such as lstm_cell_layer_call_fn, lstm_cell_layer_call_and_return_conditional_losses, lstm_cell_1_layer_call_fn, lstm_cell_1_layer_call_and_return_conditional_losses while saving (showing 4 of 4). These functions will not be directly callable after loading.\n"
          ]
        },
        {
          "metadata": {
            "tags": null
          },
          "name": "stdout",
          "output_type": "stream",
          "text": [
            "INFO:tensorflow:Assets written to: model.NLP/assets\n"
          ]
        },
        {
          "metadata": {
            "tags": null
          },
          "name": "stderr",
          "output_type": "stream",
          "text": [
            "INFO:tensorflow:Assets written to: model.NLP/assets\n",
            "WARNING:absl:<keras.layers.recurrent.LSTMCell object at 0x7f3255e16ad0> has the same name 'LSTMCell' as a built-in Keras object. Consider renaming <class 'keras.layers.recurrent.LSTMCell'> to avoid naming conflicts when loading with `tf.keras.models.load_model`. If renaming is not possible, pass the object in the `custom_objects` parameter of the load function.\n",
            "WARNING:absl:<keras.layers.recurrent.LSTMCell object at 0x7f32521c3190> has the same name 'LSTMCell' as a built-in Keras object. Consider renaming <class 'keras.layers.recurrent.LSTMCell'> to avoid naming conflicts when loading with `tf.keras.models.load_model`. If renaming is not possible, pass the object in the `custom_objects` parameter of the load function.\n"
          ]
        },
        {
          "metadata": {
            "tags": null
          },
          "name": "stdout",
          "output_type": "stream",
          "text": [
            "25/25 [==============================] - 49s 2s/step - loss: 0.6517 - accuracy: 0.5672 - val_loss: 1.3462 - val_accuracy: 0.4184\n",
            "Epoch 27/70\n",
            "25/25 [==============================] - ETA: 0s - loss: 0.6217 - accuracy: 0.5904\n",
            "Epoch 27: saving model to model.NLP\n"
          ]
        },
        {
          "metadata": {
            "tags": null
          },
          "name": "stderr",
          "output_type": "stream",
          "text": [
            "WARNING:absl:Found untraced functions such as lstm_cell_layer_call_fn, lstm_cell_layer_call_and_return_conditional_losses, lstm_cell_1_layer_call_fn, lstm_cell_1_layer_call_and_return_conditional_losses while saving (showing 4 of 4). These functions will not be directly callable after loading.\n"
          ]
        },
        {
          "metadata": {
            "tags": null
          },
          "name": "stdout",
          "output_type": "stream",
          "text": [
            "INFO:tensorflow:Assets written to: model.NLP/assets\n"
          ]
        },
        {
          "metadata": {
            "tags": null
          },
          "name": "stderr",
          "output_type": "stream",
          "text": [
            "INFO:tensorflow:Assets written to: model.NLP/assets\n",
            "WARNING:absl:<keras.layers.recurrent.LSTMCell object at 0x7f3255e16ad0> has the same name 'LSTMCell' as a built-in Keras object. Consider renaming <class 'keras.layers.recurrent.LSTMCell'> to avoid naming conflicts when loading with `tf.keras.models.load_model`. If renaming is not possible, pass the object in the `custom_objects` parameter of the load function.\n",
            "WARNING:absl:<keras.layers.recurrent.LSTMCell object at 0x7f32521c3190> has the same name 'LSTMCell' as a built-in Keras object. Consider renaming <class 'keras.layers.recurrent.LSTMCell'> to avoid naming conflicts when loading with `tf.keras.models.load_model`. If renaming is not possible, pass the object in the `custom_objects` parameter of the load function.\n"
          ]
        },
        {
          "metadata": {
            "tags": null
          },
          "name": "stdout",
          "output_type": "stream",
          "text": [
            "25/25 [==============================] - 50s 2s/step - loss: 0.6217 - accuracy: 0.5904 - val_loss: 1.3406 - val_accuracy: 0.4221\n",
            "Epoch 28/70\n",
            "25/25 [==============================] - ETA: 0s - loss: 0.5934 - accuracy: 0.6062\n",
            "Epoch 28: saving model to model.NLP\n"
          ]
        },
        {
          "metadata": {
            "tags": null
          },
          "name": "stderr",
          "output_type": "stream",
          "text": [
            "WARNING:absl:Found untraced functions such as lstm_cell_layer_call_fn, lstm_cell_layer_call_and_return_conditional_losses, lstm_cell_1_layer_call_fn, lstm_cell_1_layer_call_and_return_conditional_losses while saving (showing 4 of 4). These functions will not be directly callable after loading.\n"
          ]
        },
        {
          "metadata": {
            "tags": null
          },
          "name": "stdout",
          "output_type": "stream",
          "text": [
            "INFO:tensorflow:Assets written to: model.NLP/assets\n"
          ]
        },
        {
          "metadata": {
            "tags": null
          },
          "name": "stderr",
          "output_type": "stream",
          "text": [
            "INFO:tensorflow:Assets written to: model.NLP/assets\n",
            "WARNING:absl:<keras.layers.recurrent.LSTMCell object at 0x7f3255e16ad0> has the same name 'LSTMCell' as a built-in Keras object. Consider renaming <class 'keras.layers.recurrent.LSTMCell'> to avoid naming conflicts when loading with `tf.keras.models.load_model`. If renaming is not possible, pass the object in the `custom_objects` parameter of the load function.\n",
            "WARNING:absl:<keras.layers.recurrent.LSTMCell object at 0x7f32521c3190> has the same name 'LSTMCell' as a built-in Keras object. Consider renaming <class 'keras.layers.recurrent.LSTMCell'> to avoid naming conflicts when loading with `tf.keras.models.load_model`. If renaming is not possible, pass the object in the `custom_objects` parameter of the load function.\n"
          ]
        },
        {
          "metadata": {
            "tags": null
          },
          "name": "stdout",
          "output_type": "stream",
          "text": [
            "25/25 [==============================] - 50s 2s/step - loss: 0.5934 - accuracy: 0.6062 - val_loss: 1.3279 - val_accuracy: 0.4357\n",
            "Epoch 29/70\n",
            "25/25 [==============================] - ETA: 0s - loss: 0.5670 - accuracy: 0.6259\n",
            "Epoch 29: saving model to model.NLP\n"
          ]
        },
        {
          "metadata": {
            "tags": null
          },
          "name": "stderr",
          "output_type": "stream",
          "text": [
            "WARNING:absl:Found untraced functions such as lstm_cell_layer_call_fn, lstm_cell_layer_call_and_return_conditional_losses, lstm_cell_1_layer_call_fn, lstm_cell_1_layer_call_and_return_conditional_losses while saving (showing 4 of 4). These functions will not be directly callable after loading.\n"
          ]
        },
        {
          "metadata": {
            "tags": null
          },
          "name": "stdout",
          "output_type": "stream",
          "text": [
            "INFO:tensorflow:Assets written to: model.NLP/assets\n"
          ]
        },
        {
          "metadata": {
            "tags": null
          },
          "name": "stderr",
          "output_type": "stream",
          "text": [
            "INFO:tensorflow:Assets written to: model.NLP/assets\n",
            "WARNING:absl:<keras.layers.recurrent.LSTMCell object at 0x7f3255e16ad0> has the same name 'LSTMCell' as a built-in Keras object. Consider renaming <class 'keras.layers.recurrent.LSTMCell'> to avoid naming conflicts when loading with `tf.keras.models.load_model`. If renaming is not possible, pass the object in the `custom_objects` parameter of the load function.\n",
            "WARNING:absl:<keras.layers.recurrent.LSTMCell object at 0x7f32521c3190> has the same name 'LSTMCell' as a built-in Keras object. Consider renaming <class 'keras.layers.recurrent.LSTMCell'> to avoid naming conflicts when loading with `tf.keras.models.load_model`. If renaming is not possible, pass the object in the `custom_objects` parameter of the load function.\n"
          ]
        },
        {
          "metadata": {
            "tags": null
          },
          "name": "stdout",
          "output_type": "stream",
          "text": [
            "25/25 [==============================] - 49s 2s/step - loss: 0.5670 - accuracy: 0.6259 - val_loss: 1.3144 - val_accuracy: 0.4508\n",
            "Epoch 30/70\n",
            "25/25 [==============================] - ETA: 0s - loss: 0.5393 - accuracy: 0.6443\n",
            "Epoch 30: saving model to model.NLP\n"
          ]
        },
        {
          "metadata": {
            "tags": null
          },
          "name": "stderr",
          "output_type": "stream",
          "text": [
            "WARNING:absl:Found untraced functions such as lstm_cell_layer_call_fn, lstm_cell_layer_call_and_return_conditional_losses, lstm_cell_1_layer_call_fn, lstm_cell_1_layer_call_and_return_conditional_losses while saving (showing 4 of 4). These functions will not be directly callable after loading.\n"
          ]
        },
        {
          "metadata": {
            "tags": null
          },
          "name": "stdout",
          "output_type": "stream",
          "text": [
            "INFO:tensorflow:Assets written to: model.NLP/assets\n"
          ]
        },
        {
          "metadata": {
            "tags": null
          },
          "name": "stderr",
          "output_type": "stream",
          "text": [
            "INFO:tensorflow:Assets written to: model.NLP/assets\n",
            "WARNING:absl:<keras.layers.recurrent.LSTMCell object at 0x7f3255e16ad0> has the same name 'LSTMCell' as a built-in Keras object. Consider renaming <class 'keras.layers.recurrent.LSTMCell'> to avoid naming conflicts when loading with `tf.keras.models.load_model`. If renaming is not possible, pass the object in the `custom_objects` parameter of the load function.\n",
            "WARNING:absl:<keras.layers.recurrent.LSTMCell object at 0x7f32521c3190> has the same name 'LSTMCell' as a built-in Keras object. Consider renaming <class 'keras.layers.recurrent.LSTMCell'> to avoid naming conflicts when loading with `tf.keras.models.load_model`. If renaming is not possible, pass the object in the `custom_objects` parameter of the load function.\n"
          ]
        },
        {
          "metadata": {
            "tags": null
          },
          "name": "stdout",
          "output_type": "stream",
          "text": [
            "25/25 [==============================] - 50s 2s/step - loss: 0.5393 - accuracy: 0.6443 - val_loss: 1.3080 - val_accuracy: 0.4545\n",
            "Epoch 31/70\n",
            "25/25 [==============================] - ETA: 0s - loss: 0.5144 - accuracy: 0.6620\n",
            "Epoch 31: saving model to model.NLP\n"
          ]
        },
        {
          "metadata": {
            "tags": null
          },
          "name": "stderr",
          "output_type": "stream",
          "text": [
            "WARNING:absl:Found untraced functions such as lstm_cell_layer_call_fn, lstm_cell_layer_call_and_return_conditional_losses, lstm_cell_1_layer_call_fn, lstm_cell_1_layer_call_and_return_conditional_losses while saving (showing 4 of 4). These functions will not be directly callable after loading.\n"
          ]
        },
        {
          "metadata": {
            "tags": null
          },
          "name": "stdout",
          "output_type": "stream",
          "text": [
            "INFO:tensorflow:Assets written to: model.NLP/assets\n"
          ]
        },
        {
          "metadata": {
            "tags": null
          },
          "name": "stderr",
          "output_type": "stream",
          "text": [
            "INFO:tensorflow:Assets written to: model.NLP/assets\n",
            "WARNING:absl:<keras.layers.recurrent.LSTMCell object at 0x7f3255e16ad0> has the same name 'LSTMCell' as a built-in Keras object. Consider renaming <class 'keras.layers.recurrent.LSTMCell'> to avoid naming conflicts when loading with `tf.keras.models.load_model`. If renaming is not possible, pass the object in the `custom_objects` parameter of the load function.\n",
            "WARNING:absl:<keras.layers.recurrent.LSTMCell object at 0x7f32521c3190> has the same name 'LSTMCell' as a built-in Keras object. Consider renaming <class 'keras.layers.recurrent.LSTMCell'> to avoid naming conflicts when loading with `tf.keras.models.load_model`. If renaming is not possible, pass the object in the `custom_objects` parameter of the load function.\n"
          ]
        },
        {
          "metadata": {
            "tags": null
          },
          "name": "stdout",
          "output_type": "stream",
          "text": [
            "25/25 [==============================] - 49s 2s/step - loss: 0.5144 - accuracy: 0.6620 - val_loss: 1.2921 - val_accuracy: 0.4600\n",
            "Epoch 32/70\n",
            "25/25 [==============================] - ETA: 0s - loss: 0.4906 - accuracy: 0.6799\n",
            "Epoch 32: saving model to model.NLP\n"
          ]
        },
        {
          "metadata": {
            "tags": null
          },
          "name": "stderr",
          "output_type": "stream",
          "text": [
            "WARNING:absl:Found untraced functions such as lstm_cell_layer_call_fn, lstm_cell_layer_call_and_return_conditional_losses, lstm_cell_1_layer_call_fn, lstm_cell_1_layer_call_and_return_conditional_losses while saving (showing 4 of 4). These functions will not be directly callable after loading.\n"
          ]
        },
        {
          "metadata": {
            "tags": null
          },
          "name": "stdout",
          "output_type": "stream",
          "text": [
            "INFO:tensorflow:Assets written to: model.NLP/assets\n"
          ]
        },
        {
          "metadata": {
            "tags": null
          },
          "name": "stderr",
          "output_type": "stream",
          "text": [
            "INFO:tensorflow:Assets written to: model.NLP/assets\n",
            "WARNING:absl:<keras.layers.recurrent.LSTMCell object at 0x7f3255e16ad0> has the same name 'LSTMCell' as a built-in Keras object. Consider renaming <class 'keras.layers.recurrent.LSTMCell'> to avoid naming conflicts when loading with `tf.keras.models.load_model`. If renaming is not possible, pass the object in the `custom_objects` parameter of the load function.\n",
            "WARNING:absl:<keras.layers.recurrent.LSTMCell object at 0x7f32521c3190> has the same name 'LSTMCell' as a built-in Keras object. Consider renaming <class 'keras.layers.recurrent.LSTMCell'> to avoid naming conflicts when loading with `tf.keras.models.load_model`. If renaming is not possible, pass the object in the `custom_objects` parameter of the load function.\n"
          ]
        },
        {
          "metadata": {
            "tags": null
          },
          "name": "stdout",
          "output_type": "stream",
          "text": [
            "25/25 [==============================] - 50s 2s/step - loss: 0.4906 - accuracy: 0.6799 - val_loss: 1.2880 - val_accuracy: 0.4671\n",
            "Epoch 33/70\n",
            "25/25 [==============================] - ETA: 0s - loss: 0.4641 - accuracy: 0.6935\n",
            "Epoch 33: saving model to model.NLP\n"
          ]
        },
        {
          "metadata": {
            "tags": null
          },
          "name": "stderr",
          "output_type": "stream",
          "text": [
            "WARNING:absl:Found untraced functions such as lstm_cell_layer_call_fn, lstm_cell_layer_call_and_return_conditional_losses, lstm_cell_1_layer_call_fn, lstm_cell_1_layer_call_and_return_conditional_losses while saving (showing 4 of 4). These functions will not be directly callable after loading.\n"
          ]
        },
        {
          "metadata": {
            "tags": null
          },
          "name": "stdout",
          "output_type": "stream",
          "text": [
            "INFO:tensorflow:Assets written to: model.NLP/assets\n"
          ]
        },
        {
          "metadata": {
            "tags": null
          },
          "name": "stderr",
          "output_type": "stream",
          "text": [
            "INFO:tensorflow:Assets written to: model.NLP/assets\n",
            "WARNING:absl:<keras.layers.recurrent.LSTMCell object at 0x7f3255e16ad0> has the same name 'LSTMCell' as a built-in Keras object. Consider renaming <class 'keras.layers.recurrent.LSTMCell'> to avoid naming conflicts when loading with `tf.keras.models.load_model`. If renaming is not possible, pass the object in the `custom_objects` parameter of the load function.\n",
            "WARNING:absl:<keras.layers.recurrent.LSTMCell object at 0x7f32521c3190> has the same name 'LSTMCell' as a built-in Keras object. Consider renaming <class 'keras.layers.recurrent.LSTMCell'> to avoid naming conflicts when loading with `tf.keras.models.load_model`. If renaming is not possible, pass the object in the `custom_objects` parameter of the load function.\n"
          ]
        },
        {
          "metadata": {
            "tags": null
          },
          "name": "stdout",
          "output_type": "stream",
          "text": [
            "25/25 [==============================] - 48s 2s/step - loss: 0.4641 - accuracy: 0.6935 - val_loss: 1.2817 - val_accuracy: 0.4715\n",
            "Epoch 34/70\n",
            "25/25 [==============================] - ETA: 0s - loss: 0.4396 - accuracy: 0.7153\n",
            "Epoch 34: saving model to model.NLP\n"
          ]
        },
        {
          "metadata": {
            "tags": null
          },
          "name": "stderr",
          "output_type": "stream",
          "text": [
            "WARNING:absl:Found untraced functions such as lstm_cell_layer_call_fn, lstm_cell_layer_call_and_return_conditional_losses, lstm_cell_1_layer_call_fn, lstm_cell_1_layer_call_and_return_conditional_losses while saving (showing 4 of 4). These functions will not be directly callable after loading.\n"
          ]
        },
        {
          "metadata": {
            "tags": null
          },
          "name": "stdout",
          "output_type": "stream",
          "text": [
            "INFO:tensorflow:Assets written to: model.NLP/assets\n"
          ]
        },
        {
          "metadata": {
            "tags": null
          },
          "name": "stderr",
          "output_type": "stream",
          "text": [
            "INFO:tensorflow:Assets written to: model.NLP/assets\n",
            "WARNING:absl:<keras.layers.recurrent.LSTMCell object at 0x7f3255e16ad0> has the same name 'LSTMCell' as a built-in Keras object. Consider renaming <class 'keras.layers.recurrent.LSTMCell'> to avoid naming conflicts when loading with `tf.keras.models.load_model`. If renaming is not possible, pass the object in the `custom_objects` parameter of the load function.\n",
            "WARNING:absl:<keras.layers.recurrent.LSTMCell object at 0x7f32521c3190> has the same name 'LSTMCell' as a built-in Keras object. Consider renaming <class 'keras.layers.recurrent.LSTMCell'> to avoid naming conflicts when loading with `tf.keras.models.load_model`. If renaming is not possible, pass the object in the `custom_objects` parameter of the load function.\n"
          ]
        },
        {
          "metadata": {
            "tags": null
          },
          "name": "stdout",
          "output_type": "stream",
          "text": [
            "25/25 [==============================] - 49s 2s/step - loss: 0.4396 - accuracy: 0.7153 - val_loss: 1.2763 - val_accuracy: 0.4772\n",
            "Epoch 35/70\n",
            "25/25 [==============================] - ETA: 0s - loss: 0.4201 - accuracy: 0.7260\n",
            "Epoch 35: saving model to model.NLP\n"
          ]
        },
        {
          "metadata": {
            "tags": null
          },
          "name": "stderr",
          "output_type": "stream",
          "text": [
            "WARNING:absl:Found untraced functions such as lstm_cell_layer_call_fn, lstm_cell_layer_call_and_return_conditional_losses, lstm_cell_1_layer_call_fn, lstm_cell_1_layer_call_and_return_conditional_losses while saving (showing 4 of 4). These functions will not be directly callable after loading.\n"
          ]
        },
        {
          "metadata": {
            "tags": null
          },
          "name": "stdout",
          "output_type": "stream",
          "text": [
            "INFO:tensorflow:Assets written to: model.NLP/assets\n"
          ]
        },
        {
          "metadata": {
            "tags": null
          },
          "name": "stderr",
          "output_type": "stream",
          "text": [
            "INFO:tensorflow:Assets written to: model.NLP/assets\n",
            "WARNING:absl:<keras.layers.recurrent.LSTMCell object at 0x7f3255e16ad0> has the same name 'LSTMCell' as a built-in Keras object. Consider renaming <class 'keras.layers.recurrent.LSTMCell'> to avoid naming conflicts when loading with `tf.keras.models.load_model`. If renaming is not possible, pass the object in the `custom_objects` parameter of the load function.\n",
            "WARNING:absl:<keras.layers.recurrent.LSTMCell object at 0x7f32521c3190> has the same name 'LSTMCell' as a built-in Keras object. Consider renaming <class 'keras.layers.recurrent.LSTMCell'> to avoid naming conflicts when loading with `tf.keras.models.load_model`. If renaming is not possible, pass the object in the `custom_objects` parameter of the load function.\n"
          ]
        },
        {
          "metadata": {
            "tags": null
          },
          "name": "stdout",
          "output_type": "stream",
          "text": [
            "25/25 [==============================] - 49s 2s/step - loss: 0.4201 - accuracy: 0.7260 - val_loss: 1.2716 - val_accuracy: 0.4846\n",
            "Epoch 36/70\n",
            "25/25 [==============================] - ETA: 0s - loss: 0.3954 - accuracy: 0.7451\n",
            "Epoch 36: saving model to model.NLP\n"
          ]
        },
        {
          "metadata": {
            "tags": null
          },
          "name": "stderr",
          "output_type": "stream",
          "text": [
            "WARNING:absl:Found untraced functions such as lstm_cell_layer_call_fn, lstm_cell_layer_call_and_return_conditional_losses, lstm_cell_1_layer_call_fn, lstm_cell_1_layer_call_and_return_conditional_losses while saving (showing 4 of 4). These functions will not be directly callable after loading.\n"
          ]
        },
        {
          "metadata": {
            "tags": null
          },
          "name": "stdout",
          "output_type": "stream",
          "text": [
            "INFO:tensorflow:Assets written to: model.NLP/assets\n"
          ]
        },
        {
          "metadata": {
            "tags": null
          },
          "name": "stderr",
          "output_type": "stream",
          "text": [
            "INFO:tensorflow:Assets written to: model.NLP/assets\n",
            "WARNING:absl:<keras.layers.recurrent.LSTMCell object at 0x7f3255e16ad0> has the same name 'LSTMCell' as a built-in Keras object. Consider renaming <class 'keras.layers.recurrent.LSTMCell'> to avoid naming conflicts when loading with `tf.keras.models.load_model`. If renaming is not possible, pass the object in the `custom_objects` parameter of the load function.\n",
            "WARNING:absl:<keras.layers.recurrent.LSTMCell object at 0x7f32521c3190> has the same name 'LSTMCell' as a built-in Keras object. Consider renaming <class 'keras.layers.recurrent.LSTMCell'> to avoid naming conflicts when loading with `tf.keras.models.load_model`. If renaming is not possible, pass the object in the `custom_objects` parameter of the load function.\n"
          ]
        },
        {
          "metadata": {
            "tags": null
          },
          "name": "stdout",
          "output_type": "stream",
          "text": [
            "25/25 [==============================] - 48s 2s/step - loss: 0.3954 - accuracy: 0.7451 - val_loss: 1.2683 - val_accuracy: 0.4890\n",
            "Epoch 37/70\n",
            "25/25 [==============================] - ETA: 0s - loss: 0.3756 - accuracy: 0.7592\n",
            "Epoch 37: saving model to model.NLP\n"
          ]
        },
        {
          "metadata": {
            "tags": null
          },
          "name": "stderr",
          "output_type": "stream",
          "text": [
            "WARNING:absl:Found untraced functions such as lstm_cell_layer_call_fn, lstm_cell_layer_call_and_return_conditional_losses, lstm_cell_1_layer_call_fn, lstm_cell_1_layer_call_and_return_conditional_losses while saving (showing 4 of 4). These functions will not be directly callable after loading.\n"
          ]
        },
        {
          "metadata": {
            "tags": null
          },
          "name": "stdout",
          "output_type": "stream",
          "text": [
            "INFO:tensorflow:Assets written to: model.NLP/assets\n"
          ]
        },
        {
          "metadata": {
            "tags": null
          },
          "name": "stderr",
          "output_type": "stream",
          "text": [
            "INFO:tensorflow:Assets written to: model.NLP/assets\n",
            "WARNING:absl:<keras.layers.recurrent.LSTMCell object at 0x7f3255e16ad0> has the same name 'LSTMCell' as a built-in Keras object. Consider renaming <class 'keras.layers.recurrent.LSTMCell'> to avoid naming conflicts when loading with `tf.keras.models.load_model`. If renaming is not possible, pass the object in the `custom_objects` parameter of the load function.\n",
            "WARNING:absl:<keras.layers.recurrent.LSTMCell object at 0x7f32521c3190> has the same name 'LSTMCell' as a built-in Keras object. Consider renaming <class 'keras.layers.recurrent.LSTMCell'> to avoid naming conflicts when loading with `tf.keras.models.load_model`. If renaming is not possible, pass the object in the `custom_objects` parameter of the load function.\n"
          ]
        },
        {
          "metadata": {
            "tags": null
          },
          "name": "stdout",
          "output_type": "stream",
          "text": [
            "25/25 [==============================] - 50s 2s/step - loss: 0.3756 - accuracy: 0.7592 - val_loss: 1.2598 - val_accuracy: 0.5003\n",
            "Epoch 38/70\n",
            "25/25 [==============================] - ETA: 0s - loss: 0.3544 - accuracy: 0.7748\n",
            "Epoch 38: saving model to model.NLP\n"
          ]
        },
        {
          "metadata": {
            "tags": null
          },
          "name": "stderr",
          "output_type": "stream",
          "text": [
            "WARNING:absl:Found untraced functions such as lstm_cell_layer_call_fn, lstm_cell_layer_call_and_return_conditional_losses, lstm_cell_1_layer_call_fn, lstm_cell_1_layer_call_and_return_conditional_losses while saving (showing 4 of 4). These functions will not be directly callable after loading.\n"
          ]
        },
        {
          "metadata": {
            "tags": null
          },
          "name": "stdout",
          "output_type": "stream",
          "text": [
            "INFO:tensorflow:Assets written to: model.NLP/assets\n"
          ]
        },
        {
          "metadata": {
            "tags": null
          },
          "name": "stderr",
          "output_type": "stream",
          "text": [
            "INFO:tensorflow:Assets written to: model.NLP/assets\n",
            "WARNING:absl:<keras.layers.recurrent.LSTMCell object at 0x7f3255e16ad0> has the same name 'LSTMCell' as a built-in Keras object. Consider renaming <class 'keras.layers.recurrent.LSTMCell'> to avoid naming conflicts when loading with `tf.keras.models.load_model`. If renaming is not possible, pass the object in the `custom_objects` parameter of the load function.\n",
            "WARNING:absl:<keras.layers.recurrent.LSTMCell object at 0x7f32521c3190> has the same name 'LSTMCell' as a built-in Keras object. Consider renaming <class 'keras.layers.recurrent.LSTMCell'> to avoid naming conflicts when loading with `tf.keras.models.load_model`. If renaming is not possible, pass the object in the `custom_objects` parameter of the load function.\n"
          ]
        },
        {
          "metadata": {
            "tags": null
          },
          "name": "stdout",
          "output_type": "stream",
          "text": [
            "25/25 [==============================] - 48s 2s/step - loss: 0.3544 - accuracy: 0.7748 - val_loss: 1.2460 - val_accuracy: 0.5044\n",
            "Epoch 39/70\n",
            "25/25 [==============================] - ETA: 0s - loss: 0.3354 - accuracy: 0.7910\n",
            "Epoch 39: saving model to model.NLP\n"
          ]
        },
        {
          "metadata": {
            "tags": null
          },
          "name": "stderr",
          "output_type": "stream",
          "text": [
            "WARNING:absl:Found untraced functions such as lstm_cell_layer_call_fn, lstm_cell_layer_call_and_return_conditional_losses, lstm_cell_1_layer_call_fn, lstm_cell_1_layer_call_and_return_conditional_losses while saving (showing 4 of 4). These functions will not be directly callable after loading.\n"
          ]
        },
        {
          "metadata": {
            "tags": null
          },
          "name": "stdout",
          "output_type": "stream",
          "text": [
            "INFO:tensorflow:Assets written to: model.NLP/assets\n"
          ]
        },
        {
          "metadata": {
            "tags": null
          },
          "name": "stderr",
          "output_type": "stream",
          "text": [
            "INFO:tensorflow:Assets written to: model.NLP/assets\n",
            "WARNING:absl:<keras.layers.recurrent.LSTMCell object at 0x7f3255e16ad0> has the same name 'LSTMCell' as a built-in Keras object. Consider renaming <class 'keras.layers.recurrent.LSTMCell'> to avoid naming conflicts when loading with `tf.keras.models.load_model`. If renaming is not possible, pass the object in the `custom_objects` parameter of the load function.\n",
            "WARNING:absl:<keras.layers.recurrent.LSTMCell object at 0x7f32521c3190> has the same name 'LSTMCell' as a built-in Keras object. Consider renaming <class 'keras.layers.recurrent.LSTMCell'> to avoid naming conflicts when loading with `tf.keras.models.load_model`. If renaming is not possible, pass the object in the `custom_objects` parameter of the load function.\n"
          ]
        },
        {
          "metadata": {
            "tags": null
          },
          "name": "stdout",
          "output_type": "stream",
          "text": [
            "25/25 [==============================] - 48s 2s/step - loss: 0.3354 - accuracy: 0.7910 - val_loss: 1.2435 - val_accuracy: 0.5133\n",
            "Epoch 40/70\n",
            "25/25 [==============================] - ETA: 0s - loss: 0.3158 - accuracy: 0.8040\n",
            "Epoch 40: saving model to model.NLP\n"
          ]
        },
        {
          "metadata": {
            "tags": null
          },
          "name": "stderr",
          "output_type": "stream",
          "text": [
            "WARNING:absl:Found untraced functions such as lstm_cell_layer_call_fn, lstm_cell_layer_call_and_return_conditional_losses, lstm_cell_1_layer_call_fn, lstm_cell_1_layer_call_and_return_conditional_losses while saving (showing 4 of 4). These functions will not be directly callable after loading.\n"
          ]
        },
        {
          "metadata": {
            "tags": null
          },
          "name": "stdout",
          "output_type": "stream",
          "text": [
            "INFO:tensorflow:Assets written to: model.NLP/assets\n"
          ]
        },
        {
          "metadata": {
            "tags": null
          },
          "name": "stderr",
          "output_type": "stream",
          "text": [
            "INFO:tensorflow:Assets written to: model.NLP/assets\n",
            "WARNING:absl:<keras.layers.recurrent.LSTMCell object at 0x7f3255e16ad0> has the same name 'LSTMCell' as a built-in Keras object. Consider renaming <class 'keras.layers.recurrent.LSTMCell'> to avoid naming conflicts when loading with `tf.keras.models.load_model`. If renaming is not possible, pass the object in the `custom_objects` parameter of the load function.\n",
            "WARNING:absl:<keras.layers.recurrent.LSTMCell object at 0x7f32521c3190> has the same name 'LSTMCell' as a built-in Keras object. Consider renaming <class 'keras.layers.recurrent.LSTMCell'> to avoid naming conflicts when loading with `tf.keras.models.load_model`. If renaming is not possible, pass the object in the `custom_objects` parameter of the load function.\n"
          ]
        },
        {
          "metadata": {
            "tags": null
          },
          "name": "stdout",
          "output_type": "stream",
          "text": [
            "25/25 [==============================] - 46s 2s/step - loss: 0.3158 - accuracy: 0.8040 - val_loss: 1.2339 - val_accuracy: 0.5230\n",
            "Epoch 41/70\n",
            "25/25 [==============================] - ETA: 0s - loss: 0.2977 - accuracy: 0.8155\n",
            "Epoch 41: saving model to model.NLP\n"
          ]
        },
        {
          "metadata": {
            "tags": null
          },
          "name": "stderr",
          "output_type": "stream",
          "text": [
            "WARNING:absl:Found untraced functions such as lstm_cell_layer_call_fn, lstm_cell_layer_call_and_return_conditional_losses, lstm_cell_1_layer_call_fn, lstm_cell_1_layer_call_and_return_conditional_losses while saving (showing 4 of 4). These functions will not be directly callable after loading.\n"
          ]
        },
        {
          "metadata": {
            "tags": null
          },
          "name": "stdout",
          "output_type": "stream",
          "text": [
            "INFO:tensorflow:Assets written to: model.NLP/assets\n"
          ]
        },
        {
          "metadata": {
            "tags": null
          },
          "name": "stderr",
          "output_type": "stream",
          "text": [
            "INFO:tensorflow:Assets written to: model.NLP/assets\n",
            "WARNING:absl:<keras.layers.recurrent.LSTMCell object at 0x7f3255e16ad0> has the same name 'LSTMCell' as a built-in Keras object. Consider renaming <class 'keras.layers.recurrent.LSTMCell'> to avoid naming conflicts when loading with `tf.keras.models.load_model`. If renaming is not possible, pass the object in the `custom_objects` parameter of the load function.\n",
            "WARNING:absl:<keras.layers.recurrent.LSTMCell object at 0x7f32521c3190> has the same name 'LSTMCell' as a built-in Keras object. Consider renaming <class 'keras.layers.recurrent.LSTMCell'> to avoid naming conflicts when loading with `tf.keras.models.load_model`. If renaming is not possible, pass the object in the `custom_objects` parameter of the load function.\n"
          ]
        },
        {
          "metadata": {
            "tags": null
          },
          "name": "stdout",
          "output_type": "stream",
          "text": [
            "25/25 [==============================] - 48s 2s/step - loss: 0.2977 - accuracy: 0.8155 - val_loss: 1.2188 - val_accuracy: 0.5301\n",
            "Epoch 42/70\n",
            "25/25 [==============================] - ETA: 0s - loss: 0.2818 - accuracy: 0.8274\n",
            "Epoch 42: saving model to model.NLP\n"
          ]
        },
        {
          "metadata": {
            "tags": null
          },
          "name": "stderr",
          "output_type": "stream",
          "text": [
            "WARNING:absl:Found untraced functions such as lstm_cell_layer_call_fn, lstm_cell_layer_call_and_return_conditional_losses, lstm_cell_1_layer_call_fn, lstm_cell_1_layer_call_and_return_conditional_losses while saving (showing 4 of 4). These functions will not be directly callable after loading.\n"
          ]
        },
        {
          "metadata": {
            "tags": null
          },
          "name": "stdout",
          "output_type": "stream",
          "text": [
            "INFO:tensorflow:Assets written to: model.NLP/assets\n"
          ]
        },
        {
          "metadata": {
            "tags": null
          },
          "name": "stderr",
          "output_type": "stream",
          "text": [
            "INFO:tensorflow:Assets written to: model.NLP/assets\n",
            "WARNING:absl:<keras.layers.recurrent.LSTMCell object at 0x7f3255e16ad0> has the same name 'LSTMCell' as a built-in Keras object. Consider renaming <class 'keras.layers.recurrent.LSTMCell'> to avoid naming conflicts when loading with `tf.keras.models.load_model`. If renaming is not possible, pass the object in the `custom_objects` parameter of the load function.\n",
            "WARNING:absl:<keras.layers.recurrent.LSTMCell object at 0x7f32521c3190> has the same name 'LSTMCell' as a built-in Keras object. Consider renaming <class 'keras.layers.recurrent.LSTMCell'> to avoid naming conflicts when loading with `tf.keras.models.load_model`. If renaming is not possible, pass the object in the `custom_objects` parameter of the load function.\n"
          ]
        },
        {
          "metadata": {
            "tags": null
          },
          "name": "stdout",
          "output_type": "stream",
          "text": [
            "25/25 [==============================] - 48s 2s/step - loss: 0.2818 - accuracy: 0.8274 - val_loss: 1.2158 - val_accuracy: 0.5288\n",
            "Epoch 43/70\n",
            "25/25 [==============================] - ETA: 0s - loss: 0.2639 - accuracy: 0.8395\n",
            "Epoch 43: saving model to model.NLP\n"
          ]
        },
        {
          "metadata": {
            "tags": null
          },
          "name": "stderr",
          "output_type": "stream",
          "text": [
            "WARNING:absl:Found untraced functions such as lstm_cell_layer_call_fn, lstm_cell_layer_call_and_return_conditional_losses, lstm_cell_1_layer_call_fn, lstm_cell_1_layer_call_and_return_conditional_losses while saving (showing 4 of 4). These functions will not be directly callable after loading.\n"
          ]
        },
        {
          "metadata": {
            "tags": null
          },
          "name": "stdout",
          "output_type": "stream",
          "text": [
            "INFO:tensorflow:Assets written to: model.NLP/assets\n"
          ]
        },
        {
          "metadata": {
            "tags": null
          },
          "name": "stderr",
          "output_type": "stream",
          "text": [
            "INFO:tensorflow:Assets written to: model.NLP/assets\n",
            "WARNING:absl:<keras.layers.recurrent.LSTMCell object at 0x7f3255e16ad0> has the same name 'LSTMCell' as a built-in Keras object. Consider renaming <class 'keras.layers.recurrent.LSTMCell'> to avoid naming conflicts when loading with `tf.keras.models.load_model`. If renaming is not possible, pass the object in the `custom_objects` parameter of the load function.\n",
            "WARNING:absl:<keras.layers.recurrent.LSTMCell object at 0x7f32521c3190> has the same name 'LSTMCell' as a built-in Keras object. Consider renaming <class 'keras.layers.recurrent.LSTMCell'> to avoid naming conflicts when loading with `tf.keras.models.load_model`. If renaming is not possible, pass the object in the `custom_objects` parameter of the load function.\n"
          ]
        },
        {
          "metadata": {
            "tags": null
          },
          "name": "stdout",
          "output_type": "stream",
          "text": [
            "25/25 [==============================] - 49s 2s/step - loss: 0.2639 - accuracy: 0.8395 - val_loss: 1.2128 - val_accuracy: 0.5400\n",
            "Epoch 44/70\n",
            "25/25 [==============================] - ETA: 0s - loss: 0.2491 - accuracy: 0.8504\n",
            "Epoch 44: saving model to model.NLP\n"
          ]
        },
        {
          "metadata": {
            "tags": null
          },
          "name": "stderr",
          "output_type": "stream",
          "text": [
            "WARNING:absl:Found untraced functions such as lstm_cell_layer_call_fn, lstm_cell_layer_call_and_return_conditional_losses, lstm_cell_1_layer_call_fn, lstm_cell_1_layer_call_and_return_conditional_losses while saving (showing 4 of 4). These functions will not be directly callable after loading.\n"
          ]
        },
        {
          "metadata": {
            "tags": null
          },
          "name": "stdout",
          "output_type": "stream",
          "text": [
            "INFO:tensorflow:Assets written to: model.NLP/assets\n"
          ]
        },
        {
          "metadata": {
            "tags": null
          },
          "name": "stderr",
          "output_type": "stream",
          "text": [
            "INFO:tensorflow:Assets written to: model.NLP/assets\n",
            "WARNING:absl:<keras.layers.recurrent.LSTMCell object at 0x7f3255e16ad0> has the same name 'LSTMCell' as a built-in Keras object. Consider renaming <class 'keras.layers.recurrent.LSTMCell'> to avoid naming conflicts when loading with `tf.keras.models.load_model`. If renaming is not possible, pass the object in the `custom_objects` parameter of the load function.\n",
            "WARNING:absl:<keras.layers.recurrent.LSTMCell object at 0x7f32521c3190> has the same name 'LSTMCell' as a built-in Keras object. Consider renaming <class 'keras.layers.recurrent.LSTMCell'> to avoid naming conflicts when loading with `tf.keras.models.load_model`. If renaming is not possible, pass the object in the `custom_objects` parameter of the load function.\n"
          ]
        },
        {
          "metadata": {
            "tags": null
          },
          "name": "stdout",
          "output_type": "stream",
          "text": [
            "25/25 [==============================] - 49s 2s/step - loss: 0.2491 - accuracy: 0.8504 - val_loss: 1.2152 - val_accuracy: 0.5484\n",
            "Epoch 45/70\n",
            "25/25 [==============================] - ETA: 0s - loss: 0.2337 - accuracy: 0.8602\n",
            "Epoch 45: saving model to model.NLP\n"
          ]
        },
        {
          "output_type": "stream",
          "name": "stderr",
          "text": [
            "WARNING:absl:Found untraced functions such as lstm_cell_layer_call_fn, lstm_cell_layer_call_and_return_conditional_losses, lstm_cell_1_layer_call_fn, lstm_cell_1_layer_call_and_return_conditional_losses while saving (showing 4 of 4). These functions will not be directly callable after loading.\n"
          ]
        },
        {
          "output_type": "stream",
          "name": "stdout",
          "text": [
            "INFO:tensorflow:Assets written to: model.NLP/assets\n"
          ]
        },
        {
          "output_type": "stream",
          "name": "stderr",
          "text": [
            "INFO:tensorflow:Assets written to: model.NLP/assets\n",
            "WARNING:absl:<keras.layers.recurrent.LSTMCell object at 0x7f3255e16ad0> has the same name 'LSTMCell' as a built-in Keras object. Consider renaming <class 'keras.layers.recurrent.LSTMCell'> to avoid naming conflicts when loading with `tf.keras.models.load_model`. If renaming is not possible, pass the object in the `custom_objects` parameter of the load function.\n",
            "WARNING:absl:<keras.layers.recurrent.LSTMCell object at 0x7f32521c3190> has the same name 'LSTMCell' as a built-in Keras object. Consider renaming <class 'keras.layers.recurrent.LSTMCell'> to avoid naming conflicts when loading with `tf.keras.models.load_model`. If renaming is not possible, pass the object in the `custom_objects` parameter of the load function.\n"
          ]
        },
        {
          "output_type": "stream",
          "name": "stdout",
          "text": [
            "\b\b\b\b\b\b\b\b\b\b\b\b\b\b\b\b\b\b\b\b\b\b\b\b\b\b\b\b\b\b\b\b\b\b\b\b\b\b\b\b\b\b\b\b\b\b\b\b\b\b\b\b\b\b\b\b\b\b\b\b\b\b\b\b\b\b\b\b\b\b\b\b\b\b\b\b\b\b\b\b\b\b\r25/25 [==============================] - 49s 2s/step - loss: 0.2337 - accuracy: 0.8602 - val_loss: 1.2033 - val_accuracy: 0.5573\n",
            "Epoch 46/70\n",
            "25/25 [==============================] - ETA: 0s - loss: 0.2190 - accuracy: 0.8721\n",
            "Epoch 46: saving model to model.NLP\n"
          ]
        },
        {
          "output_type": "stream",
          "name": "stderr",
          "text": [
            "WARNING:absl:Found untraced functions such as lstm_cell_layer_call_fn, lstm_cell_layer_call_and_return_conditional_losses, lstm_cell_1_layer_call_fn, lstm_cell_1_layer_call_and_return_conditional_losses while saving (showing 4 of 4). These functions will not be directly callable after loading.\n"
          ]
        },
        {
          "output_type": "stream",
          "name": "stdout",
          "text": [
            "INFO:tensorflow:Assets written to: model.NLP/assets\n"
          ]
        },
        {
          "output_type": "stream",
          "name": "stderr",
          "text": [
            "INFO:tensorflow:Assets written to: model.NLP/assets\n",
            "WARNING:absl:<keras.layers.recurrent.LSTMCell object at 0x7f3255e16ad0> has the same name 'LSTMCell' as a built-in Keras object. Consider renaming <class 'keras.layers.recurrent.LSTMCell'> to avoid naming conflicts when loading with `tf.keras.models.load_model`. If renaming is not possible, pass the object in the `custom_objects` parameter of the load function.\n",
            "WARNING:absl:<keras.layers.recurrent.LSTMCell object at 0x7f32521c3190> has the same name 'LSTMCell' as a built-in Keras object. Consider renaming <class 'keras.layers.recurrent.LSTMCell'> to avoid naming conflicts when loading with `tf.keras.models.load_model`. If renaming is not possible, pass the object in the `custom_objects` parameter of the load function.\n"
          ]
        },
        {
          "output_type": "stream",
          "name": "stdout",
          "text": [
            "\b\b\b\b\b\b\b\b\b\b\b\b\b\b\b\b\b\b\b\b\b\b\b\b\b\b\b\b\b\b\b\b\b\b\b\b\b\b\b\b\b\b\b\b\b\b\b\b\b\b\b\b\b\b\b\b\b\b\b\b\b\b\b\b\b\b\b\b\b\b\b\b\b\b\b\b\b\b\b\b\b\b\r25/25 [==============================] - 50s 2s/step - loss: 0.2190 - accuracy: 0.8721 - val_loss: 1.1949 - val_accuracy: 0.5591\n",
            "Epoch 47/70\n",
            "25/25 [==============================] - ETA: 0s - loss: 0.2071 - accuracy: 0.8778\n",
            "Epoch 47: saving model to model.NLP\n"
          ]
        },
        {
          "output_type": "stream",
          "name": "stderr",
          "text": [
            "WARNING:absl:Found untraced functions such as lstm_cell_layer_call_fn, lstm_cell_layer_call_and_return_conditional_losses, lstm_cell_1_layer_call_fn, lstm_cell_1_layer_call_and_return_conditional_losses while saving (showing 4 of 4). These functions will not be directly callable after loading.\n"
          ]
        },
        {
          "output_type": "stream",
          "name": "stdout",
          "text": [
            "INFO:tensorflow:Assets written to: model.NLP/assets\n"
          ]
        },
        {
          "output_type": "stream",
          "name": "stderr",
          "text": [
            "INFO:tensorflow:Assets written to: model.NLP/assets\n",
            "WARNING:absl:<keras.layers.recurrent.LSTMCell object at 0x7f3255e16ad0> has the same name 'LSTMCell' as a built-in Keras object. Consider renaming <class 'keras.layers.recurrent.LSTMCell'> to avoid naming conflicts when loading with `tf.keras.models.load_model`. If renaming is not possible, pass the object in the `custom_objects` parameter of the load function.\n",
            "WARNING:absl:<keras.layers.recurrent.LSTMCell object at 0x7f32521c3190> has the same name 'LSTMCell' as a built-in Keras object. Consider renaming <class 'keras.layers.recurrent.LSTMCell'> to avoid naming conflicts when loading with `tf.keras.models.load_model`. If renaming is not possible, pass the object in the `custom_objects` parameter of the load function.\n"
          ]
        },
        {
          "output_type": "stream",
          "name": "stdout",
          "text": [
            "\b\b\b\b\b\b\b\b\b\b\b\b\b\b\b\b\b\b\b\b\b\b\b\b\b\b\b\b\b\b\b\b\b\b\b\b\b\b\b\b\b\b\b\b\b\b\b\b\b\b\b\b\b\b\b\b\b\b\b\b\b\b\b\b\b\b\b\b\b\b\b\b\b\b\b\b\b\b\b\b\b\b\r25/25 [==============================] - 51s 2s/step - loss: 0.2071 - accuracy: 0.8778 - val_loss: 1.1931 - val_accuracy: 0.5649\n",
            "Epoch 48/70\n",
            "25/25 [==============================] - ETA: 0s - loss: 0.1945 - accuracy: 0.8884\n",
            "Epoch 48: saving model to model.NLP\n"
          ]
        },
        {
          "output_type": "stream",
          "name": "stderr",
          "text": [
            "WARNING:absl:Found untraced functions such as lstm_cell_layer_call_fn, lstm_cell_layer_call_and_return_conditional_losses, lstm_cell_1_layer_call_fn, lstm_cell_1_layer_call_and_return_conditional_losses while saving (showing 4 of 4). These functions will not be directly callable after loading.\n"
          ]
        },
        {
          "output_type": "stream",
          "name": "stdout",
          "text": [
            "INFO:tensorflow:Assets written to: model.NLP/assets\n"
          ]
        },
        {
          "output_type": "stream",
          "name": "stderr",
          "text": [
            "INFO:tensorflow:Assets written to: model.NLP/assets\n",
            "WARNING:absl:<keras.layers.recurrent.LSTMCell object at 0x7f3255e16ad0> has the same name 'LSTMCell' as a built-in Keras object. Consider renaming <class 'keras.layers.recurrent.LSTMCell'> to avoid naming conflicts when loading with `tf.keras.models.load_model`. If renaming is not possible, pass the object in the `custom_objects` parameter of the load function.\n",
            "WARNING:absl:<keras.layers.recurrent.LSTMCell object at 0x7f32521c3190> has the same name 'LSTMCell' as a built-in Keras object. Consider renaming <class 'keras.layers.recurrent.LSTMCell'> to avoid naming conflicts when loading with `tf.keras.models.load_model`. If renaming is not possible, pass the object in the `custom_objects` parameter of the load function.\n"
          ]
        },
        {
          "output_type": "stream",
          "name": "stdout",
          "text": [
            "\b\b\b\b\b\b\b\b\b\b\b\b\b\b\b\b\b\b\b\b\b\b\b\b\b\b\b\b\b\b\b\b\b\b\b\b\b\b\b\b\b\b\b\b\b\b\b\b\b\b\b\b\b\b\b\b\b\b\b\b\b\b\b\b\b\b\b\b\b\b\b\b\b\b\b\b\b\b\b\b\b\b\r25/25 [==============================] - 52s 2s/step - loss: 0.1945 - accuracy: 0.8884 - val_loss: 1.1923 - val_accuracy: 0.5628\n",
            "Epoch 49/70\n",
            "25/25 [==============================] - ETA: 0s - loss: 0.1821 - accuracy: 0.8953\n",
            "Epoch 49: saving model to model.NLP\n"
          ]
        },
        {
          "output_type": "stream",
          "name": "stderr",
          "text": [
            "WARNING:absl:Found untraced functions such as lstm_cell_layer_call_fn, lstm_cell_layer_call_and_return_conditional_losses, lstm_cell_1_layer_call_fn, lstm_cell_1_layer_call_and_return_conditional_losses while saving (showing 4 of 4). These functions will not be directly callable after loading.\n"
          ]
        },
        {
          "output_type": "stream",
          "name": "stdout",
          "text": [
            "INFO:tensorflow:Assets written to: model.NLP/assets\n"
          ]
        },
        {
          "output_type": "stream",
          "name": "stderr",
          "text": [
            "INFO:tensorflow:Assets written to: model.NLP/assets\n",
            "WARNING:absl:<keras.layers.recurrent.LSTMCell object at 0x7f3255e16ad0> has the same name 'LSTMCell' as a built-in Keras object. Consider renaming <class 'keras.layers.recurrent.LSTMCell'> to avoid naming conflicts when loading with `tf.keras.models.load_model`. If renaming is not possible, pass the object in the `custom_objects` parameter of the load function.\n",
            "WARNING:absl:<keras.layers.recurrent.LSTMCell object at 0x7f32521c3190> has the same name 'LSTMCell' as a built-in Keras object. Consider renaming <class 'keras.layers.recurrent.LSTMCell'> to avoid naming conflicts when loading with `tf.keras.models.load_model`. If renaming is not possible, pass the object in the `custom_objects` parameter of the load function.\n"
          ]
        },
        {
          "output_type": "stream",
          "name": "stdout",
          "text": [
            "\b\b\b\b\b\b\b\b\b\b\b\b\b\b\b\b\b\b\b\b\b\b\b\b\b\b\b\b\b\b\b\b\b\b\b\b\b\b\b\b\b\b\b\b\b\b\b\b\b\b\b\b\b\b\b\b\b\b\b\b\b\b\b\b\b\b\b\b\b\b\b\b\b\b\b\b\b\b\b\b\b\b\r25/25 [==============================] - 51s 2s/step - loss: 0.1821 - accuracy: 0.8953 - val_loss: 1.1943 - val_accuracy: 0.5675\n",
            "Epoch 50/70\n",
            "25/25 [==============================] - ETA: 0s - loss: 0.1724 - accuracy: 0.9011\n",
            "Epoch 50: saving model to model.NLP\n"
          ]
        },
        {
          "output_type": "stream",
          "name": "stderr",
          "text": [
            "WARNING:absl:Found untraced functions such as lstm_cell_layer_call_fn, lstm_cell_layer_call_and_return_conditional_losses, lstm_cell_1_layer_call_fn, lstm_cell_1_layer_call_and_return_conditional_losses while saving (showing 4 of 4). These functions will not be directly callable after loading.\n"
          ]
        },
        {
          "output_type": "stream",
          "name": "stdout",
          "text": [
            "INFO:tensorflow:Assets written to: model.NLP/assets\n"
          ]
        },
        {
          "output_type": "stream",
          "name": "stderr",
          "text": [
            "INFO:tensorflow:Assets written to: model.NLP/assets\n",
            "WARNING:absl:<keras.layers.recurrent.LSTMCell object at 0x7f3255e16ad0> has the same name 'LSTMCell' as a built-in Keras object. Consider renaming <class 'keras.layers.recurrent.LSTMCell'> to avoid naming conflicts when loading with `tf.keras.models.load_model`. If renaming is not possible, pass the object in the `custom_objects` parameter of the load function.\n",
            "WARNING:absl:<keras.layers.recurrent.LSTMCell object at 0x7f32521c3190> has the same name 'LSTMCell' as a built-in Keras object. Consider renaming <class 'keras.layers.recurrent.LSTMCell'> to avoid naming conflicts when loading with `tf.keras.models.load_model`. If renaming is not possible, pass the object in the `custom_objects` parameter of the load function.\n"
          ]
        },
        {
          "output_type": "stream",
          "name": "stdout",
          "text": [
            "\b\b\b\b\b\b\b\b\b\b\b\b\b\b\b\b\b\b\b\b\b\b\b\b\b\b\b\b\b\b\b\b\b\b\b\b\b\b\b\b\b\b\b\b\b\b\b\b\b\b\b\b\b\b\b\b\b\b\b\b\b\b\b\b\b\b\b\b\b\b\b\b\b\b\b\b\b\b\b\b\b\b\r25/25 [==============================] - 52s 2s/step - loss: 0.1724 - accuracy: 0.9011 - val_loss: 1.1916 - val_accuracy: 0.5714\n",
            "Epoch 51/70\n",
            "25/25 [==============================] - ETA: 0s - loss: 0.1590 - accuracy: 0.9082\n",
            "Epoch 51: saving model to model.NLP\n"
          ]
        },
        {
          "output_type": "stream",
          "name": "stderr",
          "text": [
            "WARNING:absl:Found untraced functions such as lstm_cell_layer_call_fn, lstm_cell_layer_call_and_return_conditional_losses, lstm_cell_1_layer_call_fn, lstm_cell_1_layer_call_and_return_conditional_losses while saving (showing 4 of 4). These functions will not be directly callable after loading.\n"
          ]
        },
        {
          "output_type": "stream",
          "name": "stdout",
          "text": [
            "INFO:tensorflow:Assets written to: model.NLP/assets\n"
          ]
        },
        {
          "output_type": "stream",
          "name": "stderr",
          "text": [
            "INFO:tensorflow:Assets written to: model.NLP/assets\n",
            "WARNING:absl:<keras.layers.recurrent.LSTMCell object at 0x7f3255e16ad0> has the same name 'LSTMCell' as a built-in Keras object. Consider renaming <class 'keras.layers.recurrent.LSTMCell'> to avoid naming conflicts when loading with `tf.keras.models.load_model`. If renaming is not possible, pass the object in the `custom_objects` parameter of the load function.\n",
            "WARNING:absl:<keras.layers.recurrent.LSTMCell object at 0x7f32521c3190> has the same name 'LSTMCell' as a built-in Keras object. Consider renaming <class 'keras.layers.recurrent.LSTMCell'> to avoid naming conflicts when loading with `tf.keras.models.load_model`. If renaming is not possible, pass the object in the `custom_objects` parameter of the load function.\n"
          ]
        },
        {
          "output_type": "stream",
          "name": "stdout",
          "text": [
            "\b\b\b\b\b\b\b\b\b\b\b\b\b\b\b\b\b\b\b\b\b\b\b\b\b\b\b\b\b\b\b\b\b\b\b\b\b\b\b\b\b\b\b\b\b\b\b\b\b\b\b\b\b\b\b\b\b\b\b\b\b\b\b\b\b\b\b\b\b\b\b\b\b\b\b\b\b\b\b\b\b\b\r25/25 [==============================] - 55s 2s/step - loss: 0.1590 - accuracy: 0.9082 - val_loss: 1.2014 - val_accuracy: 0.5724\n",
            "Epoch 52/70\n",
            "25/25 [==============================] - ETA: 0s - loss: 0.1505 - accuracy: 0.9127\n",
            "Epoch 52: saving model to model.NLP\n"
          ]
        },
        {
          "output_type": "stream",
          "name": "stderr",
          "text": [
            "WARNING:absl:Found untraced functions such as lstm_cell_layer_call_fn, lstm_cell_layer_call_and_return_conditional_losses, lstm_cell_1_layer_call_fn, lstm_cell_1_layer_call_and_return_conditional_losses while saving (showing 4 of 4). These functions will not be directly callable after loading.\n"
          ]
        },
        {
          "output_type": "stream",
          "name": "stdout",
          "text": [
            "INFO:tensorflow:Assets written to: model.NLP/assets\n"
          ]
        },
        {
          "output_type": "stream",
          "name": "stderr",
          "text": [
            "INFO:tensorflow:Assets written to: model.NLP/assets\n",
            "WARNING:absl:<keras.layers.recurrent.LSTMCell object at 0x7f3255e16ad0> has the same name 'LSTMCell' as a built-in Keras object. Consider renaming <class 'keras.layers.recurrent.LSTMCell'> to avoid naming conflicts when loading with `tf.keras.models.load_model`. If renaming is not possible, pass the object in the `custom_objects` parameter of the load function.\n",
            "WARNING:absl:<keras.layers.recurrent.LSTMCell object at 0x7f32521c3190> has the same name 'LSTMCell' as a built-in Keras object. Consider renaming <class 'keras.layers.recurrent.LSTMCell'> to avoid naming conflicts when loading with `tf.keras.models.load_model`. If renaming is not possible, pass the object in the `custom_objects` parameter of the load function.\n"
          ]
        },
        {
          "output_type": "stream",
          "name": "stdout",
          "text": [
            "\b\b\b\b\b\b\b\b\b\b\b\b\b\b\b\b\b\b\b\b\b\b\b\b\b\b\b\b\b\b\b\b\b\b\b\b\b\b\b\b\b\b\b\b\b\b\b\b\b\b\b\b\b\b\b\b\b\b\b\b\b\b\b\b\b\b\b\b\b\b\b\b\b\b\b\b\b\b\b\b\b\b\r25/25 [==============================] - 52s 2s/step - loss: 0.1505 - accuracy: 0.9127 - val_loss: 1.2012 - val_accuracy: 0.5758\n",
            "Epoch 53/70\n",
            "25/25 [==============================] - ETA: 0s - loss: 0.1396 - accuracy: 0.9182\n",
            "Epoch 53: saving model to model.NLP\n"
          ]
        },
        {
          "output_type": "stream",
          "name": "stderr",
          "text": [
            "WARNING:absl:Found untraced functions such as lstm_cell_layer_call_fn, lstm_cell_layer_call_and_return_conditional_losses, lstm_cell_1_layer_call_fn, lstm_cell_1_layer_call_and_return_conditional_losses while saving (showing 4 of 4). These functions will not be directly callable after loading.\n"
          ]
        },
        {
          "output_type": "stream",
          "name": "stdout",
          "text": [
            "INFO:tensorflow:Assets written to: model.NLP/assets\n"
          ]
        },
        {
          "output_type": "stream",
          "name": "stderr",
          "text": [
            "INFO:tensorflow:Assets written to: model.NLP/assets\n",
            "WARNING:absl:<keras.layers.recurrent.LSTMCell object at 0x7f3255e16ad0> has the same name 'LSTMCell' as a built-in Keras object. Consider renaming <class 'keras.layers.recurrent.LSTMCell'> to avoid naming conflicts when loading with `tf.keras.models.load_model`. If renaming is not possible, pass the object in the `custom_objects` parameter of the load function.\n",
            "WARNING:absl:<keras.layers.recurrent.LSTMCell object at 0x7f32521c3190> has the same name 'LSTMCell' as a built-in Keras object. Consider renaming <class 'keras.layers.recurrent.LSTMCell'> to avoid naming conflicts when loading with `tf.keras.models.load_model`. If renaming is not possible, pass the object in the `custom_objects` parameter of the load function.\n"
          ]
        },
        {
          "output_type": "stream",
          "name": "stdout",
          "text": [
            "\b\b\b\b\b\b\b\b\b\b\b\b\b\b\b\b\b\b\b\b\b\b\b\b\b\b\b\b\b\b\b\b\b\b\b\b\b\b\b\b\b\b\b\b\b\b\b\b\b\b\b\b\b\b\b\b\b\b\b\b\b\b\b\b\b\b\b\b\b\b\b\b\b\b\b\b\b\b\b\b\b\b\r25/25 [==============================] - 58s 2s/step - loss: 0.1396 - accuracy: 0.9182 - val_loss: 1.2039 - val_accuracy: 0.5761\n",
            "Epoch 54/70\n",
            "25/25 [==============================] - ETA: 0s - loss: 0.1303 - accuracy: 0.9227\n",
            "Epoch 54: saving model to model.NLP\n"
          ]
        },
        {
          "output_type": "stream",
          "name": "stderr",
          "text": [
            "WARNING:absl:Found untraced functions such as lstm_cell_layer_call_fn, lstm_cell_layer_call_and_return_conditional_losses, lstm_cell_1_layer_call_fn, lstm_cell_1_layer_call_and_return_conditional_losses while saving (showing 4 of 4). These functions will not be directly callable after loading.\n"
          ]
        },
        {
          "output_type": "stream",
          "name": "stdout",
          "text": [
            "INFO:tensorflow:Assets written to: model.NLP/assets\n"
          ]
        },
        {
          "output_type": "stream",
          "name": "stderr",
          "text": [
            "INFO:tensorflow:Assets written to: model.NLP/assets\n",
            "WARNING:absl:<keras.layers.recurrent.LSTMCell object at 0x7f3255e16ad0> has the same name 'LSTMCell' as a built-in Keras object. Consider renaming <class 'keras.layers.recurrent.LSTMCell'> to avoid naming conflicts when loading with `tf.keras.models.load_model`. If renaming is not possible, pass the object in the `custom_objects` parameter of the load function.\n",
            "WARNING:absl:<keras.layers.recurrent.LSTMCell object at 0x7f32521c3190> has the same name 'LSTMCell' as a built-in Keras object. Consider renaming <class 'keras.layers.recurrent.LSTMCell'> to avoid naming conflicts when loading with `tf.keras.models.load_model`. If renaming is not possible, pass the object in the `custom_objects` parameter of the load function.\n"
          ]
        },
        {
          "output_type": "stream",
          "name": "stdout",
          "text": [
            "\b\b\b\b\b\b\b\b\b\b\b\b\b\b\b\b\b\b\b\b\b\b\b\b\b\b\b\b\b\b\b\b\b\b\b\b\b\b\b\b\b\b\b\b\b\b\b\b\b\b\b\b\b\b\b\b\b\b\b\b\b\b\b\b\b\b\b\b\b\b\b\b\b\b\b\b\b\b\b\b\b\b\r25/25 [==============================] - 61s 2s/step - loss: 0.1303 - accuracy: 0.9227 - val_loss: 1.2049 - val_accuracy: 0.5774\n",
            "Epoch 55/70\n",
            "25/25 [==============================] - ETA: 0s - loss: 0.1230 - accuracy: 0.9271\n",
            "Epoch 55: saving model to model.NLP\n"
          ]
        },
        {
          "output_type": "stream",
          "name": "stderr",
          "text": [
            "WARNING:absl:Found untraced functions such as lstm_cell_layer_call_fn, lstm_cell_layer_call_and_return_conditional_losses, lstm_cell_1_layer_call_fn, lstm_cell_1_layer_call_and_return_conditional_losses while saving (showing 4 of 4). These functions will not be directly callable after loading.\n"
          ]
        },
        {
          "output_type": "stream",
          "name": "stdout",
          "text": [
            "INFO:tensorflow:Assets written to: model.NLP/assets\n"
          ]
        },
        {
          "output_type": "stream",
          "name": "stderr",
          "text": [
            "INFO:tensorflow:Assets written to: model.NLP/assets\n",
            "WARNING:absl:<keras.layers.recurrent.LSTMCell object at 0x7f3255e16ad0> has the same name 'LSTMCell' as a built-in Keras object. Consider renaming <class 'keras.layers.recurrent.LSTMCell'> to avoid naming conflicts when loading with `tf.keras.models.load_model`. If renaming is not possible, pass the object in the `custom_objects` parameter of the load function.\n",
            "WARNING:absl:<keras.layers.recurrent.LSTMCell object at 0x7f32521c3190> has the same name 'LSTMCell' as a built-in Keras object. Consider renaming <class 'keras.layers.recurrent.LSTMCell'> to avoid naming conflicts when loading with `tf.keras.models.load_model`. If renaming is not possible, pass the object in the `custom_objects` parameter of the load function.\n"
          ]
        },
        {
          "output_type": "stream",
          "name": "stdout",
          "text": [
            "\b\b\b\b\b\b\b\b\b\b\b\b\b\b\b\b\b\b\b\b\b\b\b\b\b\b\b\b\b\b\b\b\b\b\b\b\b\b\b\b\b\b\b\b\b\b\b\b\b\b\b\b\b\b\b\b\b\b\b\b\b\b\b\b\b\b\b\b\b\b\b\b\b\b\b\b\b\b\b\b\b\b\r25/25 [==============================] - 58s 2s/step - loss: 0.1230 - accuracy: 0.9271 - val_loss: 1.1985 - val_accuracy: 0.5798\n",
            "Epoch 56/70\n",
            "25/25 [==============================] - ETA: 0s - loss: 0.1142 - accuracy: 0.9302\n",
            "Epoch 56: saving model to model.NLP\n"
          ]
        },
        {
          "output_type": "stream",
          "name": "stderr",
          "text": [
            "WARNING:absl:Found untraced functions such as lstm_cell_layer_call_fn, lstm_cell_layer_call_and_return_conditional_losses, lstm_cell_1_layer_call_fn, lstm_cell_1_layer_call_and_return_conditional_losses while saving (showing 4 of 4). These functions will not be directly callable after loading.\n"
          ]
        },
        {
          "output_type": "stream",
          "name": "stdout",
          "text": [
            "INFO:tensorflow:Assets written to: model.NLP/assets\n"
          ]
        },
        {
          "output_type": "stream",
          "name": "stderr",
          "text": [
            "INFO:tensorflow:Assets written to: model.NLP/assets\n",
            "WARNING:absl:<keras.layers.recurrent.LSTMCell object at 0x7f3255e16ad0> has the same name 'LSTMCell' as a built-in Keras object. Consider renaming <class 'keras.layers.recurrent.LSTMCell'> to avoid naming conflicts when loading with `tf.keras.models.load_model`. If renaming is not possible, pass the object in the `custom_objects` parameter of the load function.\n",
            "WARNING:absl:<keras.layers.recurrent.LSTMCell object at 0x7f32521c3190> has the same name 'LSTMCell' as a built-in Keras object. Consider renaming <class 'keras.layers.recurrent.LSTMCell'> to avoid naming conflicts when loading with `tf.keras.models.load_model`. If renaming is not possible, pass the object in the `custom_objects` parameter of the load function.\n"
          ]
        },
        {
          "output_type": "stream",
          "name": "stdout",
          "text": [
            "\b\b\b\b\b\b\b\b\b\b\b\b\b\b\b\b\b\b\b\b\b\b\b\b\b\b\b\b\b\b\b\b\b\b\b\b\b\b\b\b\b\b\b\b\b\b\b\b\b\b\b\b\b\b\b\b\b\b\b\b\b\b\b\b\b\b\b\b\b\b\b\b\b\b\b\b\b\b\b\b\b\b\r25/25 [==============================] - 57s 2s/step - loss: 0.1142 - accuracy: 0.9302 - val_loss: 1.1882 - val_accuracy: 0.5842\n",
            "Epoch 57/70\n",
            "25/25 [==============================] - ETA: 0s - loss: 0.1071 - accuracy: 0.9338\n",
            "Epoch 57: saving model to model.NLP\n"
          ]
        },
        {
          "output_type": "stream",
          "name": "stderr",
          "text": [
            "WARNING:absl:Found untraced functions such as lstm_cell_layer_call_fn, lstm_cell_layer_call_and_return_conditional_losses, lstm_cell_1_layer_call_fn, lstm_cell_1_layer_call_and_return_conditional_losses while saving (showing 4 of 4). These functions will not be directly callable after loading.\n"
          ]
        },
        {
          "output_type": "stream",
          "name": "stdout",
          "text": [
            "INFO:tensorflow:Assets written to: model.NLP/assets\n"
          ]
        },
        {
          "output_type": "stream",
          "name": "stderr",
          "text": [
            "INFO:tensorflow:Assets written to: model.NLP/assets\n",
            "WARNING:absl:<keras.layers.recurrent.LSTMCell object at 0x7f3255e16ad0> has the same name 'LSTMCell' as a built-in Keras object. Consider renaming <class 'keras.layers.recurrent.LSTMCell'> to avoid naming conflicts when loading with `tf.keras.models.load_model`. If renaming is not possible, pass the object in the `custom_objects` parameter of the load function.\n",
            "WARNING:absl:<keras.layers.recurrent.LSTMCell object at 0x7f32521c3190> has the same name 'LSTMCell' as a built-in Keras object. Consider renaming <class 'keras.layers.recurrent.LSTMCell'> to avoid naming conflicts when loading with `tf.keras.models.load_model`. If renaming is not possible, pass the object in the `custom_objects` parameter of the load function.\n"
          ]
        },
        {
          "output_type": "stream",
          "name": "stdout",
          "text": [
            "\b\b\b\b\b\b\b\b\b\b\b\b\b\b\b\b\b\b\b\b\b\b\b\b\b\b\b\b\b\b\b\b\b\b\b\b\b\b\b\b\b\b\b\b\b\b\b\b\b\b\b\b\b\b\b\b\b\b\b\b\b\b\b\b\b\b\b\b\b\b\b\b\b\b\b\b\b\b\b\b\b\b\r25/25 [==============================] - 53s 2s/step - loss: 0.1071 - accuracy: 0.9338 - val_loss: 1.1903 - val_accuracy: 0.5853\n",
            "Epoch 58/70\n",
            "25/25 [==============================] - ETA: 0s - loss: 0.1007 - accuracy: 0.9372\n",
            "Epoch 58: saving model to model.NLP\n"
          ]
        },
        {
          "output_type": "stream",
          "name": "stderr",
          "text": [
            "WARNING:absl:Found untraced functions such as lstm_cell_layer_call_fn, lstm_cell_layer_call_and_return_conditional_losses, lstm_cell_1_layer_call_fn, lstm_cell_1_layer_call_and_return_conditional_losses while saving (showing 4 of 4). These functions will not be directly callable after loading.\n"
          ]
        },
        {
          "output_type": "stream",
          "name": "stdout",
          "text": [
            "INFO:tensorflow:Assets written to: model.NLP/assets\n"
          ]
        },
        {
          "output_type": "stream",
          "name": "stderr",
          "text": [
            "INFO:tensorflow:Assets written to: model.NLP/assets\n",
            "WARNING:absl:<keras.layers.recurrent.LSTMCell object at 0x7f3255e16ad0> has the same name 'LSTMCell' as a built-in Keras object. Consider renaming <class 'keras.layers.recurrent.LSTMCell'> to avoid naming conflicts when loading with `tf.keras.models.load_model`. If renaming is not possible, pass the object in the `custom_objects` parameter of the load function.\n",
            "WARNING:absl:<keras.layers.recurrent.LSTMCell object at 0x7f32521c3190> has the same name 'LSTMCell' as a built-in Keras object. Consider renaming <class 'keras.layers.recurrent.LSTMCell'> to avoid naming conflicts when loading with `tf.keras.models.load_model`. If renaming is not possible, pass the object in the `custom_objects` parameter of the load function.\n"
          ]
        },
        {
          "output_type": "stream",
          "name": "stdout",
          "text": [
            "\b\b\b\b\b\b\b\b\b\b\b\b\b\b\b\b\b\b\b\b\b\b\b\b\b\b\b\b\b\b\b\b\b\b\b\b\b\b\b\b\b\b\b\b\b\b\b\b\b\b\b\b\b\b\b\b\b\b\b\b\b\b\b\b\b\b\b\b\b\b\b\b\b\b\b\b\b\b\b\b\b\b\r25/25 [==============================] - 51s 2s/step - loss: 0.1007 - accuracy: 0.9372 - val_loss: 1.1896 - val_accuracy: 0.5850\n",
            "Epoch 59/70\n",
            "25/25 [==============================] - ETA: 0s - loss: 0.0925 - accuracy: 0.9418\n",
            "Epoch 59: saving model to model.NLP\n"
          ]
        },
        {
          "output_type": "stream",
          "name": "stderr",
          "text": [
            "WARNING:absl:Found untraced functions such as lstm_cell_layer_call_fn, lstm_cell_layer_call_and_return_conditional_losses, lstm_cell_1_layer_call_fn, lstm_cell_1_layer_call_and_return_conditional_losses while saving (showing 4 of 4). These functions will not be directly callable after loading.\n"
          ]
        },
        {
          "output_type": "stream",
          "name": "stdout",
          "text": [
            "INFO:tensorflow:Assets written to: model.NLP/assets\n"
          ]
        },
        {
          "output_type": "stream",
          "name": "stderr",
          "text": [
            "INFO:tensorflow:Assets written to: model.NLP/assets\n",
            "WARNING:absl:<keras.layers.recurrent.LSTMCell object at 0x7f3255e16ad0> has the same name 'LSTMCell' as a built-in Keras object. Consider renaming <class 'keras.layers.recurrent.LSTMCell'> to avoid naming conflicts when loading with `tf.keras.models.load_model`. If renaming is not possible, pass the object in the `custom_objects` parameter of the load function.\n",
            "WARNING:absl:<keras.layers.recurrent.LSTMCell object at 0x7f32521c3190> has the same name 'LSTMCell' as a built-in Keras object. Consider renaming <class 'keras.layers.recurrent.LSTMCell'> to avoid naming conflicts when loading with `tf.keras.models.load_model`. If renaming is not possible, pass the object in the `custom_objects` parameter of the load function.\n"
          ]
        },
        {
          "output_type": "stream",
          "name": "stdout",
          "text": [
            "\b\b\b\b\b\b\b\b\b\b\b\b\b\b\b\b\b\b\b\b\b\b\b\b\b\b\b\b\b\b\b\b\b\b\b\b\b\b\b\b\b\b\b\b\b\b\b\b\b\b\b\b\b\b\b\b\b\b\b\b\b\b\b\b\b\b\b\b\b\b\b\b\b\b\b\b\b\b\b\b\b\b\r25/25 [==============================] - 52s 2s/step - loss: 0.0925 - accuracy: 0.9418 - val_loss: 1.1851 - val_accuracy: 0.5894\n",
            "Epoch 60/70\n",
            "25/25 [==============================] - ETA: 0s - loss: 0.0878 - accuracy: 0.9438\n",
            "Epoch 60: saving model to model.NLP\n"
          ]
        },
        {
          "output_type": "stream",
          "name": "stderr",
          "text": [
            "WARNING:absl:Found untraced functions such as lstm_cell_layer_call_fn, lstm_cell_layer_call_and_return_conditional_losses, lstm_cell_1_layer_call_fn, lstm_cell_1_layer_call_and_return_conditional_losses while saving (showing 4 of 4). These functions will not be directly callable after loading.\n"
          ]
        },
        {
          "output_type": "stream",
          "name": "stdout",
          "text": [
            "INFO:tensorflow:Assets written to: model.NLP/assets\n"
          ]
        },
        {
          "output_type": "stream",
          "name": "stderr",
          "text": [
            "INFO:tensorflow:Assets written to: model.NLP/assets\n",
            "WARNING:absl:<keras.layers.recurrent.LSTMCell object at 0x7f3255e16ad0> has the same name 'LSTMCell' as a built-in Keras object. Consider renaming <class 'keras.layers.recurrent.LSTMCell'> to avoid naming conflicts when loading with `tf.keras.models.load_model`. If renaming is not possible, pass the object in the `custom_objects` parameter of the load function.\n",
            "WARNING:absl:<keras.layers.recurrent.LSTMCell object at 0x7f32521c3190> has the same name 'LSTMCell' as a built-in Keras object. Consider renaming <class 'keras.layers.recurrent.LSTMCell'> to avoid naming conflicts when loading with `tf.keras.models.load_model`. If renaming is not possible, pass the object in the `custom_objects` parameter of the load function.\n"
          ]
        },
        {
          "output_type": "stream",
          "name": "stdout",
          "text": [
            "\b\b\b\b\b\b\b\b\b\b\b\b\b\b\b\b\b\b\b\b\b\b\b\b\b\b\b\b\b\b\b\b\b\b\b\b\b\b\b\b\b\b\b\b\b\b\b\b\b\b\b\b\b\b\b\b\b\b\b\b\b\b\b\b\b\b\b\b\b\b\b\b\b\b\b\b\b\b\b\b\b\b\r25/25 [==============================] - 53s 2s/step - loss: 0.0878 - accuracy: 0.9438 - val_loss: 1.1895 - val_accuracy: 0.5907\n",
            "Epoch 61/70\n",
            "25/25 [==============================] - ETA: 0s - loss: 0.0826 - accuracy: 0.9461\n",
            "Epoch 61: saving model to model.NLP\n"
          ]
        },
        {
          "output_type": "stream",
          "name": "stderr",
          "text": [
            "WARNING:absl:Found untraced functions such as lstm_cell_layer_call_fn, lstm_cell_layer_call_and_return_conditional_losses, lstm_cell_1_layer_call_fn, lstm_cell_1_layer_call_and_return_conditional_losses while saving (showing 4 of 4). These functions will not be directly callable after loading.\n"
          ]
        },
        {
          "output_type": "stream",
          "name": "stdout",
          "text": [
            "INFO:tensorflow:Assets written to: model.NLP/assets\n"
          ]
        },
        {
          "output_type": "stream",
          "name": "stderr",
          "text": [
            "INFO:tensorflow:Assets written to: model.NLP/assets\n",
            "WARNING:absl:<keras.layers.recurrent.LSTMCell object at 0x7f3255e16ad0> has the same name 'LSTMCell' as a built-in Keras object. Consider renaming <class 'keras.layers.recurrent.LSTMCell'> to avoid naming conflicts when loading with `tf.keras.models.load_model`. If renaming is not possible, pass the object in the `custom_objects` parameter of the load function.\n",
            "WARNING:absl:<keras.layers.recurrent.LSTMCell object at 0x7f32521c3190> has the same name 'LSTMCell' as a built-in Keras object. Consider renaming <class 'keras.layers.recurrent.LSTMCell'> to avoid naming conflicts when loading with `tf.keras.models.load_model`. If renaming is not possible, pass the object in the `custom_objects` parameter of the load function.\n"
          ]
        },
        {
          "output_type": "stream",
          "name": "stdout",
          "text": [
            "\b\b\b\b\b\b\b\b\b\b\b\b\b\b\b\b\b\b\b\b\b\b\b\b\b\b\b\b\b\b\b\b\b\b\b\b\b\b\b\b\b\b\b\b\b\b\b\b\b\b\b\b\b\b\b\b\b\b\b\b\b\b\b\b\b\b\b\b\b\b\b\b\b\b\b\b\b\b\b\b\b\b\r25/25 [==============================] - 56s 2s/step - loss: 0.0826 - accuracy: 0.9461 - val_loss: 1.1943 - val_accuracy: 0.5868\n",
            "Epoch 62/70\n",
            "25/25 [==============================] - ETA: 0s - loss: 0.0767 - accuracy: 0.9484\n",
            "Epoch 62: saving model to model.NLP\n"
          ]
        },
        {
          "output_type": "stream",
          "name": "stderr",
          "text": [
            "WARNING:absl:Found untraced functions such as lstm_cell_layer_call_fn, lstm_cell_layer_call_and_return_conditional_losses, lstm_cell_1_layer_call_fn, lstm_cell_1_layer_call_and_return_conditional_losses while saving (showing 4 of 4). These functions will not be directly callable after loading.\n"
          ]
        },
        {
          "output_type": "stream",
          "name": "stdout",
          "text": [
            "INFO:tensorflow:Assets written to: model.NLP/assets\n"
          ]
        },
        {
          "output_type": "stream",
          "name": "stderr",
          "text": [
            "INFO:tensorflow:Assets written to: model.NLP/assets\n",
            "WARNING:absl:<keras.layers.recurrent.LSTMCell object at 0x7f3255e16ad0> has the same name 'LSTMCell' as a built-in Keras object. Consider renaming <class 'keras.layers.recurrent.LSTMCell'> to avoid naming conflicts when loading with `tf.keras.models.load_model`. If renaming is not possible, pass the object in the `custom_objects` parameter of the load function.\n",
            "WARNING:absl:<keras.layers.recurrent.LSTMCell object at 0x7f32521c3190> has the same name 'LSTMCell' as a built-in Keras object. Consider renaming <class 'keras.layers.recurrent.LSTMCell'> to avoid naming conflicts when loading with `tf.keras.models.load_model`. If renaming is not possible, pass the object in the `custom_objects` parameter of the load function.\n"
          ]
        },
        {
          "output_type": "stream",
          "name": "stdout",
          "text": [
            "\b\b\b\b\b\b\b\b\b\b\b\b\b\b\b\b\b\b\b\b\b\b\b\b\b\b\b\b\b\b\b\b\b\b\b\b\b\b\b\b\b\b\b\b\b\b\b\b\b\b\b\b\b\b\b\b\b\b\b\b\b\b\b\b\b\b\b\b\b\b\b\b\b\b\b\b\b\b\b\b\b\b\r25/25 [==============================] - 53s 2s/step - loss: 0.0767 - accuracy: 0.9484 - val_loss: 1.1883 - val_accuracy: 0.5897\n",
            "Epoch 63/70\n",
            "25/25 [==============================] - ETA: 0s - loss: 0.0715 - accuracy: 0.9513\n",
            "Epoch 63: saving model to model.NLP\n"
          ]
        },
        {
          "output_type": "stream",
          "name": "stderr",
          "text": [
            "WARNING:absl:Found untraced functions such as lstm_cell_layer_call_fn, lstm_cell_layer_call_and_return_conditional_losses, lstm_cell_1_layer_call_fn, lstm_cell_1_layer_call_and_return_conditional_losses while saving (showing 4 of 4). These functions will not be directly callable after loading.\n"
          ]
        },
        {
          "output_type": "stream",
          "name": "stdout",
          "text": [
            "INFO:tensorflow:Assets written to: model.NLP/assets\n"
          ]
        },
        {
          "output_type": "stream",
          "name": "stderr",
          "text": [
            "INFO:tensorflow:Assets written to: model.NLP/assets\n",
            "WARNING:absl:<keras.layers.recurrent.LSTMCell object at 0x7f3255e16ad0> has the same name 'LSTMCell' as a built-in Keras object. Consider renaming <class 'keras.layers.recurrent.LSTMCell'> to avoid naming conflicts when loading with `tf.keras.models.load_model`. If renaming is not possible, pass the object in the `custom_objects` parameter of the load function.\n",
            "WARNING:absl:<keras.layers.recurrent.LSTMCell object at 0x7f32521c3190> has the same name 'LSTMCell' as a built-in Keras object. Consider renaming <class 'keras.layers.recurrent.LSTMCell'> to avoid naming conflicts when loading with `tf.keras.models.load_model`. If renaming is not possible, pass the object in the `custom_objects` parameter of the load function.\n"
          ]
        },
        {
          "output_type": "stream",
          "name": "stdout",
          "text": [
            "\b\b\b\b\b\b\b\b\b\b\b\b\b\b\b\b\b\b\b\b\b\b\b\b\b\b\b\b\b\b\b\b\b\b\b\b\b\b\b\b\b\b\b\b\b\b\b\b\b\b\b\b\b\b\b\b\b\b\b\b\b\b\b\b\b\b\b\b\b\b\b\b\b\b\b\b\b\b\b\b\b\b\r25/25 [==============================] - 53s 2s/step - loss: 0.0715 - accuracy: 0.9513 - val_loss: 1.1887 - val_accuracy: 0.5915\n",
            "Epoch 64/70\n",
            "25/25 [==============================] - ETA: 0s - loss: 0.0686 - accuracy: 0.9501\n",
            "Epoch 64: saving model to model.NLP\n"
          ]
        },
        {
          "output_type": "stream",
          "name": "stderr",
          "text": [
            "WARNING:absl:Found untraced functions such as lstm_cell_layer_call_fn, lstm_cell_layer_call_and_return_conditional_losses, lstm_cell_1_layer_call_fn, lstm_cell_1_layer_call_and_return_conditional_losses while saving (showing 4 of 4). These functions will not be directly callable after loading.\n"
          ]
        },
        {
          "output_type": "stream",
          "name": "stdout",
          "text": [
            "INFO:tensorflow:Assets written to: model.NLP/assets\n"
          ]
        },
        {
          "output_type": "stream",
          "name": "stderr",
          "text": [
            "INFO:tensorflow:Assets written to: model.NLP/assets\n",
            "WARNING:absl:<keras.layers.recurrent.LSTMCell object at 0x7f3255e16ad0> has the same name 'LSTMCell' as a built-in Keras object. Consider renaming <class 'keras.layers.recurrent.LSTMCell'> to avoid naming conflicts when loading with `tf.keras.models.load_model`. If renaming is not possible, pass the object in the `custom_objects` parameter of the load function.\n",
            "WARNING:absl:<keras.layers.recurrent.LSTMCell object at 0x7f32521c3190> has the same name 'LSTMCell' as a built-in Keras object. Consider renaming <class 'keras.layers.recurrent.LSTMCell'> to avoid naming conflicts when loading with `tf.keras.models.load_model`. If renaming is not possible, pass the object in the `custom_objects` parameter of the load function.\n"
          ]
        },
        {
          "output_type": "stream",
          "name": "stdout",
          "text": [
            "\b\b\b\b\b\b\b\b\b\b\b\b\b\b\b\b\b\b\b\b\b\b\b\b\b\b\b\b\b\b\b\b\b\b\b\b\b\b\b\b\b\b\b\b\b\b\b\b\b\b\b\b\b\b\b\b\b\b\b\b\b\b\b\b\b\b\b\b\b\b\b\b\b\b\b\b\b\b\b\b\b\b\r25/25 [==============================] - 53s 2s/step - loss: 0.0686 - accuracy: 0.9501 - val_loss: 1.1896 - val_accuracy: 0.5900\n",
            "Epoch 65/70\n",
            "25/25 [==============================] - ETA: 0s - loss: 0.0633 - accuracy: 0.9544\n",
            "Epoch 65: saving model to model.NLP\n"
          ]
        },
        {
          "output_type": "stream",
          "name": "stderr",
          "text": [
            "WARNING:absl:Found untraced functions such as lstm_cell_layer_call_fn, lstm_cell_layer_call_and_return_conditional_losses, lstm_cell_1_layer_call_fn, lstm_cell_1_layer_call_and_return_conditional_losses while saving (showing 4 of 4). These functions will not be directly callable after loading.\n"
          ]
        },
        {
          "output_type": "stream",
          "name": "stdout",
          "text": [
            "INFO:tensorflow:Assets written to: model.NLP/assets\n"
          ]
        },
        {
          "output_type": "stream",
          "name": "stderr",
          "text": [
            "INFO:tensorflow:Assets written to: model.NLP/assets\n",
            "WARNING:absl:<keras.layers.recurrent.LSTMCell object at 0x7f3255e16ad0> has the same name 'LSTMCell' as a built-in Keras object. Consider renaming <class 'keras.layers.recurrent.LSTMCell'> to avoid naming conflicts when loading with `tf.keras.models.load_model`. If renaming is not possible, pass the object in the `custom_objects` parameter of the load function.\n",
            "WARNING:absl:<keras.layers.recurrent.LSTMCell object at 0x7f32521c3190> has the same name 'LSTMCell' as a built-in Keras object. Consider renaming <class 'keras.layers.recurrent.LSTMCell'> to avoid naming conflicts when loading with `tf.keras.models.load_model`. If renaming is not possible, pass the object in the `custom_objects` parameter of the load function.\n"
          ]
        },
        {
          "output_type": "stream",
          "name": "stdout",
          "text": [
            "\b\b\b\b\b\b\b\b\b\b\b\b\b\b\b\b\b\b\b\b\b\b\b\b\b\b\b\b\b\b\b\b\b\b\b\b\b\b\b\b\b\b\b\b\b\b\b\b\b\b\b\b\b\b\b\b\b\b\b\b\b\b\b\b\b\b\b\b\b\b\b\b\b\b\b\b\b\b\b\b\b\b\r25/25 [==============================] - 52s 2s/step - loss: 0.0633 - accuracy: 0.9544 - val_loss: 1.1824 - val_accuracy: 0.5913\n",
            "Epoch 66/70\n",
            "25/25 [==============================] - ETA: 0s - loss: 0.0592 - accuracy: 0.9548\n",
            "Epoch 66: saving model to model.NLP\n"
          ]
        },
        {
          "output_type": "stream",
          "name": "stderr",
          "text": [
            "WARNING:absl:Found untraced functions such as lstm_cell_layer_call_fn, lstm_cell_layer_call_and_return_conditional_losses, lstm_cell_1_layer_call_fn, lstm_cell_1_layer_call_and_return_conditional_losses while saving (showing 4 of 4). These functions will not be directly callable after loading.\n"
          ]
        },
        {
          "output_type": "stream",
          "name": "stdout",
          "text": [
            "INFO:tensorflow:Assets written to: model.NLP/assets\n"
          ]
        },
        {
          "output_type": "stream",
          "name": "stderr",
          "text": [
            "INFO:tensorflow:Assets written to: model.NLP/assets\n",
            "WARNING:absl:<keras.layers.recurrent.LSTMCell object at 0x7f3255e16ad0> has the same name 'LSTMCell' as a built-in Keras object. Consider renaming <class 'keras.layers.recurrent.LSTMCell'> to avoid naming conflicts when loading with `tf.keras.models.load_model`. If renaming is not possible, pass the object in the `custom_objects` parameter of the load function.\n",
            "WARNING:absl:<keras.layers.recurrent.LSTMCell object at 0x7f32521c3190> has the same name 'LSTMCell' as a built-in Keras object. Consider renaming <class 'keras.layers.recurrent.LSTMCell'> to avoid naming conflicts when loading with `tf.keras.models.load_model`. If renaming is not possible, pass the object in the `custom_objects` parameter of the load function.\n"
          ]
        },
        {
          "output_type": "stream",
          "name": "stdout",
          "text": [
            "\b\b\b\b\b\b\b\b\b\b\b\b\b\b\b\b\b\b\b\b\b\b\b\b\b\b\b\b\b\b\b\b\b\b\b\b\b\b\b\b\b\b\b\b\b\b\b\b\b\b\b\b\b\b\b\b\b\b\b\b\b\b\b\b\b\b\b\b\b\b\b\b\b\b\b\b\b\b\b\b\b\b\r25/25 [==============================] - 52s 2s/step - loss: 0.0592 - accuracy: 0.9548 - val_loss: 1.1809 - val_accuracy: 0.5931\n",
            "Epoch 67/70\n",
            "25/25 [==============================] - ETA: 0s - loss: 0.0566 - accuracy: 0.9566\n",
            "Epoch 67: saving model to model.NLP\n"
          ]
        },
        {
          "output_type": "stream",
          "name": "stderr",
          "text": [
            "WARNING:absl:Found untraced functions such as lstm_cell_layer_call_fn, lstm_cell_layer_call_and_return_conditional_losses, lstm_cell_1_layer_call_fn, lstm_cell_1_layer_call_and_return_conditional_losses while saving (showing 4 of 4). These functions will not be directly callable after loading.\n"
          ]
        },
        {
          "output_type": "stream",
          "name": "stdout",
          "text": [
            "INFO:tensorflow:Assets written to: model.NLP/assets\n"
          ]
        },
        {
          "output_type": "stream",
          "name": "stderr",
          "text": [
            "INFO:tensorflow:Assets written to: model.NLP/assets\n",
            "WARNING:absl:<keras.layers.recurrent.LSTMCell object at 0x7f3255e16ad0> has the same name 'LSTMCell' as a built-in Keras object. Consider renaming <class 'keras.layers.recurrent.LSTMCell'> to avoid naming conflicts when loading with `tf.keras.models.load_model`. If renaming is not possible, pass the object in the `custom_objects` parameter of the load function.\n",
            "WARNING:absl:<keras.layers.recurrent.LSTMCell object at 0x7f32521c3190> has the same name 'LSTMCell' as a built-in Keras object. Consider renaming <class 'keras.layers.recurrent.LSTMCell'> to avoid naming conflicts when loading with `tf.keras.models.load_model`. If renaming is not possible, pass the object in the `custom_objects` parameter of the load function.\n"
          ]
        },
        {
          "output_type": "stream",
          "name": "stdout",
          "text": [
            "\b\b\b\b\b\b\b\b\b\b\b\b\b\b\b\b\b\b\b\b\b\b\b\b\b\b\b\b\b\b\b\b\b\b\b\b\b\b\b\b\b\b\b\b\b\b\b\b\b\b\b\b\b\b\b\b\b\b\b\b\b\b\b\b\b\b\b\b\b\b\b\b\b\b\b\b\b\b\b\b\b\b\r25/25 [==============================] - 51s 2s/step - loss: 0.0566 - accuracy: 0.9566 - val_loss: 1.1850 - val_accuracy: 0.5926\n",
            "Epoch 68/70\n",
            "25/25 [==============================] - ETA: 0s - loss: 0.0533 - accuracy: 0.9570\n",
            "Epoch 68: saving model to model.NLP\n"
          ]
        },
        {
          "output_type": "stream",
          "name": "stderr",
          "text": [
            "WARNING:absl:Found untraced functions such as lstm_cell_layer_call_fn, lstm_cell_layer_call_and_return_conditional_losses, lstm_cell_1_layer_call_fn, lstm_cell_1_layer_call_and_return_conditional_losses while saving (showing 4 of 4). These functions will not be directly callable after loading.\n"
          ]
        },
        {
          "output_type": "stream",
          "name": "stdout",
          "text": [
            "INFO:tensorflow:Assets written to: model.NLP/assets\n"
          ]
        },
        {
          "output_type": "stream",
          "name": "stderr",
          "text": [
            "INFO:tensorflow:Assets written to: model.NLP/assets\n",
            "WARNING:absl:<keras.layers.recurrent.LSTMCell object at 0x7f3255e16ad0> has the same name 'LSTMCell' as a built-in Keras object. Consider renaming <class 'keras.layers.recurrent.LSTMCell'> to avoid naming conflicts when loading with `tf.keras.models.load_model`. If renaming is not possible, pass the object in the `custom_objects` parameter of the load function.\n",
            "WARNING:absl:<keras.layers.recurrent.LSTMCell object at 0x7f32521c3190> has the same name 'LSTMCell' as a built-in Keras object. Consider renaming <class 'keras.layers.recurrent.LSTMCell'> to avoid naming conflicts when loading with `tf.keras.models.load_model`. If renaming is not possible, pass the object in the `custom_objects` parameter of the load function.\n"
          ]
        },
        {
          "output_type": "stream",
          "name": "stdout",
          "text": [
            "\b\b\b\b\b\b\b\b\b\b\b\b\b\b\b\b\b\b\b\b\b\b\b\b\b\b\b\b\b\b\b\b\b\b\b\b\b\b\b\b\b\b\b\b\b\b\b\b\b\b\b\b\b\b\b\b\b\b\b\b\b\b\b\b\b\b\b\b\b\b\b\b\b\b\b\b\b\b\b\b\b\b\r25/25 [==============================] - 52s 2s/step - loss: 0.0533 - accuracy: 0.9570 - val_loss: 1.1827 - val_accuracy: 0.5897\n",
            "Epoch 69/70\n",
            "25/25 [==============================] - ETA: 0s - loss: 0.0504 - accuracy: 0.9585\n",
            "Epoch 69: saving model to model.NLP\n"
          ]
        },
        {
          "output_type": "stream",
          "name": "stderr",
          "text": [
            "WARNING:absl:Found untraced functions such as lstm_cell_layer_call_fn, lstm_cell_layer_call_and_return_conditional_losses, lstm_cell_1_layer_call_fn, lstm_cell_1_layer_call_and_return_conditional_losses while saving (showing 4 of 4). These functions will not be directly callable after loading.\n"
          ]
        },
        {
          "output_type": "stream",
          "name": "stdout",
          "text": [
            "INFO:tensorflow:Assets written to: model.NLP/assets\n"
          ]
        },
        {
          "output_type": "stream",
          "name": "stderr",
          "text": [
            "INFO:tensorflow:Assets written to: model.NLP/assets\n",
            "WARNING:absl:<keras.layers.recurrent.LSTMCell object at 0x7f3255e16ad0> has the same name 'LSTMCell' as a built-in Keras object. Consider renaming <class 'keras.layers.recurrent.LSTMCell'> to avoid naming conflicts when loading with `tf.keras.models.load_model`. If renaming is not possible, pass the object in the `custom_objects` parameter of the load function.\n",
            "WARNING:absl:<keras.layers.recurrent.LSTMCell object at 0x7f32521c3190> has the same name 'LSTMCell' as a built-in Keras object. Consider renaming <class 'keras.layers.recurrent.LSTMCell'> to avoid naming conflicts when loading with `tf.keras.models.load_model`. If renaming is not possible, pass the object in the `custom_objects` parameter of the load function.\n"
          ]
        },
        {
          "output_type": "stream",
          "name": "stdout",
          "text": [
            "\b\b\b\b\b\b\b\b\b\b\b\b\b\b\b\b\b\b\b\b\b\b\b\b\b\b\b\b\b\b\b\b\b\b\b\b\b\b\b\b\b\b\b\b\b\b\b\b\b\b\b\b\b\b\b\b\b\b\b\b\b\b\b\b\b\b\b\b\b\b\b\b\b\b\b\b\b\b\b\b\b\b\r25/25 [==============================] - 52s 2s/step - loss: 0.0504 - accuracy: 0.9585 - val_loss: 1.1887 - val_accuracy: 0.5897\n",
            "Epoch 70/70\n",
            "25/25 [==============================] - ETA: 0s - loss: 0.0476 - accuracy: 0.9589\n",
            "Epoch 70: saving model to model.NLP\n"
          ]
        },
        {
          "output_type": "stream",
          "name": "stderr",
          "text": [
            "WARNING:absl:Found untraced functions such as lstm_cell_layer_call_fn, lstm_cell_layer_call_and_return_conditional_losses, lstm_cell_1_layer_call_fn, lstm_cell_1_layer_call_and_return_conditional_losses while saving (showing 4 of 4). These functions will not be directly callable after loading.\n"
          ]
        },
        {
          "output_type": "stream",
          "name": "stdout",
          "text": [
            "INFO:tensorflow:Assets written to: model.NLP/assets\n"
          ]
        },
        {
          "output_type": "stream",
          "name": "stderr",
          "text": [
            "INFO:tensorflow:Assets written to: model.NLP/assets\n",
            "WARNING:absl:<keras.layers.recurrent.LSTMCell object at 0x7f3255e16ad0> has the same name 'LSTMCell' as a built-in Keras object. Consider renaming <class 'keras.layers.recurrent.LSTMCell'> to avoid naming conflicts when loading with `tf.keras.models.load_model`. If renaming is not possible, pass the object in the `custom_objects` parameter of the load function.\n",
            "WARNING:absl:<keras.layers.recurrent.LSTMCell object at 0x7f32521c3190> has the same name 'LSTMCell' as a built-in Keras object. Consider renaming <class 'keras.layers.recurrent.LSTMCell'> to avoid naming conflicts when loading with `tf.keras.models.load_model`. If renaming is not possible, pass the object in the `custom_objects` parameter of the load function.\n"
          ]
        },
        {
          "output_type": "stream",
          "name": "stdout",
          "text": [
            "\b\b\b\b\b\b\b\b\b\b\b\b\b\b\b\b\b\b\b\b\b\b\b\b\b\b\b\b\b\b\b\b\b\b\b\b\b\b\b\b\b\b\b\b\b\b\b\b\b\b\b\b\b\b\b\b\b\b\b\b\b\b\b\b\b\b\b\b\b\b\b\b\b\b\b\b\b\b\b\b\b\b\r25/25 [==============================] - 51s 2s/step - loss: 0.0476 - accuracy: 0.9589 - val_loss: 1.1873 - val_accuracy: 0.5936\n"
          ]
        }
      ]
    },
    {
      "cell_type": "code",
      "source": [
        "with open('train_History_Dictionary', 'wb') as file_pi:\n",
        " pkl.dump(history.history, file_pi)"
      ],
      "metadata": {
        "id": "uPC1JoAVrzJG"
      },
      "execution_count": null,
      "outputs": []
    },
    {
      "cell_type": "code",
      "source": [
        "history = pkl.load(open('train_History_Dictionary', \"rb\"))"
      ],
      "metadata": {
        "id": "49nLKI6dWmfM"
      },
      "execution_count": null,
      "outputs": []
    },
    {
      "cell_type": "code",
      "source": [
        "acc = history['accuracy']\n",
        "val_acc = history['val_accuracy']\n",
        "loss = history['loss']\n",
        "val_loss = history['val_loss']\n",
        "\n",
        "epochs = range(len(acc))\n",
        "\n",
        "plt.plot(epochs, acc, 'g', label='Training accuracy')\n",
        "plt.plot(epochs, val_acc, 'b', label='Validation accuracy')\n",
        "plt.title('Training and validation accuracy')\n",
        "plt.legend(loc=0)\n",
        "plt.savefig('wordA.png')\n",
        "plt.figure()\n",
        "plt.show()\n",
        "\n",
        "plt.plot(epochs, loss, 'r', label='Training loss')\n",
        "plt.plot(epochs, val_loss, 'o', label='Validation loss')\n",
        "plt.title('Training and validation loss')\n",
        "plt.legend(loc=0)\n",
        "plt.savefig('wordL.png')\n",
        "plt.figure()\n",
        "plt.show()"
      ],
      "metadata": {
        "colab": {
          "base_uri": "https://localhost:8080/",
          "height": 580
        },
        "id": "sRFr7r9bWpB_",
        "outputId": "188cf32b-7fdd-4a93-9d92-e859dd98a62c"
      },
      "execution_count": null,
      "outputs": [
        {
          "output_type": "display_data",
          "data": {
            "text/plain": [
              "<Figure size 432x288 with 1 Axes>"
            ],
            "image/png": "[encoded data removed]"
          },
          "metadata": {
            "needs_background": "light"
          }
        },
        {
          "output_type": "display_data",
          "data": {
            "text/plain": [
              "<Figure size 432x288 with 0 Axes>"
            ]
          },
          "metadata": {}
        },
        {
          "output_type": "display_data",
          "data": {
            "text/plain": [
              "<Figure size 432x288 with 1 Axes>"
            ],
            "image/png": "[encoded data removed]"
          },
          "metadata": {
            "needs_background": "light"
          }
        },
        {
          "output_type": "display_data",
          "data": {
            "text/plain": [
              "<Figure size 432x288 with 0 Axes>"
            ]
          },
          "metadata": {}
        }
      ]
    },
    {
      "cell_type": "code",
      "source": [
        "model.save_weights('nmt_weights.h5')"
      ],
      "metadata": {
        "id": "5_zsBWd_Wrxa"
      },
      "execution_count": null,
      "outputs": []
    },
    {
      "cell_type": "code",
      "source": [
        "model.load_weights('nmt_weights.h5')"
      ],
      "metadata": {
        "id": "EnS5branXGXu"
      },
      "execution_count": null,
      "outputs": []
    },
    {
      "cell_type": "code",
      "source": [
        "# Encode the input sequence to get the \"thought vectors\"\n",
        "encoder_model = Model(encoder_inputs, encoder_states)\n",
        "\n",
        "# Decoder setup\n",
        "# Below tensors will hold the states of the previous time step\n",
        "decoder_state_input_h = Input(shape=(latent_dim,))\n",
        "decoder_state_input_c = Input(shape=(latent_dim,))\n",
        "decoder_states_inputs = [decoder_state_input_h, decoder_state_input_c]\n",
        "\n",
        "# Get the embeddings of the decoder sequence\n",
        "dec_emb2= dec_emb_layer(decoder_inputs)\n",
        "\n",
        "# To predict the next word in the sequence, set the initial states to the states from the previous time step\n",
        "decoder_outputs2, state_h2, state_c2 = decoder_lstm(dec_emb2, initial_state=decoder_states_inputs)\n",
        "decoder_states2 = [state_h2, state_c2]\n",
        "\n",
        "# A dense softmax layer to generate prob dist. over the target vocabulary\n",
        "decoder_outputs2 = decoder_dense(decoder_outputs2)\n",
        "\n",
        "# Final decoder model\n",
        "decoder_model = Model(\n",
        "    [decoder_inputs] + decoder_states_inputs,\n",
        "    [decoder_outputs2] + decoder_states2)"
      ],
      "metadata": {
        "id": "Fjt3gEINXIyB"
      },
      "execution_count": null,
      "outputs": []
    },
    {
      "cell_type": "code",
      "source": [
        "def decode_sequence(input_seq):\n",
        "    # Encode the input as state vectors.\n",
        "    states_value = encoder_model.predict(input_seq)\n",
        "    \n",
        "    # Generate empty target sequence of length 1.\n",
        "    target_seq = np.zeros((1,1))\n",
        "    \n",
        "    # Populate the first character of target sequence with the start character.\n",
        "    target_seq[0, 0] = target_token_index['START_']\n",
        "    \n",
        "    # Sampling loop for a batch of sequences\n",
        "    # (to simplify, here we assume a batch of size 1).\n",
        "    stop_condition = False\n",
        "    decoded_sentence = ''\n",
        "    \n",
        "    while not stop_condition:\n",
        "        output_tokens, h, c = decoder_model.predict([target_seq] + states_value)\n",
        "        # Sample a token\n",
        "        sampled_token_index = np.argmax(output_tokens[0, -1, :])\n",
        "        sampled_char = reverse_target_char_index[sampled_token_index]\n",
        "        decoded_sentence += ' '+sampled_char\n",
        "        \n",
        "        # Exit condition: either hit max length or find stop token.\n",
        "        if (sampled_char == '_END' or len(decoded_sentence) > 50):\n",
        "            stop_condition = True\n",
        "        \n",
        "        # Update the target sequence (of length 1).\n",
        "        target_seq = np.zeros((1,1))\n",
        "        target_seq[0, 0] = sampled_token_index\n",
        "        \n",
        "        # Update states\n",
        "        states_value = [h, c]\n",
        "    \n",
        "    return decoded_sentence"
      ],
      "metadata": {
        "id": "nj77uO31XLQx"
      },
      "execution_count": null,
      "outputs": []
    },
    {
      "cell_type": "code",
      "source": [
        "train_gen = generate_batch(X_train, y_train, batch_size = 1)\n",
        "k=-1"
      ],
      "metadata": {
        "id": "dk_yk_GvXOK0"
      },
      "execution_count": null,
      "outputs": []
    },
    {
      "cell_type": "code",
      "source": [
        "k+=1\n",
        "(input_seq, actual_output), _ = next(train_gen)\n",
        "decoded_sentence = decode_sequence(input_seq)\n",
        "print('Input English sentence:', X_train[k:k+1].values[0])\n",
        "print('Actual Assamese Translation:', y_train[k:k+1].values[0][6:-4])\n",
        "print('Predicted Assamese Translation:', decoded_sentence[:-4])"
      ],
      "metadata": {
        "colab": {
          "base_uri": "https://localhost:8080/"
        },
        "id": "NxvOkQ5uXQH3",
        "outputId": "0492bb3d-599e-4ddf-edf2-52ad075e062d"
      },
      "execution_count": null,
      "outputs": [
        {
          "output_type": "stream",
          "name": "stdout",
          "text": [
            "Input English sentence: tom wont do the same thing\n",
            "Actual Assamese Translation:  টমে একে কাম নকৰে। \n",
            "Predicted Assamese Translation:  টমে একে কাম নকৰে। \n"
          ]
        }
      ]
    },
    {
      "cell_type": "code",
      "source": [
        "k+=1\n",
        "(input_seq, actual_output), _ = next(train_gen)\n",
        "decoded_sentence = decode_sequence(input_seq)\n",
        "print('Input English sentence:', X_train[k:k+1].values[0])\n",
        "print('Actual Assamese Translation:', y_train[k:k+1].values[0][6:-4])\n",
        "print('Predicted Assamese Translation:', decoded_sentence[:-4])"
      ],
      "metadata": {
        "colab": {
          "base_uri": "https://localhost:8080/"
        },
        "id": "2KVzihdqXU5_",
        "outputId": "e5df3362-cfb5-482f-8808-09b1a874ef7d"
      },
      "execution_count": null,
      "outputs": [
        {
          "output_type": "stream",
          "name": "stdout",
          "text": [
            "Input English sentence: i can run\n",
            "Actual Assamese Translation:  মই দৌৰিব পাৰো। \n",
            "Predicted Assamese Translation:  মই দৌৰিব পাৰো। \n"
          ]
        }
      ]
    },
    {
      "cell_type": "code",
      "source": [
        "k+=1\n",
        "(input_seq, actual_output), _ = next(train_gen)\n",
        "decoded_sentence = decode_sequence(input_seq)\n",
        "print('Input English sentence:', X_train[k:k+1].values[0])\n",
        "print('Actual Assamese Translation:', y_train[k:k+1].values[0][6:-4])\n",
        "print('Predicted Assamese Translation:', decoded_sentence[:-4])"
      ],
      "metadata": {
        "colab": {
          "base_uri": "https://localhost:8080/"
        },
        "id": "zzS-LLa1XY5J",
        "outputId": "d942de5b-3547-4464-daf1-86e802e09c46"
      },
      "execution_count": null,
      "outputs": [
        {
          "output_type": "stream",
          "name": "stdout",
          "text": [
            "Input English sentence: take a bath\n",
            "Actual Assamese Translation:  গা ধুব। \n",
            "Predicted Assamese Translation:  গা ধুব। \n"
          ]
        }
      ]
    },
    {
      "cell_type": "code",
      "source": [
        "k+=1\n",
        "(input_seq, actual_output), _ = next(train_gen)\n",
        "decoded_sentence = decode_sequence(input_seq)\n",
        "print('Input English sentence:', X_train[k:k+1].values[0])\n",
        "print('Actual Assamese Translation:', y_train[k:k+1].values[0][6:-4])\n",
        "print('Predicted Assamese Translation:', decoded_sentence[:-4])"
      ],
      "metadata": {
        "colab": {
          "base_uri": "https://localhost:8080/"
        },
        "id": "AHPiQ3JMXeBA",
        "outputId": "603ebfc1-fa4e-46e4-cd80-3f76d0b23c23"
      },
      "execution_count": null,
      "outputs": [
        {
          "output_type": "stream",
          "name": "stdout",
          "text": [
            "Input English sentence: you look fat\n",
            "Actual Assamese Translation:  আপোনাক শকত দেখাইছে। \n",
            "Predicted Assamese Translation:  আপোনাক শকত দেখাইছে। \n"
          ]
        }
      ]
    },
    {
      "cell_type": "code",
      "source": [
        "k+=1\n",
        "(input_seq, actual_output), _ = next(train_gen)\n",
        "decoded_sentence = decode_sequence(input_seq)\n",
        "print('Input English sentence:', X_train[k:k+1].values[0])\n",
        "print('Actual Assamese Translation:', y_train[k:k+1].values[0][6:-4])\n",
        "print('Predicted Assamese Translation:', decoded_sentence[:-4])\n"
      ],
      "metadata": {
        "colab": {
          "base_uri": "https://localhost:8080/"
        },
        "id": "vUiOXs97Xfp1",
        "outputId": "76e1d26d-b11c-4cf0-cf89-9f8e5c2b5382"
      },
      "execution_count": null,
      "outputs": [
        {
          "output_type": "stream",
          "name": "stdout",
          "text": [
            "Input English sentence: she walks\n",
            "Actual Assamese Translation:  তাই খোজ কাঢ়ে। \n",
            "Predicted Assamese Translation:  তাই খোজ কাঢ়ে। \n"
          ]
        }
      ]
    },
    {
      "cell_type": "code",
      "source": [
        "k+=1\n",
        "(input_seq, actual_output), _ = next(train_gen)\n",
        "decoded_sentence = decode_sequence(input_seq)\n",
        "print('Input English sentence:', X_train[k:k+1].values[0])\n",
        "print('Actual Assamese Translation:', y_train[k:k+1].values[0][6:-4])\n",
        "print('Predicted Assamese Translation:', decoded_sentence[:-4])"
      ],
      "metadata": {
        "colab": {
          "base_uri": "https://localhost:8080/"
        },
        "id": "BCYC3Cl3Xntj",
        "outputId": "d2abf6eb-58a2-4947-8be4-303627bbe637"
      },
      "execution_count": null,
      "outputs": [
        {
          "output_type": "stream",
          "name": "stdout",
          "text": [
            "Input English sentence: whats going on here\n",
            "Actual Assamese Translation:  ইয়াত কি চলি আছে \n",
            "Predicted Assamese Translation:  ইয়াত কি চলি আছে \n"
          ]
        }
      ]
    },
    {
      "cell_type": "code",
      "source": [
        "k+=1\n",
        "(input_seq, actual_output), _ = next(train_gen)\n",
        "decoded_sentence = decode_sequence(input_seq)\n",
        "print('Input English sentence:', X_train[k:k+1].values[0])\n",
        "print('Actual Assamese Translation:', y_train[k:k+1].values[0][6:-4])\n",
        "print('Predicted Assamese Translation:', decoded_sentence[:-4])"
      ],
      "metadata": {
        "colab": {
          "base_uri": "https://localhost:8080/"
        },
        "id": "bbHbzyq1YC7f",
        "outputId": "d0522cac-409d-497d-af56-e682e1347d56"
      },
      "execution_count": null,
      "outputs": [
        {
          "output_type": "stream",
          "name": "stdout",
          "text": [
            "Input English sentence: i dont dream\n",
            "Actual Assamese Translation:  মই সপোন নেচাও \n",
            "Predicted Assamese Translation:  মই সপোন নেচাও \n"
          ]
        }
      ]
    },
    {
      "cell_type": "code",
      "source": [
        "k+=1\n",
        "(input_seq, actual_output), _ = next(train_gen)\n",
        "decoded_sentence = decode_sequence(input_seq)\n",
        "print('Input English sentence:', X_train[k:k+1].values[0])\n",
        "print('Actual Assamese Translation:', y_train[k:k+1].values[0][6:-4])\n",
        "print('Predicted Assamese Translation:', decoded_sentence[:-4])"
      ],
      "metadata": {
        "colab": {
          "base_uri": "https://localhost:8080/"
        },
        "id": "3xLsd0ujYJM-",
        "outputId": "3777d5df-4c14-4208-b504-1d82ecb44958"
      },
      "execution_count": null,
      "outputs": [
        {
          "output_type": "stream",
          "name": "stdout",
          "text": [
            "Input English sentence: put your helmet on\n",
            "Actual Assamese Translation:  আপোনাৰ হেলমেট পিন্ধি দিয়ক। \n",
            "Predicted Assamese Translation:  আপোনাৰ হেলমেট পিন্ধি দিয়ক। \n"
          ]
        }
      ]
    },
    {
      "cell_type": "code",
      "source": [
        "k+=1\n",
        "(input_seq, actual_output), _ = next(train_gen)\n",
        "decoded_sentence = decode_sequence(input_seq)\n",
        "print('Input English sentence:', X_train[k:k+1].values[0])\n",
        "print('Actual Assamese Translation:', y_train[k:k+1].values[0][6:-4])\n",
        "print('Predicted Assamese Translation:', decoded_sentence[:-4])"
      ],
      "metadata": {
        "colab": {
          "base_uri": "https://localhost:8080/"
        },
        "id": "_gdYevsTYLYK",
        "outputId": "fe6fbabc-39c9-4d6d-cfcf-106027ee6c90"
      },
      "execution_count": null,
      "outputs": [
        {
          "output_type": "stream",
          "name": "stdout",
          "text": [
            "Input English sentence: try on this sweater\n",
            "Actual Assamese Translation:  এই চুৱেটাৰটো পিন্ধি চোৱা। \n",
            "Predicted Assamese Translation:  এই চুৱেটাৰটো পিন্ধি চোৱা। \n"
          ]
        }
      ]
    },
    {
      "cell_type": "code",
      "source": [
        "k+=1\n",
        "(input_seq, actual_output), _ = next(train_gen)\n",
        "decoded_sentence = decode_sequence(input_seq)\n",
        "print('Input English sentence:', X_train[k:k+1].values[0])\n",
        "print('Actual Assamese Translation:', y_train[k:k+1].values[0][6:-4])\n",
        "print('Predicted Assamese Translation:', decoded_sentence[:-4])"
      ],
      "metadata": {
        "colab": {
          "base_uri": "https://localhost:8080/"
        },
        "id": "vs3udehIauJ2",
        "outputId": "f2d153b2-671b-4c40-9d48-731d9a1b3a89"
      },
      "execution_count": null,
      "outputs": [
        {
          "output_type": "stream",
          "name": "stdout",
          "text": [
            "Input English sentence: i like tulips\n",
            "Actual Assamese Translation:  মই টিউলিপ ভাল পাওঁ। \n",
            "Predicted Assamese Translation:  মই টিউলিপ ভাল পাওঁ। \n"
          ]
        }
      ]
    },
    {
      "cell_type": "code",
      "source": [
        "k+=1\n",
        "(input_seq, actual_output), _ = next(train_gen)\n",
        "decoded_sentence = decode_sequence(input_seq)\n",
        "print('Input English sentence:', X_train[k:k+1].values[0])\n",
        "print('Actual Assamese Translation:', y_train[k:k+1].values[0][6:-4])\n",
        "print('Predicted Assamese Translation:', decoded_sentence[:-4])"
      ],
      "metadata": {
        "colab": {
          "base_uri": "https://localhost:8080/"
        },
        "id": "L4NXHiY2a4F0",
        "outputId": "2e301edb-d389-4465-9d8d-789c4d6211e5"
      },
      "execution_count": null,
      "outputs": [
        {
          "output_type": "stream",
          "name": "stdout",
          "text": [
            "Input English sentence: i bought a red sports car\n",
            "Actual Assamese Translation:  মই এখন ৰঙা স্পৰ্ট্‌ছ কাৰ কিনিলোঁ। \n",
            "Predicted Assamese Translation:  মই এখন ৰঙা স্পৰ্ট্‌ছ কাৰ কিনিছোঁ। \n"
          ]
        }
      ]
    },
    {
      "cell_type": "code",
      "source": [
        "k+=1\n",
        "(input_seq, actual_output), _ = next(train_gen)\n",
        "decoded_sentence = decode_sequence(input_seq)\n",
        "print('Input English sentence:', X_train[k:k+1].values[0])\n",
        "print('Actual Assamese Translation:', y_train[k:k+1].values[0][6:-4])\n",
        "print('Predicted Assamese Translation:', decoded_sentence[:-4])"
      ],
      "metadata": {
        "colab": {
          "base_uri": "https://localhost:8080/"
        },
        "id": "wV9BKqLRfMt1",
        "outputId": "5a5f568e-2fe9-486a-cb3b-1eaeb1a2a7a2"
      },
      "execution_count": null,
      "outputs": [
        {
          "output_type": "stream",
          "name": "stdout",
          "text": [
            "Input English sentence: ill come to your place\n",
            "Actual Assamese Translation:  মই তোমাৰ ঘৰলৈ যাম। \n",
            "Predicted Assamese Translation:  মই তোমাৰ তালৈ যাম। \n"
          ]
        }
      ]
    },
    {
      "cell_type": "code",
      "source": [
        "k+=1\n",
        "(input_seq, actual_output), _ = next(train_gen)\n",
        "decoded_sentence = decode_sequence(input_seq)\n",
        "print('Input English sentence:', X_train[k:k+1].values[0])\n",
        "print('Actual Assamese Translation:', y_train[k:k+1].values[0][6:-4])\n",
        "print('Predicted Assamese Translation:', decoded_sentence[:-4])"
      ],
      "metadata": {
        "colab": {
          "base_uri": "https://localhost:8080/"
        },
        "id": "U6rZaKwsfX4x",
        "outputId": "e9c276a9-3b3e-4dd8-8540-48d46fbaf197"
      },
      "execution_count": null,
      "outputs": [
        {
          "output_type": "stream",
          "name": "stdout",
          "text": [
            "Input English sentence: what did it look like\n",
            "Actual Assamese Translation:  দেখাত কিহৰ দৰে আছিল \n",
            "Predicted Assamese Translation:  দেখাত কিহৰ দৰে আছিল \n"
          ]
        }
      ]
    },
    {
      "cell_type": "code",
      "source": [
        ""
      ],
      "metadata": {
        "id": "IbKWRngDfdT7"
      },
      "execution_count": null,
      "outputs": []
    }
  ]
}