{
  "nbformat": 4,
  "nbformat_minor": 0,
  "metadata": {
    "colab": {
      "name": "stock price NseTataGlobal.ipynb",
      "provenance": [],
      "collapsed_sections": []
    },
    "kernelspec": {
      "name": "python3",
      "display_name": "Python 3"
    },
    "language_info": {
      "name": "python"
    }
  },
  "cells": [
    {
      "cell_type": "code",
      "metadata": {
        "id": "Lt-zcJljVJtq"
      },
      "source": [
        "import numpy as np\n",
        "import pandas as pd\n",
        "import matplotlib.pyplot as plt\n",
        "import datetime"
      ],
      "execution_count": 2,
      "outputs": []
    },
    {
      "cell_type": "code",
      "metadata": {
        "colab": {
          "base_uri": "https://localhost:8080/",
          "height": 235
        },
        "id": "LtXbwGeCXrJ2",
        "outputId": "504ee4cc-9ce4-4236-b5de-8337e84c40bb"
      },
      "source": [
        "dataset = pd.read_csv(\"/content/drive/MyDrive/NSE-TATAGLOBAL11.csv\", index_col=\"Date\", parse_dates=True)\n",
        "dataset.head()"
      ],
      "execution_count": 3,
      "outputs": [
        {
          "output_type": "execute_result",
          "data": {
            "text/html": [
              "<div>\n",
              "<style scoped>\n",
              "    .dataframe tbody tr th:only-of-type {\n",
              "        vertical-align: middle;\n",
              "    }\n",
              "\n",
              "    .dataframe tbody tr th {\n",
              "        vertical-align: top;\n",
              "    }\n",
              "\n",
              "    .dataframe thead th {\n",
              "        text-align: right;\n",
              "    }\n",
              "</style>\n",
              "<table border=\"1\" class=\"dataframe\">\n",
              "  <thead>\n",
              "    <tr style=\"text-align: right;\">\n",
              "      <th></th>\n",
              "      <th>Open</th>\n",
              "      <th>High</th>\n",
              "      <th>Low</th>\n",
              "      <th>Last</th>\n",
              "      <th>Close</th>\n",
              "      <th>Total Trade Quantity</th>\n",
              "      <th>Turnover (Lacs)</th>\n",
              "    </tr>\n",
              "    <tr>\n",
              "      <th>Date</th>\n",
              "      <th></th>\n",
              "      <th></th>\n",
              "      <th></th>\n",
              "      <th></th>\n",
              "      <th></th>\n",
              "      <th></th>\n",
              "      <th></th>\n",
              "    </tr>\n",
              "  </thead>\n",
              "  <tbody>\n",
              "    <tr>\n",
              "      <th>2018-10-08</th>\n",
              "      <td>208.00</td>\n",
              "      <td>222.25</td>\n",
              "      <td>206.85</td>\n",
              "      <td>216.00</td>\n",
              "      <td>215.15</td>\n",
              "      <td>4642146.0</td>\n",
              "      <td>10062.83</td>\n",
              "    </tr>\n",
              "    <tr>\n",
              "      <th>2018-10-05</th>\n",
              "      <td>217.00</td>\n",
              "      <td>218.60</td>\n",
              "      <td>205.90</td>\n",
              "      <td>210.25</td>\n",
              "      <td>209.20</td>\n",
              "      <td>3519515.0</td>\n",
              "      <td>7407.06</td>\n",
              "    </tr>\n",
              "    <tr>\n",
              "      <th>2018-10-04</th>\n",
              "      <td>223.50</td>\n",
              "      <td>227.80</td>\n",
              "      <td>216.15</td>\n",
              "      <td>217.25</td>\n",
              "      <td>218.20</td>\n",
              "      <td>1728786.0</td>\n",
              "      <td>3815.79</td>\n",
              "    </tr>\n",
              "    <tr>\n",
              "      <th>2018-10-03</th>\n",
              "      <td>230.00</td>\n",
              "      <td>237.50</td>\n",
              "      <td>225.75</td>\n",
              "      <td>226.45</td>\n",
              "      <td>227.60</td>\n",
              "      <td>1708590.0</td>\n",
              "      <td>3960.27</td>\n",
              "    </tr>\n",
              "    <tr>\n",
              "      <th>2018-10-01</th>\n",
              "      <td>234.55</td>\n",
              "      <td>234.60</td>\n",
              "      <td>221.05</td>\n",
              "      <td>230.30</td>\n",
              "      <td>230.90</td>\n",
              "      <td>1534749.0</td>\n",
              "      <td>3486.05</td>\n",
              "    </tr>\n",
              "  </tbody>\n",
              "</table>\n",
              "</div>"
            ],
            "text/plain": [
              "              Open    High  ...  Total Trade Quantity  Turnover (Lacs)\n",
              "Date                        ...                                       \n",
              "2018-10-08  208.00  222.25  ...             4642146.0         10062.83\n",
              "2018-10-05  217.00  218.60  ...             3519515.0          7407.06\n",
              "2018-10-04  223.50  227.80  ...             1728786.0          3815.79\n",
              "2018-10-03  230.00  237.50  ...             1708590.0          3960.27\n",
              "2018-10-01  234.55  234.60  ...             1534749.0          3486.05\n",
              "\n",
              "[5 rows x 7 columns]"
            ]
          },
          "metadata": {
            "tags": []
          },
          "execution_count": 3
        }
      ]
    },
    {
      "cell_type": "markdown",
      "metadata": {
        "id": "HRvPDaSJTWq0"
      },
      "source": [
        "# New Section"
      ]
    },
    {
      "cell_type": "code",
      "metadata": {
        "colab": {
          "base_uri": "https://localhost:8080/"
        },
        "id": "ShmrCAakTdbT",
        "outputId": "7ca75dbb-7a95-45a1-af26-2377541e8a4b"
      },
      "source": [
        "from google.colab import drive\n",
        "drive.mount('/content/drive')"
      ],
      "execution_count": 4,
      "outputs": [
        {
          "output_type": "stream",
          "text": [
            "Drive already mounted at /content/drive; to attempt to forcibly remount, call drive.mount(\"/content/drive\", force_remount=True).\n"
          ],
          "name": "stdout"
        }
      ]
    },
    {
      "cell_type": "code",
      "metadata": {
        "colab": {
          "base_uri": "https://localhost:8080/"
        },
        "id": "1uh8QpCwYFBU",
        "outputId": "a3c5644a-01fe-4800-f538-859ba2be22ce"
      },
      "source": [
        "dataset.isna().any()"
      ],
      "execution_count": 5,
      "outputs": [
        {
          "output_type": "execute_result",
          "data": {
            "text/plain": [
              "Open                    False\n",
              "High                    False\n",
              "Low                     False\n",
              "Last                    False\n",
              "Close                   False\n",
              "Total Trade Quantity    False\n",
              "Turnover (Lacs)         False\n",
              "dtype: bool"
            ]
          },
          "metadata": {
            "tags": []
          },
          "execution_count": 5
        }
      ]
    },
    {
      "cell_type": "code",
      "metadata": {
        "colab": {
          "base_uri": "https://localhost:8080/"
        },
        "id": "gwcsn-fnfy6_",
        "outputId": "5030b570-ee21-43dd-9201-56c6661f4852"
      },
      "source": [
        "dataset.info()"
      ],
      "execution_count": 6,
      "outputs": [
        {
          "output_type": "stream",
          "text": [
            "<class 'pandas.core.frame.DataFrame'>\n",
            "DatetimeIndex: 1235 entries, 2018-10-08 to 2013-10-08\n",
            "Data columns (total 7 columns):\n",
            " #   Column                Non-Null Count  Dtype  \n",
            "---  ------                --------------  -----  \n",
            " 0   Open                  1235 non-null   float64\n",
            " 1   High                  1235 non-null   float64\n",
            " 2   Low                   1235 non-null   float64\n",
            " 3   Last                  1235 non-null   float64\n",
            " 4   Close                 1235 non-null   float64\n",
            " 5   Total Trade Quantity  1235 non-null   float64\n",
            " 6   Turnover (Lacs)       1235 non-null   float64\n",
            "dtypes: float64(7)\n",
            "memory usage: 77.2 KB\n"
          ],
          "name": "stdout"
        }
      ]
    },
    {
      "cell_type": "code",
      "metadata": {
        "colab": {
          "base_uri": "https://localhost:8080/",
          "height": 384
        },
        "id": "rSypGXaJf1dj",
        "outputId": "d0cae88e-d5d5-4cd6-d396-d37310e189c6"
      },
      "source": [
        "dataset['Open'].plot(figsize=(16,6))"
      ],
      "execution_count": 7,
      "outputs": [
        {
          "output_type": "execute_result",
          "data": {
            "text/plain": [
              "<matplotlib.axes._subplots.AxesSubplot at 0x7f02e1395a90>"
            ]
          },
          "metadata": {
            "tags": []
          },
          "execution_count": 7
        },
        {
          "output_type": "display_data",
          "data": {
            "image/png": "[encoded data removed]",
            "text/plain": [
              "<Figure size 1152x432 with 1 Axes>"
            ]
          },
          "metadata": {
            "tags": [],
            "needs_background": "light"
          }
        }
      ]
    },
    {
      "cell_type": "code",
      "metadata": {
        "colab": {
          "base_uri": "https://localhost:8080/"
        },
        "id": "VmePKk2Hf3xR",
        "outputId": "44fd3491-b42e-4af5-feef-e9462f0988c7"
      },
      "source": [
        "dataset.info()"
      ],
      "execution_count": 8,
      "outputs": [
        {
          "output_type": "stream",
          "text": [
            "<class 'pandas.core.frame.DataFrame'>\n",
            "DatetimeIndex: 1235 entries, 2018-10-08 to 2013-10-08\n",
            "Data columns (total 7 columns):\n",
            " #   Column                Non-Null Count  Dtype  \n",
            "---  ------                --------------  -----  \n",
            " 0   Open                  1235 non-null   float64\n",
            " 1   High                  1235 non-null   float64\n",
            " 2   Low                   1235 non-null   float64\n",
            " 3   Last                  1235 non-null   float64\n",
            " 4   Close                 1235 non-null   float64\n",
            " 5   Total Trade Quantity  1235 non-null   float64\n",
            " 6   Turnover (Lacs)       1235 non-null   float64\n",
            "dtypes: float64(7)\n",
            "memory usage: 77.2 KB\n"
          ],
          "name": "stdout"
        }
      ]
    },
    {
      "cell_type": "code",
      "metadata": {
        "id": "Ub_Hye8pf6AZ"
      },
      "source": [
        "#dataset[\"Total Trade Quantity\"]=dataset[\"Total Trade Quantity\"].int.replace(',', '').astype(float)"
      ],
      "execution_count": 9,
      "outputs": []
    },
    {
      "cell_type": "code",
      "metadata": {
        "colab": {
          "base_uri": "https://localhost:8080/",
          "height": 700
        },
        "id": "WtiYc0Xqf93Z",
        "outputId": "8c4714e3-d814-41a8-cbed-43b380c03652"
      },
      "source": [
        "# 7 days rolling mean\n",
        "dataset.rolling(7).mean().head(20)"
      ],
      "execution_count": 10,
      "outputs": [
        {
          "output_type": "execute_result",
          "data": {
            "text/html": [
              "<div>\n",
              "<style scoped>\n",
              "    .dataframe tbody tr th:only-of-type {\n",
              "        vertical-align: middle;\n",
              "    }\n",
              "\n",
              "    .dataframe tbody tr th {\n",
              "        vertical-align: top;\n",
              "    }\n",
              "\n",
              "    .dataframe thead th {\n",
              "        text-align: right;\n",
              "    }\n",
              "</style>\n",
              "<table border=\"1\" class=\"dataframe\">\n",
              "  <thead>\n",
              "    <tr style=\"text-align: right;\">\n",
              "      <th></th>\n",
              "      <th>Open</th>\n",
              "      <th>High</th>\n",
              "      <th>Low</th>\n",
              "      <th>Last</th>\n",
              "      <th>Close</th>\n",
              "      <th>Total Trade Quantity</th>\n",
              "      <th>Turnover (Lacs)</th>\n",
              "    </tr>\n",
              "    <tr>\n",
              "      <th>Date</th>\n",
              "      <th></th>\n",
              "      <th></th>\n",
              "      <th></th>\n",
              "      <th></th>\n",
              "      <th></th>\n",
              "      <th></th>\n",
              "      <th></th>\n",
              "    </tr>\n",
              "  </thead>\n",
              "  <tbody>\n",
              "    <tr>\n",
              "      <th>2018-10-08</th>\n",
              "      <td>NaN</td>\n",
              "      <td>NaN</td>\n",
              "      <td>NaN</td>\n",
              "      <td>NaN</td>\n",
              "      <td>NaN</td>\n",
              "      <td>NaN</td>\n",
              "      <td>NaN</td>\n",
              "    </tr>\n",
              "    <tr>\n",
              "      <th>2018-10-05</th>\n",
              "      <td>NaN</td>\n",
              "      <td>NaN</td>\n",
              "      <td>NaN</td>\n",
              "      <td>NaN</td>\n",
              "      <td>NaN</td>\n",
              "      <td>NaN</td>\n",
              "      <td>NaN</td>\n",
              "    </tr>\n",
              "    <tr>\n",
              "      <th>2018-10-04</th>\n",
              "      <td>NaN</td>\n",
              "      <td>NaN</td>\n",
              "      <td>NaN</td>\n",
              "      <td>NaN</td>\n",
              "      <td>NaN</td>\n",
              "      <td>NaN</td>\n",
              "      <td>NaN</td>\n",
              "    </tr>\n",
              "    <tr>\n",
              "      <th>2018-10-03</th>\n",
              "      <td>NaN</td>\n",
              "      <td>NaN</td>\n",
              "      <td>NaN</td>\n",
              "      <td>NaN</td>\n",
              "      <td>NaN</td>\n",
              "      <td>NaN</td>\n",
              "      <td>NaN</td>\n",
              "    </tr>\n",
              "    <tr>\n",
              "      <th>2018-10-01</th>\n",
              "      <td>NaN</td>\n",
              "      <td>NaN</td>\n",
              "      <td>NaN</td>\n",
              "      <td>NaN</td>\n",
              "      <td>NaN</td>\n",
              "      <td>NaN</td>\n",
              "      <td>NaN</td>\n",
              "    </tr>\n",
              "    <tr>\n",
              "      <th>2018-09-28</th>\n",
              "      <td>NaN</td>\n",
              "      <td>NaN</td>\n",
              "      <td>NaN</td>\n",
              "      <td>NaN</td>\n",
              "      <td>NaN</td>\n",
              "      <td>NaN</td>\n",
              "      <td>NaN</td>\n",
              "    </tr>\n",
              "    <tr>\n",
              "      <th>2018-09-27</th>\n",
              "      <td>225.950000</td>\n",
              "      <td>230.500000</td>\n",
              "      <td>219.571429</td>\n",
              "      <td>223.935714</td>\n",
              "      <td>224.007143</td>\n",
              "      <td>3.040937e+06</td>\n",
              "      <td>6822.042857</td>\n",
              "    </tr>\n",
              "    <tr>\n",
              "      <th>2018-09-26</th>\n",
              "      <td>230.521429</td>\n",
              "      <td>233.035714</td>\n",
              "      <td>223.235714</td>\n",
              "      <td>226.650000</td>\n",
              "      <td>226.735714</td>\n",
              "      <td>2.697903e+06</td>\n",
              "      <td>6134.295714</td>\n",
              "    </tr>\n",
              "    <tr>\n",
              "      <th>2018-09-25</th>\n",
              "      <td>232.850000</td>\n",
              "      <td>235.628571</td>\n",
              "      <td>226.964286</td>\n",
              "      <td>230.364286</td>\n",
              "      <td>230.578571</td>\n",
              "      <td>2.530739e+06</td>\n",
              "      <td>5862.415714</td>\n",
              "    </tr>\n",
              "    <tr>\n",
              "      <th>2018-09-24</th>\n",
              "      <td>234.285714</td>\n",
              "      <td>237.257143</td>\n",
              "      <td>229.050000</td>\n",
              "      <td>232.757143</td>\n",
              "      <td>232.735714</td>\n",
              "      <td>2.772843e+06</td>\n",
              "      <td>6460.095714</td>\n",
              "    </tr>\n",
              "    <tr>\n",
              "      <th>2018-09-21</th>\n",
              "      <td>235.000000</td>\n",
              "      <td>237.185714</td>\n",
              "      <td>229.364286</td>\n",
              "      <td>233.800000</td>\n",
              "      <td>233.735714</td>\n",
              "      <td>3.299518e+06</td>\n",
              "      <td>7692.855714</td>\n",
              "    </tr>\n",
              "    <tr>\n",
              "      <th>2018-09-19</th>\n",
              "      <td>235.200000</td>\n",
              "      <td>237.557143</td>\n",
              "      <td>231.135714</td>\n",
              "      <td>234.414286</td>\n",
              "      <td>234.307143</td>\n",
              "      <td>3.274848e+06</td>\n",
              "      <td>7652.388571</td>\n",
              "    </tr>\n",
              "    <tr>\n",
              "      <th>2018-09-18</th>\n",
              "      <td>235.750000</td>\n",
              "      <td>238.028571</td>\n",
              "      <td>231.607143</td>\n",
              "      <td>234.700000</td>\n",
              "      <td>234.492857</td>\n",
              "      <td>3.209831e+06</td>\n",
              "      <td>7509.724286</td>\n",
              "    </tr>\n",
              "    <tr>\n",
              "      <th>2018-09-17</th>\n",
              "      <td>235.550000</td>\n",
              "      <td>238.200000</td>\n",
              "      <td>231.485714</td>\n",
              "      <td>235.071429</td>\n",
              "      <td>234.971429</td>\n",
              "      <td>2.936693e+06</td>\n",
              "      <td>6879.075714</td>\n",
              "    </tr>\n",
              "    <tr>\n",
              "      <th>2018-09-14</th>\n",
              "      <td>233.185714</td>\n",
              "      <td>237.728571</td>\n",
              "      <td>230.171429</td>\n",
              "      <td>234.928571</td>\n",
              "      <td>234.928571</td>\n",
              "      <td>3.527693e+06</td>\n",
              "      <td>8241.347143</td>\n",
              "    </tr>\n",
              "    <tr>\n",
              "      <th>2018-09-12</th>\n",
              "      <td>230.764286</td>\n",
              "      <td>235.864286</td>\n",
              "      <td>227.407143</td>\n",
              "      <td>232.842857</td>\n",
              "      <td>233.007143</td>\n",
              "      <td>3.845060e+06</td>\n",
              "      <td>8883.934286</td>\n",
              "    </tr>\n",
              "    <tr>\n",
              "      <th>2018-09-11</th>\n",
              "      <td>229.185714</td>\n",
              "      <td>233.892857</td>\n",
              "      <td>225.135714</td>\n",
              "      <td>230.321429</td>\n",
              "      <td>230.535714</td>\n",
              "      <td>3.857272e+06</td>\n",
              "      <td>8846.257143</td>\n",
              "    </tr>\n",
              "    <tr>\n",
              "      <th>2018-09-10</th>\n",
              "      <td>227.400000</td>\n",
              "      <td>233.628571</td>\n",
              "      <td>224.092857</td>\n",
              "      <td>228.507143</td>\n",
              "      <td>228.735714</td>\n",
              "      <td>4.159956e+06</td>\n",
              "      <td>9494.928571</td>\n",
              "    </tr>\n",
              "    <tr>\n",
              "      <th>2018-09-07</th>\n",
              "      <td>225.264286</td>\n",
              "      <td>231.814286</td>\n",
              "      <td>222.042857</td>\n",
              "      <td>226.871429</td>\n",
              "      <td>227.028571</td>\n",
              "      <td>4.141448e+06</td>\n",
              "      <td>9429.222857</td>\n",
              "    </tr>\n",
              "    <tr>\n",
              "      <th>2018-09-06</th>\n",
              "      <td>223.278571</td>\n",
              "      <td>229.778571</td>\n",
              "      <td>219.857143</td>\n",
              "      <td>224.792857</td>\n",
              "      <td>225.028571</td>\n",
              "      <td>4.016310e+06</td>\n",
              "      <td>9099.654286</td>\n",
              "    </tr>\n",
              "  </tbody>\n",
              "</table>\n",
              "</div>"
            ],
            "text/plain": [
              "                  Open        High  ...  Total Trade Quantity  Turnover (Lacs)\n",
              "Date                                ...                                       \n",
              "2018-10-08         NaN         NaN  ...                   NaN              NaN\n",
              "2018-10-05         NaN         NaN  ...                   NaN              NaN\n",
              "2018-10-04         NaN         NaN  ...                   NaN              NaN\n",
              "2018-10-03         NaN         NaN  ...                   NaN              NaN\n",
              "2018-10-01         NaN         NaN  ...                   NaN              NaN\n",
              "2018-09-28         NaN         NaN  ...                   NaN              NaN\n",
              "2018-09-27  225.950000  230.500000  ...          3.040937e+06      6822.042857\n",
              "2018-09-26  230.521429  233.035714  ...          2.697903e+06      6134.295714\n",
              "2018-09-25  232.850000  235.628571  ...          2.530739e+06      5862.415714\n",
              "2018-09-24  234.285714  237.257143  ...          2.772843e+06      6460.095714\n",
              "2018-09-21  235.000000  237.185714  ...          3.299518e+06      7692.855714\n",
              "2018-09-19  235.200000  237.557143  ...          3.274848e+06      7652.388571\n",
              "2018-09-18  235.750000  238.028571  ...          3.209831e+06      7509.724286\n",
              "2018-09-17  235.550000  238.200000  ...          2.936693e+06      6879.075714\n",
              "2018-09-14  233.185714  237.728571  ...          3.527693e+06      8241.347143\n",
              "2018-09-12  230.764286  235.864286  ...          3.845060e+06      8883.934286\n",
              "2018-09-11  229.185714  233.892857  ...          3.857272e+06      8846.257143\n",
              "2018-09-10  227.400000  233.628571  ...          4.159956e+06      9494.928571\n",
              "2018-09-07  225.264286  231.814286  ...          4.141448e+06      9429.222857\n",
              "2018-09-06  223.278571  229.778571  ...          4.016310e+06      9099.654286\n",
              "\n",
              "[20 rows x 7 columns]"
            ]
          },
          "metadata": {
            "tags": []
          },
          "execution_count": 10
        }
      ]
    },
    {
      "cell_type": "code",
      "metadata": {
        "colab": {
          "base_uri": "https://localhost:8080/",
          "height": 384
        },
        "id": "wYjuiWvhgWap",
        "outputId": "0875e045-15e6-4c1e-b9f6-6777c859794c"
      },
      "source": [
        "dataset[\"Open\"].plot(figsize=(16,6))\n",
        "dataset.rolling(window=30).mean()['Close'].plot()"
      ],
      "execution_count": 11,
      "outputs": [
        {
          "output_type": "execute_result",
          "data": {
            "text/plain": [
              "<matplotlib.axes._subplots.AxesSubplot at 0x7f02dd1b5b90>"
            ]
          },
          "metadata": {
            "tags": []
          },
          "execution_count": 11
        },
        {
          "output_type": "display_data",
          "data": {
            "image/png": "[encoded data removed]",
            "text/plain": [
              "<Figure size 1152x432 with 1 Axes>"
            ]
          },
          "metadata": {
            "tags": [],
            "needs_background": "light"
          }
        }
      ]
    },
    {
      "cell_type": "code",
      "metadata": {
        "colab": {
          "base_uri": "https://localhost:8080/",
          "height": 384
        },
        "id": "8pzviCbMgYmR",
        "outputId": "3698bd35-5942-4dd0-e7ff-155b8984765b"
      },
      "source": [
        "dataset[\"Close: 30 Day Mean\"] = dataset[\"Close\"].rolling(window=30).mean()\n",
        "dataset[[\"Close\",\"Close: 30 Day Mean\"]].plot(figsize=(16,6))"
      ],
      "execution_count": 12,
      "outputs": [
        {
          "output_type": "execute_result",
          "data": {
            "text/plain": [
              "<matplotlib.axes._subplots.AxesSubplot at 0x7f02dccf17d0>"
            ]
          },
          "metadata": {
            "tags": []
          },
          "execution_count": 12
        },
        {
          "output_type": "display_data",
          "data": {
            "image/png": "[encoded data removed]",
            "text/plain": [
              "<Figure size 1152x432 with 1 Axes>"
            ]
          },
          "metadata": {
            "tags": [],
            "needs_background": "light"
          }
        }
      ]
    },
    {
      "cell_type": "code",
      "metadata": {
        "colab": {
          "base_uri": "https://localhost:8080/",
          "height": 384
        },
        "id": "ybCga_6wgavL",
        "outputId": "558a6292-d8ca-4683-9e83-66dabe5c5a58"
      },
      "source": [
        "dataset[\"Close\"].expanding(min_periods=1).mean().plot(figsize=(16,6))"
      ],
      "execution_count": 13,
      "outputs": [
        {
          "output_type": "execute_result",
          "data": {
            "text/plain": [
              "<matplotlib.axes._subplots.AxesSubplot at 0x7f02dcc1f350>"
            ]
          },
          "metadata": {
            "tags": []
          },
          "execution_count": 13
        },
        {
          "output_type": "display_data",
          "data": {
            "image/png": "[encoded data removed]",
            "text/plain": [
              "<Figure size 1152x432 with 1 Axes>"
            ]
          },
          "metadata": {
            "tags": [],
            "needs_background": "light"
          }
        }
      ]
    },
    {
      "cell_type": "code",
      "metadata": {
        "id": "0zaAt7LHgeCR"
      },
      "source": [
        "training_set=dataset[\"Open\"]\n",
        "training_set=pd.DataFrame(training_set)"
      ],
      "execution_count": 14,
      "outputs": []
    },
    {
      "cell_type": "code",
      "metadata": {
        "colab": {
          "base_uri": "https://localhost:8080/"
        },
        "id": "QHp5fH_2g6V_",
        "outputId": "6439f5d5-0b95-4b62-eff8-392aca6546b3"
      },
      "source": [
        "#data cleaning\n",
        "dataset.isna().any()"
      ],
      "execution_count": 15,
      "outputs": [
        {
          "output_type": "execute_result",
          "data": {
            "text/plain": [
              "Open                    False\n",
              "High                    False\n",
              "Low                     False\n",
              "Last                    False\n",
              "Close                   False\n",
              "Total Trade Quantity    False\n",
              "Turnover (Lacs)         False\n",
              "Close: 30 Day Mean       True\n",
              "dtype: bool"
            ]
          },
          "metadata": {
            "tags": []
          },
          "execution_count": 15
        }
      ]
    },
    {
      "cell_type": "code",
      "metadata": {
        "id": "5fxpLziTggRS"
      },
      "source": [
        "from sklearn.preprocessing import MinMaxScaler\n",
        "sc= MinMaxScaler(feature_range=(0,1))\n",
        "training_set_scaled=sc.fit_transform(training_set)"
      ],
      "execution_count": 16,
      "outputs": []
    },
    {
      "cell_type": "code",
      "metadata": {
        "id": "H-2eR7mtgifR"
      },
      "source": [
        "x_train=[]\n",
        "y_train=[]\n",
        "for i in range(60,1235):\n",
        "    x_train.append(training_set_scaled[i-60:i, 0])\n",
        "    y_train.append(training_set_scaled[i, 0])\n",
        "x_train, y_train = np.array(x_train), np.array(y_train)\n",
        "\n",
        "#reshaping\n",
        "x_train =np.reshape(x_train, (x_train.shape[0], x_train.shape[1],1))"
      ],
      "execution_count": 17,
      "outputs": []
    },
    {
      "cell_type": "code",
      "metadata": {
        "id": "HBYa8WZri6WY"
      },
      "source": [
        "from keras.models import Sequential\n",
        "from keras.layers import Dense\n",
        "from keras.layers import LSTM\n",
        "from keras.layers import Dropout"
      ],
      "execution_count": 18,
      "outputs": []
    },
    {
      "cell_type": "code",
      "metadata": {
        "id": "x7i7dgQAjlCp"
      },
      "source": [
        "regressor = Sequential()"
      ],
      "execution_count": 19,
      "outputs": []
    },
    {
      "cell_type": "code",
      "metadata": {
        "id": "-mn_DEuHjyN_"
      },
      "source": [
        "regressor.add(LSTM(units = 50, return_sequences= True, input_shape= (x_train.shape[1],1)))\n",
        "regressor.add(Dropout(0.2))\n",
        "\n",
        "regressor.add(LSTM(units = 50, return_sequences= True))\n",
        "regressor.add(Dropout(0.2))\n",
        "\n",
        "regressor.add(LSTM(units = 50, return_sequences= True,))\n",
        "regressor.add(Dropout(0.2))\n",
        "\n",
        "regressor.add(LSTM(units= 50))\n",
        "regressor.add(Dropout(0.2))\n",
        "\n",
        "regressor.add(Dense(units=1))"
      ],
      "execution_count": 20,
      "outputs": []
    },
    {
      "cell_type": "code",
      "metadata": {
        "colab": {
          "base_uri": "https://localhost:8080/"
        },
        "id": "W--0TlV9lL54",
        "outputId": "5c6f56bb-9ba9-4dc5-a93d-61b2f7e15147"
      },
      "source": [
        "regressor.compile(optimizer='adam', loss=\"mean_squared_error\")\n",
        "\n",
        "regressor.fit(x_train, y_train, epochs= 100, batch_size =32)"
      ],
      "execution_count": 21,
      "outputs": [
        {
          "output_type": "stream",
          "text": [
            "Epoch 1/100\n",
            "37/37 [==============================] - 24s 85ms/step - loss: 0.0514\n",
            "Epoch 2/100\n",
            "37/37 [==============================] - 3s 85ms/step - loss: 0.0043\n",
            "Epoch 3/100\n",
            "37/37 [==============================] - 3s 83ms/step - loss: 0.0042\n",
            "Epoch 4/100\n",
            "37/37 [==============================] - 3s 84ms/step - loss: 0.0046\n",
            "Epoch 5/100\n",
            "37/37 [==============================] - 3s 84ms/step - loss: 0.0032\n",
            "Epoch 6/100\n",
            "37/37 [==============================] - 3s 86ms/step - loss: 0.0031\n",
            "Epoch 7/100\n",
            "37/37 [==============================] - 3s 84ms/step - loss: 0.0037\n",
            "Epoch 8/100\n",
            "37/37 [==============================] - 3s 85ms/step - loss: 0.0034\n",
            "Epoch 9/100\n",
            "37/37 [==============================] - 3s 84ms/step - loss: 0.0029\n",
            "Epoch 10/100\n",
            "37/37 [==============================] - 3s 85ms/step - loss: 0.0031\n",
            "Epoch 11/100\n",
            "37/37 [==============================] - 3s 85ms/step - loss: 0.0029\n",
            "Epoch 12/100\n",
            "37/37 [==============================] - 3s 85ms/step - loss: 0.0028\n",
            "Epoch 13/100\n",
            "37/37 [==============================] - 3s 84ms/step - loss: 0.0027\n",
            "Epoch 14/100\n",
            "37/37 [==============================] - 3s 85ms/step - loss: 0.0025\n",
            "Epoch 15/100\n",
            "37/37 [==============================] - 3s 85ms/step - loss: 0.0027\n",
            "Epoch 16/100\n",
            "37/37 [==============================] - 3s 84ms/step - loss: 0.0023\n",
            "Epoch 17/100\n",
            "37/37 [==============================] - 3s 84ms/step - loss: 0.0028\n",
            "Epoch 18/100\n",
            "37/37 [==============================] - 3s 84ms/step - loss: 0.0027\n",
            "Epoch 19/100\n",
            "37/37 [==============================] - 3s 85ms/step - loss: 0.0025\n",
            "Epoch 20/100\n",
            "37/37 [==============================] - 3s 84ms/step - loss: 0.0025\n",
            "Epoch 21/100\n",
            "37/37 [==============================] - 3s 85ms/step - loss: 0.0022\n",
            "Epoch 22/100\n",
            "37/37 [==============================] - 3s 84ms/step - loss: 0.0029\n",
            "Epoch 23/100\n",
            "37/37 [==============================] - 3s 84ms/step - loss: 0.0025\n",
            "Epoch 24/100\n",
            "37/37 [==============================] - 3s 84ms/step - loss: 0.0023\n",
            "Epoch 25/100\n",
            "37/37 [==============================] - 3s 84ms/step - loss: 0.0022\n",
            "Epoch 26/100\n",
            "37/37 [==============================] - 3s 84ms/step - loss: 0.0020\n",
            "Epoch 27/100\n",
            "37/37 [==============================] - 3s 84ms/step - loss: 0.0017\n",
            "Epoch 28/100\n",
            "37/37 [==============================] - 3s 86ms/step - loss: 0.0020\n",
            "Epoch 29/100\n",
            "37/37 [==============================] - 3s 84ms/step - loss: 0.0022\n",
            "Epoch 30/100\n",
            "37/37 [==============================] - 3s 84ms/step - loss: 0.0017\n",
            "Epoch 31/100\n",
            "37/37 [==============================] - 3s 86ms/step - loss: 0.0018\n",
            "Epoch 32/100\n",
            "37/37 [==============================] - 3s 84ms/step - loss: 0.0019\n",
            "Epoch 33/100\n",
            "37/37 [==============================] - 3s 84ms/step - loss: 0.0017\n",
            "Epoch 34/100\n",
            "37/37 [==============================] - 3s 84ms/step - loss: 0.0018\n",
            "Epoch 35/100\n",
            "37/37 [==============================] - 3s 86ms/step - loss: 0.0020\n",
            "Epoch 36/100\n",
            "37/37 [==============================] - 3s 84ms/step - loss: 0.0017\n",
            "Epoch 37/100\n",
            "37/37 [==============================] - 3s 84ms/step - loss: 0.0017\n",
            "Epoch 38/100\n",
            "37/37 [==============================] - 3s 86ms/step - loss: 0.0019\n",
            "Epoch 39/100\n",
            "37/37 [==============================] - 3s 84ms/step - loss: 0.0015\n",
            "Epoch 40/100\n",
            "37/37 [==============================] - 3s 85ms/step - loss: 0.0015\n",
            "Epoch 41/100\n",
            "37/37 [==============================] - 3s 84ms/step - loss: 0.0017\n",
            "Epoch 42/100\n",
            "37/37 [==============================] - 3s 84ms/step - loss: 0.0014\n",
            "Epoch 43/100\n",
            "37/37 [==============================] - 3s 84ms/step - loss: 0.0015\n",
            "Epoch 44/100\n",
            "37/37 [==============================] - 3s 84ms/step - loss: 0.0017\n",
            "Epoch 45/100\n",
            "37/37 [==============================] - 3s 84ms/step - loss: 0.0014\n",
            "Epoch 46/100\n",
            "37/37 [==============================] - 3s 84ms/step - loss: 0.0016\n",
            "Epoch 47/100\n",
            "37/37 [==============================] - 3s 86ms/step - loss: 0.0015\n",
            "Epoch 48/100\n",
            "37/37 [==============================] - 3s 86ms/step - loss: 0.0015\n",
            "Epoch 49/100\n",
            "37/37 [==============================] - 3s 86ms/step - loss: 0.0021\n",
            "Epoch 50/100\n",
            "37/37 [==============================] - 3s 84ms/step - loss: 0.0015\n",
            "Epoch 51/100\n",
            "37/37 [==============================] - 3s 84ms/step - loss: 0.0012\n",
            "Epoch 52/100\n",
            "37/37 [==============================] - 3s 84ms/step - loss: 0.0013\n",
            "Epoch 53/100\n",
            "37/37 [==============================] - 3s 84ms/step - loss: 0.0014\n",
            "Epoch 54/100\n",
            "37/37 [==============================] - 3s 83ms/step - loss: 0.0014\n",
            "Epoch 55/100\n",
            "37/37 [==============================] - 3s 84ms/step - loss: 0.0012\n",
            "Epoch 56/100\n",
            "37/37 [==============================] - 3s 84ms/step - loss: 0.0014\n",
            "Epoch 57/100\n",
            "37/37 [==============================] - 3s 85ms/step - loss: 0.0012\n",
            "Epoch 58/100\n",
            "37/37 [==============================] - 3s 85ms/step - loss: 0.0015\n",
            "Epoch 59/100\n",
            "37/37 [==============================] - 3s 85ms/step - loss: 0.0014\n",
            "Epoch 60/100\n",
            "37/37 [==============================] - 3s 84ms/step - loss: 0.0015\n",
            "Epoch 61/100\n",
            "37/37 [==============================] - 3s 84ms/step - loss: 0.0014\n",
            "Epoch 62/100\n",
            "37/37 [==============================] - 3s 84ms/step - loss: 0.0012\n",
            "Epoch 63/100\n",
            "37/37 [==============================] - 3s 84ms/step - loss: 0.0013\n",
            "Epoch 64/100\n",
            "37/37 [==============================] - 3s 84ms/step - loss: 0.0013\n",
            "Epoch 65/100\n",
            "37/37 [==============================] - 3s 85ms/step - loss: 0.0013\n",
            "Epoch 66/100\n",
            "37/37 [==============================] - 3s 87ms/step - loss: 0.0012\n",
            "Epoch 67/100\n",
            "37/37 [==============================] - 3s 86ms/step - loss: 0.0011\n",
            "Epoch 68/100\n",
            "37/37 [==============================] - 3s 85ms/step - loss: 0.0016\n",
            "Epoch 69/100\n",
            "37/37 [==============================] - 3s 86ms/step - loss: 0.0012\n",
            "Epoch 70/100\n",
            "37/37 [==============================] - 3s 85ms/step - loss: 0.0013\n",
            "Epoch 71/100\n",
            "37/37 [==============================] - 3s 85ms/step - loss: 0.0015\n",
            "Epoch 72/100\n",
            "37/37 [==============================] - 3s 86ms/step - loss: 0.0017\n",
            "Epoch 73/100\n",
            "37/37 [==============================] - 3s 86ms/step - loss: 0.0011\n",
            "Epoch 74/100\n",
            "37/37 [==============================] - 3s 85ms/step - loss: 0.0013\n",
            "Epoch 75/100\n",
            "37/37 [==============================] - 3s 85ms/step - loss: 0.0018\n",
            "Epoch 76/100\n",
            "37/37 [==============================] - 3s 85ms/step - loss: 0.0011\n",
            "Epoch 77/100\n",
            "37/37 [==============================] - 3s 86ms/step - loss: 0.0011\n",
            "Epoch 78/100\n",
            "37/37 [==============================] - 3s 87ms/step - loss: 0.0011\n",
            "Epoch 79/100\n",
            "37/37 [==============================] - 3s 84ms/step - loss: 0.0012\n",
            "Epoch 80/100\n",
            "37/37 [==============================] - 3s 84ms/step - loss: 0.0011\n",
            "Epoch 81/100\n",
            "37/37 [==============================] - 3s 85ms/step - loss: 0.0010\n",
            "Epoch 82/100\n",
            "37/37 [==============================] - 3s 85ms/step - loss: 0.0012\n",
            "Epoch 83/100\n",
            "37/37 [==============================] - 3s 84ms/step - loss: 0.0012\n",
            "Epoch 84/100\n",
            "37/37 [==============================] - 3s 84ms/step - loss: 0.0012\n",
            "Epoch 85/100\n",
            "37/37 [==============================] - 3s 86ms/step - loss: 0.0012\n",
            "Epoch 86/100\n",
            "37/37 [==============================] - 3s 86ms/step - loss: 0.0012\n",
            "Epoch 87/100\n",
            "37/37 [==============================] - 3s 85ms/step - loss: 0.0011\n",
            "Epoch 88/100\n",
            "37/37 [==============================] - 3s 85ms/step - loss: 0.0011\n",
            "Epoch 89/100\n",
            "37/37 [==============================] - 3s 85ms/step - loss: 0.0013\n",
            "Epoch 90/100\n",
            "37/37 [==============================] - 3s 85ms/step - loss: 9.4178e-04\n",
            "Epoch 91/100\n",
            "37/37 [==============================] - 3s 84ms/step - loss: 0.0012\n",
            "Epoch 92/100\n",
            "37/37 [==============================] - 3s 86ms/step - loss: 0.0012\n",
            "Epoch 93/100\n",
            "37/37 [==============================] - 3s 85ms/step - loss: 8.6681e-04\n",
            "Epoch 94/100\n",
            "37/37 [==============================] - 3s 84ms/step - loss: 0.0010\n",
            "Epoch 95/100\n",
            "37/37 [==============================] - 3s 84ms/step - loss: 0.0011\n",
            "Epoch 96/100\n",
            "37/37 [==============================] - 3s 85ms/step - loss: 0.0011\n",
            "Epoch 97/100\n",
            "37/37 [==============================] - 3s 85ms/step - loss: 0.0010\n",
            "Epoch 98/100\n",
            "37/37 [==============================] - 3s 85ms/step - loss: 9.5186e-04\n",
            "Epoch 99/100\n",
            "37/37 [==============================] - 3s 85ms/step - loss: 9.8405e-04\n",
            "Epoch 100/100\n",
            "37/37 [==============================] - 3s 84ms/step - loss: 0.0012\n"
          ],
          "name": "stdout"
        },
        {
          "output_type": "execute_result",
          "data": {
            "text/plain": [
              "<keras.callbacks.History at 0x7f028a215650>"
            ]
          },
          "metadata": {
            "tags": []
          },
          "execution_count": 21
        }
      ]
    },
    {
      "cell_type": "code",
      "metadata": {
        "id": "zeUo37gHmyGV"
      },
      "source": [
        "dataset_test = pd.read_csv(\"/content/drive/MyDrive/NSE-TATAGLOBAL11.csv\",index_col=\"Date\",parse_dates=True)"
      ],
      "execution_count": 22,
      "outputs": []
    },
    {
      "cell_type": "code",
      "metadata": {
        "id": "oZzXLLO2nqXo"
      },
      "source": [
        "real_stock_price=dataset_test.iloc[:, 1:2].values"
      ],
      "execution_count": 23,
      "outputs": []
    },
    {
      "cell_type": "code",
      "metadata": {
        "colab": {
          "base_uri": "https://localhost:8080/",
          "height": 235
        },
        "id": "SdhwF2tnn15h",
        "outputId": "86f770e2-3492-47a9-d776-c526b74bbc0e"
      },
      "source": [
        "dataset_test.head()"
      ],
      "execution_count": 24,
      "outputs": [
        {
          "output_type": "execute_result",
          "data": {
            "text/html": [
              "<div>\n",
              "<style scoped>\n",
              "    .dataframe tbody tr th:only-of-type {\n",
              "        vertical-align: middle;\n",
              "    }\n",
              "\n",
              "    .dataframe tbody tr th {\n",
              "        vertical-align: top;\n",
              "    }\n",
              "\n",
              "    .dataframe thead th {\n",
              "        text-align: right;\n",
              "    }\n",
              "</style>\n",
              "<table border=\"1\" class=\"dataframe\">\n",
              "  <thead>\n",
              "    <tr style=\"text-align: right;\">\n",
              "      <th></th>\n",
              "      <th>Open</th>\n",
              "      <th>High</th>\n",
              "      <th>Low</th>\n",
              "      <th>Last</th>\n",
              "      <th>Close</th>\n",
              "      <th>Total Trade Quantity</th>\n",
              "      <th>Turnover (Lacs)</th>\n",
              "    </tr>\n",
              "    <tr>\n",
              "      <th>Date</th>\n",
              "      <th></th>\n",
              "      <th></th>\n",
              "      <th></th>\n",
              "      <th></th>\n",
              "      <th></th>\n",
              "      <th></th>\n",
              "      <th></th>\n",
              "    </tr>\n",
              "  </thead>\n",
              "  <tbody>\n",
              "    <tr>\n",
              "      <th>2018-10-08</th>\n",
              "      <td>208.00</td>\n",
              "      <td>222.25</td>\n",
              "      <td>206.85</td>\n",
              "      <td>216.00</td>\n",
              "      <td>215.15</td>\n",
              "      <td>4642146.0</td>\n",
              "      <td>10062.83</td>\n",
              "    </tr>\n",
              "    <tr>\n",
              "      <th>2018-10-05</th>\n",
              "      <td>217.00</td>\n",
              "      <td>218.60</td>\n",
              "      <td>205.90</td>\n",
              "      <td>210.25</td>\n",
              "      <td>209.20</td>\n",
              "      <td>3519515.0</td>\n",
              "      <td>7407.06</td>\n",
              "    </tr>\n",
              "    <tr>\n",
              "      <th>2018-10-04</th>\n",
              "      <td>223.50</td>\n",
              "      <td>227.80</td>\n",
              "      <td>216.15</td>\n",
              "      <td>217.25</td>\n",
              "      <td>218.20</td>\n",
              "      <td>1728786.0</td>\n",
              "      <td>3815.79</td>\n",
              "    </tr>\n",
              "    <tr>\n",
              "      <th>2018-10-03</th>\n",
              "      <td>230.00</td>\n",
              "      <td>237.50</td>\n",
              "      <td>225.75</td>\n",
              "      <td>226.45</td>\n",
              "      <td>227.60</td>\n",
              "      <td>1708590.0</td>\n",
              "      <td>3960.27</td>\n",
              "    </tr>\n",
              "    <tr>\n",
              "      <th>2018-10-01</th>\n",
              "      <td>234.55</td>\n",
              "      <td>234.60</td>\n",
              "      <td>221.05</td>\n",
              "      <td>230.30</td>\n",
              "      <td>230.90</td>\n",
              "      <td>1534749.0</td>\n",
              "      <td>3486.05</td>\n",
              "    </tr>\n",
              "  </tbody>\n",
              "</table>\n",
              "</div>"
            ],
            "text/plain": [
              "              Open    High  ...  Total Trade Quantity  Turnover (Lacs)\n",
              "Date                        ...                                       \n",
              "2018-10-08  208.00  222.25  ...             4642146.0         10062.83\n",
              "2018-10-05  217.00  218.60  ...             3519515.0          7407.06\n",
              "2018-10-04  223.50  227.80  ...             1728786.0          3815.79\n",
              "2018-10-03  230.00  237.50  ...             1708590.0          3960.27\n",
              "2018-10-01  234.55  234.60  ...             1534749.0          3486.05\n",
              "\n",
              "[5 rows x 7 columns]"
            ]
          },
          "metadata": {
            "tags": []
          },
          "execution_count": 24
        }
      ]
    },
    {
      "cell_type": "code",
      "metadata": {
        "colab": {
          "base_uri": "https://localhost:8080/"
        },
        "id": "GfH2iylIn5tf",
        "outputId": "c4a1a322-cd55-4b47-ff9e-63b0d2d0f8fe"
      },
      "source": [
        "dataset_test.info()"
      ],
      "execution_count": 25,
      "outputs": [
        {
          "output_type": "stream",
          "text": [
            "<class 'pandas.core.frame.DataFrame'>\n",
            "DatetimeIndex: 1235 entries, 2018-10-08 to 2013-10-08\n",
            "Data columns (total 7 columns):\n",
            " #   Column                Non-Null Count  Dtype  \n",
            "---  ------                --------------  -----  \n",
            " 0   Open                  1235 non-null   float64\n",
            " 1   High                  1235 non-null   float64\n",
            " 2   Low                   1235 non-null   float64\n",
            " 3   Last                  1235 non-null   float64\n",
            " 4   Close                 1235 non-null   float64\n",
            " 5   Total Trade Quantity  1235 non-null   float64\n",
            " 6   Turnover (Lacs)       1235 non-null   float64\n",
            "dtypes: float64(7)\n",
            "memory usage: 77.2 KB\n"
          ],
          "name": "stdout"
        }
      ]
    },
    {
      "cell_type": "code",
      "metadata": {
        "id": "ZiWqv6b4oTad"
      },
      "source": [
        "test_set=dataset_test[\"Open\"]\n",
        "test_set=pd.DataFrame(test_set)"
      ],
      "execution_count": 26,
      "outputs": []
    },
    {
      "cell_type": "code",
      "metadata": {
        "colab": {
          "base_uri": "https://localhost:8080/"
        },
        "id": "ulQaq839o7bu",
        "outputId": "d1a45fd2-8235-442b-9df2-31a63bd6ff67"
      },
      "source": [
        "test_set.info()"
      ],
      "execution_count": 27,
      "outputs": [
        {
          "output_type": "stream",
          "text": [
            "<class 'pandas.core.frame.DataFrame'>\n",
            "DatetimeIndex: 1235 entries, 2018-10-08 to 2013-10-08\n",
            "Data columns (total 1 columns):\n",
            " #   Column  Non-Null Count  Dtype  \n",
            "---  ------  --------------  -----  \n",
            " 0   Open    1235 non-null   float64\n",
            "dtypes: float64(1)\n",
            "memory usage: 19.3 KB\n"
          ],
          "name": "stdout"
        }
      ]
    },
    {
      "cell_type": "code",
      "metadata": {
        "id": "TA_Nwg9zo_iX"
      },
      "source": [
        "dataset_total= pd.concat((dataset[\"Open\"],dataset_test[\"Open\"]), axis=0)\n",
        "inputs= dataset_total[len(dataset_total)-len(dataset_test)- 60:].values\n",
        "inputs= inputs.reshape(-1,1)\n",
        "inputs= sc.transform(inputs)\n",
        "x_test= []\n",
        "for i in range(60,1235):\n",
        "  x_test.append(inputs[i-60:i, 0])\n",
        "x_test=np.array(x_test)\n",
        "x_test=np.reshape(x_test, (x_test.shape[0], x_test.shape[1],1))\n",
        "predicted_stock_price = regressor.predict(x_test)\n",
        "predicted_stock_price= sc.inverse_transform(predicted_stock_price)"
      ],
      "execution_count": 28,
      "outputs": []
    },
    {
      "cell_type": "code",
      "metadata": {
        "colab": {
          "base_uri": "https://localhost:8080/"
        },
        "id": "rUWFi8UEptyP",
        "outputId": "17a4534e-5a48-41f2-eaa1-cc9e0ac47e3a"
      },
      "source": [
        "predicted_stock_price=pd.DataFrame(predicted_stock_price)\n",
        "predicted_stock_price.info()"
      ],
      "execution_count": 29,
      "outputs": [
        {
          "output_type": "stream",
          "text": [
            "<class 'pandas.core.frame.DataFrame'>\n",
            "RangeIndex: 1175 entries, 0 to 1174\n",
            "Data columns (total 1 columns):\n",
            " #   Column  Non-Null Count  Dtype  \n",
            "---  ------  --------------  -----  \n",
            " 0   0       1175 non-null   float32\n",
            "dtypes: float32(1)\n",
            "memory usage: 4.7 KB\n"
          ],
          "name": "stdout"
        }
      ]
    },
    {
      "cell_type": "code",
      "metadata": {
        "colab": {
          "base_uri": "https://localhost:8080/",
          "height": 295
        },
        "id": "PyJc-zOHrf3X",
        "outputId": "a21fea01-e2e2-49c2-8bbe-2e9579d6670f"
      },
      "source": [
        "plt.plot(real_stock_price, color='red', label= 'Real TataGlobal stock price')\n",
        "plt.plot(predicted_stock_price, color='blue', label= 'Predicted TataGlobal stock price')\n",
        "plt.title('TATA GLOBAL stock price Prediction')\n",
        "plt.xlabel('Time')\n",
        "plt.ylabel('TataGlobal Stock price')\n",
        "plt.legend()\n",
        "plt.show()"
      ],
      "execution_count": 30,
      "outputs": [
        {
          "output_type": "display_data",
          "data": {
            "image/png": "[encoded data removed]",
            "text/plain": [
              "<Figure size 432x288 with 1 Axes>"
            ]
          },
          "metadata": {
            "tags": [],
            "needs_background": "light"
          }
        }
      ]
    },
    {
      "cell_type": "code",
      "metadata": {
        "id": "cLNfZAtBsfIm"
      },
      "source": [
        ""
      ],
      "execution_count": 30,
      "outputs": []
    }
  ]
}